{
 "cells": [
  {
   "cell_type": "markdown",
   "metadata": {
    "id": "ylpJ4uLa82RQ"
   },
   "source": [
    "# Overview \n",
    "\n",
    "Within this notebook, we cover introductory Python usage alongside of navigating the Jupyter environment."
   ]
  },
  {
   "cell_type": "markdown",
   "metadata": {
    "id": "HFnMvQxNgIQp"
   },
   "source": [
    "# Diagnostics"
   ]
  },
  {
   "cell_type": "code",
   "execution_count": 9,
   "metadata": {
    "cellView": "form",
    "colab": {
     "base_uri": "https://localhost:8080/"
    },
    "id": "KkaEwnAoP-m6",
    "outputId": "dcc44bd4-c5a3-42f3-e1f0-be7ec4cb897c"
   },
   "outputs": [
    {
     "name": "stdout",
     "output_type": "stream",
     "text": [
      "python: 3.10.4 | packaged by conda-forge | (main, Mar 24 2022, 17:43:32) [Clang 12.0.1 ]\n",
      "pandas: 1.4.2\n",
      "numpy: 1.22.4\n",
      "tensorflow: 2.9.0\n",
      "GPU Enabled: False\n",
      "Notebook is being run locally or through another source.\n"
     ]
    }
   ],
   "source": [
    "#@title (Hidden) Diagnostic Check\n",
    "import os\n",
    "import sys\n",
    "import pandas as pd\n",
    "import numpy as np\n",
    "import tensorflow as tf\n",
    "\n",
    "print(f\"python: {sys.version}\")\n",
    "print(f\"pandas: {pd.__version__}\")\n",
    "print(f\"numpy: {np.__version__}\")\n",
    "print(f\"tensorflow: {tf.__version__}\")\n",
    "# Detect if a GPU is present\n",
    "gpus = tf.config.list_physical_devices('GPU')\n",
    "\n",
    "if gpus:\n",
    "  print(f\"GPU Enabled: True\")\n",
    "else:\n",
    "  print(f\"GPU Enabled: False\")\n",
    "\n",
    "try:\n",
    "  from google.colab import drive\n",
    "  is_google_colab = True\n",
    "\n",
    "  print(\"Notebook is on Google CoLab\")\n",
    "except:\n",
    "  is_google_colab = False\n",
    "  print(\"Notebook is being run locally or through another source.\")\n",
    "\n"
   ]
  },
  {
   "cell_type": "markdown",
   "metadata": {
    "id": "tPc_F4goq3E4"
   },
   "source": [
    "# Command and Edit Modes\n",
    "\n",
    "Within Jupyter, there are two modes key workflow modes:\n",
    "\n",
    "- **Command mode** (default): Cells are highlighted with a <span style=\"color:blue\">blue</span> border and are non-editable. Instead, the state of the entire notebook can be modified.\n",
    "- **Editting mode**: Cell is highlighted with a <span style=\"color:green\">green</span> border indicating the contents can be modified.\n",
    "\n",
    "Navigating between the modes can be done by using: \n",
    "\n",
    "- Press **ESC** to exit the editing mode\n",
    "- Press **ENTER** to enter the editing mode on the selected cell."
   ]
  },
  {
   "cell_type": "code",
   "execution_count": null,
   "metadata": {},
   "outputs": [],
   "source": []
  },
  {
   "cell_type": "markdown",
   "metadata": {
    "id": "Rzh-UXuYEERm"
   },
   "source": [
    "# Cells\n",
    "Jupyter Notebooks are a series of cells combined together. Each cell may contain either **text** or **code**. To edit a cell, **double-click** on the cell. \n",
    "\n",
    "**Text** may be stylized using [markdown](https://colab.research.google.com/notebooks/markdown_guide.ipynb). **Code** that will be executed must be written in a **single** language that matches the runtime language associated with the notebook. The exception to this rule is using system commands through magic prefixes of `!` or `%`. **Note:** Use `%` to have the system command persist.\n",
    "\n",
    "Additional keyboard shortcuts can be found by calling the one-keyboard-shortcut that rules them all: **CMD/CTRL** + **M** + **H**. Some of the more common Jupyter notebook keyboard shorts and their Google Colab equivalents are:\n",
    "\n",
    "| Actions                     | Jupyter          | Colab            |\n",
    "|:----------------------------|:-----------------|:-----------------|\n",
    "| Show all keyboard shortcuts | H                | CTRL/CMD + M + H |\n",
    "| Insert code cell above      | A                | CTRL/CMD + M + A |\n",
    "| Insert code cell below      | B                | CTRL/CMD + M + B |\n",
    "| Delete cell/selection       | D + D            | CTRL/CMD + M + D |\n",
    "| Interrupt execution         | I + I            | CTRL/CMD + M + I |\n",
    "| Convert to code cell        | Y                | CTRL/CMD + M + Y |\n",
    "| Convert to text cell        | M                | CTRL/CMD + M + M |\n",
    "| Split at cursor             | CTRL + Shift + - | CTRL/CMD + M + - |\n",
    "\n",
    "**Note:** If using Google Colab, many of the Jupyter Notebook shortcuts you may be familiar with have been prepended with **CMD/CTRL** + **M**. \n"
   ]
  },
  {
   "cell_type": "markdown",
   "metadata": {
    "id": "o1SxlBz3EPPs"
   },
   "source": [
    "## Text Cells\n",
    "\n",
    "Within a **text cell**, [LaTeX](http://www.latex-project.org/) and [markdown]() can be used. As you type, there will be a preview appearing on the far right. \n",
    "\n",
    "Recall, the different LaTeX styling equation:\n",
    "\n",
    "- **Inline:** `$c = \\sqrt{a^2 + b^c}$` becomes $c = \\sqrt{a^2 + b^c}.$\n",
    "- **Display mode:** `$$c = \\sqrt{a^2 + b^c}$$` becomes $$c = \\sqrt{a^2 + b^c}.$$"
   ]
  },
  {
   "cell_type": "markdown",
   "metadata": {
    "id": "Shm8q1SBDNqc"
   },
   "source": [
    "### Your Turn: Write an Equation in a Text Cell\n",
    "\n",
    "Write out your favorite mathematical formula in **display mode** form.\n"
   ]
  },
  {
   "cell_type": "markdown",
   "metadata": {},
   "source": [
    "Hello there"
   ]
  },
  {
   "cell_type": "markdown",
   "metadata": {
    "id": "8zGYeW0dDU6G"
   },
   "source": [
    "... click me ... \n",
    "$$y = mx+b$$"
   ]
  },
  {
   "cell_type": "markdown",
   "metadata": {
    "id": "G1s_IRfTpfdl"
   },
   "source": [
    "### Your Turn: Styling Markdown in a New Cell\n",
    "\n",
    "Double click on this cell to learn out how to write **bold** and *italic* text in Markdown. \n",
    "\n",
    "Next, create a new text cell below with your first name in **bold** and last name in *italic*."
   ]
  },
  {
   "cell_type": "markdown",
   "metadata": {
    "id": "RgsDKnt6tgMc"
   },
   "source": [
    "** James **bold** Nirjal "
   ]
  },
  {
   "cell_type": "markdown",
   "metadata": {
    "id": "5xL2FGj2Dw-0"
   },
   "source": [
    "## Code Cells\n",
    "Below is a **code cell**. Once the toolbar button in the upper-right hand corner shows RAM/DISK usage, the code cells will become runnable. Code is executed by first selecting the cell and then running it in one of the following ways:\n",
    "\n",
    "* Type **CMD/CTRL**+**Enter** to run the cell in place;\n",
    "* Type **Shift** + **Enter** to run the cell and move focus to the next cell (adding one if none exists); or\n",
    "* Type **ALT** + **Enter** to run the cell and insert a new code cell immediately below it.\n",
    "* Click the **Play icon (▶)** in the left gutter of the cell;\n",
    "* Or press **Run**;\n",
    "\n",
    "There are additional options for running some or all cells in the **Runtime** menu. \n",
    "\n",
    "Try running the next code cell:\n"
   ]
  },
  {
   "cell_type": "code",
   "execution_count": 1,
   "metadata": {
    "ExecuteTime": {
     "end_time": "2022-05-27T19:54:46.484989Z",
     "start_time": "2022-05-27T19:54:46.461009Z"
    },
    "colab": {
     "base_uri": "https://localhost:8080/"
    },
    "id": "DAln6xG4MA65",
    "outputId": "9de741c9-2f83-4986-cddc-da2ee16c85cf"
   },
   "outputs": [
    {
     "data": {
      "text/plain": [
       "430"
      ]
     },
     "execution_count": 1,
     "metadata": {},
     "output_type": "execute_result"
    }
   ],
   "source": [
    "400 + 30"
   ]
  },
  {
   "cell_type": "code",
   "execution_count": 11,
   "metadata": {},
   "outputs": [
    {
     "data": {
      "text/plain": [
       "430"
      ]
     },
     "execution_count": 11,
     "metadata": {},
     "output_type": "execute_result"
    }
   ],
   "source": [
    "400 + 30"
   ]
  },
  {
   "cell_type": "markdown",
   "metadata": {
    "id": "Kvbtf7h8nZRa"
   },
   "source": [
    "There are two components to the code cell:\n",
    "\n",
    "- **In \\[#\\]:**, displays the Python code in the text cell, e.g. `400 + 30`\n",
    "- **Out \\[#\\]:**, shows the output from running the Python code, e.g. `430` \n"
   ]
  },
  {
   "cell_type": "markdown",
   "metadata": {
    "id": "xiZLyGzgdID7"
   },
   "source": [
    "On Google Colab, you may execute a specific region of code. The region is obtained through clicking and dragging over the region and, then, going to either the Runtime menu at the top to select **Run Selection**, or use the keyboard shortcut **CMD/CTRL** + **Shift** + **Enter**. "
   ]
  },
  {
   "cell_type": "code",
   "execution_count": null,
   "metadata": {
    "colab": {
     "base_uri": "https://localhost:8080/"
    },
    "id": "bzBZTs58c7Fg",
    "outputId": "6a159276-55ab-4037-dc15-6fc753b3ee89"
   },
   "outputs": [
    {
     "data": {
      "text/plain": [
       "20"
      ]
     },
     "execution_count": 4,
     "metadata": {},
     "output_type": "execute_result"
    }
   ],
   "source": [
    "30 + (10 - 20)"
   ]
  },
  {
   "cell_type": "markdown",
   "metadata": {
    "id": "B9Ghf0F8mqjq"
   },
   "source": [
    "## Calculations \n",
    "\n",
    "In addition to addition (`+`) and subtraction (`-`), Python is also able to handle multiplication (`*`), division (`/`), and exponents or powers (`**`).\n",
    "\n",
    "For example, we could compute $2^3 = 2 \\cdot 2 \\cdot 2$ with:"
   ]
  },
  {
   "cell_type": "code",
   "execution_count": 13,
   "metadata": {
    "colab": {
     "base_uri": "https://localhost:8080/"
    },
    "id": "AQZ60P8wmqjq",
    "outputId": "f3ec1eb1-cd63-483b-9d42-45fbf8c9d924"
   },
   "outputs": [
    {
     "data": {
      "text/plain": [
       "8"
      ]
     },
     "execution_count": 13,
     "metadata": {},
     "output_type": "execute_result"
    }
   ],
   "source": [
    "2**3"
   ]
  },
  {
   "cell_type": "code",
   "execution_count": 14,
   "metadata": {
    "ExecuteTime": {
     "end_time": "2022-05-27T15:01:30.534279Z",
     "start_time": "2022-05-27T15:01:30.519403Z"
    }
   },
   "outputs": [],
   "source": [
    "?min"
   ]
  },
  {
   "cell_type": "code",
   "execution_count": 13,
   "metadata": {
    "colab": {
     "base_uri": "https://localhost:8080/"
    },
    "id": "4odZiXMqv948",
    "outputId": "0a53d1ed-0a12-4b19-ff5e-cf673a6ddff0"
   },
   "outputs": [
    {
     "data": {
      "text/plain": [
       "8"
      ]
     },
     "execution_count": 13,
     "metadata": {},
     "output_type": "execute_result"
    }
   ],
   "source": [
    "2*2*2"
   ]
  },
  {
   "cell_type": "markdown",
   "metadata": {
    "id": "qKCtoiKQmqjq"
   },
   "source": [
    "### Your Turn: Calculating exponents\n",
    "\n",
    "Please calculate the value for $5^2 \\cdot 5^3$ and $\\frac{4^6}{4^4}$ "
   ]
  },
  {
   "cell_type": "code",
   "execution_count": 14,
   "metadata": {
    "id": "kDI98TIKmqjq"
   },
   "outputs": [],
   "source": [
    "## Implement calculation"
   ]
  },
  {
   "cell_type": "markdown",
   "metadata": {
    "id": "NRmZXgD2s8gs"
   },
   "source": [
    "## Create a New Cell\n",
    "\n",
    "New cells can be created in Jupyter by entering into command mode (press **ESC**), then:\n",
    "\n",
    "- Press **A** to create a cell _ABOVE_ the current cell.\n",
    "\n",
    "- Press **B** to create a cell _BELOW_ the current cell."
   ]
  },
  {
   "cell_type": "markdown",
   "metadata": {
    "id": "dBwJbmmsd36w"
   },
   "source": [
    "### Your Turn: Create a code cell!\n",
    "\n",
    "Add a code cell below that computes the golden ratio:\n",
    "\n",
    "$$\\phi = \\frac{1 + \\sqrt{5}}{2}$$\n",
    "\n",
    "_Hint:_ To use the `sqrt()` function in Python, please add `import math` to the top of the code cell."
   ]
  },
  {
   "cell_type": "code",
   "execution_count": 19,
   "metadata": {},
   "outputs": [
    {
     "data": {
      "text/plain": [
       "1.618033988749895"
      ]
     },
     "execution_count": 19,
     "metadata": {},
     "output_type": "execute_result"
    }
   ],
   "source": [
    "import math\n",
    "\n",
    "(1+math.sqrt(5))/2"
   ]
  },
  {
   "cell_type": "markdown",
   "metadata": {
    "id": "FhkcKThFmqji"
   },
   "source": [
    "## Switching Between Cell Types\n",
    "\n",
    "Inside of command mode (press **ESC**), the cell can be modified from executing code to displaying text using:\n",
    "\n",
    "- Press **M** to switch the cell to a **Text** cell.\n",
    "\n",
    "Similary, the cell can switch from **Text** to **Code**.\n",
    "\n",
    "- Press **Y** to switch the cell to a **Code** cell."
   ]
  },
  {
   "cell_type": "code",
   "execution_count": null,
   "metadata": {},
   "outputs": [],
   "source": []
  },
  {
   "cell_type": "markdown",
   "metadata": {
    "id": "44i65dX3mqjj"
   },
   "source": [
    "### Your Turn: Changing the Cell Type\n",
    "\n",
    "Create a new cell below, change it to a **Text** cell, then write when your birthday is!"
   ]
  },
  {
   "cell_type": "markdown",
   "metadata": {},
   "source": [
    "october 18, 1995"
   ]
  },
  {
   "cell_type": "markdown",
   "metadata": {
    "id": "P6I7Kjc8t4-R"
   },
   "source": [
    "## Removing a Cell\n",
    "\n",
    "Any cell in a Jupyter notebook may be removed in command mode (press **ESC**) by: \n",
    "\n",
    "- Pressing **D** twice continously."
   ]
  },
  {
   "cell_type": "markdown",
   "metadata": {
    "id": "zXqBl2KWujV9"
   },
   "source": [
    "### Your Turn: Deleting a Cell\n",
    "\n",
    "Please delete the following code cell."
   ]
  },
  {
   "cell_type": "markdown",
   "metadata": {
    "id": "rjWMVsnnuttQ"
   },
   "source": [
    "Delete me! \n",
    "\n",
    "Select my cell. Then, pressing `ESC` to enter command mode. Finally, press `D` twice, e.g. `D` + `D`. \n",
    "\n",
    "Once done, I shall drift off into the endless ocean of electrons..."
   ]
  },
  {
   "cell_type": "markdown",
   "metadata": {
    "id": "knnQtziiKbRS"
   },
   "source": [
    "# Cursor Movement and Tricks\n",
    "\n",
    "By default, only one line is selected at a time in Jupyter. However, we may wish to edit multiple lines. We can use a few tricks to edit the content effectively.\n",
    "\n",
    "**macOS shortcut note**: `⌘` refers to \"Command\" key and `⌥` refers to the \"Options\" key."
   ]
  },
  {
   "cell_type": "markdown",
   "metadata": {
    "id": "DO8iq8ARLWgO"
   },
   "source": [
    "- **Controlled Multi-Cursor**: `[⌥/Alt + Click]`\n"
   ]
  },
  {
   "cell_type": "markdown",
   "metadata": {
    "id": "00lXeaEtLzXs"
   },
   "source": [
    "First Phrase - multiple lines \n",
    "\n",
    "Second Phrase - multiple lines \n",
    "\n",
    "Third Phrase - multiple lines "
   ]
  },
  {
   "cell_type": "markdown",
   "metadata": {
    "id": "gN0hz9zZyzaV"
   },
   "source": [
    "### Colab-only Shortcuts"
   ]
  },
  {
   "cell_type": "markdown",
   "metadata": {
    "id": "nM4dE5DRMvFS"
   },
   "source": [
    "- **Continous Multi-Cursor**: `[⌥/Alt + ⌘/Ctrl + Up/Down]`\n",
    "\n",
    "\n"
   ]
  },
  {
   "cell_type": "markdown",
   "metadata": {
    "id": "rPhTm2yfM0mM"
   },
   "source": [
    "First Phrase\n",
    "\n",
    "Second Phrase\n",
    "\n",
    "Third Phrase"
   ]
  },
  {
   "cell_type": "markdown",
   "metadata": {
    "id": "wNiPP8iALXWC"
   },
   "source": [
    "- **Multi-Phrase Select**: Select one occurence, then `[⌘/Ctrl + Shift + L]`\n"
   ]
  },
  {
   "cell_type": "markdown",
   "metadata": {
    "id": "Pf0HiNNCMOPT"
   },
   "source": [
    "First Phrase\n",
    "\n",
    "Second Phrase\n",
    "\n",
    "Third Phrase"
   ]
  },
  {
   "cell_type": "markdown",
   "metadata": {
    "id": "oA93-zPVmhKB"
   },
   "source": [
    "# Bash, R, and SQL\n",
    "\n",
    "By default, code cells will evaluate the language of the kernel specified. Each Jupyter notebook is confined to run a single language; though, there are alternative extensions that allow for multiple languages to be contained within a notebook such as [`SoS` polygot framework](https://vatlab.github.io/sos-docs/).\n",
    "\n",
    "\n",
    " Within this section, we explore [Jupyter magic commands](https://ipython.readthedocs.io/en/stable/interactive/magics.html) to enable evaluation of line `%` and cell-level `%%` evaluation of language specific commands."
   ]
  },
  {
   "cell_type": "markdown",
   "metadata": {
    "id": "j7fyX8pyrXWI"
   },
   "source": [
    "| Magic command    |\tResult                             |\n",
    "|:-----------------|:------------------------------------|\n",
    "| `%%script`       | Run a cell via a shell command      | \n",
    "| `%%bash`or `%%!` | Run cells with bash in a subprocess | \n",
    "| `%%sh`           | Run cells with sh in a subprocess   |\n",
    "| `%%capture`      | Run the cell, capturing stdout, stderr, and IPython’s rich display() calls |\n",
    "| `%%pypy`         | Run cells with pypy in a subprocess    |\n",
    "| `%%python`       | Run cells with python in a subprocess  |\n",
    "| `%%python2`      | Run cells with python2 in a subprocess |\n",
    "| `%%python3`      | Run cells with python3 in a subprocess |\n",
    "| `%%ruby`         | Run cells with ruby in a subprocess | \n",
    "| `%%perl`         | Run cells with perl in a subprocess |\n",
    "| `%%html`         | Render the cell as a block of HTML  |\n",
    "| `%%javascript` or `%%js` | Run the cell block of Javascript code |\n",
    "| `%%svg`                  | Render the cell as an SVG literal |\n",
    "| `%%latex`        | Render the cell as a block of LaTeX | \n",
    "| `%%markdown`     | Render the cell as Markdown text block | \n",
    "| `%%writefile`    | Write the contents of the cell to a file |\n",
    "| `%%debug`        | Activate the interactive debugger        |\n",
    "| `%%file`         | Write the contents of the cell to a file |\n"
   ]
  },
  {
   "cell_type": "markdown",
   "metadata": {
    "id": "oLd04WmPp4lz"
   },
   "source": [
    "### Bash \n",
    "Code cells may execute shell commands through the `!` bang operator or certain commands with `%` automagic. Note, the latter is important for persistent changes, which we will discuss in greater depth on the file system notebook. With this being said, we could install a new _Python_ package using `pip` with: "
   ]
  },
  {
   "cell_type": "code",
   "execution_count": null,
   "metadata": {
    "colab": {
     "base_uri": "https://localhost:8080/"
    },
    "id": "9cfOzk3WmoZg",
    "outputId": "bddffa94-6c8f-4a89-ee64-f59c68872a39"
   },
   "outputs": [
    {
     "name": "stdout",
     "output_type": "stream",
     "text": [
      "Requirement already satisfied: python-package-example in /usr/local/lib/python3.7/dist-packages (0.1)\n",
      "Requirement already satisfied: numpy in /usr/local/lib/python3.7/dist-packages (from python-package-example) (1.19.5)\n"
     ]
    }
   ],
   "source": [
    "# Install a package with pip\n",
    "!pip install python-package-example "
   ]
  },
  {
   "cell_type": "code",
   "execution_count": 22,
   "metadata": {},
   "outputs": [
    {
     "name": "stdout",
     "output_type": "stream",
     "text": [
      "usage: conda [-h] [-V] command ...\n",
      "\n",
      "conda is a tool for managing and deploying applications, environments and packages.\n",
      "\n",
      "Options:\n",
      "\n",
      "positional arguments:\n",
      "  command\n",
      "    clean        Remove unused packages and caches.\n",
      "    compare      Compare packages between conda environments.\n",
      "    config       Modify configuration values in .condarc. This is modeled\n",
      "                 after the git config command. Writes to the user .condarc\n",
      "                 file (/Users/nirzzu/.condarc) by default.\n",
      "    create       Create a new conda environment from a list of specified\n",
      "                 packages.\n",
      "    help         Displays a list of available conda commands and their help\n",
      "                 strings.\n",
      "    info         Display information about current conda install.\n",
      "    init         Initialize conda for shell interaction. [Experimental]\n",
      "    install      Installs a list of packages into a specified conda\n",
      "                 environment.\n",
      "    list         List linked packages in a conda environment.\n",
      "    package      Low-level conda package utility. (EXPERIMENTAL)\n",
      "    remove       Remove a list of packages from a specified conda environment.\n",
      "    uninstall    Alias for conda remove.\n",
      "    run          Run an executable in a conda environment. [Experimental]\n",
      "    search       Search for packages and display associated information. The\n",
      "                 input is a MatchSpec, a query language for conda packages.\n",
      "                 See examples below.\n",
      "    update       Updates conda packages to the latest compatible version.\n",
      "    upgrade      Alias for conda update.\n",
      "\n",
      "optional arguments:\n",
      "  -h, --help     Show this help message and exit.\n",
      "  -V, --version  Show the conda version number and exit.\n",
      "\n",
      "conda commands available from other packages:\n",
      "  build\n",
      "  convert\n",
      "  debug\n",
      "  develop\n",
      "  env\n",
      "  index\n",
      "  inspect\n",
      "  metapackage\n",
      "  render\n",
      "  server\n",
      "  skeleton\n",
      "  verify\n"
     ]
    }
   ],
   "source": [
    "!conda"
   ]
  },
  {
   "cell_type": "markdown",
   "metadata": {
    "id": "FkpX1hQyjkXr"
   },
   "source": [
    "If we have a large block of shell-specific instructions, we should use `%%bash` to change the code cell's evaluation type to the language."
   ]
  },
  {
   "cell_type": "code",
   "execution_count": 23,
   "metadata": {
    "colab": {
     "base_uri": "https://localhost:8080/"
    },
    "id": "C6_2vMXfjYSn",
    "outputId": "1e20b57e-9718-4ea3-846e-05e1eaf05fa1"
   },
   "outputs": [
    {
     "name": "stdout",
     "output_type": "stream",
     "text": [
      "Toto, I've a feeling we're not in Python anymore.\\n\n",
      "total 104\n",
      "drwxr-xr-x@  5 nirzzu  staff    160 May 27 15:50 .\n",
      "drwx------@ 38 nirzzu  staff   1216 May 27 15:50 ..\n",
      "drwxr-xr-x@  3 nirzzu  staff     96 May 27 15:06 .ipynb_checkpoints\n",
      "-rw-r--r--@  1 nirzzu  staff  45012 May 27 15:50 01b-day-jupyter-notebook-intro.ipynb\n",
      "-rw-r--r--   1 nirzzu  staff   7431 May 27 13:18 package-list.txt\n"
     ]
    }
   ],
   "source": [
    "%%bash\n",
    "\n",
    "# All commands that follow are bash-specific. \n",
    "echo \"Toto, I've a feeling we're not in Python anymore.\\n\"\n",
    "\n",
    "# Viewing the files in the active directory\n",
    "ls -la "
   ]
  },
  {
   "cell_type": "markdown",
   "metadata": {
    "id": "al8br80r4NX-"
   },
   "source": [
    "#### Your Turn: Finding out where we are\n",
    "\n",
    "Consider the following `bash` commands: \n",
    "\n",
    "```bash\n",
    "cd /content\n",
    "\n",
    "echo 'Consider the following layout under the \"/content\" directory'\n",
    "ls -la\n",
    "echo \n",
    "\n",
    "echo 'We would like to move where the sample_data folder is located.'\n",
    "\n",
    "echo \"We're current at:\"\n",
    "pwd\n",
    "echo \n",
    "\n",
    "cd sample_data/\n",
    "\n",
    "echo \"After change directory, we're at:\"\n",
    "pwd\n",
    "```\n",
    "\n",
    "These commands aim change or move to a different directory within the script. \n",
    "\n",
    "Recrecate the script using inline `!` and, then, create another code chunk using cell-level `%%bash` approach. \n",
    "\n",
    "- How does the output change? \n",
    "- What might this indicate about the commands?"
   ]
  },
  {
   "cell_type": "markdown",
   "metadata": {
    "id": "hoP2JrchnUdb"
   },
   "source": [
    "### R"
   ]
  },
  {
   "cell_type": "markdown",
   "metadata": {
    "id": "blI5oDP3j3s2"
   },
   "source": [
    "By default, `%%bash` and `%%sql` are available within Google Colab without installing any additional software on the image. If we wanted to use additional languages, we would need to verify that a Jupyter extension exists to change the specific cell type. In the case of _R_, we can incorporate _R_ code using the [`{rpy2}`](https://rpy2.github.io/) bridge. This requires installing the package via `pip`:"
   ]
  },
  {
   "cell_type": "code",
   "execution_count": 24,
   "metadata": {
    "colab": {
     "base_uri": "https://localhost:8080/"
    },
    "id": "I5vmEj9hl-fk",
    "outputId": "34538765-bb2d-45fa-ae20-75c1139b2000"
   },
   "outputs": [
    {
     "name": "stdout",
     "output_type": "stream",
     "text": [
      "Collecting rpy2\n",
      "  Downloading rpy2-3.5.2-cp310-cp310-macosx_10_15_x86_64.whl (245 kB)\n",
      "\u001b[2K     \u001b[90m━━━━━━━━━━━━━━━━━━━━━━━━━━━━━━━━━━━━━\u001b[0m \u001b[32m245.6/245.6 kB\u001b[0m \u001b[31m979.3 kB/s\u001b[0m eta \u001b[36m0:00:00\u001b[0ma \u001b[36m0:00:01\u001b[0m\n",
      "\u001b[?25hRequirement already satisfied: jinja2 in /Applications/anaconda3/envs/ds/lib/python3.10/site-packages (from rpy2) (3.1.2)\n",
      "Requirement already satisfied: cffi>=1.10.0 in /Applications/anaconda3/envs/ds/lib/python3.10/site-packages (from rpy2) (1.15.0)\n",
      "Requirement already satisfied: pytz in /Applications/anaconda3/envs/ds/lib/python3.10/site-packages (from rpy2) (2022.1)\n",
      "Collecting tzlocal\n",
      "  Downloading tzlocal-4.2-py3-none-any.whl (19 kB)\n",
      "Requirement already satisfied: pycparser in /Applications/anaconda3/envs/ds/lib/python3.10/site-packages (from cffi>=1.10.0->rpy2) (2.21)\n",
      "Requirement already satisfied: MarkupSafe>=2.0 in /Applications/anaconda3/envs/ds/lib/python3.10/site-packages (from jinja2->rpy2) (2.1.1)\n",
      "Collecting pytz-deprecation-shim\n",
      "  Downloading pytz_deprecation_shim-0.1.0.post0-py2.py3-none-any.whl (15 kB)\n",
      "Collecting tzdata\n",
      "  Downloading tzdata-2022.1-py2.py3-none-any.whl (339 kB)\n",
      "\u001b[2K     \u001b[90m━━━━━━━━━━━━━━━━━━━━━━━━━━━━━━━━━━━━━━━\u001b[0m \u001b[32m339.5/339.5 kB\u001b[0m \u001b[31m4.0 MB/s\u001b[0m eta \u001b[36m0:00:00\u001b[0m00:01\u001b[0m00:01\u001b[0m\n",
      "\u001b[?25hInstalling collected packages: tzdata, pytz-deprecation-shim, tzlocal, rpy2\n",
      "Successfully installed pytz-deprecation-shim-0.1.0.post0 rpy2-3.5.2 tzdata-2022.1 tzlocal-4.2\n"
     ]
    }
   ],
   "source": [
    "!pip install rpy2"
   ]
  },
  {
   "cell_type": "markdown",
   "metadata": {
    "id": "g8hBJ_KxmEOZ"
   },
   "source": [
    "Once the package is installed, we need to load the [Jupyter extension](https://ipython.readthedocs.io/en/stable/config/extensions/index.html) with:"
   ]
  },
  {
   "cell_type": "code",
   "execution_count": 25,
   "metadata": {
    "id": "uK6NIYilj1Z2"
   },
   "outputs": [],
   "source": [
    "%reload_ext rpy2.ipython\n"
   ]
  },
  {
   "cell_type": "markdown",
   "metadata": {
    "id": "4O9VdGpGmM0a"
   },
   "source": [
    "Then, we can **write** and **run** any _R_ code we deem feasible."
   ]
  },
  {
   "cell_type": "code",
   "execution_count": 26,
   "metadata": {
    "colab": {
     "base_uri": "https://localhost:8080/"
    },
    "id": "mTV6VYuEjtvx",
    "outputId": "a7fd708e-58cd-41df-c5e9-56b6eca31be7"
   },
   "outputs": [
    {
     "name": "stdout",
     "output_type": "stream",
     "text": [
      " independent_data dependent_data\n",
      " Min.   :1.0      Min.   :4.0   \n",
      " 1st Qu.:1.5      1st Qu.:4.5   \n",
      " Median :2.0      Median :5.0   \n",
      " Mean   :2.0      Mean   :5.0   \n",
      " 3rd Qu.:2.5      3rd Qu.:5.5   \n",
      " Max.   :3.0      Max.   :6.0   \n"
     ]
    }
   ],
   "source": [
    "%%R\n",
    "\n",
    "# Create a data frame\n",
    "my_df <- data.frame(\n",
    "    independent_data = c(1, 2, 3),\n",
    "    dependent_data = c(4, 5, 6)\n",
    ")\n",
    "\n",
    "summary(my_df)\n"
   ]
  },
  {
   "cell_type": "code",
   "execution_count": 27,
   "metadata": {
    "colab": {
     "base_uri": "https://localhost:8080/",
     "height": 497
    },
    "id": "ZvBT3jBpnNFa",
    "outputId": "0d0f7dc8-9738-46c4-a6e2-860671a633f5"
   },
   "outputs": [
    {
     "data": {
      "image/png": "[encoded data removed]"
     },
     "metadata": {},
     "output_type": "display_data"
    }
   ],
   "source": [
    "%%R\n",
    "\n",
    "# Load the ggplot2 library\n",
    "library(ggplot2)\n",
    "\n",
    "# Graph the data\n",
    "ggplot(my_df) + \n",
    "  aes(x = independent_data, \n",
    "      y = dependent_data) +\n",
    "  geom_point() + \n",
    "  geom_line()"
   ]
  },
  {
   "cell_type": "markdown",
   "metadata": {
    "id": "HekUVqsZ21Dq"
   },
   "source": [
    "#### Your Turn: Create a code chunk!\n",
    "\n",
    "Write two different code cells that\n",
    "\n",
    "1. Print out separately the mean and standard deviation of `x` in `my_df`.\n",
    "2. Contains _R_ code with an error. \n",
    "\n",
    "What happens when each cell executes? How does this relate to the native execution of Python code? "
   ]
  },
  {
   "cell_type": "markdown",
   "metadata": {
    "id": "mcATyZJBndr1"
   },
   "source": [
    "### SQL \n",
    "\n",
    "Similar to _R_, we can enable SQL-specific code cells using `%%sql` through the Juptyer SQL extension with:"
   ]
  },
  {
   "cell_type": "code",
   "execution_count": 29,
   "metadata": {
    "id": "DJjbvSlUndET"
   },
   "outputs": [
    {
     "ename": "ModuleNotFoundError",
     "evalue": "No module named 'sql'",
     "output_type": "error",
     "traceback": [
      "\u001b[0;31m---------------------------------------------------------------------------\u001b[0m",
      "\u001b[0;31mModuleNotFoundError\u001b[0m                       Traceback (most recent call last)",
      "Input \u001b[0;32mIn [29]\u001b[0m, in \u001b[0;36m<cell line: 1>\u001b[0;34m()\u001b[0m\n\u001b[0;32m----> 1\u001b[0m \u001b[43mget_ipython\u001b[49m\u001b[43m(\u001b[49m\u001b[43m)\u001b[49m\u001b[38;5;241;43m.\u001b[39;49m\u001b[43mrun_line_magic\u001b[49m\u001b[43m(\u001b[49m\u001b[38;5;124;43m'\u001b[39;49m\u001b[38;5;124;43mload_ext\u001b[39;49m\u001b[38;5;124;43m'\u001b[39;49m\u001b[43m,\u001b[49m\u001b[43m \u001b[49m\u001b[38;5;124;43m'\u001b[39;49m\u001b[38;5;124;43msql\u001b[39;49m\u001b[38;5;124;43m'\u001b[39;49m\u001b[43m)\u001b[49m\n",
      "File \u001b[0;32m/Applications/anaconda3/envs/ds/lib/python3.10/site-packages/IPython/core/interactiveshell.py:2304\u001b[0m, in \u001b[0;36mInteractiveShell.run_line_magic\u001b[0;34m(self, magic_name, line, _stack_depth)\u001b[0m\n\u001b[1;32m   2302\u001b[0m     kwargs[\u001b[38;5;124m'\u001b[39m\u001b[38;5;124mlocal_ns\u001b[39m\u001b[38;5;124m'\u001b[39m] \u001b[38;5;241m=\u001b[39m \u001b[38;5;28mself\u001b[39m\u001b[38;5;241m.\u001b[39mget_local_scope(stack_depth)\n\u001b[1;32m   2303\u001b[0m \u001b[38;5;28;01mwith\u001b[39;00m \u001b[38;5;28mself\u001b[39m\u001b[38;5;241m.\u001b[39mbuiltin_trap:\n\u001b[0;32m-> 2304\u001b[0m     result \u001b[38;5;241m=\u001b[39m \u001b[43mfn\u001b[49m\u001b[43m(\u001b[49m\u001b[38;5;241;43m*\u001b[39;49m\u001b[43margs\u001b[49m\u001b[43m,\u001b[49m\u001b[43m \u001b[49m\u001b[38;5;241;43m*\u001b[39;49m\u001b[38;5;241;43m*\u001b[39;49m\u001b[43mkwargs\u001b[49m\u001b[43m)\u001b[49m\n\u001b[1;32m   2305\u001b[0m \u001b[38;5;28;01mreturn\u001b[39;00m result\n",
      "File \u001b[0;32m/Applications/anaconda3/envs/ds/lib/python3.10/site-packages/IPython/core/magics/extension.py:33\u001b[0m, in \u001b[0;36mExtensionMagics.load_ext\u001b[0;34m(self, module_str)\u001b[0m\n\u001b[1;32m     31\u001b[0m \u001b[38;5;28;01mif\u001b[39;00m \u001b[38;5;129;01mnot\u001b[39;00m module_str:\n\u001b[1;32m     32\u001b[0m     \u001b[38;5;28;01mraise\u001b[39;00m UsageError(\u001b[38;5;124m'\u001b[39m\u001b[38;5;124mMissing module name.\u001b[39m\u001b[38;5;124m'\u001b[39m)\n\u001b[0;32m---> 33\u001b[0m res \u001b[38;5;241m=\u001b[39m \u001b[38;5;28;43mself\u001b[39;49m\u001b[38;5;241;43m.\u001b[39;49m\u001b[43mshell\u001b[49m\u001b[38;5;241;43m.\u001b[39;49m\u001b[43mextension_manager\u001b[49m\u001b[38;5;241;43m.\u001b[39;49m\u001b[43mload_extension\u001b[49m\u001b[43m(\u001b[49m\u001b[43mmodule_str\u001b[49m\u001b[43m)\u001b[49m\n\u001b[1;32m     35\u001b[0m \u001b[38;5;28;01mif\u001b[39;00m res \u001b[38;5;241m==\u001b[39m \u001b[38;5;124m'\u001b[39m\u001b[38;5;124malready loaded\u001b[39m\u001b[38;5;124m'\u001b[39m:\n\u001b[1;32m     36\u001b[0m     \u001b[38;5;28mprint\u001b[39m(\u001b[38;5;124m\"\u001b[39m\u001b[38;5;124mThe \u001b[39m\u001b[38;5;132;01m%s\u001b[39;00m\u001b[38;5;124m extension is already loaded. To reload it, use:\u001b[39m\u001b[38;5;124m\"\u001b[39m \u001b[38;5;241m%\u001b[39m module_str)\n",
      "File \u001b[0;32m/Applications/anaconda3/envs/ds/lib/python3.10/site-packages/IPython/core/extensions.py:76\u001b[0m, in \u001b[0;36mExtensionManager.load_extension\u001b[0;34m(self, module_str)\u001b[0m\n\u001b[1;32m     69\u001b[0m \u001b[38;5;124;03m\"\"\"Load an IPython extension by its module name.\u001b[39;00m\n\u001b[1;32m     70\u001b[0m \n\u001b[1;32m     71\u001b[0m \u001b[38;5;124;03mReturns the string \"already loaded\" if the extension is already loaded,\u001b[39;00m\n\u001b[1;32m     72\u001b[0m \u001b[38;5;124;03m\"no load function\" if the module doesn't have a load_ipython_extension\u001b[39;00m\n\u001b[1;32m     73\u001b[0m \u001b[38;5;124;03mfunction, or None if it succeeded.\u001b[39;00m\n\u001b[1;32m     74\u001b[0m \u001b[38;5;124;03m\"\"\"\u001b[39;00m\n\u001b[1;32m     75\u001b[0m \u001b[38;5;28;01mtry\u001b[39;00m:\n\u001b[0;32m---> 76\u001b[0m     \u001b[38;5;28;01mreturn\u001b[39;00m \u001b[38;5;28;43mself\u001b[39;49m\u001b[38;5;241;43m.\u001b[39;49m\u001b[43m_load_extension\u001b[49m\u001b[43m(\u001b[49m\u001b[43mmodule_str\u001b[49m\u001b[43m)\u001b[49m\n\u001b[1;32m     77\u001b[0m \u001b[38;5;28;01mexcept\u001b[39;00m \u001b[38;5;167;01mModuleNotFoundError\u001b[39;00m:\n\u001b[1;32m     78\u001b[0m     \u001b[38;5;28;01mif\u001b[39;00m module_str \u001b[38;5;129;01min\u001b[39;00m BUILTINS_EXTS:\n",
      "File \u001b[0;32m/Applications/anaconda3/envs/ds/lib/python3.10/site-packages/IPython/core/extensions.py:92\u001b[0m, in \u001b[0;36mExtensionManager._load_extension\u001b[0;34m(self, module_str)\u001b[0m\n\u001b[1;32m     90\u001b[0m \u001b[38;5;28;01mif\u001b[39;00m module_str \u001b[38;5;129;01mnot\u001b[39;00m \u001b[38;5;129;01min\u001b[39;00m sys\u001b[38;5;241m.\u001b[39mmodules:\n\u001b[1;32m     91\u001b[0m     \u001b[38;5;28;01mwith\u001b[39;00m prepended_to_syspath(\u001b[38;5;28mself\u001b[39m\u001b[38;5;241m.\u001b[39mipython_extension_dir):\n\u001b[0;32m---> 92\u001b[0m         mod \u001b[38;5;241m=\u001b[39m \u001b[43mimport_module\u001b[49m\u001b[43m(\u001b[49m\u001b[43mmodule_str\u001b[49m\u001b[43m)\u001b[49m\n\u001b[1;32m     93\u001b[0m         \u001b[38;5;28;01mif\u001b[39;00m mod\u001b[38;5;241m.\u001b[39m\u001b[38;5;18m__file__\u001b[39m\u001b[38;5;241m.\u001b[39mstartswith(\u001b[38;5;28mself\u001b[39m\u001b[38;5;241m.\u001b[39mipython_extension_dir):\n\u001b[1;32m     94\u001b[0m             \u001b[38;5;28mprint\u001b[39m((\u001b[38;5;124m\"\u001b[39m\u001b[38;5;124mLoading extensions from \u001b[39m\u001b[38;5;132;01m{dir}\u001b[39;00m\u001b[38;5;124m is deprecated. \u001b[39m\u001b[38;5;124m\"\u001b[39m\n\u001b[1;32m     95\u001b[0m                    \u001b[38;5;124m\"\u001b[39m\u001b[38;5;124mWe recommend managing extensions like any \u001b[39m\u001b[38;5;124m\"\u001b[39m\n\u001b[1;32m     96\u001b[0m                    \u001b[38;5;124m\"\u001b[39m\u001b[38;5;124mother Python packages, in site-packages.\u001b[39m\u001b[38;5;124m\"\u001b[39m)\u001b[38;5;241m.\u001b[39mformat(\n\u001b[1;32m     97\u001b[0m                   \u001b[38;5;28mdir\u001b[39m\u001b[38;5;241m=\u001b[39mcompress_user(\u001b[38;5;28mself\u001b[39m\u001b[38;5;241m.\u001b[39mipython_extension_dir)))\n",
      "File \u001b[0;32m/Applications/anaconda3/envs/ds/lib/python3.10/importlib/__init__.py:126\u001b[0m, in \u001b[0;36mimport_module\u001b[0;34m(name, package)\u001b[0m\n\u001b[1;32m    124\u001b[0m             \u001b[38;5;28;01mbreak\u001b[39;00m\n\u001b[1;32m    125\u001b[0m         level \u001b[38;5;241m+\u001b[39m\u001b[38;5;241m=\u001b[39m \u001b[38;5;241m1\u001b[39m\n\u001b[0;32m--> 126\u001b[0m \u001b[38;5;28;01mreturn\u001b[39;00m \u001b[43m_bootstrap\u001b[49m\u001b[38;5;241;43m.\u001b[39;49m\u001b[43m_gcd_import\u001b[49m\u001b[43m(\u001b[49m\u001b[43mname\u001b[49m\u001b[43m[\u001b[49m\u001b[43mlevel\u001b[49m\u001b[43m:\u001b[49m\u001b[43m]\u001b[49m\u001b[43m,\u001b[49m\u001b[43m \u001b[49m\u001b[43mpackage\u001b[49m\u001b[43m,\u001b[49m\u001b[43m \u001b[49m\u001b[43mlevel\u001b[49m\u001b[43m)\u001b[49m\n",
      "File \u001b[0;32m<frozen importlib._bootstrap>:1050\u001b[0m, in \u001b[0;36m_gcd_import\u001b[0;34m(name, package, level)\u001b[0m\n",
      "File \u001b[0;32m<frozen importlib._bootstrap>:1027\u001b[0m, in \u001b[0;36m_find_and_load\u001b[0;34m(name, import_)\u001b[0m\n",
      "File \u001b[0;32m<frozen importlib._bootstrap>:1004\u001b[0m, in \u001b[0;36m_find_and_load_unlocked\u001b[0;34m(name, import_)\u001b[0m\n",
      "\u001b[0;31mModuleNotFoundError\u001b[0m: No module named 'sql'"
     ]
    }
   ],
   "source": [
    "%load_ext sql"
   ]
  },
  {
   "cell_type": "markdown",
   "metadata": {
    "id": "7drIqViknkt1"
   },
   "source": [
    "Next, we can establish a connection to a database. In our case, we'll create a temporary database using `sqlite`."
   ]
  },
  {
   "cell_type": "code",
   "execution_count": 5,
   "metadata": {
    "colab": {
     "base_uri": "https://localhost:8080/",
     "height": 35
    },
    "id": "HLSnix4gnkec",
    "outputId": "c021c22c-8042-410f-a50a-0b7ccefa9b66"
   },
   "outputs": [
    {
     "data": {
      "application/vnd.google.colaboratory.intrinsic+json": {
       "type": "string"
      },
      "text/plain": [
       "'Connected: @None'"
      ]
     },
     "execution_count": 5,
     "metadata": {},
     "output_type": "execute_result"
    }
   ],
   "source": [
    "%sql sqlite://"
   ]
  },
  {
   "cell_type": "markdown",
   "metadata": {
    "id": "B_BmTjxynqB2"
   },
   "source": [
    "From there, we can re-use this connection and write SQL queries with syntax highlighting in the code cell."
   ]
  },
  {
   "cell_type": "code",
   "execution_count": 7,
   "metadata": {
    "colab": {
     "base_uri": "https://localhost:8080/",
     "height": 208
    },
    "id": "sNmKP_88npho",
    "outputId": "fd99e2b6-1ee4-43bd-a0b9-e471e6eec2f0"
   },
   "outputs": [
    {
     "name": "stdout",
     "output_type": "stream",
     "text": [
      " * sqlite://\n",
      "Done.\n",
      "Done.\n",
      "1 rows affected.\n",
      "1 rows affected.\n",
      "Done.\n"
     ]
    },
    {
     "data": {
      "text/html": [
       "<table>\n",
       "    <thead>\n",
       "        <tr>\n",
       "            <th>StudentID</th>\n",
       "            <th>FirstName</th>\n",
       "            <th>Major</th>\n",
       "            <th>YearInSchool</th>\n",
       "        </tr>\n",
       "    </thead>\n",
       "    <tbody>\n",
       "        <tr>\n",
       "            <td>1</td>\n",
       "            <td>JJB</td>\n",
       "            <td>STAT</td>\n",
       "            <td>Senior++</td>\n",
       "        </tr>\n",
       "        <tr>\n",
       "            <td>2</td>\n",
       "            <td>Ridha</td>\n",
       "            <td>STAT</td>\n",
       "            <td>Senior</td>\n",
       "        </tr>\n",
       "        <tr>\n",
       "            <td>2</td>\n",
       "            <td>Peter</td>\n",
       "            <td>CS</td>\n",
       "            <td>Freshman</td>\n",
       "        </tr>\n",
       "    </tbody>\n",
       "</table>"
      ],
      "text/plain": [
       "[(1, 'JJB', 'STAT', 'Senior++'),\n",
       " (2, 'Ridha', 'STAT', 'Senior'),\n",
       " (2, 'Peter', 'CS', 'Freshman')]"
      ]
     },
     "execution_count": 7,
     "metadata": {},
     "output_type": "execute_result"
    }
   ],
   "source": [
    "%%sql \n",
    "\n",
    "-- Create table structure\n",
    "CREATE TABLE IF NOT EXISTS Students (\n",
    "    StudentID, \n",
    "    FirstName, \n",
    "    Major, \n",
    "    YearInSchool\n",
    "); \n",
    "\n",
    "-- Insert records into table\n",
    "INSERT INTO Students VALUES(1, 'JJB', \"STAT\", \"Senior++\");\n",
    "INSERT INTO Students VALUES(2, 'Ridha', \"STAT\", \"Senior\");\n",
    "INSERT INTO Students VALUES(2, 'Peter', \"CS\", \"Freshman\");\n",
    "\n",
    "-- Retrieve records\n",
    "SELECT * FROM Students;"
   ]
  },
  {
   "cell_type": "markdown",
   "metadata": {
    "id": "LMHpk5r3oks_"
   },
   "source": [
    "If we only want to run a single SQL command, we could use:\n",
    "\n",
    "```\n",
    "%sql <command>\n",
    "```"
   ]
  },
  {
   "cell_type": "code",
   "execution_count": 8,
   "metadata": {
    "colab": {
     "base_uri": "https://localhost:8080/",
     "height": 138
    },
    "id": "IruOm_2wojrV",
    "outputId": "7138d330-b69f-4d57-b958-2aa817cb7881"
   },
   "outputs": [
    {
     "name": "stdout",
     "output_type": "stream",
     "text": [
      " * sqlite://\n",
      "Done.\n"
     ]
    },
    {
     "data": {
      "text/html": [
       "<table>\n",
       "    <thead>\n",
       "        <tr>\n",
       "            <th>StudentID</th>\n",
       "            <th>FirstName</th>\n",
       "            <th>Major</th>\n",
       "            <th>YearInSchool</th>\n",
       "        </tr>\n",
       "    </thead>\n",
       "    <tbody>\n",
       "        <tr>\n",
       "            <td>1</td>\n",
       "            <td>JJB</td>\n",
       "            <td>STAT</td>\n",
       "            <td>Senior++</td>\n",
       "        </tr>\n",
       "        <tr>\n",
       "            <td>2</td>\n",
       "            <td>Ridha</td>\n",
       "            <td>STAT</td>\n",
       "            <td>Senior</td>\n",
       "        </tr>\n",
       "        <tr>\n",
       "            <td>2</td>\n",
       "            <td>Peter</td>\n",
       "            <td>CS</td>\n",
       "            <td>Freshman</td>\n",
       "        </tr>\n",
       "    </tbody>\n",
       "</table>"
      ],
      "text/plain": [
       "[(1, 'JJB', 'STAT', 'Senior++'),\n",
       " (2, 'Ridha', 'STAT', 'Senior'),\n",
       " (2, 'Peter', 'CS', 'Freshman')]"
      ]
     },
     "execution_count": 8,
     "metadata": {},
     "output_type": "execute_result"
    }
   ],
   "source": [
    "%sql SELECT * from Students"
   ]
  },
  {
   "cell_type": "markdown",
   "metadata": {
    "id": "Qt0goWMUpzYX"
   },
   "source": [
    "We can also delete the table with: "
   ]
  },
  {
   "cell_type": "code",
   "execution_count": 9,
   "metadata": {
    "colab": {
     "base_uri": "https://localhost:8080/"
    },
    "id": "0d7ZAnX8pUIw",
    "outputId": "03e2ba5e-def5-4006-d85c-c425c91c5253"
   },
   "outputs": [
    {
     "name": "stdout",
     "output_type": "stream",
     "text": [
      " * sqlite://\n",
      "Done.\n"
     ]
    },
    {
     "data": {
      "text/plain": [
       "[]"
      ]
     },
     "execution_count": 9,
     "metadata": {},
     "output_type": "execute_result"
    }
   ],
   "source": [
    "%sql DROP TABLE Students"
   ]
  }
 ],
 "metadata": {
  "colab": {
   "collapsed_sections": [],
   "name": "01b-day-jupyter-notebook-intro.ipynb",
   "provenance": [],
   "toc_visible": true
  },
  "kernelspec": {
   "display_name": "Python 3 (ipykernel)",
   "language": "python",
   "name": "python3"
  },
  "language_info": {
   "codemirror_mode": {
    "name": "ipython",
    "version": 3
   },
   "file_extension": ".py",
   "mimetype": "text/x-python",
   "name": "python",
   "nbconvert_exporter": "python",
   "pygments_lexer": "ipython3",
   "version": "3.10.4"
  }
 },
 "nbformat": 4,
 "nbformat_minor": 1
}
