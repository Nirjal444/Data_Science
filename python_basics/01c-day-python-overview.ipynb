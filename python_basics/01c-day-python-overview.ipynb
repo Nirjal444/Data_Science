{
 "cells": [
  {
   "cell_type": "markdown",
   "metadata": {
    "id": "ylpJ4uLa82RQ"
   },
   "source": [
    "# Overview \n",
    "\n",
    "Within this notebook, we cover introductory Python usage."
   ]
  },
  {
   "cell_type": "markdown",
   "metadata": {
    "id": "HFnMvQxNgIQp"
   },
   "source": [
    "# Diagnostics"
   ]
  },
  {
   "cell_type": "code",
   "execution_count": 2,
   "metadata": {
    "ExecuteTime": {
     "end_time": "2022-05-27T20:22:17.755010Z",
     "start_time": "2022-05-27T20:22:11.311758Z"
    },
    "cellView": "form",
    "colab": {
     "base_uri": "https://localhost:8080/"
    },
    "id": "KkaEwnAoP-m6",
    "outputId": "056c7d74-017a-4c9a-9526-b9fdee57dd5e"
   },
   "outputs": [
    {
     "name": "stdout",
     "output_type": "stream",
     "text": [
      "python: 3.10.4 | packaged by conda-forge | (main, Mar 24 2022, 17:43:32) [Clang 12.0.1 ]\n",
      "pandas: 1.22.4\n",
      "tensorflow: 2.9.0\n",
      "GPU Enabled: False\n",
      "Notebook is being run locally or through another source.\n"
     ]
    }
   ],
   "source": [
    "#@title (Hidden) Diagnostic Check\n",
    "import os\n",
    "import sys\n",
    "import pandas as pd\n",
    "import numpy as np\n",
    "\n",
    "import tensorflow as tf\n",
    "\n",
    "print(f\"python: {sys.version}\")\n",
    "print(f\"pandas: {np.__version__}\")\n",
    "print(f\"tensorflow: {tf.__version__}\")\n",
    "# Detect if a GPU is present\n",
    "gpus = tf.config.list_physical_devices('GPU')\n",
    "\n",
    "if gpus:\n",
    "  print(f\"GPU Enabled: True\")\n",
    "else:\n",
    "  print(f\"GPU Enabled: False\")\n",
    "\n",
    "try:\n",
    "  from google.colab import drive\n",
    "  is_google_colab = True\n",
    "\n",
    "  print(\"Notebook is on Google CoLab\")\n",
    "except:\n",
    "  is_google_colab = False\n",
    "  print(\"Notebook is being run locally or through another source.\")\n"
   ]
  },
  {
   "cell_type": "markdown",
   "metadata": {
    "id": "Auwe5rCe0hPp"
   },
   "source": [
    "# Overview of the Python language\n",
    "\n",
    "\n"
   ]
  },
  {
   "cell_type": "markdown",
   "metadata": {
    "id": "KTSWb03MWxou"
   },
   "source": [
    "### Assignment and calculation"
   ]
  },
  {
   "cell_type": "code",
   "execution_count": 3,
   "metadata": {
    "ExecuteTime": {
     "end_time": "2022-05-27T20:22:30.027650Z",
     "start_time": "2022-05-27T20:22:30.021367Z"
    },
    "id": "RF_LXMjh0VHd"
   },
   "outputs": [],
   "source": [
    "# Declare variables\n",
    "x = 1\n",
    "y = 2\n"
   ]
  },
  {
   "cell_type": "code",
   "execution_count": 4,
   "metadata": {
    "ExecuteTime": {
     "end_time": "2022-05-27T20:22:31.874915Z",
     "start_time": "2022-05-27T20:22:31.860604Z"
    },
    "colab": {
     "base_uri": "https://localhost:8080/"
    },
    "id": "5WigPisf0ZJC",
    "outputId": "d0f82814-49ab-461e-b44d-092e2e33f862"
   },
   "outputs": [
    {
     "data": {
      "text/plain": [
       "3"
      ]
     },
     "execution_count": 4,
     "metadata": {},
     "output_type": "execute_result"
    }
   ],
   "source": [
    "# Add values \n",
    "x + y"
   ]
  },
  {
   "cell_type": "code",
   "execution_count": 5,
   "metadata": {
    "ExecuteTime": {
     "end_time": "2022-05-27T20:22:32.740448Z",
     "start_time": "2022-05-27T20:22:32.736171Z"
    },
    "id": "jpv1MWsD0e1K"
   },
   "outputs": [],
   "source": [
    "# Combine values\n",
    "z = [x, y]"
   ]
  },
  {
   "cell_type": "code",
   "execution_count": 6,
   "metadata": {
    "ExecuteTime": {
     "end_time": "2022-05-27T20:22:33.621754Z",
     "start_time": "2022-05-27T20:22:33.615334Z"
    },
    "colab": {
     "base_uri": "https://localhost:8080/"
    },
    "id": "xzyBs7aa-07U",
    "outputId": "f6c45c2a-f940-48c4-870f-697d1b6a870c"
   },
   "outputs": [
    {
     "name": "stdout",
     "output_type": "stream",
     "text": [
      "[1, 2]\n"
     ]
    }
   ],
   "source": [
    "# Output values in z\n",
    "print(z)"
   ]
  },
  {
   "cell_type": "code",
   "execution_count": 7,
   "metadata": {
    "ExecuteTime": {
     "end_time": "2022-05-27T20:22:34.350586Z",
     "start_time": "2022-05-27T20:22:34.342873Z"
    },
    "colab": {
     "base_uri": "https://localhost:8080/"
    },
    "id": "VuNowQLY0ec9",
    "outputId": "b62e93f7-490a-45ae-a3b8-8970e38dce02"
   },
   "outputs": [
    {
     "data": {
      "text/plain": [
       "3"
      ]
     },
     "execution_count": 7,
     "metadata": {},
     "output_type": "execute_result"
    }
   ],
   "source": [
    "# Add up all values\n",
    "sum(z)"
   ]
  },
  {
   "cell_type": "markdown",
   "metadata": {
    "id": "_eAyNNVZhDjf"
   },
   "source": [
    "## Binary/Mathematical Operators\n",
    "\n",
    "Binary operators provide a means to combine exactly two elements or operands to create another element. We'll use binary operators frequently to handle different mathematical operations. "
   ]
  },
  {
   "cell_type": "markdown",
   "metadata": {
    "id": "ZrvUeTE_hFHN"
   },
   "source": [
    "| Operation       | Description                                                                                     |\n",
    "|:--------------- |:----------------------------------------------------------------------------------------------- |\n",
    "| `a + b`         | Add a and b                                                                                     |\n",
    "| `a - b`         | Substract b from a                                                                              |\n",
    "| `a * b`         | Multiply a by b                                                                                 |\n",
    "| `a / b`         | Divide a by b                                                                                   |\n",
    "| `a // b`        | Floor-divide a by b, dropping any fractional remainder                                          |\n",
    "| `a % b`         | Modulus, integer remainder of a division |\n",
    "| `a ** b`        | Raise a to the b power                                                                          |\n"
   ]
  },
  {
   "cell_type": "code",
   "execution_count": 8,
   "metadata": {
    "ExecuteTime": {
     "end_time": "2022-05-27T20:24:26.782733Z",
     "start_time": "2022-05-27T20:24:26.775115Z"
    },
    "colab": {
     "base_uri": "https://localhost:8080/"
    },
    "id": "HyB7MPIjrHoY",
    "outputId": "69e695a6-d075-4072-cad5-ab521e421c1d"
   },
   "outputs": [
    {
     "data": {
      "text/plain": [
       "7"
      ]
     },
     "execution_count": 8,
     "metadata": {},
     "output_type": "execute_result"
    }
   ],
   "source": [
    "# Addition\n",
    "5 + 2"
   ]
  },
  {
   "cell_type": "code",
   "execution_count": 9,
   "metadata": {
    "ExecuteTime": {
     "end_time": "2022-05-27T20:24:27.024268Z",
     "start_time": "2022-05-27T20:24:27.012898Z"
    },
    "colab": {
     "base_uri": "https://localhost:8080/"
    },
    "id": "NZDn5NhrrPQt",
    "outputId": "7c80b477-f471-4882-9940-e720682a553d"
   },
   "outputs": [
    {
     "data": {
      "text/plain": [
       "3"
      ]
     },
     "execution_count": 9,
     "metadata": {},
     "output_type": "execute_result"
    }
   ],
   "source": [
    "# Subtraction\n",
    "5 - 2"
   ]
  },
  {
   "cell_type": "code",
   "execution_count": 10,
   "metadata": {
    "ExecuteTime": {
     "end_time": "2022-05-27T20:24:27.219742Z",
     "start_time": "2022-05-27T20:24:27.210340Z"
    },
    "colab": {
     "base_uri": "https://localhost:8080/"
    },
    "id": "SN_5jS4XrQWE",
    "outputId": "a82dddc4-f6be-43e9-ec53-9b7f4771e761"
   },
   "outputs": [
    {
     "data": {
      "text/plain": [
       "10"
      ]
     },
     "execution_count": 10,
     "metadata": {},
     "output_type": "execute_result"
    }
   ],
   "source": [
    "# Multiplication\n",
    "5 * 2"
   ]
  },
  {
   "cell_type": "code",
   "execution_count": 11,
   "metadata": {
    "ExecuteTime": {
     "end_time": "2022-05-27T20:24:27.553234Z",
     "start_time": "2022-05-27T20:24:27.540320Z"
    },
    "colab": {
     "base_uri": "https://localhost:8080/"
    },
    "id": "Njf0k4SVrRV_",
    "outputId": "e503cff8-52e9-4dfc-f0dc-10ecf7c0eaa7"
   },
   "outputs": [
    {
     "data": {
      "text/plain": [
       "2.5"
      ]
     },
     "execution_count": 11,
     "metadata": {},
     "output_type": "execute_result"
    }
   ],
   "source": [
    "# Division\n",
    "5 / 2"
   ]
  },
  {
   "cell_type": "code",
   "execution_count": 12,
   "metadata": {
    "ExecuteTime": {
     "end_time": "2022-05-27T20:24:27.806864Z",
     "start_time": "2022-05-27T20:24:27.796688Z"
    },
    "colab": {
     "base_uri": "https://localhost:8080/"
    },
    "id": "_4AnZpBrrXDU",
    "outputId": "51e2bc13-c939-47d6-a4c5-736dd7b86245"
   },
   "outputs": [
    {
     "data": {
      "text/plain": [
       "2"
      ]
     },
     "execution_count": 12,
     "metadata": {},
     "output_type": "execute_result"
    }
   ],
   "source": [
    "# Floor division\n",
    "5 // 2"
   ]
  },
  {
   "cell_type": "code",
   "execution_count": 13,
   "metadata": {
    "ExecuteTime": {
     "end_time": "2022-05-27T20:24:28.055861Z",
     "start_time": "2022-05-27T20:24:28.046152Z"
    },
    "colab": {
     "base_uri": "https://localhost:8080/"
    },
    "id": "qbaK3MSMrR5B",
    "outputId": "1d5c61c8-7900-4159-a67f-8141f3650fd3"
   },
   "outputs": [
    {
     "data": {
      "text/plain": [
       "1"
      ]
     },
     "execution_count": 13,
     "metadata": {},
     "output_type": "execute_result"
    }
   ],
   "source": [
    "# Modulus\n",
    "5 % 2"
   ]
  },
  {
   "cell_type": "code",
   "execution_count": 14,
   "metadata": {
    "ExecuteTime": {
     "end_time": "2022-05-27T20:24:28.323974Z",
     "start_time": "2022-05-27T20:24:28.308931Z"
    },
    "colab": {
     "base_uri": "https://localhost:8080/"
    },
    "id": "h7y26tuqrVMZ",
    "outputId": "7888cd6b-a448-40fa-f9f0-63f28a360d52"
   },
   "outputs": [
    {
     "data": {
      "text/plain": [
       "25"
      ]
     },
     "execution_count": 14,
     "metadata": {},
     "output_type": "execute_result"
    }
   ],
   "source": [
    "# Exponentiation\n",
    "5 ** 2"
   ]
  },
  {
   "cell_type": "markdown",
   "metadata": {
    "id": "6hSmVJasLySe"
   },
   "source": [
    "## Errors\n",
    "There shalt be errors and that's okay.\n",
    "\n",
    "When errors happen, the best idea is to search the error message. Searching the error message is done by copying the error and pasting it into a Google. Chances are other users have run into the same issue before you. A great site to check for possible error solutions is: <https://stackoverflow.com>"
   ]
  },
  {
   "cell_type": "code",
   "execution_count": 15,
   "metadata": {
    "ExecuteTime": {
     "end_time": "2022-05-27T20:24:29.430111Z",
     "start_time": "2022-05-27T20:24:28.817906Z"
    },
    "colab": {
     "base_uri": "https://localhost:8080/",
     "height": 201
    },
    "id": "G3ORjxHbLecX",
    "outputId": "15f69a99-f5f0-46c6-ea7e-abac3149acc8"
   },
   "outputs": [
    {
     "ename": "NameError",
     "evalue": "name 'N_STUDENTS' is not defined",
     "output_type": "error",
     "traceback": [
      "\u001b[0;31m---------------------------------------------------------------------------\u001b[0m",
      "\u001b[0;31mNameError\u001b[0m                                 Traceback (most recent call last)",
      "Input \u001b[0;32mIn [15]\u001b[0m, in \u001b[0;36m<cell line: 9>\u001b[0;34m()\u001b[0m\n\u001b[1;32m      5\u001b[0m n_students\n\u001b[1;32m      6\u001b[0m \u001b[38;5;66;03m# [1] 97\u001b[39;00m\n\u001b[1;32m      7\u001b[0m \n\u001b[1;32m      8\u001b[0m \u001b[38;5;66;03m# Try retrieving the value with a variable name in UPPER CASE\u001b[39;00m\n\u001b[0;32m----> 9\u001b[0m \u001b[43mN_STUDENTS\u001b[49m\n",
      "\u001b[0;31mNameError\u001b[0m: name 'N_STUDENTS' is not defined"
     ]
    }
   ],
   "source": [
    "# Number of Students (lower case)\n",
    "n_students = 97 \n",
    "\n",
    "# Show the value of `n_students`\n",
    "n_students\n",
    "# [1] 97\n",
    "\n",
    "# Try retrieving the value with a variable name in UPPER CASE\n",
    "N_STUDENTS"
   ]
  },
  {
   "cell_type": "markdown",
   "metadata": {
    "id": "CNexOTIdJ2u1"
   },
   "source": [
    "## Data Types\n",
    "\n",
    "There are four different primitive data types in Python.\n"
   ]
  },
  {
   "cell_type": "markdown",
   "metadata": {
    "id": "NawcfXa5iPA8"
   },
   "source": [
    "| Type    | Description                                        |\n",
    "|:------- | -------------------------------------------------- |\n",
    "| `bool`  | Logical `True` or `False` value                          |\n",
    "| `str`   | UTF-8 encoded string type          |\n",
    "| `float` | 64-bit double precision for a real number    |\n",
    "| `int`   | Arbitrary precision signed integer                 |"
   ]
  },
  {
   "cell_type": "code",
   "execution_count": 16,
   "metadata": {
    "ExecuteTime": {
     "end_time": "2022-05-27T20:24:33.064798Z",
     "start_time": "2022-05-27T20:24:33.052607Z"
    },
    "id": "z4yZT1zxNupn"
   },
   "outputs": [],
   "source": [
    "# Float / real numbers, e.g. -77.391, -8.542, 0.0, 10.5, 47.66\n",
    "num_val = 3.14\n",
    "\n",
    "# Int / whole numbers, e.g. -58, -1, 0, 3, 99\n",
    "int_val = -2\n",
    "\n",
    "# Bool / boolean, e.g. True, False\n",
    "logical_val = True\n",
    "\n",
    "# Str / strings, e.g. \"hello\", 'goodbye' \n",
    "char_val = \"You're in STAT 480 @ UIUC\""
   ]
  },
  {
   "cell_type": "markdown",
   "metadata": {
    "id": "1T357rfojT8V"
   },
   "source": [
    "Moreover, we can include additional types likes the `None` and `bytes`. \n",
    "\n",
    "| Type    | Description                                        |\n",
    "|:------- | -------------------------------------------------- |\n",
    "| `None`  | \"null\" value                            |\n",
    "| `bytes` | Raw ASCII bytes (or Unicode encoded as bytes)      |\n"
   ]
  },
  {
   "cell_type": "code",
   "execution_count": 17,
   "metadata": {
    "ExecuteTime": {
     "end_time": "2022-05-27T20:24:34.308727Z",
     "start_time": "2022-05-27T20:24:34.301414Z"
    },
    "colab": {
     "base_uri": "https://localhost:8080/"
    },
    "id": "GNuBW_n1tFZk",
    "outputId": "a94a8792-7169-44d8-cc3a-9af211f61f1d"
   },
   "outputs": [
    {
     "name": "stdout",
     "output_type": "stream",
     "text": [
      "None\n"
     ]
    }
   ],
   "source": [
    "x = None\n",
    "\n",
    "print(x)"
   ]
  },
  {
   "cell_type": "markdown",
   "metadata": {
    "id": "TY7M87W1n9X6"
   },
   "source": [
    "## Strings"
   ]
  },
  {
   "cell_type": "markdown",
   "metadata": {
    "id": "LQ1s1ksvo2dU"
   },
   "source": [
    "As shown in the previous section, we can create a variable that contains character data by using either single, e.g. `\" \"`, or double quotes, e.g. `' '`."
   ]
  },
  {
   "cell_type": "code",
   "execution_count": 18,
   "metadata": {
    "ExecuteTime": {
     "end_time": "2022-05-27T20:24:35.444037Z",
     "start_time": "2022-05-27T20:24:35.436072Z"
    },
    "colab": {
     "base_uri": "https://localhost:8080/",
     "height": 35
    },
    "id": "PNfKs44hn81H",
    "outputId": "07395aa4-7c71-4ada-82c4-57cbb7d79212"
   },
   "outputs": [
    {
     "data": {
      "text/plain": [
       "'Hello, World!'"
      ]
     },
     "execution_count": 18,
     "metadata": {},
     "output_type": "execute_result"
    }
   ],
   "source": [
    "my_first_string = 'Hello, World!'    # Single quotes\n",
    "my_second_string = \"Hello, World!\"   # Double quotes\n",
    "\n",
    "my_second_string"
   ]
  },
  {
   "cell_type": "markdown",
   "metadata": {
    "id": "5CHoKQvNorm1"
   },
   "source": [
    "Sometimes, we may wish to have several lines of text stored within a single variable. Storing the text requires using triple quotes, e.g. `\"\"\"`."
   ]
  },
  {
   "cell_type": "code",
   "execution_count": 19,
   "metadata": {
    "ExecuteTime": {
     "end_time": "2022-05-27T20:24:40.376241Z",
     "start_time": "2022-05-27T20:24:40.368947Z"
    },
    "id": "AohsK15poCED"
   },
   "outputs": [
    {
     "name": "stdout",
     "output_type": "stream",
     "text": [
      "A string can\n",
      "also go across\n",
      "multiple lines with\n",
      "the help of triple quotes. \n"
     ]
    }
   ],
   "source": [
    "multiline_string = \"\"\"A string can\n",
    "also go across\n",
    "multiple lines with\n",
    "the help of triple quotes. \"\"\"\n",
    "print(multiline_string)"
   ]
  },
  {
   "cell_type": "markdown",
   "metadata": {
    "id": "OUAbVOWuoHD2"
   },
   "source": [
    "We can make other primitive types into strings by **coercion** through `str()` function. "
   ]
  },
  {
   "cell_type": "code",
   "execution_count": 20,
   "metadata": {
    "ExecuteTime": {
     "end_time": "2022-05-27T20:24:43.777557Z",
     "start_time": "2022-05-27T20:24:43.770945Z"
    },
    "id": "5-LuAoDqoGmR"
   },
   "outputs": [
    {
     "name": "stdout",
     "output_type": "stream",
     "text": [
      "42\n"
     ]
    }
   ],
   "source": [
    "int_to_string = str(42)\n",
    "print(int_to_string)"
   ]
  },
  {
   "cell_type": "markdown",
   "metadata": {
    "id": "CAkNqPcHKOH9"
   },
   "source": [
    "## Functions\n",
    "\n",
    "### Pre-defined functions\n",
    "\n",
    "Python comes with a set of pre-defined functions that can be used to perform computations. The most common function one will use is `print()`. "
   ]
  },
  {
   "cell_type": "code",
   "execution_count": 21,
   "metadata": {
    "ExecuteTime": {
     "end_time": "2022-05-27T20:24:46.046765Z",
     "start_time": "2022-05-27T20:24:46.034831Z"
    },
    "id": "XDhEJI-xJ8eP"
   },
   "outputs": [
    {
     "name": "stdout",
     "output_type": "stream",
     "text": [
      "Sssssss, I'm a python!\n"
     ]
    }
   ],
   "source": [
    "print(\"Sssssss, I'm a python!\")"
   ]
  },
  {
   "cell_type": "markdown",
   "metadata": {
    "id": "3pZioH13pPvy"
   },
   "source": [
    "As of Python 3.x, there is an idea of an `f\"\"` string, which allows for a variable to be directly embedded inside of the string before being substituted."
   ]
  },
  {
   "cell_type": "code",
   "execution_count": 22,
   "metadata": {
    "ExecuteTime": {
     "end_time": "2022-05-27T20:25:32.952387Z",
     "start_time": "2022-05-27T20:25:32.944023Z"
    },
    "colab": {
     "base_uri": "https://localhost:8080/"
    },
    "id": "UAN5bBGcpPT6",
    "outputId": "aae517f0-3381-47e7-a28b-704c2cdcb106"
   },
   "outputs": [
    {
     "name": "stdout",
     "output_type": "stream",
     "text": [
      "Susie makes $12.52.\n",
      "Susie makes $12.5.\n",
      "Susie makes $13 if we round.\n"
     ]
    }
   ],
   "source": [
    "wage_per_hour = 12.52\n",
    "print(f\"Susie makes ${wage_per_hour}.\")\n",
    "\n",
    "# Round to the nearest tenth\n",
    "print(f\"Susie makes ${wage_per_hour:.1f}.\")\n",
    "\n",
    "# Round to the nearest dollar\n",
    "print(f\"Susie makes ${wage_per_hour:.0f} if we round.\")\n",
    "\n"
   ]
  },
  {
   "cell_type": "code",
   "execution_count": 23,
   "metadata": {
    "ExecuteTime": {
     "end_time": "2022-05-27T20:26:34.504448Z",
     "start_time": "2022-05-27T20:26:34.489654Z"
    },
    "colab": {
     "base_uri": "https://localhost:8080/"
    },
    "id": "sjw9kwhDJ8CQ",
    "outputId": "4b34d269-1531-43c9-8b87-5c568d9ca951"
   },
   "outputs": [
    {
     "data": {
      "text/plain": [
       "-2"
      ]
     },
     "execution_count": 23,
     "metadata": {},
     "output_type": "execute_result"
    }
   ],
   "source": [
    "min(3, -2)"
   ]
  },
  {
   "cell_type": "markdown",
   "metadata": {
    "id": "mmybdZ4YuGPI"
   },
   "source": [
    "## Help Documentation\n",
    "\n",
    "When in doubt about how to use a function, pull up the help documentation by using `?function_name`. \n",
    "\n",
    "Let's see what the help documentation says about the `min()` function.\n"
   ]
  },
  {
   "cell_type": "code",
   "execution_count": null,
   "metadata": {
    "id": "MEAr5lCYuIf7"
   },
   "outputs": [],
   "source": [
    "?min"
   ]
  },
  {
   "cell_type": "markdown",
   "metadata": {
    "id": "hwj5n6wVue8P"
   },
   "source": [
    "The help document will open on the right side of Google Colab. Each help file will be given its own tab. Make sure to close tabs after reading through the help documentation."
   ]
  },
  {
   "cell_type": "markdown",
   "metadata": {
    "id": "pKGQOauJvPza"
   },
   "source": [
    "## Autocomplete\n",
    "\n",
    "When using built-in functions, there is autocomplete available for typing long function names. \n",
    "\n",
    "Begin by typing the function name into the code cell and, then, press **[Tab]** to autocomplete it. \n"
   ]
  },
  {
   "cell_type": "code",
   "execution_count": 27,
   "metadata": {
    "ExecuteTime": {
     "end_time": "2022-05-27T20:29:11.560700Z",
     "start_time": "2022-05-27T20:29:11.552677Z"
    },
    "colab": {
     "base_uri": "https://localhost:8080/"
    },
    "id": "QjtfONYRvaGv",
    "outputId": "257817fd-98e7-440b-bb3d-8b4ae424bc5e"
   },
   "outputs": [
    {
     "data": {
      "text/plain": [
       "3"
      ]
     },
     "execution_count": 27,
     "metadata": {},
     "output_type": "execute_result"
    }
   ],
   "source": [
    "import math\n",
    "\n",
    "x = 3\n",
    "math.factorial(x)\n",
    "math.floor(3.4)"
   ]
  },
  {
   "cell_type": "markdown",
   "metadata": {
    "id": "oiPPdg8sx7Td"
   },
   "source": [
    "Once paranetheses are placed after the function name, the parameters will be shown in a help popup. To avoid retyping the parameter names, just press **[Tab]** and watch autocomplete work! "
   ]
  },
  {
   "cell_type": "markdown",
   "metadata": {
    "id": "KVNpx39_0Qrj"
   },
   "source": [
    "To preemptively bring up the autocomplete options, use **CNTRL** + **Space**."
   ]
  },
  {
   "cell_type": "markdown",
   "metadata": {
    "id": "t2ko4tJjnnPU"
   },
   "source": [
    "## User-defined functions\n",
    "\n",
    "More often than not, we'll likely want to write our own functions. Each function in Python starts with `def` -- to indicate a definition -- followed by the function name, its parameters, and is terminated by a colon `:`. The contents inside of a function must match the pre-described indentation of at least two or more spaces. "
   ]
  },
  {
   "cell_type": "code",
   "execution_count": 26,
   "metadata": {
    "ExecuteTime": {
     "end_time": "2022-05-27T20:28:52.389891Z",
     "start_time": "2022-05-27T20:28:52.376847Z"
    },
    "colab": {
     "base_uri": "https://localhost:8080/"
    },
    "id": "olKm8BAWKJ2v",
    "outputId": "b2fba2cc-cb03-49af-f74a-e547f65bcc0e"
   },
   "outputs": [
    {
     "data": {
      "text/plain": [
       "3"
      ]
     },
     "execution_count": 26,
     "metadata": {},
     "output_type": "execute_result"
    }
   ],
   "source": [
    "# Space matters.\n",
    "def add(x, y):\n",
    "   z = x + y\n",
    "   return z\n",
    "\n",
    "add(1, 2)"
   ]
  },
  {
   "cell_type": "markdown",
   "metadata": {
    "id": "9YmTiBXbOmtT"
   },
   "source": [
    "### Your Turn: Create a Function\n",
    "\n",
    "Create a function called `hello_world()` with one parameter `name` that when called will print \"Hello World {name}\".\n",
    " "
   ]
  },
  {
   "cell_type": "code",
   "execution_count": 41,
   "metadata": {
    "ExecuteTime": {
     "end_time": "2022-05-27T20:34:12.807025Z",
     "start_time": "2022-05-27T20:34:12.800101Z"
    },
    "id": "49VcVkFyKUfp"
   },
   "outputs": [
    {
     "name": "stdout",
     "output_type": "stream",
     "text": [
      "hello world nirjal\n"
     ]
    }
   ],
   "source": [
    "def hello_world(name):\n",
    "    print(f\"hello world\",name)\n",
    "\n",
    "hello_world(\"nirjal\")"
   ]
  },
  {
   "cell_type": "markdown",
   "metadata": {
    "id": "46MH3ZRehSip"
   },
   "source": [
    "## Comparisons\n",
    "\n"
   ]
  },
  {
   "cell_type": "markdown",
   "metadata": {
    "id": "Eujy5VY_t2M1"
   },
   "source": [
    "Comparisons are powerful tools to understand how values are alike or different from each other. "
   ]
  },
  {
   "cell_type": "markdown",
   "metadata": {
    "id": "RyDf9WHbgplF"
   },
   "source": [
    "| Operation       | Description                                                                                     |\n",
    "|:--------------- |:----------------------------------------------------------------------------------------------- |\n",
    "| `a == b`        | `True` if a equals b                                                                            |\n",
    "| `a != b`        | `True` if a is not equal to b                                                                   |\n",
    "| `a <= b, a < b` | `True` if a is less than (less than or equal) to b                                              |\n",
    "| `a >= b, a > b` | `True` if a is greater than (greater than or equal) to b                                        |\n",
    "| `a is b`        | `True` if a and b references the same object                                              |\n",
    "| `a is not b`    | `True` if a and b references different objects                                          |"
   ]
  },
  {
   "cell_type": "code",
   "execution_count": 42,
   "metadata": {
    "ExecuteTime": {
     "end_time": "2022-05-27T20:34:50.453842Z",
     "start_time": "2022-05-27T20:34:50.444877Z"
    },
    "colab": {
     "base_uri": "https://localhost:8080/"
    },
    "id": "-f3o9SiitqBH",
    "outputId": "4c2cd824-d18a-4721-d8d8-edb40a753c40"
   },
   "outputs": [
    {
     "name": "stdout",
     "output_type": "stream",
     "text": [
      "False\n",
      "True\n",
      "True\n",
      "False\n",
      "True\n"
     ]
    }
   ],
   "source": [
    "# Equal to\n",
    "print(3 == 2)\t\t\n",
    "\n",
    "# Not equal to\n",
    "print(3 != 2)\t\t\n",
    "\n",
    "# Greater than\n",
    "print(3 > 2)\n",
    "\n",
    "# Less than\n",
    "print(3 < 2)\n",
    "\n",
    "# Greater than or equal to\n",
    "print(3 >= 2)"
   ]
  },
  {
   "cell_type": "markdown",
   "metadata": {
    "id": "h4B-8vVcvK6i"
   },
   "source": [
    "We can combine comparisons using `and`, `or`, and `not` operators. "
   ]
  },
  {
   "cell_type": "markdown",
   "metadata": {
    "id": "owvpJOUGtztE"
   },
   "source": [
    "| Operation       | Description                                                                                     |\n",
    "|:--------------- |:----------------------------------------------------------------------------------------------- |\n",
    "| `a and b`         | `True` if both a and b are `True`                |\n",
    "| `a or b`         | `True` if either a or b is `True`|\n",
    "| `not(a)` | `True` if `a` is `False`, e.g. reverse the value  |"
   ]
  },
  {
   "cell_type": "code",
   "execution_count": 43,
   "metadata": {
    "ExecuteTime": {
     "end_time": "2022-05-27T20:35:49.921039Z",
     "start_time": "2022-05-27T20:35:49.913191Z"
    },
    "colab": {
     "base_uri": "https://localhost:8080/"
    },
    "id": "IGUfo2RmuWA2",
    "outputId": "c27554d9-0db8-42a6-df54-029427967a37"
   },
   "outputs": [
    {
     "name": "stdout",
     "output_type": "stream",
     "text": [
      "True\n",
      "True\n",
      "False\n"
     ]
    }
   ],
   "source": [
    "# And\n",
    "print(3 > 0 and -1 < 0)\n",
    "\n",
    "# Or\n",
    "print(3 > 0 or -1 < 0)\n",
    "\n",
    "# Not\n",
    "print(not(True))"
   ]
  },
  {
   "cell_type": "markdown",
   "metadata": {
    "id": "28rPD7SWK4O_"
   },
   "source": [
    "## Conditionals\n",
    "\n",
    "When making a decision, there are often two or more outcomes being considered. Inside of a block of code, the decision is handled by a conditional `if-else` statement. This statement says `IF x is true THEN do y ELSE do z`. \n",
    "\n"
   ]
  },
  {
   "cell_type": "markdown",
   "metadata": {
    "id": "gc1f3kHL4Y3i"
   },
   "source": [
    "![image.png](data:image/png;base64,iVBORw0KGgoAAAANSUhEUgAAAnoAAAELCAYAAABOPCv1AAAgAElEQVR4Ae29vc4s21muzfnsnCPgDAiRkBASR4CWxAkQgLMdEECwki9w+mkFmwgJIWEJkVtbthwRIOTMNrBlr7l1Tbjmvv3MUdXV79vdb//cQ2qPqjGev3FVdY17Vc85/Tuf2kqgBEqgBEqgBEpgQeCv/+4/P/H52b99/2WW43/48a+/nJ86wPYX//GbU2advxKB37lS3IYtgRIogRIogRJ4AwGE0Z/98N8//eFf/erLZ4qtN4R9k8vv/fkvP/FR6CHYHDsi9qgbe9bT9jEEKvQ+hnuzlkAJlEAJlMBXBBRGiqnsmbtlQ9yRH8FpU+gxlm/pqG1Vn+tZzRmz/XUJVOhdl2+jl0AJlEAJlMAhAooixBXHCCk+CK6PEErWc+ptHG/2rHm10BSEq/mOXZdAhd51+TZ6CZRACZRACZwkoKhCMPkz6Z6T4o83awixlRBEgDmePwdv/eSKrfGMPwWcMY2hD3bWYU4EHseeux7HycWH+SkGtSGPx9Y2bY3bfk2gQm/NpaMlUAIlUAIlcDMCiJgpqraSI4ywnZ8pqDLmtFWokQPhpG3aOZa2OXaqDvyIh48NAZk5PE4bbPVd5Tj1htFc7f+LQIVe74QSKIESKIES+EACihpEz6mWQgkRhEhLf+ZpjCui6LFhDJHEeYpCxRRiC/+0w5bzGdM85sYXO22xN27mws782BInxz4nCt+0NVfWpH37bQIVettsOlMCJVACJVACVyegIELwnGoroYaPYgkxREtR5Bjj5lJ8IbQQTnwUb+mfNRkzx4y3ess2a9qyddyayK9vxs1aU1Bi37ZNoEJvm01nSqAESqAESuDqBFZCZyvpSpRhqzBS1BkzhdI5dvqn+HIsYzqWdtY+a8WPsWm7iqGv6yHmSmiaq/02gQq9bTadKYESKIESKIGrE1gJnVXSvTdaU+itRBVvwRRQvr3byr0aX8Wcea07a3Vsy3bG1Rf7bKuacr7HawIVemsuHS2BEiiBEiiBmxBQwExhM5P7Rguxlj9dKowYt61Elf6ZRztqsKUgzDdq2jqWdlkPccyFiKOlrf7mm3Gnr3ZTEDrefp9Ahd4+n86WQAmUQAmUwFUJKGwQalMEkVgRlYKOY9sUQGmnL7YKSsUXY9M37VJQrmJadwpHazJXCsgp6DJXxlj5YrvyN1/7bQIVettsOlMCJVACJVACNyGguEFcIWg4XwkbhZk2ea6o2xJg5qC3OUZejolnXnrbKqZj+mZcY2BjW+XCl08K15VvCk3jtT9GoELvGKdalUAJlEAJlMBVCaQQUgAhelIsIeYUd9pwrsijQOOk8GJ8JaAYz3gcK6rSfytm+lIPjVqsLQUcc8Zx3nyfHXd8FZWsoe08AhV65/GqdQmUQAmUQAlclQCihk+Kt5kQAbVns/JlbDVObOKlKFvZrcb0pZZse7mYwz7zHfHdyp++Pf6aQIXe10w6UgIlUAIlUAIlUAJPQaBC7ykuYxdRAiVQAiVQAiVQAl8TqND7mklHSqAESqAESqAESuApCFToPcVl7CJKoARKoARKoARK4GsCFXpfM+lICZRACZRACZRACTwFgQq9p7iMXUQJlEAJlEAJlEAJfE2gQu9rJh0pgRIogRIogRIogacgUKH3FJexiyiBEiiBEiiBEiiBrwlU6H3NpCMlUAIlUAIlUAIl8BQEKvSe4jJ2ESVQAiVQAiVQAiXwNYEKva+ZdKQESqAESqAESqAEnoJAhd5TXMYuogRKoARKoARKoAS+JlCh9zWTjpRACZRACZRACZTAUxCo0HuKy9hFlEAJlEAJlEAJlMDXBCr0vmbSkRIogRIogRIogRJ4CgIVek9xGbuIEiiBEiiBEiiBEviaQIXe10w6UgIlUAIlUAIlcCECv/zVLz795Gc/vVC0t4X5+c//9dNf/uAHH17H26p/n1eF3vv41bsESqAESuCJCCBKvvnmm8+i4ImW9aFLQWDB9CPbP/7oR5/+6I//5BPX99Vahd6rXfGutwRKoASuROBn//b9lSLfLux33333WZS8qii4BmlEFp9btW+//farfFxXBOelGsKVt4SP0Cr0HuEqtcYSKIESuHMCiLzf+/NffvqzH/77p0cVfL7NQygcEXqrnyO33hhtjedlxeZozL14e3Pmw2YlVBhbjeOnzyr+qTnzZo/PKlbaeAyXI7a+uZv2iDyuK+1I3i0G+PsfA0fiWP9H9hV6H0m/uUugBErgSQj8w49//VnoIfYeVfAhBHhTg0hA6M23UIgFNnk3emy05zIyvhKI2m8JFcYVlzNmChdvFcesj/jURt3UYwzn9cv6scla8WXecY6tlz7nsCGnLWtnDlubLOltq1w5j91qTTOv8exnjdgTl/r1zVpzjcaAWTKkDnz4IP5mDmzvvVXo3fsVan0lUAIl8AAEptB7NMGHIEAMsNErDKZQYlNno2fTx56N3zEuEfaKCy8ZsbBJYeScPTH5GNPznCcnDZsZT3t6aqAu7LHLZq3WTyya62Cc45nD+IyzHnLIhnURl3PmsHGO2MzDhDmasbMG4s9azema8F+t6XPQ//4fbPTjOHNSA3PU4xoZy+tC3YwlB3yoTTtiem78rOEejyv07vGqtKYSKIESeDACW0IvBR8299rY3NnUbW7mniNQFAuO0SssOEZAYDOFDrG2RAECgnl8bRmTMeJhQw3MUWs25mYORYt5t+onzlw7Y8RT3Kxymh8b5rfajD3Xhp+1JbfVmsgFX9e0ypl1O6+f62GcGMTKMXwnW32pkbaq1Tz32lfo3euVaV0l8EIEvv/+N58QAX/9d//5uc+l8+e9/vCvfrX88OfBshGHsS37X/zHb9L8c74t2ylKON+ype5s59RMTVtxGZ81761v/tk46tqKfY31Ker2+skquX3UsaKIHgHAB0GSIkAbN3xrTWExxQPnOa9P9ooohB45EBpTLGJPHD5TVCkus1bsrZca8nzWn/7M4UcOculLTVvrMA/5tf+c8L//JzluiST8cs1ZU8aaojHnON6Kb/1pP21dB+PZWBdrt3F+Smxqey99hd69XInWUQIvSAARw8afwmCKt3NEE0JvS9isRNOthRA1zPW9mtCbAvMebnvECJv3/KSoWokMBQkiwZbCZiUwtKPX37wICnym2MCWcezmnAKFWNmmIFnVj73+s4Yp2szP+uacYoj6sz7XJx9rmrXiQ37trGnakZs6tto5ftPWNczY5ORj2+Lo/D32FXr3eFVaUwm8AAE2fAUeAgjRxRhire3xCCDIvZ6rnus7307ewyrd8OnzMzf0lcjQNwWJflO8rNaqP/0UT2mvCFm9VXMu7TmeAmVVP3aKL/Lv1YAta5pxzYsva6dG47g+xV/m0i9rkONqTcRMMZj+HuNHfdn0Yy7bzLFaF/WQM323OGbsezuu0Lu3K9J6SuAFCCDmFAP3KgBe4DJcdIlbQo83mPMn5Ysmfmcw36LNMGzubPIIhaNigRj4KQam6Jg5zhWDU5wQjxysIZsCS4GyVT8+rlORlXFWx9oTczbz0tNmvfrOXPIy3jxn3NiKRm2zP8dv2nLOJxvCNcXlHsf0u7fjCr17uyKtpwRehACb/z2+4XkR/Bdf5hR69y7wAKDwWIkHhQWbu4Js2q3EAX6MI74UPHuwscOe2OaiLhpjzHvOfJ5jw7ljzJOT8xQtW/WbAzGDqEGAGcPayZ215ZpzDl+FkUIubcll/ebSh3r1cU2umXMa59jtNfIRmzzGW/kxP9/UaedaOScedsZKP475PEKr0HuEq9QaS6AESuDOCSj0HkHggZJNGuGAMFg1hI5vc9j0OZ4bO/7MZdNvK27acqyYIz4fY5JL4ZI+xGVcX2tUlHCu2NFvq/6cJ2/WoNDLuMxzTs008uhDTwz9mHct5qFnPnNlPOaJTayMwzh2fPaa67TOLT9zuA7s5O16WJu1Zs5c87z2aXdPxxV693Q1WksJPDEB3t7d8094T4z+Zkt7tOs7hdsElfN5rN1qDHGAWEgRof1ej/30WcUnhuMKG8/x9+3TzKXNHM/zVQ3ME5N1rWITl7lZO357OYm1Nb81nrVuHRN3Vcu038qxx9AYW5ycv7e+Qu/erkjrKYEnJJB/G/YJl9cllcAXAryt4q3PLRp5Tr3lukUdzXHfBCr07vv6tLoSeAoC/g1b/uJFWwk8GwHf8CC8EHpbb4suvW5E3q1E5aVrb7zbEajQux3rZiqBlyXAn9vib9k+2k97L3vBuvCzCCC4/HNhR342PCv4hjFikpyP8ufENpbR4RsQqNC7AeSmKIFXJsCfzUPk8W/ltZXAsxK41Vu85PcROTN/jx+DQIXeY1ynVlkCD0ugP9s+7KVr4SVQAk9AoELvCS5il1AC90yAP5fHGz0EX1sJlEAJlMBtCVTo3ZZ3s5XAyxHgz+XxZ/T6jyO/3KV/mgXzZ/D6Z+Ge5nKeXAjXmmvOh3865mi71/ukQu/oFaxdCZRACZTAyxHg32XjLz2cs+HfI6T+eb5jV8V/m5B+698HXEW65/ukQm91xTpWAiVQAiVQAvH/scpGfo2GoLj2P5HC3wTmbdOlGvU+uvDdYgGnt1wPePAfBNe6T7bqPTJeoXeEUm1KoARKoATulgBCZr6xmucWvxrf25wRYvzbeNlWMVZj+DCe8dOOcWKTI8fNxdjWP9di3JWf/vaKly3brXH9s1fQTOYZI9eLb84ZazWm7daa9Z09sbbipS02s7Y579vbVbw93637BJ9VLPNOjo5fsq/QuyTNxiqBEviKAH82r38R4yssHbgAAUQHQonNmY9vYth0OZ8brJux4+mv4CKGcSgRkZRvw5jLc2zYzBUILosc2FobPmzqnGNvLc7TM0abvtSW4ifj4jfrsYZcn3lybVmD69d31ZPHOPbU5brotXEtb+U117yqJ/PJgbFs1EMtfKzZ6592yUI7hV1ylBPrSpbk4WNjzjjW5hx9xmQ+Y6XdJY4r9C5BsTFKoAQ2Cfi3bvuPJW8i6sQbCLBRskGyQbNxe85G73Fu6By7SZNOGzZYNnRFQ9pgN8/ZzOembCyFAX7Y4cscuRUSjNkcYz5rVTRQEzE9x08f47peY86eeTjRZw7W4NqsT54zhufYWQvHxrMm5jjOXIwd5YUtvnPN5s8eO+onNsd88E++2HNuDdplHI9lgH2uzWtLnqP3iTy2rpExsSOX59R3jVahdw2qjVkCJfCFQIXeFxQ9uCABN3lDskkqaNw46W1uvoqT6Y8dNsbg3JjGwXclhoyduTIO4/qm6EGA8MlmrCkatWPe4/TbOnZNrhu7FR/Gqe1UbLgRMxt+rFdOzrnmac85cWyeb61Zu+ypc9Y6r5fn0y7j5PEq5lvuE9azl3PGtE76a7QKvWtQbcwSKIEvBCr0vqDowYUIKFTYGPkoFNxcFRgKD85ToKR/lmQcxzhHwCiStjbkKRDmOfGsiZi2rMkxfH17RJ1TRFk7caxL31W/Em+rMXyJKcNVLNcvV21W62VOe/ps0/7UmtM34846ZOy4rGb+Gc/zeT22/OGErY3zvE/0W10j56iJj7H2uJvnrX2F3lvJ1a8ESuAQgQq9Q5hqdAYBxQ+bKx82STZMmxu+Y9jPjTnP9ZsCZAoi4uWGrl8KhJlbGzZ1fNnoaby9yvMcY5wPcalhChXFAfNzznz2iijP6Y2bYxzP9c95RUq+eVutQ78jvPQ/tWZj0hs362B8Mp7XL2PMY+vw+pgHVrNNTqs8W9cIW9dKTyxsr9kq9K5Jt7FLoAQ+Vej1Jrg0ATdaRBWfVXMDnZs/tvqnnxt9brrYsTHbVhu64keBMM/Tl43derVLseIYvXb6z5556kGIbNkyTk7i2RzLdTq3JQCdxwcm2ax5JTjP5bW1jszHMXUkS+cdl+m8ftqtetehLzZvvU+Mz3rmNTImc0fXa7y39hV6byVXvxIogUMEKvQOYarRGQTcLPdcsGHjX4mNlT92KYrYhDknhg0/7LIxlqJDwZDiChGEiMLWRtz5tmglSrVf9atcaef8FGErQbdlm/FW61+tQ5+V/eR17pqJTU6YpyhjPPOtrp91rfrVOojHJ9uR+yTt5UpPW8VM+2scV+hdg2pjlkAJfCHAP63C/9dt/y/QviDpwTsJuNHTs6Gz4XOcgkaBl+LNtG7q2OPPORtwigc36IzpJo0P4+aYYkAhpR3zjs0aqD0FC3bYWxs99dFco2tWdKS/8elzDfjwMQ55mGeMftaXcTymLnKan3HG+Kyac9if4oXtas2ruMSzXvlRF2OyIBbXk/5Is9a0fct9cuoaMU9d9HLUJ3Nf8rhC75I0G6sESqAESuAmBBQ5bJp82Kjd5CnADZXx2dhgGdeXWIodbfFHOGTTBj/msOGDfzZza4fYIB/jNsaIYQ3URJvj5mFurpk5atpqc53aMp6xMsdWLMZzXXLd8z3Ka2/NW/VkbBhSD3Fs1ipXx7f61TomvyP3SXL1+svd3NOG2vPe1e5SfYXepUg2TgmUQAmUwE0JsBGziW5tkqc2eYTBlu/eQubGvbIlbgqPlQ1jxFrVie/K3zWv5rZyYLtaJ7FW41txGJ/rWtU+/Y/wwmdrzTNenlPPVg1b4+lvXkTZVp1b/GYcz8lLrL1rpM25/M1xTl+hdw6t2pZACZRACZRACTwVgXPf/j3a4iv0Hu2Ktd4SeEAC/fN5D3jRWnIJPDkB307y0yk/pz5rq9B71ivbdZXAnRDo37q9kwvRMkqgBH6LgG/yEHpHf+b9rQAPclKh9yAXqmWWwKMSqNB71CvXukvg+Qk8s8Dz6lXoSaJ9CZTAVQhU6F0Fa4OWQAmUwCECFXqHMNWoBErgrQQq9N5Krn4lUAIl8H4CFXrvZ9gIJVACOwQq9HbgdKoESqAErkygQu/KgBu+BF6dQIXeq98BXX8JlMBHEqjQ+0j6zV0CL0CgQu8FLnKXWAIlcLcEKvTu9tK0sBJ4DgLff/+bTz/7t++fYzFdRQmUQAk8GIEKvQe7YC23BEqgBEqgBEqgBI4SqNA7Sqp2JVACJVACJVACJfBgBCr0HuyCtdwSKIESKIESKIESOEqgQu8oqdqVQAm8icA//PjXn/7wr371qf9/t2/CV6cSKIESeBeBCr134atzCZTAKQL9W7enCHW+BEqgBK5HoELvemwbuQRK4NOnTxV6vQ1KoARK4OMIVOh9HPtmLoGXIFCh9xKXuYssgRK4UwIVend6YVpWCTwLgQq9Z7mSXUcJlMAjEqjQe8Sr1ppL4IEIVOg90MVqqSVQAk9HoELv6S5pF1QC90WgQu++rkerKYESeC0CFXqvdb272hK4OQH+WRX+iRX+r9DaSqAESqAEbkugQu+2vJutBEqgBEqgBEqgBG5GoELvZqibqARKoARKoARKoARuS6BC77a8m60ESqAESqAESqAEbkagQu9mqJuoBEqgBEqgBEqgBG5LoELvtrybrQRKoARKoARKoARuRqBC72aom6gESqAESqAESqAEbkugQu+2vJutBEqgBEqgBEqgBG5GoELvZqibqARKoARKoARKoARuS6BC77a8m60ESqAESqAESqAEbkagQu9mqJuoBEqgBEqgBEqgBG5LoELvtrybrQRKoARKoARKoARuRqBC72aom6gESqAESqAESqAEbkugQu+2vJutBEqgBEqgBEqgBG5GoELvZqibqARKoARKoARKoARuS6BC77a8m60ESqAESqAESqAEbkagQu9mqJuoBEqgBEqgBEqgBG5LoELvtrybrQRKoARKoARKoARuRqBC72aom6gESqAESqAESqAEbkugQu+2vJutBEqgBEqgBEqgBG5GoELvZqibqARKoARKoARKoARuS6BC77a8m60ESqAESqAESqAEbkagQu9mqJuoBEqgBEqgBEqgBG5LoELvtrybrQRKoARKoARKoARuRqBC72aom6gESqAESqAESqAEbkugQu+2vJutBEqgBEqgBEqgBG5GoELvZqib6JEJfPfdd5/+6I//5Lc+jLWVQAmUQAmUwD0TqNC756vT2i5O4B9/9KMvYu1o8G+++eaLz7fffvuJD2OvJvR+9m/ff/q9P//l588euz/74b9/tvmHH/96z+xdc3/9d//5OQd9WwmUQAmUwDaBCr1tNp15QgLnCj1EHW/yEHav3hBuCD2E3F77w7/61WERpu25olChd6qWvTo7VwIlUAKvQKBC7xWuctf4ZgL+XPuTn/30zTGexVFxdcm3aL4h5G1hWwmUQAmUwOUJVOhdnmkjPgkBxJ1C70mW9K5lXPon2aM/Bb+r6DqXQAmUwIsTqNB78Rvg2Zf/lz/4wRexpmij5yfcVVv9pYv08/jnP//XlfvZY74l880WYmrv7Rb2/tyJD8dbP3umMJt+e2/liJc5iOPPtuTMfCnWXAM9PquWcdJ+Hk8GWU/arnLk2Dl8jfuL//jNp+mXa874eZx/LOCXv/pFTvW4BEqgBD6MQIXeh6Fv4lsQQLj5Fyj883aItS2hxmatvX8Jg94x+kv8JQyEjOKFHmGhMENwTKEDq5zHPsUIx7MZX78jPhkTvzxXCGUe6jQufeZKO4/TXlvzZBzt7XNOP9a31RBrrv8IX+pifdjql+th7pTY8z8C6C9xj2ytreMlUAIlcA6BCr1zaNX2oQkg7tyMjyzEt4HX2LRTTGQtiAtEBWImW44jYmz5hizHmVeYzVj6UEM2x/GbQtN6p0/6c2yd9KfaObYZyzrnutLGemcd5pzrMCZr3/KZ45mPY+4T76++0Zt0el4CJfBRBCr0Pop8896cgD+tHf0btG7aWz/zvnUBio0toaJAM75vmxifYg4b4jCHWLHpMwWN8+bIeFviCJ9TNRvXGFmLc7M/xzZ9rWVLeDl/au0pZvVZXRNF4Fa8rK3HJVACJXBvBCr07u2KtJ6rEfCNC2/qjjSF3tbPvEdirGyOCJwUYIqQU8Im5xUnK+FCbIWe9Z0ShqdqMI5xU0Q5N/tzbNN3JWxz/hTf1fze+vZYZt4el0AJlMA9EqjQu8er0pquQuCcn2LP/Zn3aMEKKkTO0XZK2KxEymrMfNaQb6hOiZmVODKevXGPrO0cW+PbWwsxVk0BuZpjTH/WbNtjvMdS//YlUAIlcK8EKvTu9cq0rosT8A3dkZ9iz/2Z92ixCpwUWad8FS5bwmYlUlZj5lmJulNi5lQNxF7FNefsz7FN39XbyJw/wne1ltWYcU+x0a59CZRACdwjgQq9e7wqrekqBBR6R36KPfdn3qMFHxEiM9aeCMF2Ne9bq5U4XAmX1Zh1WDN59tpejOl3jm36KhC3hLK1bs2v/PXZWt+eaM7aelwCJVAC90igQu8er0prujiBc3+KPedn3nOKPSUqFGgIEtue0FAwYZNN8ZdjHq/iKYBmHHz25oxJby30p9o5thnrSC1H1p41noppPK5dWwmUQAk8GoEKvUe7Yq33TQTO/SnWt39HfuY9tyDFXIoNYih+5tsox6cIU6AgRFKEKCZnHOs0/8pnFUv7Wa/x7LWjrlNta01H/fZqUchOG3NOLo5Pe2qRJVz2mvcX903/aZU9Up0rgRK4NYEKvVsTb76bEOANXv4jx/7jx2zEOb71M65C7xqbdooHRAkCQ5FEnwJMWDmPvWIGATKFlQJwCkNj4cMn/2Yvcwoe5mYOx4yhPXZ+jOu5ffp4vGIgC23oWYtx6OWgrXPps4qt34ovMVbrMz9z+O017xf6a/y7i3u5O1cCJVACewQq9PbodO5hCfhn7HIDXh2vhN4t/j9uESMp1hASCI69piBJQbUShdqt4ikCt4SLvoobzh2bgtI69vpVDa6ReNSR/jNHMkq7PF6tZfLFfqsWa5i5qdO1b/m6lrzfrvEfB+ZpXwIlUALnEqjQO5dY7UugBEqgBEqgBErgQQhU6D3IhWqZJVACJVACJVACJXAugQq9c4nVvgRKoARKoARKoAQehECF3oNcqJZZAiVQAiVQAiVQAucSqNA7l1jtS6AESqAESqAESuBBCFToPciFapklUAIlUAIlUAIlcC6BCr1zidW+BEqgBEqgBEqgBB6EQIXeg1yollkCJVACJVACJVAC5xKo0DuXWO1LoARKoARKoARK4EEIVOg9yIVqmSVQAiVQAiVQAiVwLoEKvXOJ1b4ESqAESqAESqAEHoRAhd6DXKiWWQIlUAIlUAIlUALnEqjQO5dY7UugBEqgBEqgBErgQQhU6D3IhWqZJVACJVACJVACJXAugQq9c4nVvgRKoARKoARKoAQehECF3oNcqJZZAiVQAiVQAiVQAucSqNA7l1jtS6AESqAESqAESuBBCHyY0Pv5z//10//5228+fx6E1Vdl/vp//69Pv/zVL74a70AJlEAJfDSB/+/H//+nv/jnv/lEz/O2rQRK4DUJHBJ6CLJ//5//46Ki7Boxb3kJH73+W7JqrtsT+IO//dNPv/vD3//09//yT1dLjoggB0Li1RpcWTuc77V5D1AnH65XBd+9Xq3WVQLXI3CW0OMN1qXaLYQSDzUE6nvqxpcYs92i/pmz5yVwlICb+zU3doXEKwo91qx4OnpNbm3Hrw0/+dlPPwtxrxU1M9ZWAiXwOgQOCT2EznsF00R6jZgzh2LsrT+v4medMzbnb427itWxErgUAcSdQu9SMVdxFA+vKBwe8W2m4pTr1mfX6o7u2L0Q4I0537Fr/iJxrbXyPbu3t+cnhZ5vtBA8Nh4SiCjmPGaesdUDBDtFlzZbAor5tMU3m/OMbdmx0TlnXZzn241Zk/Gwo815xp1zzZ5/dvjv/9HOvJlTO20451jbuVbt278uAR4aCirEG8eMzeZPiQq8rX51P/JQOpKDnFtxc3xVH76KI23JOetxHbMmH/z6buVY8VptFohTYllD1sbYSrwmI+uYPXHuubnOe6/znhk+cm1cd+7jvc89rM/v2tb3/B5q3KrBZ8J8tm3Z32L8sNBLUYWRN3cAACAASURBVIMgUZzQ5yftWIBCJm3yOBe5ZSswBJa+K1tFpjazd37l6xi965v+nNNy3vqztuln/dimnTnT3hqN2/41CXAf+LDjwcED2k3a8ySDMNFGP3rH6OdD81SOlX3Go46Zg/l5D3P/z5ryPO3J6YOSWNplLufzewWLtLVObafYM48+9DNf1kV8fGZcz+1XAjGv00cff//9b77w5bjttQh4v/u9mD3z99Cs696/T5OV/6F6Lxyt76TQU4zQ2xxDoHDMAzHFjw9IHsSKmJXdKqZ25NKX2LTMwRzxM4d25CdO1mdNGYPjtMU+Y2R+/akjY38uLMasK+PmOjO/tqs1GLf9axJAOPCwo8/GveJDkONV03cKtWmr3V6O6eO5Qmn6Op+9m8u0XeV3zNpXD07jpXjTbz5grXNrHJYZh7qNbw25Fo7zGsy5RziX1aNtoo/A9t5rZF/yk/e5Y/dQP/elz7h7qOecGnze8B27p3ZS6KXYsXDHUsCkWOGmoa0EEeP6K6pS/OhLP+2Mx7h2q3hbYzm+VbubZ9aEX7ZZV9pmXTmu/zlr0Kf96xHwITxFCCR4mPAgyXstCe35pt3esQ/aLTGgWNgSQ8bWbvXgUzBRr83azavQS39tZKNNxjEevfZ+txmzrlX9px7Wp/Jl7ns8dn3yu8caW9N1CfDs8Due3wuyMsf3g/vDY75D3i/M5fcRH2IwNr9P+DOGPx9sGNtr3p/m1HfGJgZjjhMbW8+Zp2bHzc08xzaeNZyzhmmvTfZpYz7XRBy4Wtde7Rnz2se7Qo/iFTV5MziGkLGtRM3KDnvHjZnih+N5bg7H6W1Zo7CJaw7t6Fc1bo1rm7mMZWzXv6prK+7KdrUGc7V/TQI+MHhQeF8fJbH1AN/y98FHTj/G2PKhLh9oWzaMa6dwS1vWNfPMc2qbebSRi6ywXbVVDY65eaXfqXjWhN0jNutfrf0R19OazyfAted7xPdgNuf8Hvh9Y1/le+x5+nlP5XcCe79n9HmcvvPYvNqbjz6/4z4/MnbaWFP6G5PeZj77tM/1YL+yyVjGX9l95PdtV+gpdhA2ttUYc1PApNjygYxdjhtTXwUUPWMKKe2cz/FVPasxYpwaJ6fNmnJsK8aWrePJ7+garKP9axLgO+NDwwcPD49TDwu+X9qfIrd6EOpLnw+wGcvaVgJO29wUMu7qGB9rz7w+MH3Ar2xW8VZjWavz+Wyy7pnTcftT89rda+91P3Uv3Wv9rev9BLwH8rtmVO9vviMcc594r2z5+Tzwe0osx4hBU5gRd/W9M79+2JEXW2vKepnze8w4ubX3OcE848RIe2vKOtN2tU7Hsi7jzvVRj7VYe+Z0rbfqd4WeQiXFjmIpxyh22mqHsMmLOu3wVfwwl7YJgQunXY6v4q3GskbiZFvZm4t1ZHNd+Ni0zTHmZtxz1mDs9q9NgIeFDwofansPDB9m+UBcEdSOmDOeD7Q5bhy+o9bi2Ko3B7UQa+tDPpr2mRdfcinStHF9WctWfMetUQFqDMftZ07H7Z2nlkdsXt9Hrf8Rmd9bzXwnVt996vT+Xn0/tvz08XvqPZYx/O6Sd6vl99nnArb6ZjxrId7UDc7RZ7NOY2e+tF3VP30zbtZIPfnd2qpl+l/z/GyhN8WLxSl2FEYKIsa9CDmWomgrprHp0zfHV76zFu21Zd6WY9ZOvcZAnGXTnt62Gst6jZFj+tKv/HO+xyUAAe6jUw8bH1D50FrR24vjg8mH4fRfPXSnDefanapFX2vPvDw0c2PQxpj5oDbOqX7GmPYz59a83+s5f+/nrj83o3uvufVdloDf/9U94P2/mlv58T3Qxyq1o+e76jl2+f3W3t5nBvbZVuPG9FmQ9s7NNTiuIDUudalTiENMxoyt3awrc/q9mjbmnLWk77WPd4WeYkcBRDGrMS6041mwYwgZxYxjGTMFkLbaC99z+myreGnLsblWefSnN1euE/+Mob0xsd2Li6+NY/xzLHNlTH3avx4BH5orITEfQJPOqXnt93L4YNp6IB956JHHDWA++Kxh9tZu3pX/tCGG9frwnnHnuQ9k8+T8qbd9KSzzeZEx7v3Y9X/kxnPvjJ65vr172Puf58Ns6ZfPJu+n/J77nfQ5wznf3VP3nLGwzeb3PsfNMWP63CB3fkcdzzq38hmbeZp26Zv1cWyN+jC2xWz6Xvt8U+hRoKJGWDmWFzqFThac4wocxY4xtXfcnNo773iKIWpwPOOt8hpn5klbbehXdlvrX9lTV9aKjbXm+NYaspYevxaB+ZBx9dx/zs2HmzY+kPKB6Fz2W3F8WPGQ3BJO5GZ+76FnLvPkw4857nvmMoa25jVPrkWbXL81ZyzzM8d4Pq+0nzXhc4Sfm5d1mutReteYDB+l9tb5fgJ+r1bfF++N1dyWH7Z8J/ye8pzyO4JP7s2nqve7aSztzeF3lu+zObSxt07mM7exc22OGdcYxvY7rl36amtvjeS3Wcuen7bX7DeFHkmBlKC2xhzfKjSFzRFb7GfeLb9VjdZBnHzAO85Y1rTKha12Ob+XDx/iZmxz2mesHFuNO9/+tQjkQ4wHBA8ZHzQ8gDjeajyYfEjpa58+PtCNl/H19yGXfh4TEztj48/xbKu16It/PmDNawxrTBt95/fFcXpqyfVwnE3b1frMOX3Sf8b2fNaUPvd07BpzQ7qn+lrLdQl4/Vf3uPfyam4lWow1v8t+x5g/p+mX+TOH3zHHsJ/NOqlJ+3wuZmzz5XchbY29lw+bfM6Zk3H9Mqcxb9nvCr1bFtJcJVAC/48ADw4eDoofeh5KPDhONR5aPsD0X/n5ENKGfPnAyoffzIndzLH1MFutBdsUWuYlps31W/vKRlt67V3PihcPYefT12PXZE7HZ7/KlQ/4aX9P5173vet7T/W2lssS2LvHnVvdG4z53eH+9zugD99Pm3PYa0uP7VbL72b6mTO/k8anXzVrMjcxHHNtmS+/u34/sta0Zdy42sjGc2uyzqzduVv2FXq3pN1cJVACJfDBBNzI3PA+uJymvzEBxAjCZ17/FDMp2rI8hYvCif9YI94UOPikrWKNsa2mWOL+nL5TKLmGOW5s73HzZkxFnflm7eaetbpWY9Jrs+VjnZO1dd6qr9C7FenmKYESKIE7IOAm+NGbzx2geMkSEDqKnQlgb05bBM/Re4d42Obbe+Os+qwLsbmXJ21XsRib/tNnnhtna5x51z9t5jm2jK3GzXOrvkLvVqSbpwRKoATugECF3h1chJZQAjckUKF3Q9hNVQIlUAIfTaBC76OvQPOXwG0JVOjdlnezlUAJlMCHEqjQ+1D8TV4CNydQoXdz5E1YAiVQAh9HoELv49g3cwl8BIEKvY+g3pwlUAIl8EEEKvQ+CHzTlsAHEajQ+yDwTVsCJVACH0GgQu8jqDdnCXwcgQq9j2PfzCVQAiVwcwIVejdH3oQl8KEEKvQ+FH+Tl0AJlMBtCVTo3ZZ3s5XARxOo0PvoK9D8JVACJXBDAhV6N4TdVCVwBwQq9O7gIrSEEiiBErgVgQq9W5FunhK4DwIVevdxHR66Cv6var7//jcPvYYWXwKvQqBC71WudNdZAv9FoEKvd8KbCSDw/s/ffvPp3//n//j06//9v94cp44lUAK3I1ChdzvWzVQC90CgQu8ersKD1cD/SbMCD5FXofdgF7DlvjSBCr2Xvvxd/AsS+Cz02Li3PjL5xx/96NNf/uAHnl6s560QcX/ys59eLOYM9N13312l9pnn2c9XAq9C79mvetf3bAQq9J7tinY9JbBP4HcQcH/0x3+y+VHcffvtt1cRS+ZHRFyrsQbXca0czxyXP3833+Ap8Oz70+0z3wFd2zMRqNB7pqvZtZTAaQK/wxs1xBYf3nwh+ugd800bQgmxd+l2i7dt33zzzec1Xbr2W8WD0TXYH6kfAaeYO7ef4n1PLE6huJf3HFtyZqOmvXX0L5UkrR4/I4EKvfu4qjyLtj5WePTZzz49n7fGONK/1/9IjmezQROhk7Ya10P9pA3nvng69+UT9twPb2m/9Wf0CILQmzcM5wpAknA+bTI5c3OBOZ/HFK+IORX3SO5pg5Cldi/IVt1b41mrsYmZbW+958ad9uRSqM65rOFax3uCa08wMTfrrdC71lVq3BI4TqBC7zira1myH7EvbX0UAUc2d/ba3J/Prfm9/ufm+0j7uSe9tRaZqStWcbh27N3ZOGccv3NE29QxGfPI8W8Jva2fZ70pWRxFenMq0EwERMacZ1H4bDXsvUHTjxyzUQPxjI39vGgzv0DxAdSWkGWc2DOeNTBH/qyRY1qOkS9jyG0KQ+z0nzGo1fVbl2umP+fmsP739tS/J9IQdfMt23tz1v99BP7gb//00+/+8Pc//f2//NP7Au14/8U//83nHAiHV2twhS+cH61V6H38FeOZyv7Ax32J3jH2TfYSnvmM7TXs8M29Z89+zr3Xf8a713P1yyXq85rtMfdamo9zrueeJsKW2KkPGNN3agljn+p/S+hNAaIziRE7zHtDudAsmnk+jFGQ58aZPXYs3Lje/FPQmIteG+vJmOYDijcvdnxowsqasWOe2Ks2azQuNXIx+FCTdhmHY3MbG398qYWmjTUTx7mcx4/PRzbWuSX4KvQ+8sp8nRsRwodrdq2mmHxFoadYQuw+WrP2a/5HwKMx+ch62QPYE+bzfe5X5+wB2PLdnzGPrvMt/uQ7+rzZqov9b2uO2t+TA33Afr0V/1Tu9CMO8fZa2mPHdcZnjmcM1qceSTt1grY551j2k9MXocfEFFg6sqgUJ4x7EypKLIQ4NoWX57P3BqfPhp9jLMiFp42+LthzLpaNOeqmfpprtGbG8CO+cfS1Ny69zbUbl3Fzpd1q/fpaJ/bYbbVVjC3bW43DcQq+Cr1b0T+dh+uj0Dtt/XYLhZ738tsjPZ7nI7/NrNC7r/ttSzSwN7A38f2iZy9b7dFzj3C/1n5vf4HEe/2pjxiZz/3UNSRx6mM9qRW0Mwbn2dg3k0H6kzv3YvzcZ8kxfcmR9ufkJi/2q5xZL0zIQz/5zPz6zTqwk4P50oZaiJ1t5sKPa/FF6AlmOhKEgDhkIyGFeEEtRLDebMTdal5wY2hHLBdonrwpsLNeffGZNTKXsFbnXjhzz94ac9yakhXH5Mr1rmLjy7jNdTDuWpyjX8XI+Y885poo+Cr0rnMl2JQVVP5UyNhs/pSowNvq5/eIOIiWIzmw3Yqb46v6zJN25Jz1uI5ZE+OKK2Js5VjxWr254vtKHGvI2Izld1vWySjXkcfEufcm4y2G917/s9Xn3jnX5Z5Gzz7B/rDaj3KPcH/Rnvs496SZg/P3+PP9xZ+6OCZfxqPmPLe+/H65Jmv23FoZdx8nBx/XNPd0fciTeoB8xKDPfdZcR3PjT9xckzmzJz/5zJUcHEt7j+WDTdqRj7zUSw3JXd8c4xg76/wi9Eygkz0OU8AwR0JBaoMdH4JbkHFWvYXnHIsjBvXQMk/aJcjpox0LnbWTM2NT615b1biqKesh3io348Tjkw1f6uCDn02u3tSO31tPnf3bqpe9KtzTKSwQEClGpqDgvtFGP3rH6OfGfirHyj7jKZRyjGPiZuP+mDXledqTU+FELO0yl/PEzZa21qTtFHvm0Yd+5su6yIPPjOu5fX5/s7Z7OoabPO+prkvX4jWZ1/HSed4Tj2uR+13Gck/I+k/tM8zP/SVjzuO5T53rv9oLqZs4Nm3INedmfnzwxY7G2jkmxqopAuf3bu7bxIRzsjyVm3yr3MaaObM+1+zYKpdz2a/0gb7zuk7bmZO48v4i9KaTyY+A1IY+QRpj1WO3usGNJcStunJR+tBn84JkTfoJb/qk/1aN1EScbMZ1bJWbeILXzp45YjBvva5rbmj6tH9eAmxSbMb02dykmdu6L/SdQi3jcKzdXo7p47lCafo6n71iatqu8jtm7b59IobNeCne9Es77K1zaxyOGQcf41uDee3zGjj2aL1r9Dn7aPUfqdc1co25lj5Xj/jeysZn/LwO7k/sI9nmPqO/a/McP8fSfx5rr63nR/z5HriHUy++7I25h5HPtaz2vtzz8Cdv2nFOjsnHdWjvuX3GYGxyc8xaV7llMXNv5TQ3PRyws7kOOTs++1k38/rOOtL21LX4IvTSKZOvFkWxXmBsvZCAOdqEmDDw9UYxzuoCkT/rNVbmZ+HYEC8b+RhbxU07jo2bgOfa9TGm5+bxnJ6ccMs6c958zq/Yp32Pn5eAm9QUIayYTQths/XQ2PM9SozNkU/e++mrsNoSQ9pqRz+bgol6bdZuXoVe+msjG20yjvHotSefzbpW9TPG2jOnfvSn8qXtvR7nGpLLvdb7lrq87t7L9FzbX/zHb94S7io+W89494J5beY+s9rHjMn+5/doq/j3+Fsjexof8hFvPpfcr5mfjfXoT8+5+x+2q/oyBvZ8srFmYuXasSFWNsb2cssxfThe5Uwbrhlxz1kH/is/xlcMpu2pa/FZ6AkmC7Pw1aIMmiAVVYxxYekBtdWESHyK5sOCJiBzYW/cVU15k+GDjWNZQ85xvNesMW2sJ9dOXdSd69XXtXFOTdgxRmNMXrn+nGcNxsg6evzcBBQibFbcX+c0Nzbvo1O+bH7ky48xtnzdRFdCKX20y++L86xr5pnniq7Mo41cZJU25qBf1eCYYjHtT8WzJuweubkOeHIsz0deU9buNfZ+yZ713sMfN1ntZazB/SPXw/WZ+wz+U8Dggy3j7B971/U9/tRIPcTfy6FQwTafA/i4nq0YW3zkwvqoI1vWJQvy5H7/1tz4rXJm/pVG2OK88pvP7ZXvzJFrpsbZPgs9nWYCjFeLIijj2biAjAGUz8ov7SmeOBaoT14M7c1nbG6cuZgZh3rMYRx617r6cqQdx/jzyWYtOWbMvIlhmTzIh11yY8w1rdY/mc41Zw09fi4CXOu5USEsVsIkV85954aW46vj3Oj1yZ78W83a8p6ftsxlvL1jfK09807RtbLZi5tzWavjq+/UzDnXdWp+2t/z+bwHYM/6bDDDZvXhWmTjfGXH2LxvEVlbtozPhv+W/RRs2nqNt3rWOuuaea99vrVPsu/MPWruM9y77BvsSaumPf2qvdffPXfeB5nL/RKb1ZpY/1xn+q/2YOetP9dHHmLmvi2H/P4T4y253bMzp/XYu2bPrXPrOmk3/Rjf8p22nHMvbF2LLz/dEnDVtsZXtowBcwLdsnWc4o74UMtePUfibF10a3lrv1UX69qCTy78qGlv/cxvxX9rvfV7DAJsRAoLN6zciOcqsMcuxdK04Vw7bGc8NtTVuHG4F63FsVVvDsUDeVYfN3btsx58yeX3QxvXl7WsYueYNRKLmMZw3H7mdNzeeWp59MYaXI/XNPlz7Pjs0w4O3jfTjvPJ2muwsmUsf15FyG3ZMT6vw1zPni9ze8/na15fGLA5r0TDSgDOzV1/ehrzHPOdYE2Kkq31XcqfPOQgL2txPYoP62Oc9XpOzfiyVubwZw4/mzHoXZfznCt0zY3AmwIu82LH52huYlET6yMv8fcEFXGnOMV/rtv1ZU988pHLa7blu5Vj61p8EXqZ8JmP503wzGvt2p6LAF9+NzHF0Vyhm+3chKfdXhw3960cU2zN2J5rd6oW7a0987pJTxtj8tCeNtpu9eYxxrQ7Fc95H8bT/1HOvT6sBxZsKvPtGHyxW33cMF0vvis7xlasyLeyX9kytrIlxmzW7D3u9Zo988T8qKYAmet1c2c+29zcEQYICK+Dwo4xPux1M0bGe68/sRQnMydrID/z2eYYtSuejMF5trmunHcNrpe8zGfemUMmc5wYGXvOUwe+rGGvzTXKaM+HOZnJgfyuj+NsMwdz5tEfG9f6EkIPgHy4UCx+QkuAPS6BjybghjQ3AOpiQ3ZjXtV5al6fvRxukCm49KNnc8Qfu71G/UfsjGHt5l35Txt8rZfv+JGm0DNP+hBjr2aeHbJ75OeI62QtHyl2kv2lj70vvF72jN/Lmrfuoa3xyWjacc7mfvS78F5/6yHfzDlja7vq+a5T95aP61o9ExmbuVc5sNny38u95bfKwdhcA7ojBeSWn+OzlhlvlUNfeuqdPF5C6AFZtT4BJKAel8A9EHCDmkKEL7xzWxuVIgZBtNe24iik2BS3vitHhR75zTPXwgOXOT42bc1rnlyLNrl+a85YxmSO8XzAaz9rwucIPwWDdZrrkfoVx0eq/0itrtHrxXneN0di1KYE3ktg9fbtvTHP9X8JoQeUlSo+F1btS+AWBBAluTkhTBQnjHO81RAf05cNbvooaIyX8fXfEzJuosbGn+PZVmvRlzwptsxrDGtMG33n99lxemrJ9XCcTdvV+sw5fdJ/xvZ81pQ+93RMnbCGwzM3rzN9Bd4zX+n7XBvPF396XT1rbln1ywi9W0JtrhJ4LwEEkgJCAcSGlaJnKwebmpucvis/RY025Ethtrc5Yjdz4L9qq7Vgmw8/8xLT5vqtfWWjLb32rmfFS5GDzaq5JnOubLZyPYrQ47qy/lNr3Fr7o4yzvr17+FHW0TofjwDPAn5FvIe3edCr0Hu8e6gVl0AJlMCbCSCAEHoVQW9GWMcSOEngnv7D72yhx39V82fe8r/GT674oAExLwWHV6bn/AHIgyVe3Iwa+cOXbSVQAiVwCwIVereg3BwlcD8EzhZ6iBJeSV5KkIkCkUdcBNolGgLqWkLvUmt3zRV6l7jijVECJXCEQIXeEUq1KYHnIXC20LvWmzLEE7EvJaKu9ds44uxSApL1XkM0P8/t2ZWUQAlcmkCF3qWJNl4J3DeBs4UeIod/F4aGKDslzC71c+ypOFkLPy8joFZvypjjc6qRb9Vc/9a6j9Rp3HP/fR392pdACZTAWwlU6L2VXP22CLDvsTfmvnlqLzTWap927tI9+3bWeOn49xrvLKEHJH9eRaRwzGf1hou3VbxV04bzvUaMjIO9N85eHGqatfjzcgo6b0TrIXaKNc7JmXWT15uCmFkHcRS8rCv9mOM8W/oTh3lyZoy073EJlEAJXINAhd41qL52TPYz9j33VPbN1T44KennPjvnL33Onsv++2rtLKHnxVMUIaQUVSlsEC/AZE4hdgqu4scLQA4/e3GmDXUQK/NRJ+fUxTHrmPk4JxY2zOvDmM3103tDM3dqvcnI/MSdNZinfQmUQAlci0CF3rXIvm5c9sDcK9kf2YvnPslemI29NLVDzl3jmPyzhnPysM73+J+T65K2Zwk9LshKpXOBvViKoYTBHKJmq618sOeTN4r5HfMcfxtz1MgFsc2bkPEUWebPGxUbznPMfObHRt+99ZIr68HPWFk7420lUAIlcE0CFXrXpPuxsXmRwGfV2Ldy75o2ObcXR7+0Tw3gfPbsj+zL7HfplzZ5jM0RO3yOxsR2FZO1rsazHo6PrGGyPxI385yzlvQ7dXyW0EOsTPFFgrzIaQMYBE2KqlVBAhQKsFaCcgq2KcSITYz0zVhAJBd+uQ7zM59t1j3zY3tqvVux5ZL5elwCJVAC1yZQoXdtwrePzz7DfsXex4djRQd7IvtUzmGfjb2PeXzYH7XFbzb3LvPomzFzb854xnWvnXvskVrJT0xi5JoZ32vWae7pT6xcQ8Y6tQb8ZIwtjTGZzliTazLF59RaMt6R47OEHguYBU5hNYFwvgXPAokpHMaOAJp5jeXFNKexvMG4mOTD3zbzM65ANA5jq/WfWq8X0Fz2+OWaHW9fAiVQAtckUKF3Tbq3j+0ex17DvsXHfYt9zr2GMebY79gPFTxU7D6FLcf40U87fBVn2BBTsZXxtCF21sAxH9rcq9Nur1bXQ48dftb1OfDG/7ge86sFkhnHq5a1cWwM1yA3zo0h04yHH0yp22bt56xF36P9YaFngRSfjeK8GdKGYz5HGpBYrO0IIPMmMPznxczzrXpmfuIY34vm2jKfY+TgeBWf2HyyYZdfhJzrcQmUQAlck0CF3jXp3ja2e0nun1mBe+ncm+b+g/8UIO6B7nmKGmJmY38jnk07/Rif+RjLvdlz7E7Vis20m7GsJXvW6F5MjrnetF0d761hMsF/tffLFEa0FStikeuS7bDQs8C5oHmRKXDrplsVLvCMS8wZw/wC8pzehigjvxeTceJyQRVs2tqv8uuXsM1nfv1PrXd1sVdfKuO1L4ESKIFrEqjQuybd28Z2f5v7klVs7U/sS3PPzX0Tf2MrvNi3ck80x9zj3Cv1W4kZfImXOY/Uyj7Ofp61r2JZW/Zba04NkfZ5vLeGFRN8GZ91cp72MoUVdTg//bKWtxwfFnoWACxg81kJFgunaIoH0F7RAqS3HQGELXbkExK1OWYs42NHzdp6cZ3P/PgSi48Ne24w7IjBh3ZqvXLDj/ycE3dPfJqzfQmUQAlcmkCF3qWJflw89p/cp7IS9zb3upzLPZZ9if1o2s3Y5GFstozF3PRz7yRPtox3tNYjsTKHx6s1soe7F6/WpS/9uXm31kM+Pjbzw58P5/M6aPue/rDQowBECh+L4gLPohKedrmwWazxFE5HARFHX/JQC77WmXmwY956sm5jmF8/bJizzXW57jlOjlzvnOeGwpf4bSVQAiVwawIVercmfr187DW532Qm9hn2I/cq5+Yeqx3j2YirAGIfI1buidjqmznSDxt8Zo0z3ioOvrNWYs2901hZQ64j65xrdG7u99P/yBrSB3t4UZuN48xj3dhynLb6XKo/LPQyIep4BWzaAP5I8dNmnmfceXykFn2oeVX3Kt9qjDj4z/8yYZyxvfVu+Vlb+xIogRK4BYEKvVtQvk0OBNQUUWZmz1kJvSmW5jn+7H8p7Oa5OciNnXviyg4bBaN+Cjv346O1HolljuxXa8x54vLZaufmJd+MB4N5PRB+k81WDe8Zf5PQe0/C+pZACZRACXwcgQq9j2N/6cwICgUZIgvBxZhNAYOQYl77fPuljT70U4gxph05iIdAcUxfo07I0QAADItJREFUBRu9DRtsrY9x6phv5oy1V2u+ETP+KpZz9sbmnPj4sA5qYq2nBNfRNZjPmsjhNSFGimJs4UJuaqAWazPOpfoKvUuRbJwSKIESeAACFXoPcJHOKBGxgIDwg6CwITIUGMwrKpyn3xJP2CM+bIgQbI2DmOFDfhvn088xxq2N3mN9T9VKfmKkSMV3FcuY9rnGXAfx+ChEtZ/90TXox1pkZXwFpTb08KV+66CfXNL+rccVem8lV78SKIESeEACFXoPeNFOlOybKQTGqjG/N7flsxqfQmvapDh0jtwIrCPtLbWeiruqiXp8k3bKn/lz1mA8cmxx18bY59SSvkeOK/SOUKpNCZRACTwJgQq9J7mQXUYJHCRQoXcQVM1KoARK4BkIVOg9w1XsGkrgOIEKveOsalkCJVACD0+gQu/hL2EXUAJnEajQOwtXjUugBErgsQlU6D329Wv1JXAugQq9c4nVvgRKoAQemECF3gNfvJZeAm8gUKH3Bmh1KYESKIFHJVCh96hXrnWXwNsIVOi9jVu9SqAESuAhCVToPeRla9El8GYCFXpvRlfHEiiBEng8AhV6j3fNWnEJvIdAhd576NW3BEqgBB6MQIXeg12wllsC7yRQofdOgHUvgRIogUciUKH3SFertZbA+wlU6L2fYSOUQAmUwMMQqNB7mEvVQkvgIgQq9C6CsUFKoARK4DEIVOg9xnVqlSVwKQIVepci2TglUAIl8AAEKvQe4CK1xBK4IIEKvQvCbKgSeFYCf/C3f/rpd3/4+58QCUfaz3/+r5/0+ft/+acjLp/+4p//5nMO/NquR0DOP/nZT6+XpJFLoATuhkCF3t1cihZSAvdJAKGGyONzVIQpJvDh+FT75a9+8SUHPgjFtssT+P7733wR4By3lUAJPD+BCr3nv8ZdYQm8iwAizLdzR9/o8bZIcXj0zZHi8IgwfNeCXtjZn23L+IVvgi795QhU6L3cJe+CS6AEXpFAvpntG9NXvAO65lclUKH3qle+6y6BEnh6Avw8yxtV35bylvXon5l8ejhdYAm8CIEKvRe50F1mCZTAaxHw53Z/Quf86M/or0Wqqy2B5yZQoffc17erK4ESeFECvMVD3NHzFq9/+eJFb4Qu++UJVOi9/C1QACVQAiVQAiVQAs9KoELvWa9s11UCJVACJVACJfDyBCr0Xv4WKIASKIESKIESKIFnJVCh96xXtusqgRIogRIogRJ4eQIVei9/CxRACZRACZRACZTAsxKo0HvWK9t1lUAJlEAJlEAJvDyBCr2XvwUKoARKoARKoARK4FkJVOg965XtukqgBEqgBEqgBF6eQIXey98CBVACJVACJVACJfCsBCr0nvXKdl0lUAIlUAIlUAIvT6BC7+VvgQIogRIogRIogRJ4VgIVes96ZbuuEiiBEiiBEiiBlydQoffyt8DrAfjHH/3o03fffffpL3/wgy8fzttKoARKoARK4NkIVOg92xXtenYJIPIUeIg7Rd97hV7GNT4941vt22+//VJL+vz85/+65XLzcde1t46bF9WEJVACJVAChwlU6B1GVcNHJ/CTn/30s7BCYF1aTCGE8qNw28uT9vmG8Z44UyNrea8Qvqc1HalFEc49c60mW/pXa34XX+2+erXr3PXeB4EKvfu4Dq3iBgQUU9feWH/5q198eVN3dFnd+I6Suo3dEaH+3kpudT++t85r+CtyK/SuQbcxS+C3CVTo/TaPnj0xgVts3uBTtPFW6Ghz47u2CD1azyvb8RbWe+WaHHxruPfW95r5PzL2K4vcj+Te3K9JoELvNa/7S6w6N2w37lW/EleINTcjfVZ2K5CKtnPeVpjrVA7mFQjUxfHKR5usjzE+2bTjLSTNc9dsnz557FrpJzPWZNz04Zhr45pzHY6t1jRjHDknTq6J41Vsxbnr3epXouxoDurdipvjq/rwZTztYDXrcR3MyRIfxtN/L8fkhe9sfresIXPhP+vCP21yHXmMTVsJlMBlCVToXZZno90RATYbNjQ+bjJu9I7TTzHCmJsPfvP81BLNhd/R5ua62lSNYVxqI/Y8147eeI65MTNuS1HgGHH9GD99tLPXJnv85bfyNS82zM+1ML4SCuY80nNNiW0dMwfn2Vb3CmvCLj/pc24O7I0lL9fvOP28H6nNtWif/mmPv2vGRj9Z67dinHPEyfN5X5pHG+vKfFkX3PDxY42e27/3uuf16XEJlMB/EajQ653wEgTYSNhc2Jj2mnZsWLnpsGm5ic1Nb8Zz8ztll35ufDmWx8akzw00RVOOW6sx9CePzbVu1ek8vlvNuCtermmLI/GzGStrzPlzjrdqp5ZVXRnbOmZ9acOxdvTZMkeO5/FWfWnjsddy1mP+HJ9j3h/EsGmT190x+mzWmf7MOw7LjMPcVr3GPcJH2/YlUALvJ1Ch936GjfAABNyYclNcle0mNTcvbI0xN8MZ55SQmParzThtcmNMMaeNm3SuzXVoQ01zjHM+W831Ztxpu7dW60qWxlwxdJ17Nc38W+euNXNrSw18Viyx2fM1xql+jwu+cqDfa9od5SVzWNK8t9JfG9los8VdHsYkrjFW9Vvzam6rps/F9n9KoASuQqBC7ypYG/TeCOxtTNZ6asNzPjdNfe0VK2z0R5sb41Zc57c2ztW866UG5x1D4LiWrZj4ab9lc2qtCgRy2VZjzmWdjr21t3b6LUG3FfuUSJt+1D0/xpi2nlvfFlvt5JUiyznWNfPMc5lmHm3kcqqWVQ2O5bW1rlVO5+idJ29bCZTA9QlU6F2fcTPcAQE3ptWGaXluQLkpOkevOCLWVtPmnE3sVF434tWmSh0rf32Yp14+2sEgj7fWcoqZa93ioaCQOb1jq5zWRP/ehoiRgTmJu8XQfKdq1I7eeo0/+y0u+J5ii03WMmPP87TPvDKQqTHTZsbaOsfXpo1i0XH6mTPnjsxP+56XQAm8j0CF3vv41fsBCKzefKzKPrVBubFjt9W0cWPdsstx826JEDfV3GhX/pkzY+LPnMKMOGz0e+s4wsy1ruIoKMhtM3+KDOforTnXkfNvOSandcpxVa+xrXHPBlvtZKs/vfm2YhxhmzngRcy9T9pnXo6p0XvHurXJWvbiM2fz2m5dR8Yzp372zlNLWwmUwPUJVOhdn3EzfDABN7etjcny3BRzU3OO/tT8UZuMybECxM34EvPWak9MObC+lUDJvNruMTP2ipf+2Ngc24p5bQEAX3OsaqZO2WTd1p/9XhxjbOU4xcE82p2qRftVXu+tLZsUetqc6s2zVdfMOeM5v3W/T/uel0AJvI9Ahd77+NX7AQic2phcgnb0s/kWg01qrykA2KSPtCNx2VDJu4ppzXPTdRw/12Mua9yrT/8ZN33Orcv8K4Y5h/h4TyM+H2LO5rpkcu689ns55LuVQwGH3V6TySk7Y3g9zLvynzb4Wu+Kl7Gz32O4ypm+KSzfe50zbo9LoAS2CVTobbPpzJMQ2NuYcom5SeUmxLiboZto+uWxAiDH9o7d9PcElfVPG31XokafnMtNdsaaNeq/t17XuhIIK0FBji2O2h8VNbPePDfWrJ31m38lmonhuk/x2Ypj7uSetXHsdTuyVvPMtcCcXFmntl4P86SN9eX699aMPXGNSf3GmDUd5bd330xWPS+BEng/gQq99zNshDsn4MaUm9tWydqyGbGRzfPph42faet45mXDdJxeHzbTHM+NlZxu4trpR50Z3/qIxRx22dxkpw/nmd98+Oe4sajPWI5lb30zj3VZW547lnHecpy1rXhNJpkjfV27fdpl3c7Lw35ew/SXb9bH8Wxb9ZiDOmyOeW6NaWPe/A8Z7B3Peow3eWm7Wt8qp/XYE8/Y2Osza9K+fQmUwPsIVOi9j1+9H4DA3sa0Kt+Nx82IjWkKFvwY02avJ55txt7yW22iuUHix/nKjlzmydyM4weP2WbsVV3p59rxWzX9V/VZmzacOzbrXcU+MkbeuSbOj8Rnbd4zWePMa83aEJ+8nq/uGWOs6tuqbWVrroxH3rxGrt+41pY2+tOv1qOvdvlW2LHsZ86cy2PtZMV5hV4S6nEJXI5Ahd7lWDZSCZTAGwm48aewQJhwfuqDXVsJlEAJlMCaQIXemktHS6AELkyANzYrUZZviXIegecbn70+fS5ccsOVQAmUwMMTqNB7+EvYBZTAYxDgrR0/G+ZPdBz7No++rQRKoARK4LIEKvQuy7PRSqAENgjkGzqOFXi8ravI24DW4RIogRJ4J4EKvXcCrHsJlMBxAlPg8YaPsbYSKIESKIHrEPi/3UWOqNpV7wUAAAAASUVORK5CYII=)"
   ]
  },
  {
   "cell_type": "markdown",
   "metadata": {
    "id": "DOIcyS-l4c96"
   },
   "source": [
    "As an example, consider the decision of whether to leave home on a hot summer day. If the temperature is too hot outside, rare is it a good idea to leave. Thus, there is a cut-off criterion for leaving home based on how high the temperature is on a given day. \n"
   ]
  },
  {
   "cell_type": "code",
   "execution_count": 46,
   "metadata": {
    "ExecuteTime": {
     "end_time": "2022-05-27T20:38:07.022089Z",
     "start_time": "2022-05-27T20:38:07.014218Z"
    },
    "id": "7jraEaZ0K6mj"
   },
   "outputs": [
    {
     "name": "stdout",
     "output_type": "stream",
     "text": [
      "It's going to be a scotcher today!\n"
     ]
    }
   ],
   "source": [
    "# Determine if it too hot outside\n",
    "# Temperature is in Fahrenheit\n",
    "temp = 800\n",
    "if temp > 90:\n",
    "  print('It\\'s going to be a scotcher today!')"
   ]
  },
  {
   "cell_type": "markdown",
   "metadata": {
    "id": "m-UtAzze5CkH"
   },
   "source": [
    "**Note:** Just like when defining a custom function, we must indent the body \n",
    "statements associated with either condition."
   ]
  },
  {
   "cell_type": "markdown",
   "metadata": {
    "id": "wTlp4GMk4nm7"
   },
   "source": [
    "Many times we want to have a \"catch\" or \"else\" case present. The \"else\" case is will be executed only if the condition is `False`. "
   ]
  },
  {
   "cell_type": "markdown",
   "metadata": {
    "id": "DGUJ3KvL4ieR"
   },
   "source": [
    "![image.png](data:image/png;base64,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)"
   ]
  },
  {
   "cell_type": "code",
   "execution_count": 47,
   "metadata": {
    "ExecuteTime": {
     "end_time": "2022-05-27T20:38:46.778498Z",
     "start_time": "2022-05-27T20:38:46.771887Z"
    },
    "colab": {
     "base_uri": "https://localhost:8080/"
    },
    "id": "FmKJ0ZAw40id",
    "outputId": "60772d5b-b5b2-4e21-9e37-9f9ff287765f"
   },
   "outputs": [
    {
     "name": "stdout",
     "output_type": "stream",
     "text": [
      "Not that hot...\n"
     ]
    }
   ],
   "source": [
    "# Determine if it too hot outside\n",
    "temp = 80\n",
    "if temp > 90:\n",
    "  print('Help, I\\'m melting!')\n",
    "else:\n",
    "  print('Not that hot...')"
   ]
  },
  {
   "cell_type": "markdown",
   "metadata": {
    "id": "_QrM4EDArO12"
   },
   "source": [
    "Now, to tackle multiple cases, we insert an `elif` statement. `elif` is short for `ELSE IF next condition is present THE do action`."
   ]
  },
  {
   "cell_type": "markdown",
   "metadata": {
    "id": "QdQfiuFG5J9G"
   },
   "source": [
    "![image.png](data:image/png;base64,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)"
   ]
  },
  {
   "cell_type": "markdown",
   "metadata": {
    "id": "hcBkDaH25Lfq"
   },
   "source": [
    "We can have as many specific rules as the programmer has time to code. However, with each additional rule added to the `if-elif-else` statement, we run into needing more time to run a piece of code."
   ]
  },
  {
   "cell_type": "code",
   "execution_count": 49,
   "metadata": {
    "ExecuteTime": {
     "end_time": "2022-05-27T20:41:57.264883Z",
     "start_time": "2022-05-27T20:41:57.256207Z"
    },
    "colab": {
     "base_uri": "https://localhost:8080/"
    },
    "id": "ZPj7wkD8qSz2",
    "outputId": "9e8e88c8-e717-4e13-d89f-68dff09daffd"
   },
   "outputs": [
    {
     "name": "stdout",
     "output_type": "stream",
     "text": [
      "I'm freezing!\n"
     ]
    }
   ],
   "source": [
    "# Provide more precise remarks\n",
    "# by adding more cases\n",
    "temp = -80\n",
    "if temp > 90:\n",
    "  print('Help, I\\'m melting!')\n",
    "elif temp > 80:\n",
    "  print('Bit hot out.')\n",
    "elif temp > 60:\n",
    "  print('The perfect temperature!')\n",
    "else:\n",
    "  print('I\\'m freezing!')\n"
   ]
  },
  {
   "cell_type": "markdown",
   "metadata": {
    "id": "Vbn6VyNzO-Sq"
   },
   "source": [
    "### Your Turn: Optimizing `elif` statements\n",
    "\n",
    "Looking at the `elif` statements in the last example, the values are only checked to see if they are above a threshold and not inbetween specific bounds. \n",
    "Why is this the case? "
   ]
  },
  {
   "cell_type": "markdown",
   "metadata": {
    "id": "GjmM6YYk5d5f"
   },
   "source": [
    "**Answer:**"
   ]
  },
  {
   "cell_type": "code",
   "execution_count": null,
   "metadata": {
    "id": "yepHN82P5b5j"
   },
   "outputs": [],
   "source": []
  },
  {
   "cell_type": "markdown",
   "metadata": {
    "id": "i4ZWZ6c1L8XD"
   },
   "source": [
    "## Iteration\n",
    "\n",
    "\n",
    "One last feature important feature is iteration. Iteration can be done with either a `for` loop, `while` loop, or `list comprehension`. We'll tackle the `list comprehension` idea when we discuss more in-depth functionals.\n",
    "\n"
   ]
  },
  {
   "cell_type": "markdown",
   "metadata": {
    "id": "XdYHX31y7FQt"
   },
   "source": [
    "### `while` \n",
    "\n",
    "The idea behind a `while` loop is to repeat the same set of instructions until a condition is reached. For example, we're seeking to make sure two numbers are somewhat close to each other:\n",
    "\n",
    "$$\\left|x_{n} - x_{n-1} \\right| < \\varepsilon$$\n",
    "\n",
    "Other examples are:\n",
    "\n",
    "- Checking to see whether the user inputed a correct value.\n",
    "- Individually accessing different elements inside of the collection. "
   ]
  },
  {
   "cell_type": "markdown",
   "metadata": {
    "id": "06OEaql17K_1"
   },
   "source": [
    "![image.png](data:image/png;base64,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)"
   ]
  },
  {
   "cell_type": "markdown",
   "metadata": {
    "id": "y1AH2QdpIvM1"
   },
   "source": [
    "For instance, we could count up to 5 with:"
   ]
  },
  {
   "cell_type": "code",
   "execution_count": 50,
   "metadata": {
    "ExecuteTime": {
     "end_time": "2022-05-27T20:47:50.347488Z",
     "start_time": "2022-05-27T20:47:50.338162Z"
    },
    "colab": {
     "base_uri": "https://localhost:8080/"
    },
    "id": "hIJYquwOIipv",
    "outputId": "b19b74e7-8452-4046-a79b-c8c50eff68db"
   },
   "outputs": [
    {
     "name": "stdout",
     "output_type": "stream",
     "text": [
      "On iteration 1\n",
      "On iteration 2\n",
      "On iteration 3\n",
      "On iteration 4\n",
      "Final count: 5\n"
     ]
    }
   ],
   "source": [
    "counter = 1\n",
    "while counter < 5:\n",
    "  print(f\"On iteration {counter}\")\n",
    "  counter += 1\n",
    "\n",
    "print(f\"Final count: {counter}\")"
   ]
  },
  {
   "cell_type": "markdown",
   "metadata": {
    "id": "gZUVHMxfJBNs"
   },
   "source": [
    "Another approach is to individually access elements inside of a list"
   ]
  },
  {
   "cell_type": "code",
   "execution_count": 51,
   "metadata": {
    "ExecuteTime": {
     "end_time": "2022-05-27T20:47:53.310556Z",
     "start_time": "2022-05-27T20:47:53.302131Z"
    },
    "colab": {
     "base_uri": "https://localhost:8080/"
    },
    "id": "HO3oyEv5JHec",
    "outputId": "1cdb3b2c-bc3e-42f2-e3e2-89ab81bd0470"
   },
   "outputs": [
    {
     "name": "stdout",
     "output_type": "stream",
     "text": [
      "apple\n",
      "banana\n",
      "strawberry\n"
     ]
    }
   ],
   "source": [
    "fruits = [\"apple\", \"banana\", \"strawberry\"]\n",
    "idx = 0\n",
    "while idx < len(fruits):\n",
    "  value_of_fruit = fruits[idx]\n",
    "  idx += 1\n",
    "  print(value_of_fruit)\n"
   ]
  },
  {
   "cell_type": "markdown",
   "metadata": {
    "id": "L6BHG9D1KdTZ"
   },
   "source": [
    "We can nest `while` loops. In particular, consider the example of needing to find a prime number. "
   ]
  },
  {
   "cell_type": "code",
   "execution_count": 52,
   "metadata": {
    "ExecuteTime": {
     "end_time": "2022-05-27T20:48:18.125941Z",
     "start_time": "2022-05-27T20:48:18.118479Z"
    },
    "colab": {
     "base_uri": "https://localhost:8080/"
    },
    "id": "OAkxDsd_Kcyz",
    "outputId": "1787e03f-e671-4fd5-eb3f-5bc141307bb4"
   },
   "outputs": [
    {
     "name": "stdout",
     "output_type": "stream",
     "text": [
      "2, is prime\n",
      "3, is prime\n",
      "5, is prime\n",
      "7, is prime\n",
      "11, is prime\n",
      "13, is prime\n",
      "17, is prime\n",
      "19, is prime\n",
      "23, is prime\n",
      "29, is prime\n",
      "31, is prime\n",
      "37, is prime\n",
      "41, is prime\n",
      "43, is prime\n",
      "47, is prime\n",
      "53, is prime\n",
      "59, is prime\n",
      "61, is prime\n",
      "67, is prime\n",
      "71, is prime\n",
      "73, is prime\n",
      "79, is prime\n",
      "83, is prime\n",
      "89, is prime\n",
      "97, is prime\n"
     ]
    }
   ],
   "source": [
    "i = 2\n",
    "last_number = 100\n",
    "while i < last_number:\n",
    "   j = 2\n",
    "   while j <= (i/j) :\n",
    "      if not i%j : break\n",
    "      j = j + 1\n",
    "   if j > i/j: print(f\"{i}, is prime\")\n",
    "   i = i + 1"
   ]
  },
  {
   "cell_type": "markdown",
   "metadata": {
    "id": "jskYOGNM7Euc"
   },
   "source": [
    "### `for` \n",
    "\n",
    "Within the `for` loop, we are visiting a single element on each loop from a defined collection. The collections here are predetermined ranges that span from $1, ..., n - 1$, where `n` is the set endpoint. They excel at handle a common iteration pattern of accessing individual elements. "
   ]
  },
  {
   "cell_type": "markdown",
   "metadata": {
    "id": "VCAZ4DVF7BwL"
   },
   "source": [
    "![image.png](data:image/png;base64,iVBORw0KGgoAAAANSUhEUgAAAoUAAAFwCAYAAADOngHjAAAgAElEQVR4Aey9va4tS1qlzf20T19BW7i4SG0gBBdQ5SK108axmja7AGGCXThILaR2+PGPg2gJq40SwqvzdR+V2J+eDU/VOG9F5sy51vyfI6Q8EfnG+zsiM2LsXGvv8xtf2opAESgCRaAIFIEi8OAIfPvt//3yP/76/32h32s/+5d//qqHbtt5CPzGeerVPorA//pv/+fLT37r282H99T80TjVKwJFoAgUgSJwKQQgXL//J999JVWX8nkpP+T1n/7rz0/mBhk8onepvF7JT0nhlVZT0kc/m3OQxrYiUASKQBEoAo+CwBahQn7vL28QPa5TXwqPksdHwfyR8igpvNJqSPxWpBAyyLWau1I6dVsEikARKAJF4CQCK0IFCbv3lzdzII9TzRpOkcdTft5xvqTwSqvOw7gifpLF+ZUQfefov//+F1/vkziq8913//YnJfWvVELdFoEiUASKwJshMAkVXweV0c8vhpxV6jiPLFvaqEtv42zDNu3TBj3uIYToTH390PP7hOhxrfIwjn7StuMvX0oKr/QU8ND6RTBDKGPeJrlzjj5lUy/n0G0rAkWgCBSBIvBZBJJQ4UsiJsmyl9ChD7lCLtlybC4QM2Xqcq+PVQz16G3qOYcPL32hy9lqPG3p0y7H1ND2KwRKCn+FxUVHK1IomaO38dVPMoicFyhtU1c9SSN6XG1FoAgUgSJQBD6LQBIvfXHGSLI4n/Lrm+RKUiYBRF897fWBLjLmk4QiR5b6+iUXY+FHe+b1a77K0lYZPsxLf/hq+xUCJYW/wuKiIx48SZyOvc+HcEUU0Z+66S+Jor7bF4EiUASKQBH4DAKSpy1Clb7VhVzZktApUy+J4pxLH8xJ2MyD8w97LmXoGS/tp606GR9/6uV5bF7v3JcUXmn1k8QxPkr+TGeSQh5cZfhrKwJFoAgUgSJwSQQkSkm8JHUpI6a69Mx5P4mb8mmfPiYx00Y5PX6RZ1vJ0ePS1vyx3csz/b7zuKTwiqufJM6xDyph80fHSfRSbnpbpNL59kWgCBSBIlAEPoPAJFT4mgRN/8q14Z4rz7g9+/zRcZ5/yvFlk9hNYqlc3RVJZM4c6bnnmr6M9e59SeEVnwCJ4Bah4wFWJ1+Klf5KdsXU67oIFIEiUATeCIEVoeJcklDlGZVy7HIuIZPg4WM24zGX9pPoYSexm0Ruyk/ZZpyZT+//DYGSwis+CRI5iR8vQTbunfNhTRn2NvWmD+fbF4EiUASKQBH4KAIrQsV549e16XcSsjnP/cqnevpOUpiyJICrWPpOe2Vpu5KZQ/tfR6Ck8NcxuZgkSWESvAwg2WM+9ZFLACGM6kke00fHRaAIFIEiUAQ+g8CKPE2StiJbkDLkXJA3LtvKp3P0kj16dZXl+UcML2PlvT6nLfJVDeba81TkftWXFP4Ki4uPkuT5gM8gyCV89EkOfWBTZ9r3vggUgSJQBIrAZxFYESp8KpeEZRyJnHP0yGzapsw5+mnPvbI8//TrnPG4t6GvXFvnph165Nb26wiUFP46JheV8HDOB3QVYJLGaTPvVz4qKwJFoAgUgSLwUQS2zhnOp3lGGQObU/PqbvXT98wj7/k9xamvX/RSV7m9ee7pqPuufUnhu6586y4CRaAIFIEiUASKQCBQUhhgdFgEikARKAJFoAgUgXdFoKTwXVe+dReBIlAEikARKAJFIBAoKQwwOiwCRaAIFIEiUASKwLsiUFL4rivfuotAESgCRaAIFIEiEAiUFAYYHRaBIlAEikARKAJF4F0RKCl815Vv3UWgCBSBIlAEikARCARKCgOMDotAESgCRaAIFIEi8K4IlBS+68q37iJQBIpAESgCRaAIBAIlhQFGh0WgCBSBIlAEikAReFcESgrfdeVbdxEoAkWgCBSBIlAEAoGSwgCjwyJQBIpAESgCRaAIvCsCJYXvuvKtuwgUgSJQBIpAESgCgUBJYYDRYREoAkWgCBSBIlAE3hWBksJ3XfnWXQSKQBEoAkWgCBSBQKCkMMDosAgUgSJQBIpAESgC74rA25LCv/n7v/3yzTff3HTdiflM7bvvfv7lj//0z77iBFY/+5d/fqb0m2sRKAJF4CIIsBe+amNv/+lP//KX5TFm3792e8Tz8JJn3lEc/+Gf/vHLIz1fD0EKJR75EF4bpFXMjH/pMQ/I7/7eH3zhAXiWBkY/+vGPv/Dykv+11+RZcGmeRaAIvA8C7t2n9j/2yluQqUsizx/0OZeSoE2SeMl4+hLTRzsPL3nmHcGR+sEfPB6lPQQpBLx8mQAK2akGkGl3Sj/nZ8ycu8aYmubCs4k86tc3N4uZ8zWweXSfpw6DR8+/+RWBZ0PgkfZFzph5Hs29m33y2f7QzzMBGSRv8XbfT5L42WcH/Ka/1Xn42Tiftbf2S5x5nBmTbK/yQ494lzxj5rO5irsnuzspFLxcCAnbHlAsIMVvAYqtDzoApK9VzKkjaPhIP8rVZy595/zemLzJH9uVPS/NSp4+mZ+5IcN21dQ/5Rfb3Cy29Gds7NDd0p85reyP1D39XOv+22//75f/9d/+z5ef/Na3Xxi3FYEicH0E2Bf+03/9+Zff/5PvHuK98zyy8tXePXXQpY6jeyH66OaeeNQWvb19k/ktX9Zibe77qzNkL4b5T530t5WDsfWxp5dzYJV4pZ+tMfbpI/XM9ei6HfEljlsxM/4cTyzn/Kp+13OV29G67k4KXQgAYAxRgmF7rb4EWrg69MhogIGNc7ys+ObeByhjajNfamyQpR8Xlj7nMv5cOO8lsOQwbZmzTQxm/eiikzWqkzJimC++c458mV818ct1UBeMGWeOjGnaiZd5ZgztwVb/9GCSsiN4pt9Lj5MMQghLCi+NcP0VgW0EeP8ghV73JIfsa+5HW3u3e5f77Tyf3OO2Kp57J3ssPonrmbWynXbmqW7u08xxBpijOsRyf0dm7s7Tr/zkPLnigxhe2EwZc+jSwIRYtlkL854t6iQm6dvzT71VP3PE3lyMTUzzZ36r7fnSRhzR1e+qJuLMWNqaS+KE/7ke+N16NtGf/tQ319nfnRSasIkBog/PfIDVodcOndQDYMFHrh4ymzLu0cEmHywARh8ZYxcWO5oLiRx7Fmk+wMaityZ1sME//hjbmKd25d5jn36Irw49NuSa+eoHO3QSE/yZi7GzFxPiZH7WTY+9eaU+cjAjF9dR32mPbeKc+WHL/a3bigyWFN56FRrv3RGYpPCe5JB9Kvcx9rq5d7OPcdHUd3/mnvFeY1/M/c/9+tQe6H7Knkte7qnEwodnALmhgz9sslmLMn16j51+iOE9sWi5hyNTh55Lf95jgx4+8UVLPWT4XJ0f4oJPxthZp/l8dTj+wxx14pMxFz4S38yB8VY74gtb66bPmjImehN/zz5syMN780HueoCTa8s8+vqzBvJVHxn3YLbX7k4KBc8kXWSLUj77ace8thRuww+gAK5NW+YY5xw63CPPJtjIVjapO8fmZU0uFAucjRiZi3rWox96mw9J2lmzevSzHu23+qxXHWRc1qEc/yv59LGyJy/WxxrxqT/9X7vfI4MlhddGv/6LwA8R2CKF9yCH7EXsT+557slz77YC92MO6yNN/7n/uX/nnj59uUeu4mA/917sjbVXy7TjPvOwfvNl/947W6a/VR7WYl7WOm3Jg7VI7MU7Zdrbr3K0jrSb8bTP/hxf+MuazFXZzGHeE1dsGGOHz1yPzG1lb8zVc5K2Ob47KZwLQcF7D5nJTzvkqwUDSB4kwLVpi/4EGPDUB2RARQ8bFxMbfehzr581zZcTWxePmFw+DImFcTOWvrCxMc6XR9/oWoO6q37ao5O4TBuwmDiiQ+7E3LNf2WKXdc94l7z3dwYlf+f0E8s9Xxx02bjfioWfbOfo/uuXL19/D2vGS38dvxcCPAtcPBvZ/sdf/7+vv7fHj2fnNZ+fPV3msmE7/Xk/dXmHnLOX/J3qp6/M4VLjI3t3xmKfdE87chCv9jow8QxK3zk2RsoceybM+J4D7lvqeT/3ffWRc6FPXPdm9d3jjW/vPH6yTUy3aiFO+l5hNWvIOIy3chBjc9vSS39bOlu+Mnf8iKd4z3vPd+aZwx5s9GOt5LFqzusfnXOfR2zuSgpJOMkLCbHwK4KRIKzsXBgBVH8upLaAvXoYXSjy4lIngcY3OTJPvnPO2PazpvlSpD/jYjNrmX60Q55t9XAgs+ath0ofYpB1KQO/bBPfnCOeNazsXQvmsqVdyq8x5gDbImen5IkPuT0CKQTTzHtFBq6BY30+FgL+4QCiJbk6h+idozvJGbYSvNlPXd6hqWO+p/rp6xorMPfh1d4947Inute6/00d7qmd/X7q7O2p2G3tm8bYypE4xHPfmnpzj2be84h+YjH1jW+/NZ/n2F6teQ5s1TxrMLa9NWOfbcY1V7FJXcfn+poxtTfGzB1cJt7kZZv6yu235o8+j/q5Kyl0IQTPlySBMNHspx1zyqYtQOWLoB4L5CIBmk0Zubh4zs0eOxaSa6tZE35t+VKkDPlW3JUfbFe+th4OfDDHy8Z4q5HrrAkZdrOJ58R9vnQre21df3wzZr2mvxn3kvdgsUfoIFnzkLxk/Ev7ItdZzzPlf2k83s0f71CSQcas//xS+Ki4kP8eIYQM5p5xrTpWe9Fqv92Kz563t5e5/829bp5Z0/+WnXrkOPdv5ua5MGuZ+75+2B9X54X1reaIN/0hQxdMmKNt1TLPD/XyrMZ+1vDVafxnK0flPkerXMPN16E2s17l6Wt1VoqnfjP3xIXxjIHNtNePffpTlr15zuctdRjflRSSZIK3tfAz6WnHvLZZMA8Q/gHLNm2ZR2ZjzEPrAivf6tVfLSI25uXDnIufPk8t+PSD7Z4vNoBV00/iNPVWD9dKht18efU1cV7ZTx1sze8o/sa7RA+ek0z51e0ZSdWs5xlruMS6vpMP1lhCdSvydGl8efetIftb1+NedGrv3qp/a39WX/+5F6/OLPXtt/Zc5yf5Q04uedatcpt7NPdcW82zb2uvnv7wY81iulXLPBvmvTUlwVzluZXjzG3ef9ZX8pqsm3xoK/yx2Tq3sSFHrlVb+Zt6R3SwuSspnAuRDwwFcK2aDwgPYz6QgoodDxv+lelnAqsvY/mQsjj4Rk5evrjoo5MxthaKmPo3PnY+yIy51Es5sY3l/NaDRj629K+d+eKTuk6RXuIQO9tK5ryYGgdbYogZeit77OZLMPEyxi17cJrk8JkJFbk/29fOW673K8Virf0y+Kx18f4lGbxXPXMvyr01925x9pxwbrUPqmvPvsgeiA37J3uiMnVWPTrouufSu9/S51miX/Rt6jBHy9rUMX965ueZhC1x5lmJHs39XVtkE1P1shbjWk/qMLbNGpRnT2zxJC8u8kVmnuhzT9y9do4v/WFDntwn/mIn/sQ1L/SxYy5zEhd65snfee5zzY2rL+61R7bX7koKBc4ESRzgKI5rK3nAwlY97GgWjZx59PAncOisYk4Z+umfsblkfsThPhfWWuyZ58rG4pt75pZyffvgrvyYZ/omT2zNafrMWtLOMXZpj1yZGKhrT47kZ00zxpY9elk//lZ1GufWPQes5NB1uHUOjVcE3g0B9nNI4b3IoHiv9qLcT+fe5X6c++DU0bc986nPXkncU3bosX+mbdowznny9pwktvPm4R5Nny3rJRa55V6on8xDH8wpx462wvTU+YHd6qzQf9aVuTvm3EosyMEc0dmqXfvsj/gi1qxphT/YZO6MyU3M6MXNHFbrsZoDm9XaIDvV7koKE5BMlEXKBy/ncswCTR/Y5YKnPuOpP+fzHj8rX8Qg9pEc01+Ot3yT32d9zxr1uaolc2K89aJNn9OOe3S2MFnZr2Qrv/eWPUue98ap8YvApRDY2kcu5f8zfrb2bn2emlfPnlqP7M3qZ38qFnvX0f1rSw/5qTNpK49zaiPO1rrv5ZZ47I3xvfKzdeZ9xNe0AZdVTZC7Sfi0RX/FbZzfW4/VOqxk+lr1dyWFq4Qquy8Cew/rfTNr9EshwBdQrrbXQKDr+Rrr2Crug8A9zjwI4ZGvdvdApKTwHqg/YEz+NMGfTlaf6R8w3ab0CQT8yzPff/+LT3ip6SMgwBr6o9ZHyKc5FIFnQeAeZx4x/TLJ+BFbSeEjrsodcvJ3GfhTU9trI+DvSdK3PTcCfCWEFN7i3+x7bqSafRH4IQK3PvP4sS+/J/joH15KCn/4nLz13er3Ld4akBctnnXma2FJ4fMvMH8ZA1K4+r2l56+uFRSB6yJw6zPv1vE+gl5J4UdQq00ReHIE/BHys/yDxk8O99XShxBytRWBIlAELoFASeElUKyPIvBkCPgj5Gf4k+uTQXuzdPv7hDeDuoGKwNsgcFdSyC9aPsKhxC9+Hvldukf+G0NHnlh+xEQNj/oLrkdqqM5lEJAU9m8hXwbPe3jhfe7vE94D+cvE5C/2sR9nQ5btUc6c1dnxKOd34vWR8dHz/yO+n9HmbqSQB4pfunyEv5Z95MXjpSDf+dI+06KTOzU8AhF/JtxeMVfIIMSwfwP5eVeXH/3zF0xK7J9jDTnz+EsG/qF8/lMo82+lPtKZM8+ORzq/P7v6R87/z8b4rD348+zcot2NFEJMeAmSoPCS3Jp0Ef8I2fOl4EV91gbe80+mz1pL8y4CRaAIPAsCnDPzb52yF+dPqCBa+ZHkkc6cSWBX5/feWlBX1rqnm3MftUsfe+NbEe9L1MHzcwt+dDdSOBfKF4AXI4mieizeKUKG3UoHWfrMccYlVs4Zm55F3WLqWzmnfY6JsRUHvZw7VTe6xD/SchM6lcP0lznNOe/P8Xkq51N1G7N9ESgCReDREYAQJSlirzz1k7LVmbO1D597Bu2diSss8+xYzSMjt+kXOTIJ8Vb+K59bdls+pjzvGee98eb5r5z+XEy3bLbqMBZ5HYl1ZA30+Zn+bqSQArlo9LwgeUka6HOecS4u97w8XNo7P215KXkIsLH54qHLg4uPFSPHJu2w19a43O818iIH9VdxyIN5HiTiqZsbCjFWvrDdaujjixwzh6wJed7ra0vu/MQZHzMXZMROzKh/6q18uZ7Ga18EikAReBYEVsRjJWM/zDOEPTP3fffO3DOVeU6k/Qqfub/if56J0y7PDufIjcuGH3Ogd27m5xmk3Va/Zce5iA9yzjbPKOpEb56jEx/jpC98sxbYc+UapF6O9aONcaaceefmGZ5z6dsxduKq7Br93UhhvgCA40PGmIsmw2ZRGLPQaYcO99iiwzxX2jKHDHt00M9FNi49D0PqfXX07/+ZcfWFjYuLzlbLGjMOD4I5Y+tDRD6MsaOfeuZtbd5vxUcPH/qlTvLIB9HY6UMd+lXDr5gy5iLGxIJ75K4T8ZXpVxk6jPVNXm2XRYDnit9F6z9Jc1lcb+mNtWMNeVfaHhcB973McO617HXsxbnPsj+696mPnu3cM8j9lXzww70+6LeauWXsVW7kzr6CXtZh7sxxHW0rO/zOsxB/E2NtkTMmLv20ZZ7Lpn9tvM/a1bUXQ3SJ473z5jLrN7Z2xNh7l/GTuer/0v1dSCHF770AFgm4E4R8GPUzdbB3YfIhdIEB14Y/rpWeMuNgT5v3yFx4/c7eeX06n/UgI++JjXkbX1/5APmA6Xf22OCXPht2yoyTOTJPTlttFXfi4z262abtqfVO244/h4B/+zifoc95rPWtEWDt+rePb436efHc++izzb3O/dm9N+2Y45xIH857JuBbvYyTY2JunXWeAanveCs3YzM/93Zt6ec+n3N745XdqkYwm2cbtc5zlPdlyub5yz22NnFO7J2jd14skM0c9+o4Z/89hXPm9ZnxXUjhJB8rYF1AgGAeG8DNh1o/c8HSNsGZ+sYlRjb1fEGZ52HyPl8udJmfD1f6YzwfNuepKeNvPUAZHx1yoE7ir14A/dtnzsroM751i+e8TzvG4odeNl9S5Vt+ErNcM/xiQ2653hmj488hICns31z9HI73tGbtSgrvuQKnY3s2TM3c+5hjf2a/s2ln757sfO7n7JXq0a9a7q85v7U3p87MTRvPQ++JrSztZ605tzde2YFR4oS951BitNKb55J25E+zDuRcYjrjZc5H1mFVBzJsz2lzHc6xPUf3LqRwFudi8ODalEGGuAQxH7rpZ9rmQ8Ici5zkyhgZd6U34/CQmBc99/jaavPhS718YHxxp6+Mr47xxWXWmjEYkyN+svmSuJF4b/yVTdqL58Rv1pv5a28dxqK3JnrryvXWtv3nESgp/DyG9/ZQUnjvFTgdnz2UK9vc+5ibey17JnsgF/vh3N/Rz/2Se/fSjOXY/XX6cQ/f22dXuSHLhh/zzRirWtNua7xlRwzPK22N7f2WrRiIk/fo08B8YjpjGcP+1DqsclnJ9LfXz3XY0/3M3F1I4SwO4FcPGQvEw7r1wE4/AoE/bZXRo59x5sOk7tTLOOSCb2z3ctMXvQ+fD6Nzkzyply8VuhlfHfotXPRvnzkro9dXxvOlE5u9GFs4K/dly/yNb2x1tDmKqX7afwyBksKP4fZIViWFj7Qa61zY+9jbss29b7U/Y8fF/sienH+gT/2j+2Xur5mLcVKWY2ORsw2bzEc5upJZxrRZq7qn+pXdPC/1MWvQNs81dM1NOzDB1qafo5iKDX62bMzFc45YyuiPtox11OajejcnhaviVg+ZD3GCmUWu/DivLTo2ZfQ24vLCZXPB1FvFmS9p2q/GWw8zMTL+vMfXjL/laxVX2axJ+ap+ZORhr+6qRw+CPNcIWzeNmb9+Zq1bvtRvf1kESgovi+c9vJUU3gP182Ku9tG597k/S2Lmnqk+ctu5Z5D7a/pQRr/VTuU27dSnp5n71Ms85tyWnb7zvFGWNViXeOKPeBOzPKfQ4Z7rnDZ9TttV/Z85w7P2GetS9zcnhQKSC+bisHAWrR7kAhlzPAA+bM6nH0FxjgXRjhgQGO3RZUG5Uo/7fDB86DKOf+JgDv/M4WOv4ZMLXWzQn/mok35W8c1RX6fiE0sbsOSihhmfuMjJA33y3GvMo+ca6RcZYxq5EYc+26xVPX3hm9q52i6PQEnh5TG9tceSwlsjfn489rl5Nsy9z/1Z73PPd59NP+yT7LPoMn/qDHB/xYd7K3mszgDzoJ+56Yfeecb4dP/Hp/u/9twrs76sJ2Pq13Nk2lkz9qsakHkuiY0y7mn05Jk5MFZmPcisdebI/al1wH7WgR0ychI7euqiIefKxj2xbtFuTgoF3sWhSGUsSIIhoMi5AFLgtEk/CRgAaodPHizuXWB6F4t5dbFLn+aQvplPG2wz79R1TPy0yVrUQUa8bKs6zd2cV3bpg7j40Rd2q/jYqEN/pLEe+DIXYolx+ktMka9yJmb62srxSF7V2UcAQvGT3/r2B8/6vkVnHw0B/heFv/8n3/V/c/doCxP5sB/Ow3zufehw2dyDc890b1T2kTPo1Jlo/OxP5ZY+V+fKPKvMO+vNeI5Xdsxhl2fNPNfREd/MDbs8lxjjJ2XYpg3z2ElKzS176zEnbdTZqmPKzdm8Eh/O2FWuxrh0f3NSSAE+2FkMwM8Fch75am7lRxv6abenj+7e4qdfx+izYHt+1bVHdyvOlp8t+azPGHv9Hs7Yufns+VjN4Xcrz5V8JdPvR+rStn0RKAJF4FEQYD/NA5689vY+817prGTnnkFzb135NIetftpwzzmI763mOYkOBIf7I0271N2rYfqfuuln1uGc9Wyd0+plf2odVnVgv8oPmbnRSxgz3jXHdyGF1yyovj+OgC8UG1lbESgCRaAIfA4B99RzCMbnIj62NWcLX+Ou1SBfkE5J1bXi3MovWM0/VFw7dknhtRF+Av/+aYWH79YP4BPA0xSLQBEoAh9GgIP96JexDwd5EsP8CnaNlFdfZq8R5xY+wYrz+NYEt6TwFqv7wDF44PiTFReb160fwAeG5qVT43+R1q8Xz7/ErCG/W9hWBIrAD//5tuLxMQRKCj+G20tZQQRLBl9qSU8W498+7rqfhOphFSCE/T+aPOzyNLEi8JQIlBQ+5bI16SLwOQQkhfwt5LbnRKD/JM1zrluzLgKPjEBJ4SOvTnMrAldCoKTwSsDe0G1J4Q3Bbqgi8CYIlBS+yUK3zCKQCJQUJhrPOS4pfM51a9ZF4JERKCl85NVpbkXgSgiUFF4J2Bu6LSm8IdgNVQTeBIGSwjdZ6JZZBBKBksJE4znHJYXPuW7Nugg8MgIlhY+8Os2tCFwJAUlh//bxlQC+gVvWrn/7+AZAN0QReCMESgrfaLFbahFIBPrv2yUazzmGGPJvTrYVgSJQBC6BQEnhJVCsjyJQBIpAESgCRaAIPDkCJYVPvoBNvwgUgSJQBIpAESgCl0CgpPASKNZHESgCRaAIFIEiUASeHIGSwidfwKZfBD6CAH9z9Se/9W3/94YfAe9BbPoXTR5kIZpGEXghBEoKX2gxW0oROIqAf/sYctj2nAj0n6R5znVr1kXgkREoKXzk1WluReBKCJQUXgnYG7otKbwh2A1VBN4EgZLCN1nollkEEoGSwkTjOcclhc+5bs26CDwyAiWFj7w6za0IXAmBksIrAXtDtyWFNwS7oYrAmyBQUvgmC90yi0AiUFKYaDznuKTwOdetWReBR0agpPCRV6e5FYErISAp/Nm//POVItTttRFg7fq/ubs2yvVfBN4LgZLC91rvVlsEviLA/+KOL01tz40Aa9j/f/Vzr2GzLwKPhEBJ4SOtRnMpAkWgCBSBIlAEisCdECgpvBPwDVsEikARKAJFoAgUgUdCoKTwkVajuRSBIlAEikARKAJF4E4IlBTeCfiGLQJFoAgUgSJQBIrAIyFQUvhIq9FcikARKAJFoAgUgSJwJwRKCu8EfMMWgSJQBIpAESgCReCRECgpfKTVaC5FoAgUgSJQBIpAEbgTAiWFdwK+YYtAESgCRaAIFIEi8EgIlBQ+0mo0l4mvbbwAACAASURBVCJQBIpAESgCRaAI3AmBksI7Ad+wRaAIFIEiUASKQBF4JARKCh9pNZpLESgCRaAIFIEiUATuhEBJ4Z2Ab9giUASKQBEoAkWgCDwSAiWFj7QazaUIFIEiUASKQBEoAndCoKTwTsA3bBEoAkWgCBSBIlAEHgmBksJHWo3mUgSKQBEoAkWgCBSBOyFQUngn4Bu2CBSBIlAEikARKAKPhEBJ4SOtRnMpAkWgCBSBIlAEisCdECgpvBPwDVsEikARKAJFoAgUgUdCoKTwkVajuRSBIlAEikARKAJF4E4IlBTeCfiGLQJFoAgUgSJQBIrAIyFQUvhIq9FcikARKAJFoAgUgSJwJwRKCu8EfMMWgSJQBIpAESgCReCRECgpfKTVaC5FoAgUgSJQBIpAEbgTAiWFdwK+YYtAESgCRaAIFIEi8EgIlBQ+0mo0l5sj8A//9I9fvvnmmy//8bf+8y+vH/34x19+9i//fPNcGrAIFIEiUASKwD0RKCm8J/qNfVcE/ubv//YHRPCP//TPvnBBENvug8B33/38y+/+3h98XQPGj9K+/fb/fvlP//XnX37/T757lJSumgd1Ui91H23aYJdX/4B1FMHqFYH7I1BSeP81aAZ3QADC4ddByGHbYyCQ68JX3Edp55DC77//xS9J0aPkf24ekrpz7P7HX/+/L3l9xMc58apbBIrA5REoKbw8pvX4BAj89Kd/+ZUU8qPjtiJwSQTOIZCXjHspX5fI/xI+LlVP/RSBInAcgZLC41hV84UQ8PcIIYdtReCSCPC1jK9kz/qjZvOn/2i7hI+Pxq5dESgCH0egpPDj2NXyyRDwd9X8sfGqX3055MfL/OWT1D9FJo3F71Oh670+PgPdT37r2y9cW79z97/+2//5Ok+fDX3n9ME9X3W2GnPoqrey37I9IveLrbjYb+HLj5TR8S8DSe6RgfGlfuQsqfFHoPZbWG3pa7dHErHN38djvBUHTI1Fj17aEgf5bKsYK73pHx1rIM6WzYxnTqf0j+Y//XPvO7n1rKxsKisCRWAfgZLCfXw6+0II+BdJ/MskEImUMZ6kIkkLBCRtVwRSuCQ3kkFt6TnMPtMkZiviwO+zSfgY29BVLsnTD/crX9imjvbIlG/ZGfdUD+HONRCvrYPe9ZAQoI+9duC+RZZP5ZLzkJm8JEZbf2kidSVEkqicyxiM1ZXM5f0WtvhDX92MwzjteAbUM4b23u/lpE76SP/T1nv193QzD/TznvFey78kxtq3FYEicBkESgovg2O9PBECHOyStr20JSAcOkkWIR2SkNVfUvFrFjHQ2yISe7H35jhoJXZTT7JGn01CNw/pPV/Y628rXsa4xFhcE+/065qA7cRe2y1CmX7OGbN+kCOuI+0IIcKPJAj9bFtydfQvYVO+6tWdJGuvJm3OzSvjn8Ira8z3I/PKP9Skb8b5Dl56vWes3heBd0KgpPCdVru1fkXArwynvthJMib5wInkZPW10DnsL/HVai4bPlckbesr4bTPe0kh/lZNMjlJ5kr3szLqOkXWwRudFREQd74cXrKBESRnkqRVDNbgFCHC7pRPiVkSJuM5N4me80d78yQXm6Rsq1Zt1F/1p2pLjDK2viSMn61Pf+2LQBE4jkBJ4XGsqvkiCEgeVoTOEiWOELtVc35FLPV/aXKSeUjWUuZXvT0Cx9y8VgRTv8bZ+2qj7md7Md3CHP97RB28twjjZ3I7h6ScIkTmcYrYOb8iTRKzc9aEGualH3OiP5W/Niuyqh/x2iKWR+fRaysCReC2CJQU3hbvRnsABPa+NpmexI5+1fYIzBH/K5/nyCSAkgYIggRu5Ud9dWbP/Gz4Vm/OXeNezPfIul8SV19gr4W7JOYISVF3ixCJm+TqVO/6aneKtKlnbz5bcWae6m/Vqp8jpHDLh4RXX1v9lr21tS8CReDyCJQUXh7TenxwBPa+Npn6KYKxR2CO+DfOR3sJm6RB0rcid85B8Oa8c1NOXsZYzX007z27U1/6/F3NrS+J4r71+4h7sffmJDFivad7ilRhmz8+RX/vmrH0P8nc1OOefCVc2GXb8qN86mPrj5bxuddO4eU8MfauPeK5F79zRaAIfByBksKPY1fLJ0XAr017h84pUujffl19SdT/6mvWpSDL3yvc+0qYcytS45fA1dweYbxUHelnD1P09og48+KePi8xlljtPS/GScKjbPZJCufcqfs90jZt93LZ8qPN6nnQBp29dgqvvRh7fjtXBIrA9REoKbw+xo3wQAhwsB8hDxKQFenzixV+ZnNu62vW1P/MvYRO8rY6yJGpN2MlYVwR2D2/09cl7k996TuyJpfGnedFknOkxqOE56jejKkdBO1UM+8Vmd3yow3PxmxbNql3BC/J5ZEa0nfHRaAIXB+BksLrY9wID4SAvwu4+gsimWaSuyRMHHqSlxVhlLic8p+xPjqWtG2RPvz6RRGdPOgZp/0qB/2uyOZK/zMy8jxF1ve+3oo7Opds1A5RghAdaUeIE34kRiu/yLj2yNyRNTGXqWts6sq5JHSTsGmzyjdxOYJX6uQzmbhkXunf8amvyuq1LwJF4DwESgrPw6vaT46A5OHI3wyWhEBW0J/3KyjO8b+yP0eWpG7vEE09xnkv8VvFdW4e3Cvdj8jA1GtiqxwSb5OMr35n8FK4Q4wgQF4SK3pl9CvCRp7M+bVNfWxX67PyrS1zq+b8kTVZ5aK9feaV+sxbs7r0qU9+H8UrY4mTcYi7V59/sOO9vPSX4RXmlRWBd0KgpPCdVru1/pLYQSKONMmGX7H4QpFEZfq45RcMDmiIGyTvVJtEkHvt8THb3tzU/ch9Huxiu+pdp1NfEi+Fe5IVScqq3yKFYDF9QHImmRKzlS6yVcMHuWwRxpXN9M89uVtT5qUuPRdx1GO8qlkb9bb6LdsZA3+nGs+Cf0Dw+Thl0/kiUASOIVBSeAynahWBIlAEikARKAJF4KURKCl86eVtcUWgCBSBIlAEikAROIZASeExnKpVBIpAESgCRaAIFIGXRqCk8KWXt8UVgSJQBIpAESgCReAYAiWFx3CqVhEoAkWgCBSBIlAEXhqBksKXXt4WVwSKQBEoAkWgCBSBYwiUFB7DqVpFoAgUgSJQBIpAEXhpBEoKX3p5W1wRKAJFoAgUgSJQBI4hUFJ4DKdqFYEiUASKQBEoAkXgpREoKXzp5W1xRaAIFIEiUASKQBE4hkBJ4TGcqlUEikARKAJFoAgUgZdGoKTwpZe3xRWBIlAEikARKAJF4BgCJYXHcKpWESgCRaAIFIEiUAReGoGSwpde3hZXBIpAESgCRaAIFIFjCJQUHsOpWkWgCBSBIlAEikAReGkESgpfenlbXBEoAkWgCBSBIlAEjiFQUngMp2oVgSJQBIpAESgCReClEXhYUvizf/nnL9//9X/5ej3rCvzif//PL9999/NnTb95F4Ei8CII/OTbv/jyh3/3R1/o/+Gf/vFFqmoZRaAIXBqBi5BCyNv/99//w0UJ3DV8Xhq8PX/Pnv9ebZ17LgR+569+9OU3//y3r0oGIBvEoH+39jd//7dfawfnR20+A6wRF/clh4+6Ws2rCNwPgYuSQr6MXardglTxNRIy+5m8scXHbLfIf8bsfRFYISAR4Hm/VpN0vCMplBDzJe5R279++fKF9YfAkqfPRInho65Y8yoC90HgIqQQUvRZcjXLv4bPGUPi9tEf8WJnntM39x/1u/JVWRH4CAIQAQnAR+yP2kgK35FkSLKeiRD7dZNn45p/WDj6/FSvCBxFgPfsFu/areIcrftWep8mhX4pgxzZIEMQLuYcM49sRZTQk6Cps0W2mE9dbLM5j2xLj03QOfPiPjfHmZP+0KPNeeTOWbP3Xw3+/T/qGTdjqqcO94zVnbWq3/49EGCTknxJ9FabI8TM+b1+9ewdjQHie76dW+WHLXJ16Klr5mMdkK6sG0KT9nsx0o4xtqtmLry76Rv5yn/61Xb2j/zlMNfg0fNcrVdll0GAd4xn+VmeAfcEcr5mu1Wca9bwUd8XI4VJgCAvEhn6vFKPpCU9qZPjLGxL18OEDV3bla6EVJ3ZO7+yVUZvfdOee1rOm3/mNu3MH93UM2bqm6N+278HAmzakg7GSVzmBsmGxjyX5IVemf1E7pwYPIf60W4VYz6vPOszp7xPffxnzeohY2xc7vMdoq7UxU/qgk82bPWpHTaOmZtk0tozx5QxnnEy5iOM+ZGyNSbuj5Bbc7gNAj6/vB/P0G6V763iPCLmnyaFEhd6mzLIDGM2nCRKbkBsxhKeld7Kp3rE0hbftIzBHP4zhnrEx0/mZ07pg3Hqop8+Mr725JG+vyYWMvNKv1lnxld3VYN+278+Av6ojwM8nzMq91BnE1s1ydDWvDZugvibzRhbJEfbIweLvmY+qzynjPiSN3PUX5I27WYt5jnl+sX3zEubrdp4N7HjesZmfYnfM9bRnD+GgO/PfO4/5u36Vr7b1873VnGuj9j5ET5NCpMYGV5Zkp0kNh5sK/KED+0lYEmUtKWfevpDrt7K35Ys5Vu5Uwctc/oqiP/MvFI380q55ufUoE3710bAg3u1EXKYI98ibG76W/NHkDu1Qe7ll/7VWxEsyVUStpm75C3tp04S6IztWH3fY+R7eRkz89IX/al4qfuIY/MHg7b3Q8D3YW9/4Mzi+UCXi3GeY4la6vGe5numHjr6UH9LVxv7zPeU7dG80SM+vum5zzjUYM7mYa98Cw/1nqn/FCkECAlQLr4ySI9tRYBWeugr12cSJcbz3hjK6W2ZowuHX2OoR7/KcUuubsbSl76tf5XXlt+V7qoGY7V/fQTYePxCtrd5r5DwK5bv0konZZJMNzv63CBT17Hz6O419VY18Iybqz7mvThkHHV8t9nUkaWO/uhXOezZSJqwWzVzwsczNuvbwusZa2rOxxBgT5jvz7T0D0Xq2c/3gffPd0sd+9x7fM/RnfrT58zlHNujea/0Mi9i+o7M/Hz3p3zm/Wz3nyKFEiNIkG0lY26SnSRmAG9LuTJtJVv0yCRd6jmf8lU+Kxk+TsmJaTOnlG352NJVnvgdrcE82r8HAhIXN1ruTx3kuemfQonNMTdD42Sfm3v60w4fW221+abvHOPD3HPDFQPrXumkn71x5mr+bP6zufFvkb6Z07R/9HsPPDF99Hyb3+UQ8NnOd2x6993gOeec5p1Tls+M7wFz6KCrjN7m88a7mT59V/O91Mb+HFtzzBjKMm9lKz3maKt9Brm2q33DnJ+x/xQplNQkMZJYpQxgpq56kKAkhVMPW4kSc6mbgLNw6qV85W8lyxzxk22lbyzqyGZd2NjUTRlz0+85Nei7/fsgwPPBhuZmxEbKeOudcBN1c9tCCns3ZTZH4tgYO6cs+7RN+RxnLtSwd2GrPvnYrNuDQ6JpfZnLnn/msllf1u088ZmfNs7PnJQ/Sy/OW/U9Sx3N83wEWPO9Z9t53y8jKPeZ8T3EV+5FPltpr23K8Ot7hM1WO2q7paecnub9zEV57j3uEda30tnK+9nkFyeFk+gIiMRIEiV5Qi7QKUsCteVT3/Rpm/KV7cxFfXWZt6XM3MlXH/MgUZ/etpJlvvpImbb0K/uc7/g9EXAjzc0rkTi6ce3prTb2jOGBMDfW1GGsn61cp7450dvcmL2fOryXU0fdrf4U6RVjiej0Yzzf4Tn/6PeuS+L86Dk3v8sg4LO9tfZb8/O9836+2z5buTds+VSOzVZTZ+arXFvvp555Kidf3l/vjbuS65N9IPeZrX1BX8/Yf4oUSowkSwCwkrFhKk+QlEF6JD7K0meSJXXVl1B6T59t5S91GRtrFUd7emNlndinD/X1ie6eX2xtjLFPWcZKn9q0f20EVhuUFa82Xefo5yaYcznei6EPdFbtVA7aSL7YXI+0mdPKfurgNzfvI3FOkdo90peHQ+4NR+I+io7rNw/GR8mveVwPAZ/tLWLjuyTZMpP53s179dw78p3XZ/4hKt+jrVzwedRWvVN5b+kpz1ysEZ/WhewV24dJIQspAXJDTFkuepKiBDHlkiGJkT7VV25M9Z1XnsSJHJSnv1Vc/cw4qasO/Upvq/6VPnllruiYa8q3ashcOn5dBNyA2Khmc6PaOtC1PbV5bfnRfvWnaXM5RarUo3eznfnyjDOXNarrxmycrGXqEMOc05c5YIs89yb106/66HlwKpu98+Y55x/9vqTw0VfoOvn5Pq3eEyJylvlsT3I13zvv53s995V8n/I89h3cyoV8zJec9myP5r2l5/tAnGzmyLz15j6Sus8+/jAppHCAzQXakinfAitJ0BFd9GfcLbtVjuaBn9XCIsucVrHwoV7O78XDBr/p21zs01fKVnLn2782Am5CbFRsTm5Q3DO39WzkRooedvaJ2JYe/r2w3Wrmp2/J19TnfdGfutoizxjq6cOaU0fbWb9yY3g44XOSP+fSrzHFBT9bTXvzN8+Z05b9veUegqv6751b418PAZ/TvWfb9yifjZWd70C+W747vBeesT5rKeM9WcWZlRv3iO3Kn/ZZL764yIuWuaQec9pbK/ev2j5FCl8VlNZVBB4NATclNzI2rSMbU/7JVtuV3dTDP7IjmyCbPvr6p1/FAFN09ak+9xwiNsljbsza6Heloz09evqn38LLvDO+fvRB7L1mbsbDZ0nhHmKduzcCPrM8q/Pi3aL5/PNcM9aG+3xf2Cd89tFJPexs6Y+Y3NNjS7/XzrFNXcaZT+atPHMxH+yyZY3k+yzvd9ZwdFxSeBSp6hWBIlAEXgwBD7t5CL5YmS1nICD5kcxln6oSJ+exS2KlbhIxdCVaztMbE13H6p4iWehzETttyW9leyRvyO/0ZR28F9mIIQav/q6UFObKd1wEikAReCMESgrfaLFHqRCdeQ2Vr7fo8Jz4BXGlowzStiKNzEuq9IOeY+2P9kdsj+Y9fWE3GzoS2Dn3avclha+2oq2nCBSBInAQgZLCg0BV7VMIPDup8oviq38lZJFLCj/1qNe4CBSBIvC8CJQUPu/aPVPm/lgWcvUsjZy5JITPlPtnMC4p/Ax6tS0CRaAIPDECJYVPvHhPlLq/4/dMX9okg/7YePVj5SdagsOplhQehqqKRaAIFIHXQqCk8LXW81Gr4cfHPGvPRKz4fUdyJvd3aiWF77TarbUIFIEiEAiUFAYYHRaBItDfKewzUASKQBF4VwRKCt915Vt3EVgj0C+Fa1wqLQJFoAi8PAIlhS+/xC2wCJyFQEnhWXBVuQgUgSLwOgiUFL7OWraSInAJBEoKL4FifRSBIlAEnhCBksInXLSmXASuiEBJ4RXBresiUASKwCMjUFL4yKvT3IrA7REoKbw95m8X8Rf/+3++Xc0tuAg8AwIlhc+wSs2xCNwOgZLC22H9dpEgg//ff/8PX68Sw7db/hb8BAiUFD7BIjXFInBDBEoKbwj2u4SCAH7/1//ll4QQYlhS+C6r3zqfCYGSwmdareZaBK6PwNORwm+++ebLT3/6l1dDhn+9nBjv9q+YXwJQ/gX4SQb7pfASyNZHEbgOAiWF18G1XovAsyLwA1L4ox//+KqE67MgQTp+9/f+4Ov/euazvrbsIZzEeKb/Hc9WLbeS75HBksJbrULjFIHzESgpPB+zWhSBV0bgl6TwFoTrs0CygUHYyPVa7Y//9M++fim8lv9r+4XUUsOt2taXQcmg/fzx8Z7d1OVeP7PHTzaejamT96n7/fe/2NXtHwwSrY5fEYGSwuddVfan/kTrvPXjfOQngc/ceGep4Vo/Nf0lKZRwnXrIeBCPHJZH9VicI/7QY0H5mmk7ZXc0h/STQKfcmPRb8tRxvCKwWxhv+V3J8TvlyPzaO+fM59L9HrlLMjaJ3p7d1L0UKZwEEiz28rgVhpdek/orAkcRKCk8itT19NyzM8KRvYezKs/DtO94jYBkaj37+FK4Ax/G+PDDu8t16fZLUjgJ1wzEQ0oiJMTFw7hKCBlz6mEzH3CJlzH1tyJQmQd2+DtlB3DomgPjFRGbfgScGpjDfuauzZSb56o2ZDRtrTdzonbkE1Pq1X760A+26Rs5F7JbNEjbHrmCHE6id4u8GuPfEPidv/rRl9/8899evgOXwugn3/7F1xj079Z4Z8EXnJ+tmfs7rtsjrNVq3/f8OpUfazfPi1M2zzjPGXipOlcE/JkwAYtr/0Hgl6QQ4pHkI4GCADnP4vAgkxzEI4kNJEQygg66FDD9KsMH9lzIuN9rR+zSl76Jj202wSVn6jNXa+LesXbo4WePbGWOYEAO+CEeeXCPHL2sdxWPuNiopy9z5j5zYYxf8uS6ddsjhyWFt16NX8WDsHDx3F2rSTzfkVxIiP/w7/7oWvBezS/7Ds/GO67b1UA9w/Fq33fPP7WHr+Z5x1fyvZQ4R6bNvNd+JSfm3t6CzTkxjEWf+Hw0tnbkyFmMzyNNu1O61rent6pf/SP26u49G/g5mvPeev2SFO6RnSQbJkefNiST9+phy0KYLOBwT3HZJE0py/FRO/xO39r6MHifhIpY2FEDbfUAbeFgnvqVxCGnburFrxggn3nqW19pa56+IFsLOn2mr1uOV+SwpPCWK/CrWDwrksJfSS8/khTyDrxbgww+K7FiT3nW3F/hOct9n7XgnOC88MqzJOv1rPF9o09bxp53aZfjGS9jcZbkPXbzfCEmMnNlnGccY3w4T3/qLMu46VsfWW/On4rNPPXiZ+v8FBvXBF1wNGfn6cU365s5oJe+8IeObeKDT+tTx57csRUHetd35cc57clDDIiT9urYfyWFJLKnhJP5gOCAIAJGj48JuAvhw+L9VtImNnv979lt1UHsrI9aqGk26uGiaWN93GPj/bTl3tpyYc1p2k1fGVvf2uoPbF2LiTM206d+7tUnOVzle6+8njUuX3MkXxK91Rcenhfn9/rVmhyNAYZ7vp1b5YctcnXoqWvmYx2Qrqyb9yzt92KkHeO5f/gsmAvvefpGvvKffrWd/TN8OUyMxaL97RCY+z7rwVlFz7O41TwP1clzgfeI53y+T+nLswo/+PCeuLR5z5lJrsbDd8bEbp4/1oYv7NAxJ+Kinw2dPKe51wdjLtpHYhtvxsz4jOUG4kJPTvQ26kBGbsjJR1nqTV/ocNmsDRk+vHd+9sagF4vECJzxQ1yfIX3omx69zEMd+6+k0AcAh7OZCDqz5UPgQzN1BNUitvRMetp7f8TOWLOOWQOx8Ddb1sMcei4y+kceKGyyrbCd+aA/YyMj9oyJLbKpT835QmUO9x679vfO45nj+zUK4sE4iQsEJRvPCPNckhd6ZfZpw/icGKypfrRbxZhrz3M6c8r71Me/RIsY6iFjbFzu5zufuvhJXfDJhq0+tcPGMXNz/7P2zDFljGecjPkoY/C29n99lKSukAfrwTMwn5MrhDrL5dzHPcPyPVg5zPMQ3XP3fuLmGcizuiIS5OM5lM9zxje/rEWbLbxX571nZcZJn8Y5EnvWIkZZs/7sjT/f9RnPNaK36V/Zli/1V/isMFGf3rj5bOgnZehO3Ljnmnrp3/FXUjiLdpJ+qzgfIgHcKmj6Xunx4LCIAprxHR+xW4GGvXLizMXT/6pOc5+1ajN7csQmmz5SZixfmC3/q5r1Y03iP32q1/75EWBtPbjnSy1x4dBbNcnQ1rw2zBtDmb0xcrN2jl5bYp1q+pr5rPKcMuLPHPXne0B87ZjLZp5Trl98z7y02aqNdxg7rmdt4pUYPmstW3lbI+vE2L13S/8W8tW+vzovVrlwNuR56VlxZA3RkTSRA34gDPjIphzd9At2ntfYM4dtkg7G8yxM38xn/swZT70VPkdii4V+6LfO/dTZwp68Ehv0yD/bzHWlk/r4Q4d6wI/xxDn1GaOTeSDbwhk98U3Mps/V/VdSaIIrhVmsOnMBVwmzELn4Lgy62fDlQ5pyx0ft9AMI2bI+fQmYeuiQQ9qioy39XtvzO+udWPmSZmxlM09zmPHQmw+quu2fGwGJySQsVMVzgpz3dNUkTVvzK5sp80BdxUd3L7/0pR7+ZuPZ58BOwjZzpwYPde2nDnhMP+rSq5/v2l5exsy80t+peKn7qGOxB7fPPCePWh95+QxTo9e9yaF7PHu5zfPG+1XPek0CgQ/PsHneTB/MY++F3eqc4VlAZ/ozb+0lJtaxyi9z0C9+spEHl804+a4q24o9z0V9bcV0nt46UsZ45sX9FibmutLRr/jMGk69e/jMddqrKXmXmJmbeWz1vyGIFIlxXhoJCkmgT2IUhK7NwMyhg6526lgE8ukri1Xf/qgdcV1YAOCiLmQJiHkhwzc6yoxJT03Isc9aU8exOdLbxHbWhs98qMSOXnzRSYyZc16dnCeGdWat5tL+eRGQtEBM8vk6UpEH4NFngmeMeHlJpLZiO4/NXlNv5Ydn2lz1Me/FIeOogz3Nwz919Ee/ymHPBjyIgd2qmRM+nrlZJ7VS09Hn5Vlqdo19XrKnXp+fW9bjuWNMcsg9XfnsWSv0Vu8Rc5wD88xJH551xNuqG7l6+MuGb+Jv2Zsf/aqlvfP4mnmjRw7Z0naV+1bstEt/jvFFTejNRl6e11t6meuWjn4zx1UN6mWvz8Q0/aQuz0U+R+Q21zD15/g3dICTvHIx2CC4d54AmZxODa4eQGbRzhMTH+jRI99rzBP/iB156Rv/2qX/lR9iuPDqCvqUO5899sTLesWW3ubizpoTX8Zgjj9t0c+6Jm5Z08zD2O2fF4F5qHG/RXyskmfIw0/ZVs/zI2HSZvZbREE7n9VVDOamv6177M09yZgYWPdKZ8vnlGeu5r/a04iFLbFXbea00nkWGfVPnLJuMAMPZPNKPKmXfW5Ld+LM7zJu6SKfv+uI/YzPPbrzGSUv5lzjWV/er2Jdc+3Y5/Nsoa7c87diexZszeOXa6udmsdOHfCcZ41n3cTaeGBOHXOdncd+5gcO0wadxAf7U7HFMGNbV3vIQAAAIABJREFUw4xpPvbUOePpz+d73ms7c135UvcUPuplv4q75Wc+HzO39Lsaf/3xMS/wvFbK6Gw9CKmvr5QxBvBcmFy4qbt3f8SOPMljr53ys1qIPX+reEdl+GWRffi4X9lOnZkPOa/spl7vnw8BnmkOrjzgGG+tN88Chx46ew17D0cO0HzHGTu38pG2q3llmQs17F3YqE8+Nuv2HaHP+jKXPf/MZbO+rNt54jM/bZyfOSl/xh48rUdM8tkBA+Wzz3Widtdv6nGfPtHNZ2ylP9dl5pg2xM3m+qXO3thnK31cY8yzCgniALeRu6SQea5V4wz1HCVffIAR+vjYIyT4k1jRY4MtY2vnnMaH8Znj3oYeeaKXcRN79MkRXfzQO68/bI2NLj65tyEjhjkiPxpbO2Li5xQm+DYvbIhJP+3UMUd6dOdaiqG+sn5sVvjge6ut4qJLbVzijB65ENdGrD3f6tl/JYXeXLsn+XOSu3Y+p/zPB+KUfueLwC0R8HCcB7I5eIhvzR/RY3PhEJ0HubZsRnvz6unnVC7qm3uSMQ/zLR0256mj7lbPIbRnI8bUuWra5mG20nt0metDPazRqh7+X+HgsLrAPhtf91Z6yFa+ka30V7rEWukim18V1XUdXa/ZM58HadZyjTG5cnjT28iVMxL5PNjVoc9DHnvutaGXEKXNHKOTNsQFa8lH5mWuiY96+iCHnJ95Zc7EyZzJBVtk2Yihf/KznYqddvgklyPcA/wTl8zZ2PjJXJCv8Jlr6broZw8fdbJfxWUeLJkTJ3Ke68BcytLvanwzUghI5ya3SvjaMhaLi4cDgMm7rQjcCwEOaA6wJEfmwovO3BZhWxErbbPfi6GPLTJ3KgfjsHnt5aqe/cxpZT91sPXw5x0+0tDby4s5LuLPxt7g/DPvE2JLLUdxm1g8+r3PiutlLxmcZPIW9Ww9M6zB6nkzp5UdNryLqzntZo8uNnuxtNnyS9y9Z2ZvnrlTsZnf8r/ne8/OmrZ6aj2V17Tdwgc/e+uyV0PGWBHUnN/LeSu3tM/xzUghwEAKtxY4k7rnWNZN/+i53hOnxr4NApKyFfHzoFsRRrLTFr29tuVHew7QrRi8I8yv8psxJWzTFxsnc+lDXd9B42QtUydrTl/mgS3y3PCtMf2qj57kQdnsnTfPOf8M91vr/wy5H83RGl0vngPOpHuQwaM5V68IgAB7yy0/qN2MFFLcuYz1Xo/Es+R5L3wa97YISH440CAxEhnumdt6XiVS6mGHPn22LT0PUOOmTY7NT9+Sr9RhnCRLXW1nDGPrw5ozd21n/cqNkYSAcTbn0q/z4oKfraa9+ZvnzGnL/t5yfiRM7tT4ygTJdaLOksF7P3WNfwQB9hD2IH9qecTmEjo3JYWXSLg+isA7IiDZkCxJeE5hwQGIrnaSl2k39Tw8PUxXpEkffuk7FQN9dPWpPvdsfjbJIznYtDGPlY669EfxEpuMrx99EHuvmZv14PNZSKHE91SNe/U/wxzPd8ngM6xUcxQBnle+EPKj49X+pN6l+5LCSyNaf0WgCBSBJ0GAg2frDwpPUkLTLAIvi8A9/nB5FVLI7+PxN4Au3fg6wHWJBvN+ht8b5NPxNbC8BIb1UQSKwHMjUFL43OvX7IvApRG4OCmEtF3rlyL5jAqRu0Tzr63fg4mfk/+pv3V0jq/qFoEiUAQSgZLCRKPjIlAELk4K/Tn4pb7o5RJB5C71s3W+wF2KYGaOjCFyl6ifWq9FsGfOvS8CReD9ECgpfL81b8VFYA+Bi5NCiBukyHbqSxzk6SiBmr7y/oif1N/6ETc6R4gnOunPeq2fudX8lp32aSfBXvlRv30RKAJF4KMIlBR+FLnnt+Os4uPIue3IWXuuz8/qc0YeObePxOGdeIS2xVEyN9YCvUvVju+Lk0IS9PfgIIf+7ZlJ/CgCXea5GO+RH8mWgGCPnaDoZ/WQa4sOOWmbi09sbPWjnvHwIfjWhS5y2szDWNoTK+1mnhMPMSRmWxEoAkXgGgiUFF4D1efwydni+XVOxpxjj3YukQ95fbaBB2c35/E9G3yCPJKjrPJhHr097rSy25NdnBT6wEBqAJYLWZIgClbGWJ29B5RFzwcRXWMxBpTVghIXPXWSnOXC6x+ZBC/jOU+PD0kkvm3IMpZyFy5zyAcv8TC+eSdu+mtfBIpAEbgEAuxN/dvHl0DyuXxwVh0hHauqOMfy7OT+3ucUzzHXZxt1UU82znTO6Fs2OcOpuOCePOUSOV6UFAIoD9pMciY+7ylEMrVV1JzHx3yoBdKHw3zmIpMf/mzMz4VHJ+tgnouXyYYdOSgznvHVw458berR05ibvq1l5q6P9kWgCBSBzyLAPlNS+FkUr2MPIdgjBZw7Oe85NLNBzlmT854vnkHM5fz0kfepR3zOLs6plKuPzBjKVn3W4fzMWfmqX8VW72gO6mcvN8DHKsaRHFe1EWNLzpxxzWUVmzk4SnKL1D+Cu/rZX5QUUsgkagRDLsECCHSQkTQPJ3OTFGWS2qBrw0afyowvgJIt5+2nLffoEocYjLMO4+M/G3qZw4yPbr581IsOtWq35TvtMmbHRaAIFIFLIcA+U1J4KTQv44dzgvOBM4iLsWcaERh7RjmPDWPOE9v0wzzrTfMcQofziDmuecbpy1679KFt2s8ciUEsG36oK+OjQ/4pS5/azh599NI/vqh14pQ4Tj/cY0du5JFrgH/mbPjmHjkXcbLN+Piypa3xsE8f6HMv3sbP9aUW5OjYTuGu3l5/UVJIEVm8gZEpBxCBtFDs9hZLGwGhxxZ5thlfYFOHsQvBWF/mxBx+8gGb8fU3/c/46CHTNz02uYj6znjYoYP+Hi7m0b4IFIEi8BEE2H9KCj+C3HVsOI88gxhzLuR5RVTOEGSsHeeDxAGZLf3gAz319YEfLuWcVelDX9lro8zY+M+zSj1ik4v32nlPrw6xzeGcnOZZib88a8URGbpbTTti06iHnLDJ2pjXF3Lvsafph9qw5Z4caOpSp3mhZ5yvSv/OUZCjhz2X+KhjHHobNlzIVrirt9dflBSaUAYkMQFEnguYQKfNHGMDIDaBTTCYE0TG+M640xYfNH3Rb+Uz46d//SDL+F+d/7sMOb5X/hMPbfSFXVsRKAJF4FoIsH+VFF4L3fP9QgLmvp+EwfMizz7POmxt+Jh+nKPHJ1eeSfpOWdpoh55tFYd5fEuE0J16q/jocGZnbfoy3qqfmFlH5ilGKZu+tLN+8iCfPOOxIffEWj3z1s8q1rTFn/ra62+u31ad5oufU7jPmlf3FyOFgp5grQoWgHxgVomlDHDSr8WnjvGZo817dX3wjO8CzIVXn37GR4Z+PsB78ebipm/xwN6m76zZufZFoAgUgUshwF5TUngpND/nJz+gcC6xNpwdHPSeD9zP82SePZ5pnoUzq635STqmnfmRl43cZhzywxf66DJOcqWfabciTKt6jW2PTvoiHr6yWXPmnvOMZ/34JG+xRwd7z318okOsXJNV/GmbsfWhzLgzV+QzTt4zJvYW7vo/1V+MFAo6iTEGSIujt6ln8uhR/ARAffr54BEjwUAnF0tb9QCJuC76tHVRzZs+c57x8c88clu+mIy51OMhQh8ZuTAmBo0+55kjP2R7mHw17n+KQBEoAp9AgD2mpPATAF7Q1DOMvZ+L84Uzy7OE3rMiw3qGeF7oh7Nm1bbmOXeIt9WmHf7nOaVs1uB5h+/pB5l2zGVbnb05v7Jb1bGKmX4YTzv5QuohszZ6bDizs00/zqGXnEE5+ly2VVzmpl7GEQdz89lJ3PV/qr8YKZTMkAQJkdzWggpOFjAfBhOfDzzylV984s8XCL1VLujNBz/1Zt6r+PieC4QsHxji2FKOf2xZRFvOO4cesduKQBEoAtdCgH23pPBa6J7nN8+wPMf0IrGZZ6XnhzbpR9vsmecMzbZFOFNn2plPnmXK6M0nfTCefpBpl74kOsxtNe08K7fqICZn61Zb2aEPttmQcaG/qm/lR3ttvae3RvKzHdEzjtiIA/0qL30f6S9GCmcwk53yvGchXcyUz/Esct6rvyU/kgs+tvLZ8mvc7Pd8kEc+9Ht258RMPx0XgSJQBI4iwJ5UUngUrevqQQz4GLB1RrBWzOd5xnkDwYNI2E75QXeSHX3vncfTjjiTXGI/czQv++kH+cqXOW3hsbLTZtaximk+9NOO85c6yCsbfri22vSTeitbCT12NOPO9XFNrWvGOYJ75rI3vhop3AvauSJQBIpAEbg/AhwuJYX3Xwcy8GCHEECEIAisj4QBHUgY88yhD9FQZhVbfiRX6E+ysyJl+rOfdtrgV9/mSF7kYZ4Zb/rBBv0VEUJ3r02iZU5pI9HKHHKe8bRLG8Zc6kkWkVE3ttTq/FbOxhAX7skff+Ln2iV+6Bnza5BFvsiJm3b4wvbcVlJ4LmLVLwJFoAi8CAIlhY+1kBIHSAAXB32SQgmCcxz8EIF5+K/8oCvpSJ8ggA+urbayQ0Z+5ipxmnJ0zG/lh5ipYw6nclrZrWy2YhqHfmUHSbU280c35cxjK6lb+TEO+DCvT/ywDtRuIw46ieFRbNKGGCs74+z1JYV76HSuCBSBIvDCCJQUPubicsBzrRoEZGtu6q/8SN6m7qn7LTueodXcKjYxVror2al8tnyt7D7qf68G6pYMrmJuyfB51I4Y57atnI/6KSk8ilT1ikARKAIvhkBJ4YstaMspAp9EoKTwkwDWvAgUgSLwrAiUFD7ryjXvInAdBEoKr4NrvRaBIlAEHh6BksKHX6ImWARuikBJ4U3hbrAiUASKwOMgUFL4OGvRTIrAIyBQUvgIq9AcikARKAJ3QKCk8A6gN2QReGAESgofeHGaWhEoAkXgmgiUFF4T3fouAs+HQEnh861ZMy4CRaAIXASBksKLwFgnReBlECgpfJmlbCFFoAgUgfMQKCk8D69qF4FXR6Ck8NVXuPUVgSJQBDYQKCncAKbiIvCmCJQUvunCt+wiUASKQElhn4EiUAQSgZLCRKPjIlAEisAbIVBS+EaL3VKLwAEESgoPgFSVIlAEisArIlBS+Iqr2pqKwMcRKCn8OHa1LAJFoAg8NQIlhU+9fE2+CFwcgZLCi0Nah0XgtRH4ybd/8eU3//y3v/zOX/3oUKE/+5d//qqLzT/80z8espGsEOO7735+yKZK5yPgWoJ3WxEoAkWgpLDPQBEoAocRgKBB7rwgfKeaxAObP/y7Pzql/nUeMmgM7Nuug4A4l3hfB996LQLPhkBJ4bOtWPMtAndGAGJ3DsHj66AE7+iXQolkvxReb7H9GnuUqF8vk3ouAkXgURAoKXyUlWgeRaAIFIEbISAhhKwf+dp7o7QapggUgTsjUFJ45wVo+CJQBIrALRDgR8R8qfVLL4Swv0t4C+Qbowg8DwIlhc+zVs20CBSBIvAhBPzdQX+Mz/3RH+V/KGCNikAReEoESgqfctmadBEoAkXgOAL8jiZfCOkhg/963LSaRaAIvBECJYVvtNgttQgUgSJQBIpAESgCWwiUFG4hU3kRKAJFoAgUgSJQBN4IgZLCN1rslloEikARKAJFoAgUgS0ESgq3kKm8CBSBIlAEikARKAJvhEBJ4RstdkstAkWgCBSBIlAEisAWAiWFW8hUXgSKQBEoAkWgCBSBN0KgpPCNFrulFoEiUASKQBEoAkVgC4GSwi1kKi8CRaAIFIEiUASKwBshUFL4RovdUotAESgCRaAIFIEisIVASeEWMpUXgSJQBIpAESgCReCNECgpfKPFbqlFoAgUgSJQBIpAEdhCoKRwC5nKi0ARKAJFoAgUgSLwRgiUFL7RYrfUIlAEikARKAJFoAhsIVBSuIVM5UXgy5cv33338y//8bf+869dv/t7f1B8ikARKAJFoAi8FAIlhS+1nC3m0gj8wz/945c//tM/++X1ox//+CtB/Oabby4dqv6KQBEoAkWgCNwVgZLCu8Lf4M+GAASRL4c//elfPlvqzbcIFIEiUASKwC4CJYW78HSyCPwQAb8U/s3f/+0PJ3pXBIpAESgCReDJESgpfPIFbPrnI8BXPn4n0N8VZHyU5Gnzs3/5593AxJBAasNXxr3mV0j1sT8VB3/oWM/ROvby6FwRKAJFoAi8JwIlhe+57m9bdRI1SBi/GygJO0WoIF/q7gGYPhkn2SP+bEnqIHfomyf3/GWXvZb++7uOe0h1rggUgSJQBPYQKCncQ6dzL4WAZG0SM77qQfYgYHsN0ojetE8bdVZkDhn28/cRlUPuspnvlKcOY/4yjGSVcVsRKAJFoAgUgY8gUFL4EdRq83QIJFlbJS8x2/txreRx72ucX+1WRI4ckCdxU3/l0y+T5NZWBIpAESgCReDaCJQUXhvh+n8IBPzqNr/SmZykMAmbc/anfKAnccTfni997sXNfyNR/fZFoAgUgSJQBK6FQEnhtZCt34dCwB+vnur3iJwEji9+e03yaCzuV2SUWOqc6vfida4IFIEiUASKwCUQKCm8BIr18dAI5Bc3fly7d+0VInE79Rc/8MGPfokjkcSWcdrmj7T3cloRyr08O1cEikARKAJF4CMIlBR+BLXaPBUCSQo/mrhf9SB2H2n+bWK+GtokhSlzrn0RKAJFoAgUgVsjUFJ4a8Qb7y4I+MVu78fDe4n5u4J7f/PYHxuvvuxJAJNU9i+S7CHeuSJQBIpAEbg1AiWFt0a88e6CAD+e5Ue4K1IHmYOsHfmbxyvCZ0F7xFHCSB7ZJKvTL7mQ6yrftEdPH6d+1zHtOi4CRaAIFIEiMBEoKZyI9P5lEZA80UPOJGqQRcbZIFj5e37aQtJSnjaM1cOneoy5mMvfKUTfr4XM65tem0kWZzxiqDtrmLq9LwJFoAgUgSKwh0BJ4R46nXs5BJJEScRWxCuJmaRr9pC8VZsx0FvF0BZimASVONwf+VG3v+uIzRF9Y7YvAkWgCBSBIjARKCmciPS+CBSBIlAEikARKAJviEBJ4RsueksuAkWgCBSBIlAEisBEoKRwItL7IlAEikARKAJFoAi8IQIlhW+46C25CBSBIlAEikARKAITgZLCiUjvi0ARKAJFoAgUgSLwhgiUFL7horfkIlAEikARKAJFoAhMBEoKJyK9LwJFoAgUgSJQBIrAGyJQUviGi96Si0ARKAJFoAgUgSIwESgpnIj0vggUgSJQBIpAESgCb4hASeEbLnpLLgJFoAgUgSJQBIrARKCkcCLS+yJQBIpAESgCReArAj/59i++cPG/43yWxv+7npzp285DoKTwPLyqXQSKQBEoAkXg6RHg/5X+O3/1o+UFobL95p//9heuZyKF1EXOWYf1tN9HoKRwH5/OFoEiUASKQBF4OQQgTBK+2fuFDeLIHCTrmZr1kH/beQiUFJ6HV7WLQBEoAkWgCDw9Avk17bvvfv4lL4uTOD4TKZTIQgzbzkegpPB8zGpRBIpAESgCReCpEZAU7n1N+8O/+6Nf+zEsRBFbL+4hlNn40oht6uT81nhll77JVb/GpeeyMZ5fN/GL3C+gqYs8fzTOvXnTc585YLvKU5/P3pcUPvsKNv8iUASKQBEoAmcgAAnyR6yT8KQbSBF6kilJoqRLH0ksIVHKtece+V5L32mvTfrNecbEsamX8fSdMvT1IylUT5/OX6I+83v0vqTw0Veo+RWBIlAEikARuCACEie/hHHvZRjIoqSIcd5LkpAl0Uq/6ihLPWPYq0M8CKjx9JEkFl3mmTO/9C0RlcgSQ5n+kGkvobxmfdb5DH1J4TOsUnMsAkWgCBSBInAhBJKESazoJUiEgVSlbEWaZjqSryRkfn1L4rZlt6WjD/psxtMuc/TrXxJK5m1ioM+0TfKoPr3xzq0vfTz6uKTw0Veo+RWBIlAEikARuCACkhuIEQTHK8nQJE2El5xBFhknyfLLG3PYMm8c+tTNUrRDZ6vpJ/NDd8pXvqgtya0xrIVcbcouWZ++n6UvKXyWlWqeReCDCMyN84Nuds08QHKD3TV4ocmtQ+dRSvSg4zlgffyC8ij5NY/bIwDp4ZokKzPxuZnvtO+6REuyl3L9+8yl3znWDt1V2/rSpzzt9EXutpWMOezIk/c3m/qXqi99P8O4pPAZVqk5FoFPIOAGfU0y4AbLhvpuzUMkD6JHwoD8XB+fhXdcp0dak3vm4tc0noW95jOzIo7sJc77LPkeIJco7vl3Lu2UZe8fusg3/a7sVkR25onvLZ/GvWR9+nyWvqTwWVaqeRaBDyDgn6ZPHQAfcP0DEzfe1QHyA8UXvFkdRI9Y5vff/+Lrl8ISw0dcndvltCJTM3ruGxCxJGPqzuf+iF9tsz9llyTWPFKGvc19KL/+TRk+lNHT9Ksf+kvVlz6fYVxS+Ayr1ByLwJcvXw90N7O9gz03TPVWPRv/bGywR2Jgt/I5ZblhZywPAvWJOfOxDjbnzIkNP+33YqQd4zwsMh/z4HBI38hX/tOvtrMn70ds4Gz+W3g8Yt7N6TIISHZ4BublO8hzwfPMPI17xrwLXPpAh/eUxrvjO8C8utjtPWdpZwzsjY1vxvhGbmxl+k4/jG3q0ZMTvTJ80a5Zn3k8S19S+Cwr1TzfGgE3QjdGNjc3YDa4bGzSuSGj54aonH62c2Kw6epLu1WM3JyJl4REfXpzTH38WyMx1FPXuNx7mFlT6uIndT3E1MVWn9ph45g5Dx5trD1zTBnjGUfbR+iz5n99hISaw80QyOeaZzsvk/C5pqfle6s+fpzXjmd++ud+vp/q26/seGdt5mNs7n2n3TN4R5knXjZ8a0ePnbrmf+36Mp9HH5cUPvoKNb+3R8ANjM3ODVBQ3IDd3JTbu3FuzavH/GpDZd4YWyRH29zE9Tt7fc18VnlOmZs7Pmz6S9KmXeqhb55Trl/qn3lps1Wb5ArbZ2vitLWuz1ZP8z2OAPvIvKb13GuY53nnXTv1zDCP3srHjJP3p+zyPcdu+p/36RvbJKcr3WvXl/k86rik8FFXpnkVgX9HQGIyCQvTbHTItzZpSdPW/BGQJQ+r+Njv5Zf+1VsRLMlVEraZOzX4J339Th3w2CK32Kifh8NeXsbMvIxNfype6j7a2Ny31vXR8m0+RaAIXB+BksLrY9wIReBTCEhaICbnkjsIEleSoL1kJJnE9JJIbcV2/hS5UG/lhz+1m6v5zXtxyDjq+Kf+UwR2lcOejcQJu1UzpxXRXek/kkzCm3g+Un7NpQgUgdsjUFJ4e8wbsQicjYDERRLE/anD3K9v2JxqEAQJkzFmv0UstVuRPeNKQKbP1T025p5kTAyse6Wz8reSZa7mDwGc7RTpmzlN+0e+d03E85FzbW5FoAjcBoGSwtvg3ChF4NMIQII4wCUxkB3GfiWbAU595VI/v9JBcpL8SbyItWppu5pXlrlQw96FjfrkY7NuCZ2kBjktc9nzz1w2SWPW7fwp0jdz0u4ZevGbeDxD7s2xCBSB6yBQUngdXOu1CFwdAQlJEqcMymEP4dmaV3dPT3Im8dLGXmKxNa+efk7lor45JWGRvG3pJClU51R/ivSKsUR0+jOnFaGcuo9279olxo+WY/MpAkXgtgiUFN4W70YrAmchsPelSqK1RchWxGoVfC+GPrbI3KkcjCf52spVPfuZ08p+6mB7isTp315itJXXHulLEsr42Zq1lxQ+28o13yJwPQRKCq+HbT0XgU8jIClbkZYVKcqA2m4ROnW3/GgPMdoiDhKLVX76t5ewTV8QPubSh7r4pxkna5k66Jlz+jI+tsjzq5766Vd9iSj1bzVJo3lu6T2iXEznejxirs2pCBSB2yBQUngbnBulCHwYAcmP5Ewiwz1zW1+pPPTVww79SQK29CQ8xt0qwPz0Lfma+kmy1NV2xjC2Pqw5c9d21q/cGOSjv0n+nEu/xhQX/Gw17c3fPGdOW/b3lFvfqvZ75tXYRaAI3A+BksL7Yd/IReAwApINyY2E55QDfrwrSdJ2RQKmHjbIJD0rG2P7pU//EiTns0dXn+pzD0GxSR6TjGljHisd7emP4iU2GV8/+iD2XjM368FnSeEeYp0rAkXgUREoKXzUlWleRaAIFIErItAvhVcEt66LwJMiUFL4pAvXtItAESgCn0GgpPAz6NW2CLwmAiWFr7muraoIFIEisItASeEuPJ0sAm+JQEnhWy57iy4CReDdESgpfPcnoPUXgV9HoKTw1zGppAgUgSLw8giUFL78ErfAInA2AiWFZ0NWgyJQBIrA8yNQUvj8a9gKisClESgpvDSi9VcEikAReAIESgqfYJGaYhG4MQIlhTcGvOGKQBEoAo+AgP/W46l/h/ERcv1MDv/65csXrmds/FuhbccR4A8633zzzQ/+3dNpzXPPlQ2cseP66U//Mqd2x/g5FW/Xwc7kubnsuDprqqTwLLiqXASKQBF4DQQgSv6D28/wj21/FHVIr/8Y+z3I4R//6Z99JQ6Z/xG8ISe/+3t/sEtw0mfHX74SOjDbw/dHP/7xD9YDIokN6wQ5PIeIo3sq3kfWBbKJ33Ny+UiclU1J4QqVyopAESgCb4CA/9cW/08xr1hy/h9n7kEO+eID4bD5Ncv7rR69c75abfl5dDk1Jj6fyXdFwKc/4oGtDRuI4qmG3iRp+GJ9L90km/OL5qXjrPyVFK5QqawIFIEi8AYI8EXF/9XfqxLDJIV+GZUcXnuJwZcvPknuJIl7X7O28sIGonCOLQRo6s97463kxDtFTj4aA78QMvBZxUaWBM48s0+7Iz9yTX38HFkPSdqsU1v84Hf6zjwZT/s57z14bBHVUzHwcSQXY01/JYUi074IFIEi8IYIcFBNssRhfY8ftV4D/hUpzHpPkY7P5JRkgjEHPSTRa+8LmWSJ+BzcEBDtJtFc5TjjZawkM9oi47KBS8ZkPAmE5MW8tOf5QUYO2chBnWmbNREHXf2CxVyntHd+FTPja4OM3LK+Ldupgx65kCNjfGau6E+c9tYi83PJr33FAAAVXElEQVSMD65s5k7MfDZSZ7VmK9zwjRw/+nOtSgoT0Y6LQBEoAm+IAIe4XwwlTPQSQw4Q5lfX/MKor5UuBC0b/pFt6c7DlVgrXWTz8OOQQ571bI3JYcbKPD869iDXnhyTVCifvXoe1JIE5OSJ3Llpyz1zEhb1jZvzYiZZEwPWEMKAnDF6k4gwpww7dPRnfO/NkTqws4kP9sZmLuslvvfazdjEk+DMmNqkX2XoikvGd54eufEzT22Zow5xEnd9iAU62Hu/l6e46mPWi68ZB3/YocuYi9yQZbMWenIhb/2jV1KYaHVcBIpAEXhDBCBbSZggU0ng5nzqph7QcRjlfI7xm41DMufnmAMr2x7J44DLtpfzjMM9eV+6eQDr18Ocuvfa1MMPB/fRJjlQn9okP8rwSRwu9LN+YjGfDR10aRKbibn6+vSenponkZn4oKdtrn3qWYu5GAOdSYCcs88ajEVOp9Zj2qVt5rGqEdtcO/NPvM2P3nmx3cJ6rlFipL/pCzn5cGXNxkBWUih67YtAESgCb4hAkifG33//i5dCAdK6IoHKmE8CcsniJ5mYB/lWrKnH/fS1ZesBDyHgkmRBGrIphxRJQJgHC8kb9sxJuCQS5pP+crxHUPBpW9WELf7Jg9iMM8et2KuYxqG3rqwVX9jtNfLN+Oqu8pi6xMIWOZeY78VEB5vEeqWPnvIZ1xzxkbmLAbbZzLOkMFHpuAgUgSLwZghwmEiOODBesW2RwmuSQXD0AE4SwiEOmTjVVnrYccAzJ2FY+VEPXfUnCcBOIjHzkSBoD3FDJ2Ou8stcVmSPHJDbVvgom7HJ1bYVexVTG3rryuccXytsTtkxv8pjxji6FhkPG3zbxN97e3TUowYwy9rQc419Bmd++tK+pFBE2heBIlAE3hABCZOHxitCYI2S32uTQTGcBzAHLgf3KazVW5EVDvkkA8bK3nn8cK0acvWSqKGbBGFlj4w6VvlhP4mI8Y3n/cQHuTL6c2Knnf5nT75Zq3Vgu9ewI/ds2k4MZgxrRn9VT/p0jI1EfSsOukkWicuazBjKJYszv4xpjf3xsai0LwJFoAi8EQL8mBiiNH/P79UgkBTeigyK3zyAJS751Uvd7E/pedBPAqAPiYj3q14dyALkAp82/UsklGefhCTljM0/7ZXNOEnSsN0ilMbYIknUs/pSph09OpIt7s3p1HpMuz3bqcs919G2qm+F9cx9a81W+UzM9eXalBQeXa3qFYEiUAReCAEOQ0ghZOmVG+QkCcqtap0HsocvuHP4b5E6Duc8uLnXhv4U0ZAg0BOD2vVB7RAj/BufuYxHDAgWetiiR+5cNn0gYx4b5+mxdw7/5KxMH8ad60Mu6GfN6NqsHzt0yEWZOqsev+nH+CvdlOGbGGLJ3MqWeWqcMZRpzzx5r5rY5byxxJOeWsjJhm9l4ukacW9DRxyw0Rc12koKRaJ9ESgCReCNEODggRTyl0vaLo+Ah6+eOYQ5fCEJkyCpQz8JTtpgx32ShrR1DCEwjjaQAwlG2jOe+ainD2qBQNhmLeglScmcGRMbnRkXv8bAJw2dlE8cc9458s345mm/qpG8uE41fJuj+itbY9Bn21qL1HEs7t7Tg0v6sObUYSzBy1wzF/NDj/zVw7fY46ekcCLb+yJQBIrAGyDAIVFSeL2FzoM2o4B7fr3Jua0x+hzm59gR/6jNXq5JLGZ+5rWyxy5tVzr4I8fV3LSfsbE7p80YW+Rq5ZM6s5aVDrIZQz3kR9dCm9nj48j6o7PKQ3LrHPWs/JUUTuR7XwSKQBF4AwQ4FEoK32ChW+KvIcCzz5eyc4nlrzl6IgFfBP3SuZd2SeEeOp0rAkWgCLwoAiWFL7qwLWsTAb6S8dxDkPhS+E4NQkjdp1pJ4SmEOl8EikAReEEESgpfcFFb0i4CfBnkCyGEkOf/XRpkmLr5EfKpVlJ4CqHOF4EiUAReEIGSwhdc1JZ0EgF/p+6k4ospHK27pPDFFr7lFIEiUASOIFBSeASl6hSB90KgpPC91rvVFoEiUAS+IlBS2AehCBSBiUBJ4USk90WgCBSBN0CgpPANFvmTJfJPlqz+2ZJPuq35BxBgHfjLIry3Nu6P/J6g+kf6ksIjKFWnCBSBIvBiCJQUvtiCXqEc/kLGkX/G5KOhj/6e20f9v5Kdf0lGzCCJ1/hndUoKX+mpaS1FoAgUgYMIlBQeBOrGavyzIY/y7+fxFSq/TF0SCvxek3BeMld93XNtiJ14SRIv/SW3pNDVbl8EikAReCMESgofb7E96Fkbvwhlllvy1MEuiUL6QZ732CFL/elr637PTpstv8xDcCA6Mx9t92rF75ad9qt+zyf602/G2Fqb1MmYU573W7hsyfErXsaAsPtvLaZv5z/alxR+FLnaFYE3RYD/Vy7/J4zf+asfHUKAjQ5dbNiUjzQ2YGNccsM7EvtddFiL/h9NHme1OfT5cWBevi+8DxAA5yBT2bCFJHCpw3uDPfe8g+kff8ynbPpM0kGsLV/TDl1tie2/CUgs4s5a0Ekfacsc97Y5h+89IoU+cck98Uuf1jaxIE9ktJwjJy58EpsxutmoR1vkYkevr8wh65p4Yc9aTSzwYwxs0p82K3nmuRqXFK5QqawIFIElAmxOEAmvvQ1ZB5JIbP7w7/5I8W4viSxp2YXpU5McUMX3UxBe1FiSxkHPmIsG4ZAQIPOe9bNx+GMHGUHunGSDOeywl7AgYx4ZvURHn8xz2dLXnh3+Z77kl/7Jz3vrJA626Gau3NO0MTb3jPeaNdCvfGLLHiZ++OTePOhp5Kgvxua8Wgv00dWW+4kdcfSB3jl4fU3oy5evOVv/jJcxjaPdqb6k8BRCnS8CReAHCEDsziF4bIDoczE+0iSSkMNzN7Uj/qvzb2SjpPCxngTIiQe9mSFLgsE7JKFCx3uIwWwSjnzv8C8JUX9FbmYu+kLXpp0yc5k1kBv+bOaQ77a2+kIXPe2MdeQPosbBlivjzNjUNXWMlXWgk/czP2MSa+K7wg59a55+T+GlnVjhP9efHFb5muNeX1K4h07nikARKAIvioDE24PlRct8mrLmQU/ikhPmuCAPHPZJAFJnFosehCGbJChl+IXISJ4gXtzns4GvjIv9tFv5Rm/aThKDjrbkQFxrpaf5RQ+9I8TQGrT/6uTf41jHls7EdLU2+Jt1IVOX3rbSY86a1bOf+hOvibtYaT/vlR/pSwqPoFSdIlAEisCLIeCP6I8csC9W+kOWIxHJ9YAMQM68IAt7JCcLk/AksWMeH/jNNknHzGXL17Rb+SbO/Gq10kNmnfTcz9whWvia/rIWx7MG5RlbnSRw6E3SpV6uDXqrPCYh28IO+8zF/FZ+p97E3fwg1MRb5ZX+98YlhXvodK4IFIEi8III+JXw6O94viAED1cSZILDPxv3XBz2fsXLecaTMDgvUUjCs0VQpo9JbFa+Zmzyg8xhm01bepp63qcM271a9YsesdKHc/azhoyjnX4mtuKevpBlA9dVDtOWWOjlOmQu5JBNfXNc4TXXy1zoJ2FM30fGJYVHUKpOESgCReBFEOCw8Xc855ePFynxKcuYBz1FTIIxC5MwTGKB3ooUSTiSoKyI4sxl5WvGnvfkgAxfkCLGtFUOyPm6BaE50laxpt2sgfkZm7oyN3SU0dv2fOU7pP+0ZUxts61qOILXlh11mDt5fLSVFH4UudoVgSJQBJ4Age+//8XXrxQcFP7I+Jy/9PMEJb5EihIPDn2Jhoc8vXLGkrr8QjRBwB9XNmwnQZHI6BP9+ePHla+VnXrkz+VXq8wj7aiJi4YucZlHRj7kS0OmnDnkkCBkW23WgN6sX/yQ4xd/5Dp9IyM/dFwbdNUzpy3brD/zRc61h9fM2bi5XvjU11asjLs3LincQ6dzRaAIFIEnR8C/Le7XQYihB9uTl/ZS6Ut0IBp5sENGkHlJIiheG0jJbCtSJHFI3Uk6JEpJuFa+VrGxRZdctUGPGmzkSh7WY5wpZ14czFEbfetz9qsa0FnVn/gyz7tBnCRd1po56c+ctmz3cj2C18xZLGbN6M28p86R+5LCIyhVpwgUgSLwpAhw6EIM+T3CPOietJyXThtCslojCBPruCLzK0IISFvyIwBO23mvjy25RE+9VU+dq3qQYb/yjc0Kn5X/lf1KD9n0u7LdWptTtitfM48jeE2beQ8pTPI954/elxQeRap6RaAIFIEiUASKQBF4MAT8knmUMO+lX1K4h07nikARKAJFoAgUgSLwYAjwBdKvqns/oj437ZLCcxGrfhEoAkWgCBSBIlAE7ogAP3LmdwgvSQgpp6Twjova0EWgCBSBIlAEikAR+AgCR35f8Vy/JYXnIlb9IlAEikARKAJFoAi8IAIlhS+4qC2pCBSBIlAEikARKALnIlBSeC5i1S8CRaAIFIEiUASKwAsiUFL4govakopAESgCRaAIFIEicC4CJYXnIlb9IlAEikARKAJFoAi8IAIlhS+4qC3pOAL8O0/8w5/+r4TouUfeVgSKQBEoAkXgnRAoKXyn1W6tP0CAf/1dMggR5N994kL2mZZ+9S/Z3PLL/54odR0/Ejm1rkv8r5S2cKi8CBSBIlAE7odASeH9sG/kOyLAv+8k8brE/xooS8GfBJNewsd4q6V+frnc0r+H/F1Joet36eck15D153nce0ZS/5XGPlc8921FoAjcF4GSwvvi3+h3QsBD+BYH0bmkoofknR6KjbD+4eGaX239g8A7ksJbvosbS1xxESgC/45ASWEfhbdE4JaHsKTi6L8+7yH5jgTh0R5GiKDrd83c/IPDNYnnNfP/jO9bvoufybO2ReAdECgpfIdVbo1fEfDg9ZBf9asvh3y58+DS5ihhk1QQ+2gz1qkYR/Oy7oyPbOaknuTVPKzZnrirlmR25oYv/U5b5DMWvvTH3CUa/lZxpm9yt9a9fkXgjsYg5p5v5/C3amKjHnXNfKyDuawbedrvxfCZIA5jbFfNPFjL9I185T/z0Xb26LQVgSJwWwRKCm+Ld6PdEQEOJy8PIO/t58GKXF0OqXl/qhz1zzngPIi3DmBi6pfcTuWlP3NdEdUkEOoRIy9xmBipTx7mY595ksds+DI/bNDXj/GQfbalz1N4kZN1a6eN8lVO6q5qZy6b5Ak/2oFD+mc8iXTipX7apz72YohO4sxYO3TmmuZc5ojufC6xRY5PY5yyYd7LHL23nzklfh0XgSJwHQRKCq+Da70+MAIeYhxGe43DycMuDygOXg+/eUBOf/qgP9o8JLf09UkOR/IyV/3lga9Mn1v1HMFMv6u8rCnzJbY29NnMB7utnFJ/b4y965ikCRux2Vof89uaN6754m82Y2zVoe3EYPrhXl8zn1WeU5Y46FudzE0ZfTbznDXqF4xnXtpMX/o98lyp274IFIHrI1BSeH2MG+HBEPAQ2zqoTNcDOA9M504ddup5wM7D0vnZm9s8eFPv3LzU14cEid6Gzl5M89rDDH9ck/gRQxwSS31uxd3zZ95HetdqtQbkgHyVM77FLvM+EjN1rH0VH729/NKPeqs1kFwllsa1NvFOe3WsT530kzmIhz4z//SrzSl/zq9s9dG+CBSB2yFQUng7rBvpQRDYO1xN0cNq63B0/tRhtjpEjbHqT+Vm3HPy8uAnXvqHdPHlTJ/MbbW0W+lISvC5auJALJt5reKe8qePI725k0OSmSO25xJT6iNeXqvaM/YeDqmnn1UNrKO5ajPvxYHepo5fUE/lssphz8ZnC51VM6et+ZVNZUWgCFwPgZLC62Fbzw+KwN4hZsoeVnmAOvf/t2eGq67DMAx+/7e+6McHwtdO0m3tBkeBkTaRZUUt2KdHM8VORXIaXaGesKzv8u72O12cVzmkVz941GD4NTrqDIew3ejyOo7mwxsaGgzF1rHjq/jdPfrRofvpLHBJK3jWpllYzkNMnf3szkPctC+sa6m89d7x4mbgAeeG0zGVa7p3rfB2z5F3S5huEIumDpO1OBAHnnMgTeFzXifTjzhAEe6KGBJ3xWpX7MTzSmND3kkb+1MR7XQRgx5huFZxlx/CrMbOsy4vfDQfajB80HDwlcr3VnyOu3ItHeLlLMqv6y6/ePFo5403/8J6wzSdHd0ey1o3o0V6dYbVb9LOe4A+ODmfa1nxa88HzxFe3yNnjQHDs5CWjDgQB77vQJrC7z+DKHjYgVURQ8qumO32xaNCqFwUXbhX807bLm+3zxqz8tMQoHEq2mh9Rxe5lJ/hDYiu60DrTleNu3JPDtfl8Xgz7YNd4bqzE6eZfTVHqwFupwUONLl/PMMJ488EzG7eNb14LP3dQFPXUHb4rMWBOHCvA2kK7/U37D/mwK6IIbcrquydclAQvTDD0c0nvK/oIkYFGC3k4ktNp4c1sIqfBmftij/5a0ND7i5mtTdp6NbRxbkdQ6M1NWTo7mKdZ5UDjnp24ncawPEMJq3gmKumLr5iFIvvwp8M9E/nWzV93oR2fxic5A8mDsSBzzqQpvCzfobtxx3YFTHkexH1gqV1Cudps6CcJ+NE2yu6aExUoCn2XpCngo7mE12r4t81H+Jmvebv9KLl6gxXzeH5p+e4inUdnKPyEC9v6h7xeHvS7E3vnZ6pNPgZwfK8yeMYdGuPgWbHsac18cKp9RVeON4LOOrMvnNWTO7jQBx4zoE0hc95nUw/4ABFbCrSLpGiSVGv947VtTj9R8FTnK8Tp0Lo6/Cr8Pp6LZjgrugSVnE+0OdNgfav6hIeLufnGr1dHuKE0ZlpZliH453ZOfEVfu150+95/FzoY3YcDZc42fecWlfeaYDVLJw4dF3HpIezeA7W4NBe1UHeen7WXQ980uZD95WXfXzpzgKGeDjQWTWBzxwH4sC9DqQpvNffsP+YAxQhL6AriRQpL4q1uSEezGr2olq5pzg1A3XUWPFOusBq9qF8XcEGP+lhHV0Ufz9bzaMY8L6nNZoQYcRB/k6bx165hhPt4q5+dHw6m+tTfBdXcTwPzVMM+eQBOPR1OYTvsIp1b3UtHvcPfng7DHo0C4cWzYon1nF40717cCh2NdBGPt2nKVw5lr04cJ8DaQrv8zbMcSAOvOBA10yoidH67ufN0QupExIH4kAc+NMOpCn8048/h48D33Og+7okNXx9UgPIoFHka9I0pynEscxxIA7EgesOpCm87lki4kAceNMBmrzaxPGvRP/X55upEh4H4kAciAOHDqQpPDQqsDgQBz7ngL4S8rVPjSBNotbUENZm8XOZwxQH4kAciAOTA2kKJ2eyHgfiwK0OqPHjyyANov/L+NbkIY8DcSAOxIH/HPgHSZkEtGBrBuUAAAAASUVORK5CYII=)"
   ]
  },
  {
   "cell_type": "markdown",
   "metadata": {
    "id": "hM7q3MEfmqnG"
   },
   "source": [
    "```python\n",
    "for item in collection:\n",
    "  # Perform action on item\n",
    "```"
   ]
  },
  {
   "cell_type": "markdown",
   "metadata": {
    "id": "qXl4gfYGJJTh"
   },
   "source": [
    "For instance, we can easily take an exponentiation across each iteration:"
   ]
  },
  {
   "cell_type": "code",
   "execution_count": null,
   "metadata": {
    "colab": {
     "base_uri": "https://localhost:8080/"
    },
    "id": "_Xrae4CKLFbw",
    "outputId": "450dfd22-cdf7-4750-e644-ba81ed2d0b36"
   },
   "outputs": [
    {
     "name": "stdout",
     "output_type": "stream",
     "text": [
      "1^2 = 1\n",
      "2^2 = 4\n",
      "3^2 = 9\n",
      "4^2 = 16\n"
     ]
    }
   ],
   "source": [
    "for i in range(1, 5): \n",
    "  print(f\"{i}^2 = {i**2}\")"
   ]
  },
  {
   "cell_type": "markdown",
   "metadata": {
    "id": "ADROxsMZsjaj"
   },
   "source": [
    "Another useful part of for loops is to be able to add the values inside of each loop. For instance, let's say we want to obtain the summation of $$\\sum_{i = 1}^{n} x_i = x_1 + x_2 + \\cdots x_n$$"
   ]
  },
  {
   "cell_type": "code",
   "execution_count": null,
   "metadata": {
    "colab": {
     "base_uri": "https://localhost:8080/"
    },
    "id": "0FwVMybLNHnr",
    "outputId": "aacb9be8-0840-43aa-8d00-9f4bc14c129e"
   },
   "outputs": [
    {
     "name": "stdout",
     "output_type": "stream",
     "text": [
      "Summation value: 10\n"
     ]
    }
   ],
   "source": [
    "# Establish an iterator that ranges over (1, 2, 3, 4) \n",
    "x = range(1, 5)\n",
    "\n",
    "# Create a reduction variable to\n",
    "# store intermediate and final results\n",
    "summed = 0 \n",
    "\n",
    "# Loop\n",
    "for i in x: \n",
    "  summed += i\n",
    "\n",
    "# Display the final outcome\n",
    "print(f\"Summation value: {summed}\")"
   ]
  },
  {
   "cell_type": "markdown",
   "metadata": {
    "id": "vsYG9hEPvTOW"
   },
   "source": [
    "Alternatively, we could just use a built-in function like `sum()`. "
   ]
  },
  {
   "cell_type": "code",
   "execution_count": null,
   "metadata": {
    "colab": {
     "base_uri": "https://localhost:8080/"
    },
    "id": "z4Ai9In9l7VQ",
    "outputId": "2c28dea7-aa73-4d5f-96fe-5697f8e3f76f"
   },
   "outputs": [
    {
     "data": {
      "text/plain": [
       "10"
      ]
     },
     "execution_count": 53,
     "metadata": {},
     "output_type": "execute_result"
    }
   ],
   "source": [
    "sum(x)"
   ]
  },
  {
   "cell_type": "markdown",
   "metadata": {
    "id": "kcqsBThAmftN"
   },
   "source": [
    "We can also obtain the underlying numbers by converting the range into a `list`."
   ]
  },
  {
   "cell_type": "code",
   "execution_count": null,
   "metadata": {
    "colab": {
     "base_uri": "https://localhost:8080/"
    },
    "id": "N5iNALs_mfCd",
    "outputId": "2acf2cea-b058-43f4-9f70-6dc4df3b5fd9"
   },
   "outputs": [
    {
     "data": {
      "text/plain": [
       "[1, 2, 3, 4]"
      ]
     },
     "execution_count": 54,
     "metadata": {},
     "output_type": "execute_result"
    }
   ],
   "source": [
    "list(x)"
   ]
  },
  {
   "cell_type": "markdown",
   "metadata": {
    "id": "onPJiDJGKKYn"
   },
   "source": [
    "Similiar to while loops, we can also nest two `for` loops together:"
   ]
  },
  {
   "cell_type": "code",
   "execution_count": null,
   "metadata": {
    "colab": {
     "base_uri": "https://localhost:8080/"
    },
    "id": "bBeMgs_dJvDj",
    "outputId": "65a1de09-4e71-48ca-8c08-3fbe68a3bc96"
   },
   "outputs": [
    {
     "name": "stdout",
     "output_type": "stream",
     "text": [
      "crisp apple\n",
      "crisp banana\n",
      "crisp cherry\n",
      "mushy apple\n",
      "mushy banana\n",
      "mushy cherry\n",
      "squishy apple\n",
      "squishy banana\n",
      "squishy cherry\n"
     ]
    }
   ],
   "source": [
    "texture = [\"crisp\", \"mushy\", \"squishy\"]\n",
    "fruits = [\"apple\", \"banana\", \"cherry\"]\n",
    "\n",
    "for x in texture:\n",
    "  for y in fruits:\n",
    "    print(x, y)"
   ]
  },
  {
   "cell_type": "markdown",
   "metadata": {
    "id": "mPXBF0lkPeHF"
   },
   "source": [
    "### Your Turn: Blast off! \n",
    "\n",
    "Write a `for` loop that counts down from `10` to `1` and prints `\"Blast off!\"` at the end.\n",
    "\n",
    "Would it be possible to implement a 1 second delay to mirror the countdown? Could we have the computer say blastoff at the end vs. by text?\n",
    "\n",
    "_Hints:_\n",
    "\n",
    "- See `time` package's `sleep()` function.\n",
    "- For the computer vocalizing \"Blast off\", see the following [text-to-speech StackOverflow question](https://stackoverflow.com/questions/1614059/how-to-make-python-speak)."
   ]
  },
  {
   "cell_type": "code",
   "execution_count": 61,
   "metadata": {
    "ExecuteTime": {
     "end_time": "2022-05-27T20:59:32.329977Z",
     "start_time": "2022-05-27T20:59:29.436637Z"
    },
    "id": "pOt9plKQ6Rbf"
   },
   "outputs": [
    {
     "name": "stdout",
     "output_type": "stream",
     "text": [
      "10\n",
      "9\n",
      "8\n",
      "7\n",
      "6\n",
      "5\n",
      "4\n",
      "3\n",
      "2\n",
      "1\n",
      "blast off!\n"
     ]
    },
    {
     "data": {
      "text/plain": [
       "0"
      ]
     },
     "execution_count": 61,
     "metadata": {},
     "output_type": "execute_result"
    }
   ],
   "source": [
    "# code here\n",
    "import time\n",
    "import os\n",
    "for i in reversed(range(1,11)):\n",
    "    print(i)\n",
    "time.sleep(1)\n",
    "print(\"blast off!\")\n",
    "\n",
    "os.system(\"say 'blast off'\")\n",
    "    "
   ]
  },
  {
   "cell_type": "markdown",
   "metadata": {
    "id": "GRV8_jSSJ73S"
   },
   "source": [
    "### Your Turn: Let's make a Number Pyramid\n",
    "\n",
    "Create the following number period using a `for` loop\n",
    "\n",
    "```py\n",
    "1 \n",
    "1 2 \n",
    "1 2 3 \n",
    "1 2 3 4 \n",
    "1 2 3 4 5\n",
    "```"
   ]
  },
  {
   "cell_type": "code",
   "execution_count": null,
   "metadata": {
    "id": "DyOGZRrlm6qX"
   },
   "outputs": [],
   "source": [
    "# code here\n",
    "for i in range(1,6):\n",
    "    print"
   ]
  }
 ],
 "metadata": {
  "colab": {
   "collapsed_sections": [],
   "name": "01-python-overview.ipynb",
   "provenance": [],
   "toc_visible": true
  },
  "kernelspec": {
   "display_name": "Python 3 (ipykernel)",
   "language": "python",
   "name": "python3"
  },
  "language_info": {
   "codemirror_mode": {
    "name": "ipython",
    "version": 3
   },
   "file_extension": ".py",
   "mimetype": "text/x-python",
   "name": "python",
   "nbconvert_exporter": "python",
   "pygments_lexer": "ipython3",
   "version": "3.10.4"
  }
 },
 "nbformat": 4,
 "nbformat_minor": 1
}
