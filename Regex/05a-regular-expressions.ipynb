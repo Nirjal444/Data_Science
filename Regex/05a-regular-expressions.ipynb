{
 "cells": [
  {
   "cell_type": "markdown",
   "metadata": {
    "id": "xXo06P7w6URF"
   },
   "source": [
    "# Overview \n",
    "\n",
    "Within this notebook, we focus on different aspects of regular expressions with a notation of improving string handling."
   ]
  },
  {
   "cell_type": "markdown",
   "metadata": {
    "id": "thekEd0k6qV6"
   },
   "source": [
    "## Diagnostics\n"
   ]
  },
  {
   "cell_type": "code",
   "execution_count": 1,
   "metadata": {
    "ExecuteTime": {
     "end_time": "2022-06-07T15:45:35.850990Z",
     "start_time": "2022-06-07T15:45:35.077259Z"
    },
    "cellView": "form",
    "colab": {
     "base_uri": "https://localhost:8080/"
    },
    "id": "7NXeOMIS4Qot",
    "outputId": "2fcfb68a-633d-4f79-fa06-666687ef054a"
   },
   "outputs": [
    {
     "name": "stdout",
     "output_type": "stream",
     "text": [
      "python: 3.10.4 | packaged by conda-forge | (main, Mar 24 2022, 17:43:32) [Clang 12.0.1 ]\n",
      "pandas: 1.4.2\n",
      "re: 2.2.1\n",
      "Notebook is being run locally or through another source.\n"
     ]
    }
   ],
   "source": [
    "#@title (Hidden) Diagnostic Check\n",
    "import os\n",
    "import sys\n",
    "import pandas as pd\n",
    "import re\n",
    "\n",
    "print(f\"python: {sys.version}\")\n",
    "print(f\"pandas: {pd.__version__}\")\n",
    "print(f\"re: {re.__version__}\")\n",
    "\n",
    "try:\n",
    "  from google.colab import drive\n",
    "  is_google_colab = True\n",
    "\n",
    "  print(\"Notebook is on Google CoLab\")\n",
    "except:\n",
    "  is_google_colab = False\n",
    "  print(\"Notebook is being run locally or through another source.\")\n"
   ]
  },
  {
   "cell_type": "markdown",
   "metadata": {
    "id": "c7rDFk9bgw1Z"
   },
   "source": [
    "# Regular expressions\n"
   ]
  },
  {
   "cell_type": "code",
   "execution_count": 2,
   "metadata": {
    "ExecuteTime": {
     "end_time": "2022-06-07T15:45:40.268223Z",
     "start_time": "2022-06-07T15:45:40.259404Z"
    },
    "id": "jYLRI2GdZ1h9"
   },
   "outputs": [
    {
     "name": "stdout",
     "output_type": "stream",
     "text": [
      "[<re.Match object; span=(4, 7), match='you'>, None, <re.Match object; span=(4, 7), match='you'>, None]\n"
     ]
    }
   ],
   "source": [
    "import re\n",
    "\n",
    "# Sample string data\n",
    "x = [\"did you lie to me?\",\n",
    "          \"all lies!\",\n",
    "          \"are you lying?\",\n",
    "          \"lying on the couch\"]\n",
    "\n",
    "\n",
    "\n",
    "print([re.search(r'you', string) for string in x])"
   ]
  },
  {
   "cell_type": "markdown",
   "metadata": {
    "id": "ouHyS38zg28S"
   },
   "source": [
    "## Conditional Matching"
   ]
  },
  {
   "cell_type": "code",
   "execution_count": 3,
   "metadata": {
    "ExecuteTime": {
     "end_time": "2022-06-07T15:48:08.527483Z",
     "start_time": "2022-06-07T15:48:08.518438Z"
    },
    "id": "vcKGNmnrbD4i"
   },
   "outputs": [
    {
     "name": "stdout",
     "output_type": "stream",
     "text": [
      "[['you', 'lie'], ['lie'], ['you'], []]\n",
      "[[('', 'you'), ('lie', '')], [('lie', '')], [('', 'you')], []]\n"
     ]
    }
   ],
   "source": [
    "# Look for either lie or you\n",
    "print([re.findall(r'lie|you', string) for string in x])\n",
    "\n",
    "# Equivalent, but emphasizes terms\n",
    "print([re.findall(r'(lie)|(you)', string) for string in x])"
   ]
  },
  {
   "cell_type": "markdown",
   "metadata": {},
   "source": [
    "# Your Turn: Identifying Strings\n",
    "    1. Find all cities that reside in the state of illinois or have the acryonym IL\n"
   ]
  },
  {
   "cell_type": "code",
   "execution_count": 4,
   "metadata": {
    "ExecuteTime": {
     "end_time": "2022-06-07T16:02:53.929468Z",
     "start_time": "2022-06-07T16:02:53.905548Z"
    }
   },
   "outputs": [
    {
     "name": "stdout",
     "output_type": "stream",
     "text": [
      "[['IL'], [], [], ['IL'], ['IL'], []]\n",
      "[<re.Match object; span=(9, 11), match='IL'>, None, None, <re.Match object; span=(8, 10), match='IL'>, <re.Match object; span=(9, 11), match='IL'>, None]\n",
      "[True, False, False, True, True, False]\n"
     ]
    },
    {
     "data": {
      "text/plain": [
       "0    Chicago, IL\n",
       "3     Urbana, IL\n",
       "4    Wheaton, IL\n",
       "dtype: object"
      ]
     },
     "execution_count": 4,
     "metadata": {},
     "output_type": "execute_result"
    }
   ],
   "source": [
    "import pandas as pd\n",
    "y = [\"Chicago, IL\", \"San Fran, CA\", \"Iowa City, IA\", \"Urbana, IL\", \"Wheaton, IL\", \"Myrtle Beach, SC\"]\n",
    "print([re.findall(r'IL', string) for string in y])\n",
    "\n",
    "#identify strings that match\n",
    "print([re.search(r'IL', string) for string in y])\n",
    "\n",
    "#force response to be either true or false\n",
    "print([bool(re.search(r'IL', string)) for string in y])\n",
    "\n",
    "\n",
    "mask_il = [bool(re.search(r'IL', string)) for string in y]\n",
    "pd.Series(y)[mask_il]"
   ]
  },
  {
   "cell_type": "markdown",
   "metadata": {},
   "source": [
    "# 2. All the instance of either UIUC or UofI"
   ]
  },
  {
   "cell_type": "code",
   "execution_count": 5,
   "metadata": {
    "ExecuteTime": {
     "end_time": "2022-06-07T16:03:21.449690Z",
     "start_time": "2022-06-07T16:03:21.441694Z"
    }
   },
   "outputs": [
    {
     "name": "stdout",
     "output_type": "stream",
     "text": [
      "[[], [], [('', 'UofI')], [('UIUC', '')], []]\n"
     ]
    }
   ],
   "source": [
    "y = [\"UNR\", \"UNC\", \"UofI\", \"UIUC\",\"UI\"]\n",
    "print([re.findall(r'(UIUC)|(UofI)', string) for string in y])"
   ]
  },
  {
   "cell_type": "code",
   "execution_count": 18,
   "metadata": {
    "ExecuteTime": {
     "end_time": "2022-06-07T16:03:30.817857Z",
     "start_time": "2022-06-07T16:03:30.809781Z"
    }
   },
   "outputs": [
    {
     "name": "stdout",
     "output_type": "stream",
     "text": [
      "[None, None, <re.Match object; span=(0, 4), match='UofI'>, <re.Match object; span=(0, 4), match='UIUC'>, None]\n",
      "[False, False, True, True, False]\n"
     ]
    }
   ],
   "source": [
    "y = [\"UNR\", \"UNC\", \"UofI\", \"UIUC\", \"UI\"]\n",
    "\n",
    "print([re.search(r'UIUC|UofI', string) for string in y])\n",
    "\n",
    "print([bool(re.search(r'UIUC|UofI', string)) for string in y])"
   ]
  },
  {
   "cell_type": "markdown",
   "metadata": {
    "id": "oAjG5nRIg0qp"
   },
   "source": [
    "## Escaping Metacharacters"
   ]
  },
  {
   "cell_type": "code",
   "execution_count": 19,
   "metadata": {
    "ExecuteTime": {
     "end_time": "2022-06-07T16:09:02.967041Z",
     "start_time": "2022-06-07T16:09:02.958759Z"
    },
    "id": "QMZJvcKffvq5"
   },
   "outputs": [
    {
     "name": "stdout",
     "output_type": "stream",
     "text": [
      "[<re.Match object; span=(17, 18), match='?'>, None, <re.Match object; span=(13, 14), match='?'>, None]\n"
     ]
    }
   ],
   "source": [
    "print(\n",
    " [re.search(r'\\?', string) for string in x]\n",
    ")"
   ]
  },
  {
   "cell_type": "markdown",
   "metadata": {},
   "source": [
    "# Find all strings with either a `+` or `\\`."
   ]
  },
  {
   "cell_type": "code",
   "execution_count": 27,
   "metadata": {
    "ExecuteTime": {
     "end_time": "2022-06-07T16:21:13.541647Z",
     "start_time": "2022-06-07T16:21:13.532396Z"
    }
   },
   "outputs": [
    {
     "name": "stdout",
     "output_type": "stream",
     "text": [
      "[<re.Match object; span=(2, 3), match='+'>, None, None, None, None, <re.Match object; span=(14, 15), match='\\\\'>]\n",
      "[<re.Match object; span=(2, 3), match='+'>, None, None, None, None, <re.Match object; span=(14, 15), match='\\\\'>]\n",
      "[<re.Match object; span=(2, 3), match='+'>, None, None, None, None, <re.Match object; span=(14, 15), match='\\\\'>]\n"
     ]
    }
   ],
   "source": [
    "x = [\"3 + 4 = 7\", \"1/4 = 0.25\", \"2*4 = 8\", \"3 *4 \",\n",
    "     \"Algebra is fun?\", \"Green Eggs and\\or Ham\"]\n",
    "\n",
    "print(\n",
    " [re.search('\\\\+|\\\\\\\\', string) for string in x])\n",
    "\n",
    "#yo agadi ko r vaneko it allows us to use regex pattern\n",
    "print(\n",
    " [re.search(r'\\+|\\\\', string) for string in x]\n",
    ")\n",
    "\n",
    "# yo code is escaped pattern\n",
    "print(\n",
    " [re.search('\\\\+|\\\\\\\\', string) for string in x]\n",
    ")"
   ]
  },
  {
   "cell_type": "markdown",
   "metadata": {
    "id": "rcC1-SjOgHs1"
   },
   "source": [
    "### Your Turn: Phone Numbers\n",
    "\n",
    "Write a regex that matches a telephone number given as:\n",
    "\n",
    "```\n",
    "###-###-####\n",
    "```\n",
    "\n",
    "Hint: Use the range feature of character classes"
   ]
  },
  {
   "cell_type": "code",
   "execution_count": 63,
   "metadata": {
    "ExecuteTime": {
     "end_time": "2022-06-07T18:16:41.266163Z",
     "start_time": "2022-06-07T18:16:41.207584Z"
    },
    "id": "yD12xM_pgJZS"
   },
   "outputs": [
    {
     "name": "stdout",
     "output_type": "stream",
     "text": [
      "[False, True, False]\n",
      "[False, True, False]\n",
      "[False, True, False]\n"
     ]
    }
   ],
   "source": [
    "phone_nums = [\"(217) 333-2167\", \n",
    "              \"217-333-2167\",\n",
    "              \"217 244-7190\"]\n",
    "##yo output 1 ko code\n",
    "print(\n",
    " [bool(re.search(r'[0-9][0-9][0-9]-[0-9][0-9][0-9]-[0-9][0-9][0-9]', string)) for string in phone_nums])\n",
    "\n",
    "##yo output 2 ko code\n",
    "print(\n",
    " [bool(re.search(r'\\d\\d\\d-\\d\\d\\d-\\d\\d\\d\\d', string)) for string in phone_nums])\n",
    "\n",
    "##yo output 3 ko code\n",
    "print(\n",
    " [bool(re.search(r'\\d{3}-\\d{3}-\\d{4}', string)) for string in phone_nums])\n",
    "\n",
    "\n"
   ]
  },
  {
   "cell_type": "markdown",
   "metadata": {},
   "source": [
    "# ### Your Turn: Phone Number Jenga\n",
    "\n",
    "1. Retrieve the different portions of a phone number\n",
    "\n",
    "2. Change the area code of the phone number to 8888"
   ]
  },
  {
   "cell_type": "code",
   "execution_count": 101,
   "metadata": {
    "ExecuteTime": {
     "end_time": "2022-06-07T18:53:37.019620Z",
     "start_time": "2022-06-07T18:53:37.007054Z"
    }
   },
   "outputs": [
    {
     "name": "stdout",
     "output_type": "stream",
     "text": [
      "['(888) 333-2167', '888-333-2167', '888 244-7190']\n"
     ]
    },
    {
     "data": {
      "text/plain": [
       "[<re.Match object; span=(0, 14), match='(217) 333-2167'>,\n",
       " <re.Match object; span=(0, 12), match='217-333-2167'>,\n",
       " <re.Match object; span=(0, 12), match='217 244-7190'>]"
      ]
     },
     "execution_count": 101,
     "metadata": {},
     "output_type": "execute_result"
    }
   ],
   "source": [
    "phone_nums = [\"(217) 333-2167\", \n",
    "              \"217-333-2167\",\n",
    "              \"217 244-7190\"]\n",
    "#print([re.sub(\"s.*217\", \"888\", x) for x in phone_nums])\n",
    "print([re.sub(\"217\", \"888\", x) for x in phone_nums])\n",
    "\n",
    "#re.search(r'\\(?(\\d{3})\\)[- ]?(\\d{3})-(\\d{4})', phone_nums[0])\n",
    "[re.search(r'\\(?(\\d{3})\\)?[- ]?(\\d{3})-?(\\d{4})', string) for string in phone_nums]\n",
    "## We did this to see if it is a valid phone number"
   ]
  },
  {
   "cell_type": "code",
   "execution_count": 165,
   "metadata": {
    "ExecuteTime": {
     "end_time": "2022-06-07T19:34:57.067835Z",
     "start_time": "2022-06-07T19:34:57.060263Z"
    }
   },
   "outputs": [],
   "source": [
    "##Intermediate result\n",
    "pattern = r'\\(?(\\d{3})\\)?[- ]?(\\d{3})-?(\\d{4})'\n",
    "replacement = r'\\1-\\2-\\3'\n",
    "x=[re.sub(pattern, repl = replacement, string = string) for string in phone_nums]\n",
    "\n",
    "## We did all this to standardize. the phone number\n"
   ]
  },
  {
   "cell_type": "code",
   "execution_count": 166,
   "metadata": {
    "ExecuteTime": {
     "end_time": "2022-06-07T19:35:06.239749Z",
     "start_time": "2022-06-07T19:35:06.230222Z"
    }
   },
   "outputs": [
    {
     "data": {
      "text/plain": [
       "['888-333-2167', '888-333-2167', '888-244-7190']"
      ]
     },
     "execution_count": 166,
     "metadata": {},
     "output_type": "execute_result"
    }
   ],
   "source": [
    "#replaced area by 888\n",
    "pattern = r'^\\(?\\d{3}'\n",
    "replacement = r'888'\n",
    "\n",
    "final_phone_number = [re.sub(pattern, repl = replacement, string = string) for string in x]\n",
    "final_phone_number"
   ]
  },
  {
   "cell_type": "markdown",
   "metadata": {
    "id": "YsY5A4CUgS4Q"
   },
   "source": [
    "### Your Turn: Character Classes\n",
    "\n",
    "1.\tFind all matches of the word \"i\" / \"I\".\n",
    "2.\tRemove the word \"not\".\n",
    "3.\tChange the word \"Green\" to be \"Blue\"."
   ]
  },
  {
   "cell_type": "code",
   "execution_count": 104,
   "metadata": {
    "ExecuteTime": {
     "end_time": "2022-06-07T18:55:48.869005Z",
     "start_time": "2022-06-07T18:55:48.846751Z"
    },
    "id": "GZ16rCvogSmy"
   },
   "outputs": [
    {
     "name": "stdout",
     "output_type": "stream",
     "text": [
      "[True, True, True, False]\n",
      "['I do like them', 'Sam-I-am.', 'I do like', 'Green eggs and ham.']\n",
      "['I do not like them', 'Sam-I-am.', 'I do not like', 'Blue eggs and ham.']\n"
     ]
    }
   ],
   "source": [
    "green_eggs = [\"I do not like them\",\n",
    "              \"Sam-I-am.\", \"I do not like\",\n",
    "              \"Green eggs and ham.\"]\n",
    "\n",
    "print([bool(re.search(\"i|I\", string)) for string in green_eggs])\n",
    "\n",
    "pattern = \"\\snot\"\n",
    "replacement = \"\"\n",
    "print([re.sub(pattern, replacement, x) for x in green_eggs])\n",
    "\n",
    "pattern = \"Green\"\n",
    "replacement = \"Blue\"\n",
    "print([re.sub(pattern, replacement, x) for x in green_eggs])"
   ]
  },
  {
   "cell_type": "markdown",
   "metadata": {
    "id": "NkkTSvwocMhZ"
   },
   "source": [
    "## Greedy vs. Lazy"
   ]
  },
  {
   "cell_type": "markdown",
   "metadata": {
    "id": "1TFO5OjCcPcS"
   },
   "source": [
    "**Greedy:** Match a pattern as many times as possible. (Default)\n",
    "\n",
    "This will cause it to search until pattern cannot be found."
   ]
  },
  {
   "cell_type": "code",
   "execution_count": 105,
   "metadata": {
    "ExecuteTime": {
     "end_time": "2022-06-07T18:55:50.300326Z",
     "start_time": "2022-06-07T18:55:50.284708Z"
    },
    "id": "xHZZd6lucOGi"
   },
   "outputs": [
    {
     "data": {
      "text/plain": [
       "'stackoverflo'"
      ]
     },
     "execution_count": 105,
     "metadata": {},
     "output_type": "execute_result"
    }
   ],
   "source": [
    "re.search(\"s.*o\", \"stackoverflow\").group()"
   ]
  },
  {
   "cell_type": "markdown",
   "metadata": {
    "id": "23RPYReMcZNw"
   },
   "source": [
    "**Lazy:** Match a pattern as few times as possible.\n",
    "Stop searching once the pattern is found."
   ]
  },
  {
   "cell_type": "code",
   "execution_count": 106,
   "metadata": {
    "ExecuteTime": {
     "end_time": "2022-06-07T18:55:50.940049Z",
     "start_time": "2022-06-07T18:55:50.930353Z"
    },
    "id": "uCHFTGUjb38q"
   },
   "outputs": [
    {
     "data": {
      "text/plain": [
       "'stacko'"
      ]
     },
     "execution_count": 106,
     "metadata": {},
     "output_type": "execute_result"
    }
   ],
   "source": [
    "re.search(\"s.*?o\", \"stackoverflow\").group()"
   ]
  },
  {
   "cell_type": "markdown",
   "metadata": {
    "id": "hRVuAET_cg3P"
   },
   "source": [
    "### Your Turn: What kind of quantifer is present? \n",
    "\n",
    "Determine what kind of greedy or lazy quantifier is present in each pattern.\n",
    "How does the quantifier affect the results?"
   ]
  },
  {
   "cell_type": "code",
   "execution_count": 107,
   "metadata": {
    "ExecuteTime": {
     "end_time": "2022-06-07T18:55:51.369569Z",
     "start_time": "2022-06-07T18:55:51.363935Z"
    },
    "id": "CYG_rQFdchM_"
   },
   "outputs": [],
   "source": [
    "# HTML Text Data\n",
    "html_txt = \"<span class='val'> <span> <b> Hi </b> </span> </span>\""
   ]
  },
  {
   "cell_type": "code",
   "execution_count": 108,
   "metadata": {
    "ExecuteTime": {
     "end_time": "2022-06-07T18:55:51.550702Z",
     "start_time": "2022-06-07T18:55:51.542542Z"
    },
    "id": "LSZutTGNcqFU"
   },
   "outputs": [
    {
     "data": {
      "text/plain": [
       "[' <b> Hi </b> ']"
      ]
     },
     "execution_count": 108,
     "metadata": {},
     "output_type": "execute_result"
    }
   ],
   "source": [
    "re.findall(\"<span>(.*?)</span>\", html_txt)"
   ]
  },
  {
   "cell_type": "code",
   "execution_count": 109,
   "metadata": {
    "ExecuteTime": {
     "end_time": "2022-06-07T18:55:51.764707Z",
     "start_time": "2022-06-07T18:55:51.754646Z"
    },
    "id": "Iy8HXvoicrZB"
   },
   "outputs": [
    {
     "data": {
      "text/plain": [
       "[' <b> Hi </b> </span> ']"
      ]
     },
     "execution_count": 109,
     "metadata": {},
     "output_type": "execute_result"
    }
   ],
   "source": [
    "re.findall(\"<span>(.*)</span>\", html_txt)"
   ]
  },
  {
   "cell_type": "markdown",
   "metadata": {
    "id": "P_EWUpQoc1Mq"
   },
   "source": [
    "# Regex with Pandas\n",
    "\n",
    "Frequently, we'll want to use regular expressions with pandas instead of on just a single expression. To that end, we have:\n",
    "\n",
    "```python\n",
    "df['new_variable']=df['variable_of_interest'].str.regex_function(pattern)\n",
    "```"
   ]
  },
  {
   "cell_type": "code",
   "execution_count": 147,
   "metadata": {
    "ExecuteTime": {
     "end_time": "2022-06-07T19:13:40.302150Z",
     "start_time": "2022-06-07T19:13:40.296542Z"
    },
    "id": "6-eQM1XPLv4D"
   },
   "outputs": [],
   "source": [
    "import pandas as pd"
   ]
  },
  {
   "cell_type": "code",
   "execution_count": 148,
   "metadata": {
    "ExecuteTime": {
     "end_time": "2022-06-07T19:13:40.946085Z",
     "start_time": "2022-06-07T19:13:40.906518Z"
    },
    "id": "1GlAfUNMO8PR"
   },
   "outputs": [],
   "source": [
    "df = pd.read_csv(\"House_details.csv\")"
   ]
  },
  {
   "cell_type": "code",
   "execution_count": 149,
   "metadata": {
    "ExecuteTime": {
     "end_time": "2022-06-07T19:13:41.489982Z",
     "start_time": "2022-06-07T19:13:41.470900Z"
    },
    "id": "irMD6PdLPQq3"
   },
   "outputs": [
    {
     "data": {
      "text/html": [
       "<div>\n",
       "<style scoped>\n",
       "    .dataframe tbody tr th:only-of-type {\n",
       "        vertical-align: middle;\n",
       "    }\n",
       "\n",
       "    .dataframe tbody tr th {\n",
       "        vertical-align: top;\n",
       "    }\n",
       "\n",
       "    .dataframe thead th {\n",
       "        text-align: right;\n",
       "    }\n",
       "</style>\n",
       "<table border=\"1\" class=\"dataframe\">\n",
       "  <thead>\n",
       "    <tr style=\"text-align: right;\">\n",
       "      <th></th>\n",
       "      <th>House_Address</th>\n",
       "      <th>Price</th>\n",
       "      <th>Bedrooms</th>\n",
       "      <th>Bathrooms</th>\n",
       "      <th>SqFT</th>\n",
       "      <th>lot</th>\n",
       "      <th>yearbuilt</th>\n",
       "      <th>lastsoldifavailable</th>\n",
       "      <th>heattype</th>\n",
       "      <th>zillowdays</th>\n",
       "      <th>cooling</th>\n",
       "      <th>parking</th>\n",
       "      <th>basement</th>\n",
       "      <th>fireplace</th>\n",
       "      <th>floorcover</th>\n",
       "    </tr>\n",
       "  </thead>\n",
       "  <tbody>\n",
       "    <tr>\n",
       "      <th>0</th>\n",
       "      <td>House_Address</td>\n",
       "      <td>Price</td>\n",
       "      <td>Bedrooms</td>\n",
       "      <td>Bathrooms</td>\n",
       "      <td>SqFT</td>\n",
       "      <td>lot</td>\n",
       "      <td>yearbuilt</td>\n",
       "      <td>lastsoldifavailable</td>\n",
       "      <td>heattype</td>\n",
       "      <td>zillowdays</td>\n",
       "      <td>cooling</td>\n",
       "      <td>parking</td>\n",
       "      <td>basement</td>\n",
       "      <td>fireplace</td>\n",
       "      <td>floorcover</td>\n",
       "    </tr>\n",
       "    <tr>\n",
       "      <th>1</th>\n",
       "      <td>3751 Harbor Estates Ln , Champaign, IL 61822</td>\n",
       "      <td>$82,500</td>\n",
       "      <td>2 beds</td>\n",
       "      <td>2 baths</td>\n",
       "      <td>1,149 sq ft</td>\n",
       "      <td>Contact for details</td>\n",
       "      <td>2009</td>\n",
       "      <td>Jul 2012 for $82,500</td>\n",
       "      <td>Contact for details</td>\n",
       "      <td>Unknown</td>\n",
       "      <td>Unknown</td>\n",
       "      <td>Unknown</td>\n",
       "      <td>Unknown</td>\n",
       "      <td>Unknown</td>\n",
       "      <td>Unknown</td>\n",
       "    </tr>\n",
       "    <tr>\n",
       "      <th>2</th>\n",
       "      <td>618 Lauterbur Ln , Champaign, IL 61822</td>\n",
       "      <td>$112,000</td>\n",
       "      <td>2 beds</td>\n",
       "      <td>2 baths</td>\n",
       "      <td>1,001 sq ft</td>\n",
       "      <td>Contact for details</td>\n",
       "      <td>2008</td>\n",
       "      <td>Jul 2012 for $112,000</td>\n",
       "      <td>Contact for details</td>\n",
       "      <td>Unknown</td>\n",
       "      <td>Unknown</td>\n",
       "      <td>Unknown</td>\n",
       "      <td>Unknown</td>\n",
       "      <td>Unknown</td>\n",
       "      <td>Unknown</td>\n",
       "    </tr>\n",
       "    <tr>\n",
       "      <th>3</th>\n",
       "      <td>3728 Balcary Bay , Champaign, IL 61822</td>\n",
       "      <td>$82,000</td>\n",
       "      <td>2 beds</td>\n",
       "      <td>2 baths</td>\n",
       "      <td>1,070 sq ft</td>\n",
       "      <td>Contact for details</td>\n",
       "      <td>2008</td>\n",
       "      <td>Mar 2012 for $82,000</td>\n",
       "      <td>Forced air</td>\n",
       "      <td>Central</td>\n",
       "      <td>Unknown</td>\n",
       "      <td>Unknown</td>\n",
       "      <td>Unknown</td>\n",
       "      <td>Unknown</td>\n",
       "      <td>Unknown</td>\n",
       "    </tr>\n",
       "    <tr>\n",
       "      <th>4</th>\n",
       "      <td>503 Corey Ln , Champaign, IL 61822</td>\n",
       "      <td>$103,000</td>\n",
       "      <td>2 beds</td>\n",
       "      <td>2 baths</td>\n",
       "      <td>995 sq ft</td>\n",
       "      <td>51.9 acres</td>\n",
       "      <td>2007</td>\n",
       "      <td>Jul 2012 for $103,000</td>\n",
       "      <td>Contact for details</td>\n",
       "      <td>Unknown</td>\n",
       "      <td>Unknown</td>\n",
       "      <td>Unknown</td>\n",
       "      <td>Unknown</td>\n",
       "      <td>Unknown</td>\n",
       "      <td>Unknown</td>\n",
       "    </tr>\n",
       "  </tbody>\n",
       "</table>\n",
       "</div>"
      ],
      "text/plain": [
       "                                  House_Address      Price  Bedrooms  \\\n",
       "0                                 House_Address      Price  Bedrooms   \n",
       "1  3751 Harbor Estates Ln , Champaign, IL 61822   $82,500     2 beds   \n",
       "2        618 Lauterbur Ln , Champaign, IL 61822  $112,000     2 beds   \n",
       "3        3728 Balcary Bay , Champaign, IL 61822   $82,000     2 beds   \n",
       "4            503 Corey Ln , Champaign, IL 61822  $103,000     2 beds   \n",
       "\n",
       "   Bathrooms         SqFT                  lot  yearbuilt  \\\n",
       "0  Bathrooms         SqFT                  lot  yearbuilt   \n",
       "1    2 baths  1,149 sq ft  Contact for details       2009   \n",
       "2    2 baths  1,001 sq ft  Contact for details       2008   \n",
       "3    2 baths  1,070 sq ft  Contact for details       2008   \n",
       "4    2 baths    995 sq ft           51.9 acres       2007   \n",
       "\n",
       "     lastsoldifavailable             heattype  zillowdays  cooling  parking  \\\n",
       "0    lastsoldifavailable             heattype  zillowdays  cooling  parking   \n",
       "1   Jul 2012 for $82,500  Contact for details     Unknown  Unknown  Unknown   \n",
       "2  Jul 2012 for $112,000  Contact for details     Unknown  Unknown  Unknown   \n",
       "3   Mar 2012 for $82,000           Forced air     Central  Unknown  Unknown   \n",
       "4  Jul 2012 for $103,000  Contact for details     Unknown  Unknown  Unknown   \n",
       "\n",
       "   basement  fireplace  floorcover  \n",
       "0  basement  fireplace  floorcover  \n",
       "1   Unknown    Unknown     Unknown  \n",
       "2   Unknown    Unknown     Unknown  \n",
       "3   Unknown    Unknown     Unknown  \n",
       "4   Unknown    Unknown     Unknown  "
      ]
     },
     "execution_count": 149,
     "metadata": {},
     "output_type": "execute_result"
    }
   ],
   "source": [
    "df.head()"
   ]
  },
  {
   "cell_type": "code",
   "execution_count": 150,
   "metadata": {
    "ExecuteTime": {
     "end_time": "2022-06-07T19:13:42.374742Z",
     "start_time": "2022-06-07T19:13:42.351281Z"
    },
    "id": "Y9i7ifWaPSf1"
   },
   "outputs": [
    {
     "data": {
      "text/html": [
       "<div>\n",
       "<style scoped>\n",
       "    .dataframe tbody tr th:only-of-type {\n",
       "        vertical-align: middle;\n",
       "    }\n",
       "\n",
       "    .dataframe tbody tr th {\n",
       "        vertical-align: top;\n",
       "    }\n",
       "\n",
       "    .dataframe thead th {\n",
       "        text-align: right;\n",
       "    }\n",
       "</style>\n",
       "<table border=\"1\" class=\"dataframe\">\n",
       "  <thead>\n",
       "    <tr style=\"text-align: right;\">\n",
       "      <th></th>\n",
       "      <th>House_Address</th>\n",
       "      <th>Price</th>\n",
       "      <th>Bedrooms</th>\n",
       "      <th>Bathrooms</th>\n",
       "      <th>SqFT</th>\n",
       "      <th>lot</th>\n",
       "      <th>yearbuilt</th>\n",
       "      <th>lastsoldifavailable</th>\n",
       "      <th>heattype</th>\n",
       "      <th>zillowdays</th>\n",
       "      <th>cooling</th>\n",
       "      <th>parking</th>\n",
       "      <th>basement</th>\n",
       "      <th>fireplace</th>\n",
       "      <th>floorcover</th>\n",
       "    </tr>\n",
       "  </thead>\n",
       "  <tbody>\n",
       "    <tr>\n",
       "      <th>3722</th>\n",
       "      <td>2505 S Cottage Grove Ave , Urbana, IL 61801</td>\n",
       "      <td>$134,500</td>\n",
       "      <td>3 beds</td>\n",
       "      <td>2 baths</td>\n",
       "      <td>1,481 sq ft</td>\n",
       "      <td>Contact for details</td>\n",
       "      <td>1969</td>\n",
       "      <td>May 2013 for $134,500</td>\n",
       "      <td>Forced air</td>\n",
       "      <td>Central</td>\n",
       "      <td>Garage - Attached</td>\n",
       "      <td>Unknown</td>\n",
       "      <td>Unknown</td>\n",
       "      <td>Carpet, Hardwood, Linoleum / Vinyl</td>\n",
       "      <td>Unknown</td>\n",
       "    </tr>\n",
       "    <tr>\n",
       "      <th>3723</th>\n",
       "      <td>1702 E Michigan Ave , Urbana, IL 61802</td>\n",
       "      <td>$72,000</td>\n",
       "      <td>4 beds</td>\n",
       "      <td>2 baths</td>\n",
       "      <td>1,550 sq ft</td>\n",
       "      <td>1,900 sqft</td>\n",
       "      <td>1969</td>\n",
       "      <td>Mar 2012 for $72,000</td>\n",
       "      <td>Contact for details</td>\n",
       "      <td>Unknown</td>\n",
       "      <td>Unknown</td>\n",
       "      <td>Unknown</td>\n",
       "      <td>Unknown</td>\n",
       "      <td>Unknown</td>\n",
       "      <td>Unknown</td>\n",
       "    </tr>\n",
       "    <tr>\n",
       "      <th>3724</th>\n",
       "      <td>2310 Slayback St , Urbana, IL 61802</td>\n",
       "      <td>$110,000</td>\n",
       "      <td>3 beds</td>\n",
       "      <td>2 baths</td>\n",
       "      <td>1,426 sq ft</td>\n",
       "      <td>10,350 sqft</td>\n",
       "      <td>1969</td>\n",
       "      <td>Jul 2013 for $110,000</td>\n",
       "      <td>Contact for details</td>\n",
       "      <td>Unknown</td>\n",
       "      <td>Garage - Attached</td>\n",
       "      <td>Unknown</td>\n",
       "      <td>Yes</td>\n",
       "      <td>Unknown</td>\n",
       "      <td>Unknown</td>\n",
       "    </tr>\n",
       "    <tr>\n",
       "      <th>3725</th>\n",
       "      <td>1412 S Kinch St , Urbana, IL 61802</td>\n",
       "      <td>$136,500</td>\n",
       "      <td>4 beds</td>\n",
       "      <td>2 baths</td>\n",
       "      <td>2,003 sq ft</td>\n",
       "      <td>2,003 sqft</td>\n",
       "      <td>1969</td>\n",
       "      <td>Jun 2013 for $136,500</td>\n",
       "      <td>Forced air</td>\n",
       "      <td>Central</td>\n",
       "      <td>Garage - Attached</td>\n",
       "      <td>Partial</td>\n",
       "      <td>No</td>\n",
       "      <td>Carpet, Hardwood, Laminate, Tile</td>\n",
       "      <td>No</td>\n",
       "    </tr>\n",
       "    <tr>\n",
       "      <th>3726</th>\n",
       "      <td>1105 Brighton Dr , Urbana, IL 61801</td>\n",
       "      <td>$124,000</td>\n",
       "      <td>3 beds</td>\n",
       "      <td>2 baths</td>\n",
       "      <td>1,740 sq ft</td>\n",
       "      <td>9,462 sqft</td>\n",
       "      <td>1968</td>\n",
       "      <td>Jul 2012 for $124,000</td>\n",
       "      <td>Baseboard</td>\n",
       "      <td>Central</td>\n",
       "      <td>Garage - Attached</td>\n",
       "      <td>Unknown</td>\n",
       "      <td>Yes</td>\n",
       "      <td>Carpet, Laminate, Tile</td>\n",
       "      <td>Unknown</td>\n",
       "    </tr>\n",
       "  </tbody>\n",
       "</table>\n",
       "</div>"
      ],
      "text/plain": [
       "                                    House_Address      Price Bedrooms  \\\n",
       "3722  2505 S Cottage Grove Ave , Urbana, IL 61801  $134,500    3 beds   \n",
       "3723       1702 E Michigan Ave , Urbana, IL 61802   $72,000    4 beds   \n",
       "3724          2310 Slayback St , Urbana, IL 61802  $110,000    3 beds   \n",
       "3725           1412 S Kinch St , Urbana, IL 61802  $136,500    4 beds   \n",
       "3726          1105 Brighton Dr , Urbana, IL 61801  $124,000    3 beds   \n",
       "\n",
       "     Bathrooms         SqFT                  lot yearbuilt  \\\n",
       "3722   2 baths  1,481 sq ft  Contact for details      1969   \n",
       "3723   2 baths  1,550 sq ft           1,900 sqft      1969   \n",
       "3724   2 baths  1,426 sq ft          10,350 sqft      1969   \n",
       "3725   2 baths  2,003 sq ft           2,003 sqft      1969   \n",
       "3726   2 baths  1,740 sq ft           9,462 sqft      1968   \n",
       "\n",
       "        lastsoldifavailable             heattype zillowdays  \\\n",
       "3722  May 2013 for $134,500           Forced air    Central   \n",
       "3723   Mar 2012 for $72,000  Contact for details    Unknown   \n",
       "3724  Jul 2013 for $110,000  Contact for details    Unknown   \n",
       "3725  Jun 2013 for $136,500           Forced air    Central   \n",
       "3726  Jul 2012 for $124,000            Baseboard    Central   \n",
       "\n",
       "                cooling  parking basement                           fireplace  \\\n",
       "3722  Garage - Attached  Unknown  Unknown  Carpet, Hardwood, Linoleum / Vinyl   \n",
       "3723            Unknown  Unknown  Unknown                             Unknown   \n",
       "3724  Garage - Attached  Unknown      Yes                             Unknown   \n",
       "3725  Garage - Attached  Partial       No    Carpet, Hardwood, Laminate, Tile   \n",
       "3726  Garage - Attached  Unknown      Yes              Carpet, Laminate, Tile   \n",
       "\n",
       "     floorcover  \n",
       "3722    Unknown  \n",
       "3723    Unknown  \n",
       "3724    Unknown  \n",
       "3725         No  \n",
       "3726    Unknown  "
      ]
     },
     "execution_count": 150,
     "metadata": {},
     "output_type": "execute_result"
    }
   ],
   "source": [
    "df.tail()"
   ]
  },
  {
   "cell_type": "markdown",
   "metadata": {
    "id": "T4vQyfdLg8n6"
   },
   "source": [
    "From head and tail, we found out that the housing header was included twice. Skipping this row fixes that issue.  "
   ]
  },
  {
   "cell_type": "code",
   "execution_count": 151,
   "metadata": {
    "ExecuteTime": {
     "end_time": "2022-06-07T19:13:43.735954Z",
     "start_time": "2022-06-07T19:13:43.698995Z"
    },
    "id": "rcJtvZIGPFAY"
   },
   "outputs": [
    {
     "data": {
      "text/html": [
       "<div>\n",
       "<style scoped>\n",
       "    .dataframe tbody tr th:only-of-type {\n",
       "        vertical-align: middle;\n",
       "    }\n",
       "\n",
       "    .dataframe tbody tr th {\n",
       "        vertical-align: top;\n",
       "    }\n",
       "\n",
       "    .dataframe thead th {\n",
       "        text-align: right;\n",
       "    }\n",
       "</style>\n",
       "<table border=\"1\" class=\"dataframe\">\n",
       "  <thead>\n",
       "    <tr style=\"text-align: right;\">\n",
       "      <th></th>\n",
       "      <th>House_Address</th>\n",
       "      <th>Price</th>\n",
       "      <th>Bedrooms</th>\n",
       "      <th>Bathrooms</th>\n",
       "      <th>SqFT</th>\n",
       "      <th>lot</th>\n",
       "      <th>yearbuilt</th>\n",
       "      <th>lastsoldifavailable</th>\n",
       "      <th>heattype</th>\n",
       "      <th>zillowdays</th>\n",
       "      <th>cooling</th>\n",
       "      <th>parking</th>\n",
       "      <th>basement</th>\n",
       "      <th>fireplace</th>\n",
       "      <th>floorcover</th>\n",
       "    </tr>\n",
       "  </thead>\n",
       "  <tbody>\n",
       "    <tr>\n",
       "      <th>0</th>\n",
       "      <td>3751 Harbor Estates Ln , Champaign, IL 61822</td>\n",
       "      <td>$82,500</td>\n",
       "      <td>2 beds</td>\n",
       "      <td>2 baths</td>\n",
       "      <td>1,149 sq ft</td>\n",
       "      <td>Contact for details</td>\n",
       "      <td>2009</td>\n",
       "      <td>Jul 2012 for $82,500</td>\n",
       "      <td>Contact for details</td>\n",
       "      <td>Unknown</td>\n",
       "      <td>Unknown</td>\n",
       "      <td>Unknown</td>\n",
       "      <td>Unknown</td>\n",
       "      <td>Unknown</td>\n",
       "      <td>Unknown</td>\n",
       "    </tr>\n",
       "    <tr>\n",
       "      <th>1</th>\n",
       "      <td>618 Lauterbur Ln , Champaign, IL 61822</td>\n",
       "      <td>$112,000</td>\n",
       "      <td>2 beds</td>\n",
       "      <td>2 baths</td>\n",
       "      <td>1,001 sq ft</td>\n",
       "      <td>Contact for details</td>\n",
       "      <td>2008</td>\n",
       "      <td>Jul 2012 for $112,000</td>\n",
       "      <td>Contact for details</td>\n",
       "      <td>Unknown</td>\n",
       "      <td>Unknown</td>\n",
       "      <td>Unknown</td>\n",
       "      <td>Unknown</td>\n",
       "      <td>Unknown</td>\n",
       "      <td>Unknown</td>\n",
       "    </tr>\n",
       "    <tr>\n",
       "      <th>2</th>\n",
       "      <td>3728 Balcary Bay , Champaign, IL 61822</td>\n",
       "      <td>$82,000</td>\n",
       "      <td>2 beds</td>\n",
       "      <td>2 baths</td>\n",
       "      <td>1,070 sq ft</td>\n",
       "      <td>Contact for details</td>\n",
       "      <td>2008</td>\n",
       "      <td>Mar 2012 for $82,000</td>\n",
       "      <td>Forced air</td>\n",
       "      <td>Central</td>\n",
       "      <td>Unknown</td>\n",
       "      <td>Unknown</td>\n",
       "      <td>Unknown</td>\n",
       "      <td>Unknown</td>\n",
       "      <td>Unknown</td>\n",
       "    </tr>\n",
       "    <tr>\n",
       "      <th>3</th>\n",
       "      <td>503 Corey Ln , Champaign, IL 61822</td>\n",
       "      <td>$103,000</td>\n",
       "      <td>2 beds</td>\n",
       "      <td>2 baths</td>\n",
       "      <td>995 sq ft</td>\n",
       "      <td>51.9 acres</td>\n",
       "      <td>2007</td>\n",
       "      <td>Jul 2012 for $103,000</td>\n",
       "      <td>Contact for details</td>\n",
       "      <td>Unknown</td>\n",
       "      <td>Unknown</td>\n",
       "      <td>Unknown</td>\n",
       "      <td>Unknown</td>\n",
       "      <td>Unknown</td>\n",
       "      <td>Unknown</td>\n",
       "    </tr>\n",
       "    <tr>\n",
       "      <th>4</th>\n",
       "      <td>605 Lauterbur Ln , Champaign, IL 61822</td>\n",
       "      <td>$112,500</td>\n",
       "      <td>2 beds</td>\n",
       "      <td>2 baths</td>\n",
       "      <td>1,001 sq ft</td>\n",
       "      <td>50 acres</td>\n",
       "      <td>2007</td>\n",
       "      <td>Aug 2013 for $112,500</td>\n",
       "      <td>Forced air, Heat pump</td>\n",
       "      <td>Central, Other</td>\n",
       "      <td>Garage - Attached</td>\n",
       "      <td>Unknown</td>\n",
       "      <td>Unknown</td>\n",
       "      <td>Carpet, Linoleum / Vinyl</td>\n",
       "      <td>Unknown</td>\n",
       "    </tr>\n",
       "  </tbody>\n",
       "</table>\n",
       "</div>"
      ],
      "text/plain": [
       "                                  House_Address      Price Bedrooms Bathrooms  \\\n",
       "0  3751 Harbor Estates Ln , Champaign, IL 61822   $82,500    2 beds   2 baths   \n",
       "1        618 Lauterbur Ln , Champaign, IL 61822  $112,000    2 beds   2 baths   \n",
       "2        3728 Balcary Bay , Champaign, IL 61822   $82,000    2 beds   2 baths   \n",
       "3            503 Corey Ln , Champaign, IL 61822  $103,000    2 beds   2 baths   \n",
       "4        605 Lauterbur Ln , Champaign, IL 61822  $112,500    2 beds   2 baths   \n",
       "\n",
       "          SqFT                  lot yearbuilt    lastsoldifavailable  \\\n",
       "0  1,149 sq ft  Contact for details      2009   Jul 2012 for $82,500   \n",
       "1  1,001 sq ft  Contact for details      2008  Jul 2012 for $112,000   \n",
       "2  1,070 sq ft  Contact for details      2008   Mar 2012 for $82,000   \n",
       "3    995 sq ft           51.9 acres      2007  Jul 2012 for $103,000   \n",
       "4  1,001 sq ft             50 acres      2007  Aug 2013 for $112,500   \n",
       "\n",
       "                heattype      zillowdays            cooling  parking basement  \\\n",
       "0    Contact for details         Unknown            Unknown  Unknown  Unknown   \n",
       "1    Contact for details         Unknown            Unknown  Unknown  Unknown   \n",
       "2             Forced air         Central            Unknown  Unknown  Unknown   \n",
       "3    Contact for details         Unknown            Unknown  Unknown  Unknown   \n",
       "4  Forced air, Heat pump  Central, Other  Garage - Attached  Unknown  Unknown   \n",
       "\n",
       "                  fireplace floorcover  \n",
       "0                   Unknown    Unknown  \n",
       "1                   Unknown    Unknown  \n",
       "2                   Unknown    Unknown  \n",
       "3                   Unknown    Unknown  \n",
       "4  Carpet, Linoleum / Vinyl    Unknown  "
      ]
     },
     "execution_count": 151,
     "metadata": {},
     "output_type": "execute_result"
    }
   ],
   "source": [
    "df = pd.read_csv(\"House_details.csv\", skiprows=[0])\n",
    "df.head()"
   ]
  },
  {
   "cell_type": "markdown",
   "metadata": {
    "id": "40vaM7CChFh9"
   },
   "source": [
    "Verify the second header is removed."
   ]
  },
  {
   "cell_type": "code",
   "execution_count": 152,
   "metadata": {
    "ExecuteTime": {
     "end_time": "2022-06-07T19:13:45.271340Z",
     "start_time": "2022-06-07T19:13:45.261136Z"
    },
    "id": "q7IBEdhJPWxw"
   },
   "outputs": [
    {
     "data": {
      "text/plain": [
       "0    3751 Harbor Estates Ln , Champaign, IL 61822\n",
       "1          618 Lauterbur Ln , Champaign, IL 61822\n",
       "2          3728 Balcary Bay , Champaign, IL 61822\n",
       "3              503 Corey Ln , Champaign, IL 61822\n",
       "4          605 Lauterbur Ln , Champaign, IL 61822\n",
       "Name: House_Address, dtype: object"
      ]
     },
     "execution_count": 152,
     "metadata": {},
     "output_type": "execute_result"
    }
   ],
   "source": [
    "df['House_Address'].head()"
   ]
  },
  {
   "cell_type": "markdown",
   "metadata": {
    "id": "CkuuoKfThHfX"
   },
   "source": [
    "Switch addresses to lower."
   ]
  },
  {
   "cell_type": "code",
   "execution_count": 153,
   "metadata": {
    "ExecuteTime": {
     "end_time": "2022-06-07T19:13:48.240180Z",
     "start_time": "2022-06-07T19:13:48.227872Z"
    },
    "id": "aR3Rkh30LwSJ"
   },
   "outputs": [],
   "source": [
    "# Convert to lowercase\n",
    "df['House_Address'] = df['House_Address'].str.lower()"
   ]
  },
  {
   "cell_type": "code",
   "execution_count": 154,
   "metadata": {
    "ExecuteTime": {
     "end_time": "2022-06-07T19:13:48.851746Z",
     "start_time": "2022-06-07T19:13:48.841030Z"
    },
    "id": "IPIqe7nPPZnD"
   },
   "outputs": [
    {
     "data": {
      "text/plain": [
       "0    3751 harbor estates ln , champaign, il 61822\n",
       "1          618 lauterbur ln , champaign, il 61822\n",
       "2          3728 balcary bay , champaign, il 61822\n",
       "3              503 corey ln , champaign, il 61822\n",
       "4          605 lauterbur ln , champaign, il 61822\n",
       "Name: House_Address, dtype: object"
      ]
     },
     "execution_count": 154,
     "metadata": {},
     "output_type": "execute_result"
    }
   ],
   "source": [
    "df['House_Address'].head()"
   ]
  },
  {
   "cell_type": "markdown",
   "metadata": {
    "id": "PBj3AqzNhJ3Z"
   },
   "source": [
    "Retrieve street address information"
   ]
  },
  {
   "cell_type": "code",
   "execution_count": 155,
   "metadata": {
    "ExecuteTime": {
     "end_time": "2022-06-07T19:13:50.065232Z",
     "start_time": "2022-06-07T19:13:50.052706Z"
    },
    "id": "_GPnTWp7L3P0"
   },
   "outputs": [],
   "source": [
    "df['St_Address'] = df['House_Address'].replace(' ,.*','',regex=True, inplace = False)"
   ]
  },
  {
   "cell_type": "code",
   "execution_count": 156,
   "metadata": {
    "ExecuteTime": {
     "end_time": "2022-06-07T19:13:50.633329Z",
     "start_time": "2022-06-07T19:13:50.623372Z"
    },
    "id": "ExgQ7QpXPd8I"
   },
   "outputs": [
    {
     "data": {
      "text/plain": [
       "0    3751 harbor estates ln\n",
       "1          618 lauterbur ln\n",
       "2          3728 balcary bay\n",
       "3              503 corey ln\n",
       "4          605 lauterbur ln\n",
       "Name: St_Address, dtype: object"
      ]
     },
     "execution_count": 156,
     "metadata": {},
     "output_type": "execute_result"
    }
   ],
   "source": [
    "df['St_Address'].head()"
   ]
  },
  {
   "cell_type": "code",
   "execution_count": 157,
   "metadata": {
    "ExecuteTime": {
     "end_time": "2022-06-07T19:13:51.256363Z",
     "start_time": "2022-06-07T19:13:51.245270Z"
    },
    "id": "B1lQM5ipPqxh"
   },
   "outputs": [
    {
     "data": {
      "text/plain": [
       "0    3751 harbor estates ln , champaign, il 61822\n",
       "1          618 lauterbur ln , champaign, il 61822\n",
       "2          3728 balcary bay , champaign, il 61822\n",
       "3              503 corey ln , champaign, il 61822\n",
       "4          605 lauterbur ln , champaign, il 61822\n",
       "Name: House_Address, dtype: object"
      ]
     },
     "execution_count": 157,
     "metadata": {},
     "output_type": "execute_result"
    }
   ],
   "source": [
    " df['House_Address'].head()"
   ]
  },
  {
   "cell_type": "markdown",
   "metadata": {
    "id": "Uh4R_eVZhOM0"
   },
   "source": [
    "City information"
   ]
  },
  {
   "cell_type": "code",
   "execution_count": 175,
   "metadata": {
    "ExecuteTime": {
     "end_time": "2022-06-07T19:37:20.696320Z",
     "start_time": "2022-06-07T19:37:20.654827Z"
    },
    "id": "zmFfiA9gMU3n"
   },
   "outputs": [],
   "source": [
    "df['city'] = df['House_Address'].replace('.*, champaign, .*', '0', regex=True, inplace = False)\n",
    "df['city'] = df['city'].replace('.*, urbana, .*','1',regex=True, inplace = False)\n",
    "df['city'] = df['city'].replace('.*, savoy, .*','2',regex=True, inplace = False)\n",
    "df['city'] = df['city'].replace('.*, royal, .*','3',regex=True, inplace = False)\n",
    "df['city'] = df['city'].replace('.*, saint joseph, .*','4',regex=True, inplace = False)"
   ]
  },
  {
   "cell_type": "code",
   "execution_count": 176,
   "metadata": {
    "ExecuteTime": {
     "end_time": "2022-06-07T19:37:21.721975Z",
     "start_time": "2022-06-07T19:37:21.695313Z"
    }
   },
   "outputs": [
    {
     "data": {
      "text/plain": [
       "cityname\n",
       "champaign       2620\n",
       "royal              2\n",
       "saint joseph       2\n",
       "savoy              6\n",
       "urbana          1088\n",
       "dtype: int64"
      ]
     },
     "execution_count": 176,
     "metadata": {},
     "output_type": "execute_result"
    }
   ],
   "source": [
    "df['cityname'] = df['House_Address'].replace('.*, ([a-z ]+), .*',r'\\1',regex=True, inplace = False)\n",
    "df.groupby('cityname').size()"
   ]
  },
  {
   "cell_type": "code",
   "execution_count": 168,
   "metadata": {
    "ExecuteTime": {
     "end_time": "2022-06-07T19:35:57.528688Z",
     "start_time": "2022-06-07T19:35:57.513750Z"
    }
   },
   "outputs": [
    {
     "data": {
      "text/plain": [
       "city\n",
       "champaign       2620\n",
       "royal              2\n",
       "saint joseph       2\n",
       "savoy              6\n",
       "urbana          1088\n",
       "dtype: int64"
      ]
     },
     "execution_count": 168,
     "metadata": {},
     "output_type": "execute_result"
    }
   ],
   "source": [
    "mask_city = ~df['city'].isin([\"house_address\"])\n",
    "df = df[mask_city]\n",
    "df.groupby('city').size()"
   ]
  },
  {
   "cell_type": "code",
   "execution_count": null,
   "metadata": {
    "ExecuteTime": {
     "end_time": "2022-06-07T19:06:41.665732Z",
     "start_time": "2022-06-07T19:06:41.656526Z"
    }
   },
   "outputs": [],
   "source": []
  },
  {
   "cell_type": "code",
   "execution_count": 169,
   "metadata": {
    "ExecuteTime": {
     "end_time": "2022-06-07T19:35:59.505095Z",
     "start_time": "2022-06-07T19:35:59.494207Z"
    },
    "id": "ilFUbZ0LPygE"
   },
   "outputs": [
    {
     "data": {
      "text/plain": [
       "0    champaign\n",
       "1    champaign\n",
       "2    champaign\n",
       "3    champaign\n",
       "4    champaign\n",
       "Name: city, dtype: object"
      ]
     },
     "execution_count": 169,
     "metadata": {},
     "output_type": "execute_result"
    }
   ],
   "source": [
    "df['city'].head()"
   ]
  },
  {
   "cell_type": "code",
   "execution_count": 170,
   "metadata": {
    "ExecuteTime": {
     "end_time": "2022-06-07T19:35:59.897759Z",
     "start_time": "2022-06-07T19:35:59.888720Z"
    },
    "id": "yb64b6_fQRre"
   },
   "outputs": [
    {
     "data": {
      "text/plain": [
       "array(['champaign', 'urbana', 'savoy', 'royal', 'saint joseph'],\n",
       "      dtype=object)"
      ]
     },
     "execution_count": 170,
     "metadata": {},
     "output_type": "execute_result"
    }
   ],
   "source": [
    "df['city'].unique()"
   ]
  },
  {
   "cell_type": "code",
   "execution_count": 177,
   "metadata": {
    "ExecuteTime": {
     "end_time": "2022-06-07T19:37:27.134145Z",
     "start_time": "2022-06-07T19:37:27.125203Z"
    }
   },
   "outputs": [],
   "source": [
    "df['city'] = pd.to_numeric(df['city'])"
   ]
  },
  {
   "cell_type": "markdown",
   "metadata": {
    "id": "xWGnkkvPhWAO"
   },
   "source": [
    "## Your Turn\n",
    "\n",
    "Drop the city row that has \"house_address\" and, then, convert city to numeric with `.to_numeric`\n"
   ]
  },
  {
   "cell_type": "markdown",
   "metadata": {
    "id": "1EVE6rc-hcpv"
   },
   "source": [
    "## Zipcode"
   ]
  },
  {
   "cell_type": "code",
   "execution_count": 146,
   "metadata": {
    "ExecuteTime": {
     "end_time": "2022-06-07T19:12:07.183277Z",
     "start_time": "2022-06-07T19:12:07.166392Z"
    },
    "id": "-yYbW-xCMWAC"
   },
   "outputs": [
    {
     "data": {
      "text/plain": [
       "0    61822\n",
       "1    61822\n",
       "2    61822\n",
       "3    61822\n",
       "4    61822\n",
       "Name: zipcode, dtype: object"
      ]
     },
     "execution_count": 146,
     "metadata": {},
     "output_type": "execute_result"
    }
   ],
   "source": [
    "df['zipcode'] = df['House_Address'].replace(\".* , .*, il \", \"\",regex=True, inplace = False)\n",
    "df['zipcode'].head()"
   ]
  },
  {
   "cell_type": "code",
   "execution_count": null,
   "metadata": {},
   "outputs": [],
   "source": []
  }
 ],
 "metadata": {
  "colab": {
   "collapsed_sections": [],
   "name": "05a-regular-expressions.ipynb",
   "provenance": [],
   "toc_visible": true
  },
  "kernelspec": {
   "display_name": "Python 3",
   "language": "python",
   "name": "python3"
  },
  "language_info": {
   "codemirror_mode": {
    "name": "ipython",
    "version": 3
   },
   "file_extension": ".py",
   "mimetype": "text/x-python",
   "name": "python",
   "nbconvert_exporter": "python",
   "pygments_lexer": "ipython3",
   "version": "3.10.4"
  },
  "vscode": {
   "interpreter": {
    "hash": "e32d4e198d9b0a4d3b0d3fe4483a8f43a97a54a3fa9f75d4ae5f950d4cea7663"
   }
  }
 },
 "nbformat": 4,
 "nbformat_minor": 1
}
