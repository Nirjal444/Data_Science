{
 "cells": [
  {
   "cell_type": "markdown",
   "metadata": {
    "id": "UUQrBnuBN73Z"
   },
   "source": [
    "## Exercise 1: [Pocketful of Sunshine](https://www.youtube.com/watch?v=gte3BoXKwP0)\n",
    "\n",
    "Answer the following questions by creating a pattern\n",
    "that satisfies the test cases listed below. To form the test case vector, \n",
    "combine the listed cases together and use the appropriate `re` function\n",
    "that **displays** the pattern match inline. "
   ]
  },
  {
   "cell_type": "markdown",
   "metadata": {
    "id": "vpnezd03PH5Q"
   },
   "source": [
    "- **(a)** Any letter in your first name in lower case. \n",
    "    - **Matches:** If your first name is `james`, then match any word with:\n",
    "      `j`, `a`, `m`, `e`, or `s`. \n",
    "    - **Test cases:** `\"james\"`, `\"pete\"`, `\"lee\"`, `\"ajay\"`, `\"ann\"`, `\"hoodie\"`,\n",
    "      and `\"uru\"`.\n",
    "\n"
   ]
  },
  {
   "cell_type": "code",
   "execution_count": 3,
   "metadata": {
    "ExecuteTime": {
     "end_time": "2022-06-07T19:43:38.398046Z",
     "start_time": "2022-06-07T19:43:38.365872Z"
    },
    "id": "8L7RZuP7PwLq"
   },
   "outputs": [],
   "source": [
    "names = [\"james\",\"pete\",\"lee\",\"ajay\",\"ann\",\"hoodie\"]"
   ]
  },
  {
   "cell_type": "code",
   "execution_count": 5,
   "metadata": {
    "ExecuteTime": {
     "end_time": "2022-06-07T19:43:48.765561Z",
     "start_time": "2022-06-07T19:43:48.749520Z"
    }
   },
   "outputs": [
    {
     "data": {
      "text/plain": [
       "[<re.Match object; span=(0, 1), match='j'>,\n",
       " None,\n",
       " <re.Match object; span=(0, 1), match='l'>,\n",
       " <re.Match object; span=(0, 1), match='a'>,\n",
       " <re.Match object; span=(0, 1), match='a'>,\n",
       " <re.Match object; span=(4, 5), match='i'>]"
      ]
     },
     "execution_count": 5,
     "metadata": {},
     "output_type": "execute_result"
    }
   ],
   "source": [
    "import re\n",
    "[re.search(r'[nirjal]', name) for name in names]"
   ]
  },
  {
   "cell_type": "markdown",
   "metadata": {
    "id": "1Shz6PvwPlg1"
   },
   "source": [
    "### b\n",
    "\n",
    "_Only_ Uppercase letters.\n",
    "- **Matches:** \"HELLOWORLD\" but not \"Hello World!\", \"HELLO WORLD\", \"hello world\", or \"helloworld\".\n",
    "  - _Hint:_ Anchors and quantifiers are your friend.\n",
    "- **Test cases:** `\"today is the DAY!\"`, `\"GOILLINI\"`, `\"Orange and Blue\"`, `\"CAPS LOCK\"`, `\"STAT\"`, `\"R2D2\"`, `\"python\"`.\n",
    "\n"
   ]
  },
  {
   "cell_type": "code",
   "execution_count": 6,
   "metadata": {
    "ExecuteTime": {
     "end_time": "2022-06-07T19:44:11.372179Z",
     "start_time": "2022-06-07T19:44:11.366632Z"
    },
    "id": "1tbyFOD_Pfzx"
   },
   "outputs": [],
   "source": [
    "uppercase = [\"today is the DAY!\",\"GOILLINI\",\"Orange and Blue\",\"CAPS LOCK\",\"STAT\",\"R2D2\",\"python\"]"
   ]
  },
  {
   "cell_type": "code",
   "execution_count": 7,
   "metadata": {
    "ExecuteTime": {
     "end_time": "2022-06-07T19:48:19.566644Z",
     "start_time": "2022-06-07T19:48:19.556378Z"
    }
   },
   "outputs": [
    {
     "data": {
      "text/plain": [
       "[None,\n",
       " <re.Match object; span=(0, 8), match='GOILLINI'>,\n",
       " None,\n",
       " None,\n",
       " <re.Match object; span=(0, 4), match='STAT'>,\n",
       " None,\n",
       " None]"
      ]
     },
     "execution_count": 7,
     "metadata": {},
     "output_type": "execute_result"
    }
   ],
   "source": [
    "[re.search(r'^[A-Z]+$', word) for word in uppercase]"
   ]
  },
  {
   "cell_type": "markdown",
   "metadata": {
    "id": "D6LvQtL5PX_N"
   },
   "source": [
    "### c\n",
    "\n",
    "Alphanumeric password between 5 and 7 characters long\n",
    "\n",
    "- **Matches:** 5 - 7 characters that contains only a-z, A-Z, or 0-9.\n",
    "- **Test Cases:** `\"seeing4Miles\"`, `\"h@llowed1\"`, `\"pie2Go\"`, `\"sunsun\"`, `\"laugh2Jokes\"`\n"
   ]
  },
  {
   "cell_type": "code",
   "execution_count": 8,
   "metadata": {
    "ExecuteTime": {
     "end_time": "2022-06-07T19:48:23.743906Z",
     "start_time": "2022-06-07T19:48:23.737584Z"
    },
    "id": "-0wMIT5OPXnP"
   },
   "outputs": [],
   "source": [
    "password = [\"seeing4Miles\",\"h@llowed1\",\"pie2Go\",\"sunsun\",\"laugh2Jokes\"]"
   ]
  },
  {
   "cell_type": "code",
   "execution_count": null,
   "metadata": {},
   "outputs": [],
   "source": [
    "re.search(r'')"
   ]
  },
  {
   "cell_type": "markdown",
   "metadata": {
    "id": "OXC-3t6ePOBg"
   },
   "source": [
    "### d\n",
    "\n",
    "Any numbers between 1 and 9999\n",
    "\n",
    "- **Matches:** 1, 2, ..., 42, ..., 180, ..., 999. Does _not_ match: 001, 05 ... \n",
    "\n",
    "- **Test Cases:** `\"001\"`, `\"1\"`, `\"15\"`, `\"891\"`, `\"05\"`, `\"0\"`, `\"999\"`, `\"0599\"`, `\"5566\"`\n"
   ]
  },
  {
   "cell_type": "code",
   "execution_count": null,
   "metadata": {
    "id": "MHMhDbGHPShY"
   },
   "outputs": [],
   "source": [
    "numbers = [\"001\",\"1\",\"15\",\"891\",\"05\",\"0\",\"999\",\"0599\",\"5566\"]"
   ]
  },
  {
   "cell_type": "markdown",
   "metadata": {
    "id": "W6uuToA2PKvj"
   },
   "source": [
    "### e\n",
    "\n",
    "Sentences or questions that being with a capital letter and end with proper punctuation such as `!`, `?`, and `.`\n",
    "\n",
    "- **Matches:** \"How are you today?\", \"Goodbye Pete.\" Does _not_ match \"good morning.\" or \"Good Morning\"\n",
    "- **Test Cases:** `\"What's your favorite color?\"`, `\"I am 10 years old!\"`, `\"re is a package.\"`, `\"Go green to save the planet.\"`\n"
   ]
  },
  {
   "cell_type": "code",
   "execution_count": null,
   "metadata": {
    "id": "UVzgzEY0N7dY"
   },
   "outputs": [],
   "source": [
    "sentences = [\"What's your favorite color?\",\"I am 10 years wold!\",\"re is a package.\",\"Go green to save the planet.\"]\n"
   ]
  },
  {
   "cell_type": "markdown",
   "metadata": {
    "id": "6wOcOMLiQhFD"
   },
   "source": [
    "## Exercise 2: Root Canal\n",
    "\n",
    "Answer the following questions by creating a pattern\n",
    "that satisfies the test cases listed while **extracting** the requested information from the string. To form the test case vector, combine the listed cases together and use the appropriate `re` function.\n"
   ]
  },
  {
   "cell_type": "markdown",
   "metadata": {
    "id": "sTlFj2MRQyuw"
   },
   "source": [
    "### a \n",
    "\n",
    "Extract hashtag references from embedded text.\n",
    "\n",
    "- **Matches:** `#text` and extracts the value `#text`\n",
    "- **Test Cases:** `\"no tag\"`, `\"#python #stats\"`, `\"hi #imsiinterns\"`, `\"my #regex is #improving\"`\n"
   ]
  },
  {
   "cell_type": "code",
   "execution_count": 11,
   "metadata": {
    "ExecuteTime": {
     "end_time": "2022-06-07T20:12:22.645371Z",
     "start_time": "2022-06-07T20:12:22.627995Z"
    },
    "id": "B43ZsUJTQ0sA"
   },
   "outputs": [
    {
     "data": {
      "text/plain": [
       "[[], ['#python', '#stats'], ['#imsiinterns'], ['#regex', '#improving']]"
      ]
     },
     "execution_count": 11,
     "metadata": {},
     "output_type": "execute_result"
    }
   ],
   "source": [
    "text=[\"no tag\",\"#python #stats\",\"hi #imsiinterns\",\"my #regex is #improving\"]\n",
    "[re.findall(r'\\#[a-z]*', reference) for reference in text]"
   ]
  },
  {
   "cell_type": "markdown",
   "metadata": {
    "id": "RICZ2pvDQuNK"
   },
   "source": [
    "### b\n",
    "\n",
    "Match and Extract the Dimensions of a Monitor\n",
    "\n",
    "- **Matches:** Three to four numbers followed by an `x` and then 3 to 4 more numbers.\n",
    "\n",
    "- **Test Cases:** `\"640x480\"`, `\"800x600\"`, `\"960x720\"`, `\"1024x768\"`, `\"1920x1200\"`, `\"2560x1600\"`\n"
   ]
  },
  {
   "cell_type": "code",
   "execution_count": 15,
   "metadata": {
    "ExecuteTime": {
     "end_time": "2022-06-07T20:15:41.702694Z",
     "start_time": "2022-06-07T20:15:41.691225Z"
    },
    "id": "43R9Hh0ORBTC"
   },
   "outputs": [
    {
     "data": {
      "text/plain": [
       "[['640x480'],\n",
       " ['800x600'],\n",
       " ['960x720'],\n",
       " ['1024x768'],\n",
       " ['1920x1200'],\n",
       " ['2560x1600']]"
      ]
     },
     "execution_count": 15,
     "metadata": {},
     "output_type": "execute_result"
    }
   ],
   "source": [
    "dimensions = [\"640x480\",\"800x600\",\"960x720\",\"1024x768\",\"1920x1200\",\"2560x1600\"]\n",
    "[re.findall(r'^[1-9]\\d{2,3}x[1-9]\\d{2,3}$', number) for number in dimensions]"
   ]
  },
  {
   "cell_type": "markdown",
   "metadata": {
    "id": "pA0S3nONQs5z"
   },
   "source": [
    "### c\n",
    "\n",
    "Isolate file IDs from file extensions\n",
    "\n",
    "- **Matches:** `file_xxxxx.pdf`, extracts `file_xxxxx`, and discards file extensions (e.g. `.pdf`, `.png`)\n",
    "  - _Hint:_ Extract and then replacement to retrieve only `file_xxxx`\n",
    "- **Test Cases**: `\"file_transcript.pdf\"`, `\"file_imsi_sol.ipynb\"`, `\"file_grad_shot.png\"`, `\"991.docx\"`, `\"grades.xls\"`\n",
    "  - **Note** `991.docx` and `grade.xls` are **not** valid and should be _excluded_ during the extract portion.\n"
   ]
  },
  {
   "cell_type": "code",
   "execution_count": 17,
   "metadata": {
    "ExecuteTime": {
     "end_time": "2022-06-07T20:28:26.800321Z",
     "start_time": "2022-06-07T20:28:26.790311Z"
    },
    "id": "T9puTbK8QsfS"
   },
   "outputs": [
    {
     "data": {
      "text/plain": [
       "[['file_transcript.pdf'],\n",
       " ['file_imsi_sol.ipynb'],\n",
       " ['file_grad_shot.png'],\n",
       " [],\n",
       " []]"
      ]
     },
     "execution_count": 17,
     "metadata": {},
     "output_type": "execute_result"
    }
   ],
   "source": [
    "file_names = [\"file_transcript.pdf\",\"file_imsi_sol.ipynb\",\"file_grad_shot.png\",\"991.docx\",\"grade.xlsj\"]\n",
    "[re.findall(r'file\\_[a-zAA-Z\\_]*\\.[a-z]*$', word) for word in file_names]"
   ]
  },
  {
   "cell_type": "markdown",
   "metadata": {
    "id": "nY7vF9GIGHyU"
   },
   "source": [
    "## Exercise 3: File Name Meta Data\n",
    "\n",
    "Oh no! The same group of scientists who were working on collecting data related to \n",
    "vapor pressure deficiency -- a metric that combines temperature and relative humidity data\n",
    "-- across **thousands** of plot locations in Illinois to address the invasive\n",
    "understory plant [Amur honeysuckle (Lonicera maackii)](https://en.wikipedia.org/wiki/Lonicera_maackii)\n",
    "had an even larger mishap with how their sensors tracked metadata about the \n",
    "locations.\n",
    "\n",
    "Unfortunately, the research assistants helping the scientists made an\n",
    "even more egregious error with how certain sensors labelled the data. Seeing\n",
    "as you did such a great job last time, your contact within the lab sent over the \n",
    "following file names:\n",
    "\n",
    "- P1-A14-S10_20180122.csv\n",
    "- P342-A23-S333_20180522.csv\n",
    "- P3-A1-S6_20180221.csv\n",
    "- P15-A1-S14.20181029.csv\n",
    "- P1441-A3-S2.20161001.csv\n",
    "- P91-A4-S1.20181103.csv\n",
    "- P2-A52-S50.20190115.csv\n",
    "- P2-A2-S12.20190116.csv\n",
    "- P2-A2-S25.20190117.csv\n",
    "\n",
    "Help the scientist out by writing _Python_ code that extracts the metadata from the\n",
    "file name and _stores_ it into a pandas `Data Frame`. **The _Python_ code should primarily\n",
    "extract the metadata using regular expressions.** The final `Data Frame` should\n",
    "have the following variables: \n",
    "\n",
    "- `plot`\n",
    "- `area`\n",
    "- `sensor`\n",
    "- `year`\n",
    "- `month`\n",
    "- `day`\n",
    "\n",
    "The file name is _thankfully_  organized such that:\n",
    "\n",
    "- `P`: denotes the plot;\n",
    "- `A`: denotes the area on the plot a sensor was placed;\n",
    "- `S`: denotes the sensor; and\n",
    "- `YYYYMMDD` denotes the Year Month and Day format of the sensor.\n",
    "\n",
    "**Example Output:**\n",
    "\n",
    "```\n",
    "  plot area sensor year month day\n",
    "    P1  A14    S10 2018     1  22\n",
    "  P342  A23   S333 2018     5  22\n",
    "    P3   A1     S6 2018     2  21\n",
    "   P15   A1    S14 2018    10  29\n",
    " P1441   A3     S2 2016    10   1\n",
    "   P91   A4     S1 2018    11   3\n",
    "    P2  A52    S50 2019     1  15\n",
    "    P2   A2    S12 2019     1  16\n",
    "    P2   A2    S25 2019     1  17\n",
    "```"
   ]
  },
  {
   "cell_type": "code",
   "execution_count": 24,
   "metadata": {
    "ExecuteTime": {
     "end_time": "2022-06-07T20:43:32.489678Z",
     "start_time": "2022-06-07T20:43:32.464067Z"
    },
    "colab": {
     "base_uri": "https://localhost:8080/",
     "height": 49
    },
    "id": "z843Uk2-GHHk",
    "outputId": "ef5c5c6e-e922-40b0-8e2b-a6d287bd699f"
   },
   "outputs": [
    {
     "ename": "TypeError",
     "evalue": "unhashable type: 'list'",
     "output_type": "error",
     "traceback": [
      "\u001b[0;31m---------------------------------------------------------------------------\u001b[0m",
      "\u001b[0;31mTypeError\u001b[0m                                 Traceback (most recent call last)",
      "Input \u001b[0;32mIn [24]\u001b[0m, in \u001b[0;36m<cell line: 18>\u001b[0;34m()\u001b[0m\n\u001b[1;32m      5\u001b[0m x \u001b[38;5;241m=\u001b[39m [\n\u001b[1;32m      6\u001b[0m   \u001b[38;5;124m\"\u001b[39m\u001b[38;5;124mP1-A14-S10_20180122.csv\u001b[39m\u001b[38;5;124m\"\u001b[39m,\n\u001b[1;32m      7\u001b[0m   \u001b[38;5;124m\"\u001b[39m\u001b[38;5;124mP342-A23-S333_20180522.csv\u001b[39m\u001b[38;5;124m\"\u001b[39m,\n\u001b[0;32m   (...)\u001b[0m\n\u001b[1;32m     14\u001b[0m   \u001b[38;5;124m\"\u001b[39m\u001b[38;5;124mP2-A2-S25.20190117.csv\u001b[39m\u001b[38;5;124m\"\u001b[39m\n\u001b[1;32m     15\u001b[0m ]\n\u001b[1;32m     17\u001b[0m \u001b[38;5;66;03m# Code here\u001b[39;00m\n\u001b[0;32m---> 18\u001b[0m df \u001b[38;5;241m=\u001b[39m pd\u001b[38;5;241m.\u001b[39mDataFrame({x})\n\u001b[1;32m     20\u001b[0m df\u001b[38;5;241m.\u001b[39mcolumns \u001b[38;5;241m=\u001b[39m [\u001b[38;5;124m\"\u001b[39m\u001b[38;5;124mplot\u001b[39m\u001b[38;5;124m\"\u001b[39m, \u001b[38;5;124m\"\u001b[39m\u001b[38;5;124marea\u001b[39m\u001b[38;5;124m\"\u001b[39m, \u001b[38;5;124m\"\u001b[39m\u001b[38;5;124msector\u001b[39m\u001b[38;5;124m\"\u001b[39m, \u001b[38;5;124m\"\u001b[39m\u001b[38;5;124myear\u001b[39m\u001b[38;5;124m\"\u001b[39m, \u001b[38;5;124m\"\u001b[39m\u001b[38;5;124mmonth\u001b[39m\u001b[38;5;124m\"\u001b[39m, \u001b[38;5;124m\"\u001b[39m\u001b[38;5;124mday\u001b[39m\u001b[38;5;124m\"\u001b[39m]\n\u001b[1;32m     22\u001b[0m display(df)\n",
      "\u001b[0;31mTypeError\u001b[0m: unhashable type: 'list'"
     ]
    }
   ],
   "source": [
    "import pandas as pd\n",
    "import re\n",
    "\n",
    "# Load file names\n",
    "x = [\n",
    "  \"P1-A14-S10_20180122.csv\",\n",
    "  \"P342-A23-S333_20180522.csv\",\n",
    "  \"P3-A1-S6_20180221.csv\",\n",
    "  \"P15-A1-S14.20181029.csv\",\n",
    "  \"P1441-A3-S2.20161001.csv\",\n",
    "  \"P91-A4-S1.20181103.csv\",\n",
    "  \"P2-A52-S50.20190115.csv\",\n",
    "  \"P2-A2-S12.20190116.csv\",\n",
    "  \"P2-A2-S25.20190117.csv\"\n",
    "]\n",
    "\n",
    "# Code here\n",
    "df = pd.DataFrame({x})\n",
    "\n",
    "df.columns = [\"plot\", \"area\", \"sector\", \"year\", \"month\", \"day\"]\n",
    "\n",
    "display(df)"
   ]
  },
  {
   "cell_type": "code",
   "execution_count": 25,
   "metadata": {
    "ExecuteTime": {
     "end_time": "2022-06-07T20:52:42.256338Z",
     "start_time": "2022-06-07T20:52:42.107223Z"
    }
   },
   "outputs": [
    {
     "data": {
      "text/html": [
       "<div>\n",
       "<style scoped>\n",
       "    .dataframe tbody tr th:only-of-type {\n",
       "        vertical-align: middle;\n",
       "    }\n",
       "\n",
       "    .dataframe tbody tr th {\n",
       "        vertical-align: top;\n",
       "    }\n",
       "\n",
       "    .dataframe thead th {\n",
       "        text-align: right;\n",
       "    }\n",
       "</style>\n",
       "<table border=\"1\" class=\"dataframe\">\n",
       "  <thead>\n",
       "    <tr style=\"text-align: right;\">\n",
       "      <th></th>\n",
       "      <th>plot</th>\n",
       "      <th>area</th>\n",
       "      <th>sensor</th>\n",
       "      <th>year</th>\n",
       "      <th>month</th>\n",
       "      <th>day</th>\n",
       "    </tr>\n",
       "  </thead>\n",
       "  <tbody>\n",
       "    <tr>\n",
       "      <th>0</th>\n",
       "      <td>P1</td>\n",
       "      <td>A14</td>\n",
       "      <td>S10</td>\n",
       "      <td>2018</td>\n",
       "      <td>01</td>\n",
       "      <td>22</td>\n",
       "    </tr>\n",
       "    <tr>\n",
       "      <th>1</th>\n",
       "      <td>P342</td>\n",
       "      <td>A23</td>\n",
       "      <td>S333</td>\n",
       "      <td>2018</td>\n",
       "      <td>05</td>\n",
       "      <td>22</td>\n",
       "    </tr>\n",
       "    <tr>\n",
       "      <th>2</th>\n",
       "      <td>P3</td>\n",
       "      <td>A1</td>\n",
       "      <td>S6</td>\n",
       "      <td>2018</td>\n",
       "      <td>02</td>\n",
       "      <td>21</td>\n",
       "    </tr>\n",
       "    <tr>\n",
       "      <th>3</th>\n",
       "      <td>P15</td>\n",
       "      <td>A1</td>\n",
       "      <td>S14</td>\n",
       "      <td>2018</td>\n",
       "      <td>10</td>\n",
       "      <td>29</td>\n",
       "    </tr>\n",
       "    <tr>\n",
       "      <th>4</th>\n",
       "      <td>P1441</td>\n",
       "      <td>A3</td>\n",
       "      <td>S2</td>\n",
       "      <td>2016</td>\n",
       "      <td>10</td>\n",
       "      <td>01</td>\n",
       "    </tr>\n",
       "    <tr>\n",
       "      <th>5</th>\n",
       "      <td>P91</td>\n",
       "      <td>A4</td>\n",
       "      <td>S1</td>\n",
       "      <td>2018</td>\n",
       "      <td>11</td>\n",
       "      <td>03</td>\n",
       "    </tr>\n",
       "    <tr>\n",
       "      <th>6</th>\n",
       "      <td>P2</td>\n",
       "      <td>A52</td>\n",
       "      <td>S50</td>\n",
       "      <td>2019</td>\n",
       "      <td>01</td>\n",
       "      <td>15</td>\n",
       "    </tr>\n",
       "    <tr>\n",
       "      <th>7</th>\n",
       "      <td>P2</td>\n",
       "      <td>A2</td>\n",
       "      <td>S12</td>\n",
       "      <td>2019</td>\n",
       "      <td>01</td>\n",
       "      <td>16</td>\n",
       "    </tr>\n",
       "    <tr>\n",
       "      <th>8</th>\n",
       "      <td>P2</td>\n",
       "      <td>A2</td>\n",
       "      <td>S25</td>\n",
       "      <td>2019</td>\n",
       "      <td>01</td>\n",
       "      <td>17</td>\n",
       "    </tr>\n",
       "  </tbody>\n",
       "</table>\n",
       "</div>"
      ],
      "text/plain": [
       "    plot area sensor  year month day\n",
       "0     P1  A14    S10  2018    01  22\n",
       "1   P342  A23   S333  2018    05  22\n",
       "2     P3   A1     S6  2018    02  21\n",
       "3    P15   A1    S14  2018    10  29\n",
       "4  P1441   A3     S2  2016    10  01\n",
       "5    P91   A4     S1  2018    11  03\n",
       "6     P2  A52    S50  2019    01  15\n",
       "7     P2   A2    S12  2019    01  16\n",
       "8     P2   A2    S25  2019    01  17"
      ]
     },
     "metadata": {},
     "output_type": "display_data"
    }
   ],
   "source": [
    "import pandas as pd\n",
    "import re\n",
    "import numpy as np\n",
    "\n",
    "# Load file names\n",
    "x = [\n",
    "  \"P1-A14-S10_20180122.csv\",\n",
    "  \"P342-A23-S333_20180522.csv\",\n",
    "  \"P3-A1-S6_20180221.csv\",\n",
    "  \"P15-A1-S14.20181029.csv\",\n",
    "  \"P1441-A3-S2.20161001.csv\",\n",
    "  \"P91-A4-S1.20181103.csv\",\n",
    "  \"P2-A52-S50.20190115.csv\",\n",
    "  \"P2-A2-S12.20190116.csv\",\n",
    "  \"P2-A2-S25.20190117.csv\"\n",
    "]\n",
    "\n",
    "# Code here\n",
    "df = pd.DataFrame(np.zeros((9,6)),\n",
    "                  columns = [\"plot\", \"area\", \"sensor\", \"year\", \"month\", \"day\"])\n",
    "\n",
    "i = 0\n",
    "for word in x:\n",
    "    df.loc[i,\"plot\"] = re.findall(r'^P[0-9]*', word)[0]\n",
    "    df.loc[i,\"area\"] = re.findall(r'A[0-9]*', word)[0]\n",
    "    df.loc[i,\"sensor\"] = re.findall(r'S[0-9]*', word)[0]\n",
    "    date = re.findall(r'[\\.\\_][0-9]*', word)[0][1:]\n",
    "    df.loc[i,\"year\"] = date[0:4]\n",
    "    df.loc[i,\"month\"] = date[4:6]\n",
    "    df.loc[i,\"day\"] = date[6:8]\n",
    "    i += 1\n",
    "\n",
    "display(df)"
   ]
  },
  {
   "cell_type": "markdown",
   "metadata": {
    "id": "hH0R_jOQRvWV"
   },
   "source": [
    "# Exercise 4: Living the Pandas Loca!"
   ]
  },
  {
   "cell_type": "markdown",
   "metadata": {
    "id": "277C47OyRyKj"
   },
   "source": [
    "### a\n",
    "\n",
    "Given a Pandas DataFrame and tweet data, please extract the username mention from the tweet data, e.g. `@username`. \n",
    "\n"
   ]
  },
  {
   "cell_type": "code",
   "execution_count": 4,
   "metadata": {
    "colab": {
     "base_uri": "https://localhost:8080/",
     "height": 161
    },
    "id": "_x9xdbblR_fK",
    "outputId": "cb06334f-3bd9-4076-d9d1-fd1108121e7c"
   },
   "outputs": [
    {
     "name": "stdout",
     "output_type": "stream",
     "text": [
      "DataFrame:\n"
     ]
    },
    {
     "data": {
      "text/html": [
       "\n",
       "  <div id=\"df-32039ab7-5eea-4e39-ad99-350b1ff4bb07\">\n",
       "    <div class=\"colab-df-container\">\n",
       "      <div>\n",
       "<style scoped>\n",
       "    .dataframe tbody tr th:only-of-type {\n",
       "        vertical-align: middle;\n",
       "    }\n",
       "\n",
       "    .dataframe tbody tr th {\n",
       "        vertical-align: top;\n",
       "    }\n",
       "\n",
       "    .dataframe thead th {\n",
       "        text-align: right;\n",
       "    }\n",
       "</style>\n",
       "<table border=\"1\" class=\"dataframe\">\n",
       "  <thead>\n",
       "    <tr style=\"text-align: right;\">\n",
       "      <th></th>\n",
       "      <th>tweets</th>\n",
       "    </tr>\n",
       "  </thead>\n",
       "  <tbody>\n",
       "    <tr>\n",
       "      <th>0</th>\n",
       "      <td>What drives me nuts about the @github API docs</td>\n",
       "    </tr>\n",
       "    <tr>\n",
       "      <th>1</th>\n",
       "      <td>Apple will allow Linux VMs to run Intel apps w...</td>\n",
       "    </tr>\n",
       "    <tr>\n",
       "      <th>2</th>\n",
       "      <td>Congrats to our top author of the week: @cassi...</td>\n",
       "    </tr>\n",
       "  </tbody>\n",
       "</table>\n",
       "</div>\n",
       "      <button class=\"colab-df-convert\" onclick=\"convertToInteractive('df-32039ab7-5eea-4e39-ad99-350b1ff4bb07')\"\n",
       "              title=\"Convert this dataframe to an interactive table.\"\n",
       "              style=\"display:none;\">\n",
       "        \n",
       "  <svg xmlns=\"http://www.w3.org/2000/svg\" height=\"24px\"viewBox=\"0 0 24 24\"\n",
       "       width=\"24px\">\n",
       "    <path d=\"M0 0h24v24H0V0z\" fill=\"none\"/>\n",
       "    <path d=\"M18.56 5.44l.94 2.06.94-2.06 2.06-.94-2.06-.94-.94-2.06-.94 2.06-2.06.94zm-11 1L8.5 8.5l.94-2.06 2.06-.94-2.06-.94L8.5 2.5l-.94 2.06-2.06.94zm10 10l.94 2.06.94-2.06 2.06-.94-2.06-.94-.94-2.06-.94 2.06-2.06.94z\"/><path d=\"M17.41 7.96l-1.37-1.37c-.4-.4-.92-.59-1.43-.59-.52 0-1.04.2-1.43.59L10.3 9.45l-7.72 7.72c-.78.78-.78 2.05 0 2.83L4 21.41c.39.39.9.59 1.41.59.51 0 1.02-.2 1.41-.59l7.78-7.78 2.81-2.81c.8-.78.8-2.07 0-2.86zM5.41 20L4 18.59l7.72-7.72 1.47 1.35L5.41 20z\"/>\n",
       "  </svg>\n",
       "      </button>\n",
       "      \n",
       "  <style>\n",
       "    .colab-df-container {\n",
       "      display:flex;\n",
       "      flex-wrap:wrap;\n",
       "      gap: 12px;\n",
       "    }\n",
       "\n",
       "    .colab-df-convert {\n",
       "      background-color: #E8F0FE;\n",
       "      border: none;\n",
       "      border-radius: 50%;\n",
       "      cursor: pointer;\n",
       "      display: none;\n",
       "      fill: #1967D2;\n",
       "      height: 32px;\n",
       "      padding: 0 0 0 0;\n",
       "      width: 32px;\n",
       "    }\n",
       "\n",
       "    .colab-df-convert:hover {\n",
       "      background-color: #E2EBFA;\n",
       "      box-shadow: 0px 1px 2px rgba(60, 64, 67, 0.3), 0px 1px 3px 1px rgba(60, 64, 67, 0.15);\n",
       "      fill: #174EA6;\n",
       "    }\n",
       "\n",
       "    [theme=dark] .colab-df-convert {\n",
       "      background-color: #3B4455;\n",
       "      fill: #D2E3FC;\n",
       "    }\n",
       "\n",
       "    [theme=dark] .colab-df-convert:hover {\n",
       "      background-color: #434B5C;\n",
       "      box-shadow: 0px 1px 3px 1px rgba(0, 0, 0, 0.15);\n",
       "      filter: drop-shadow(0px 1px 2px rgba(0, 0, 0, 0.3));\n",
       "      fill: #FFFFFF;\n",
       "    }\n",
       "  </style>\n",
       "\n",
       "      <script>\n",
       "        const buttonEl =\n",
       "          document.querySelector('#df-32039ab7-5eea-4e39-ad99-350b1ff4bb07 button.colab-df-convert');\n",
       "        buttonEl.style.display =\n",
       "          google.colab.kernel.accessAllowed ? 'block' : 'none';\n",
       "\n",
       "        async function convertToInteractive(key) {\n",
       "          const element = document.querySelector('#df-32039ab7-5eea-4e39-ad99-350b1ff4bb07');\n",
       "          const dataTable =\n",
       "            await google.colab.kernel.invokeFunction('convertToInteractive',\n",
       "                                                     [key], {});\n",
       "          if (!dataTable) return;\n",
       "\n",
       "          const docLinkHtml = 'Like what you see? Visit the ' +\n",
       "            '<a target=\"_blank\" href=https://colab.research.google.com/notebooks/data_table.ipynb>data table notebook</a>'\n",
       "            + ' to learn more about interactive tables.';\n",
       "          element.innerHTML = '';\n",
       "          dataTable['output_type'] = 'display_data';\n",
       "          await google.colab.output.renderOutput(dataTable, element);\n",
       "          const docLink = document.createElement('div');\n",
       "          docLink.innerHTML = docLinkHtml;\n",
       "          element.appendChild(docLink);\n",
       "        }\n",
       "      </script>\n",
       "    </div>\n",
       "  </div>\n",
       "  "
      ],
      "text/plain": [
       "                                              tweets\n",
       "0    What drives me nuts about the @github API docs \n",
       "1  Apple will allow Linux VMs to run Intel apps w...\n",
       "2  Congrats to our top author of the week: @cassi..."
      ]
     },
     "metadata": {},
     "output_type": "display_data"
    }
   ],
   "source": [
    "import pandas as pd \n",
    "\n",
    "df = pd.DataFrame({\n",
    "  'tweets': ['What drives me nuts about the @github API docs ',\n",
    "            'Apple will allow Linux VMs to run Intel apps with Rosetta in macOS Ventura by @AndrewWrites',\n",
    "            'Congrats to our top author of the week: @cassidoo! Thanks for sharing your insights with the community 🌟',\n",
    "            '#todayisagoodday you know?']\n",
    "})\n",
    "\n",
    "print(\"DataFrame:\")\n",
    "display(df)\n",
    "\n",
    "# code here"
   ]
  },
  {
   "cell_type": "markdown",
   "metadata": {
    "id": "hFaGkArOS6z_"
   },
   "source": [
    "### b \n",
    "\n",
    "Uh-oh, the survey data merged together everyone's full name! Please split the full name into three columns: `first`, `middle`, and `last`. \n",
    "\n"
   ]
  },
  {
   "cell_type": "code",
   "execution_count": 6,
   "metadata": {
    "colab": {
     "base_uri": "https://localhost:8080/",
     "height": 317
    },
    "id": "8J6Zv2gXS8P6",
    "outputId": "3cbcd947-b84f-439a-a2a7-3914d246b6a3"
   },
   "outputs": [
    {
     "name": "stdout",
     "output_type": "stream",
     "text": [
      "DataFrame:\n"
     ]
    },
    {
     "data": {
      "text/html": [
       "\n",
       "  <div id=\"df-ff267f4d-e264-4208-a9da-490c9acc9e7d\">\n",
       "    <div class=\"colab-df-container\">\n",
       "      <div>\n",
       "<style scoped>\n",
       "    .dataframe tbody tr th:only-of-type {\n",
       "        vertical-align: middle;\n",
       "    }\n",
       "\n",
       "    .dataframe tbody tr th {\n",
       "        vertical-align: top;\n",
       "    }\n",
       "\n",
       "    .dataframe thead th {\n",
       "        text-align: right;\n",
       "    }\n",
       "</style>\n",
       "<table border=\"1\" class=\"dataframe\">\n",
       "  <thead>\n",
       "    <tr style=\"text-align: right;\">\n",
       "      <th></th>\n",
       "      <th>fullname</th>\n",
       "      <th>age</th>\n",
       "    </tr>\n",
       "  </thead>\n",
       "  <tbody>\n",
       "    <tr>\n",
       "      <th>0</th>\n",
       "      <td>Judy Zhang</td>\n",
       "      <td>21</td>\n",
       "    </tr>\n",
       "    <tr>\n",
       "      <th>1</th>\n",
       "      <td>James Joseph Balamuta</td>\n",
       "      <td>18</td>\n",
       "    </tr>\n",
       "    <tr>\n",
       "      <th>2</th>\n",
       "      <td>Ella Hiesmayr</td>\n",
       "      <td>19</td>\n",
       "    </tr>\n",
       "    <tr>\n",
       "      <th>3</th>\n",
       "      <td>Nirjal Shrestha</td>\n",
       "      <td>18</td>\n",
       "    </tr>\n",
       "    <tr>\n",
       "      <th>4</th>\n",
       "      <td>Elijah Gunther</td>\n",
       "      <td>22</td>\n",
       "    </tr>\n",
       "    <tr>\n",
       "      <th>5</th>\n",
       "      <td>Shannon Weed</td>\n",
       "      <td>21</td>\n",
       "    </tr>\n",
       "    <tr>\n",
       "      <th>6</th>\n",
       "      <td>Steven Andrew Culpepper</td>\n",
       "      <td>48</td>\n",
       "    </tr>\n",
       "    <tr>\n",
       "      <th>7</th>\n",
       "      <td>Jeffery A Douglas</td>\n",
       "      <td>51</td>\n",
       "    </tr>\n",
       "  </tbody>\n",
       "</table>\n",
       "</div>\n",
       "      <button class=\"colab-df-convert\" onclick=\"convertToInteractive('df-ff267f4d-e264-4208-a9da-490c9acc9e7d')\"\n",
       "              title=\"Convert this dataframe to an interactive table.\"\n",
       "              style=\"display:none;\">\n",
       "        \n",
       "  <svg xmlns=\"http://www.w3.org/2000/svg\" height=\"24px\"viewBox=\"0 0 24 24\"\n",
       "       width=\"24px\">\n",
       "    <path d=\"M0 0h24v24H0V0z\" fill=\"none\"/>\n",
       "    <path d=\"M18.56 5.44l.94 2.06.94-2.06 2.06-.94-2.06-.94-.94-2.06-.94 2.06-2.06.94zm-11 1L8.5 8.5l.94-2.06 2.06-.94-2.06-.94L8.5 2.5l-.94 2.06-2.06.94zm10 10l.94 2.06.94-2.06 2.06-.94-2.06-.94-.94-2.06-.94 2.06-2.06.94z\"/><path d=\"M17.41 7.96l-1.37-1.37c-.4-.4-.92-.59-1.43-.59-.52 0-1.04.2-1.43.59L10.3 9.45l-7.72 7.72c-.78.78-.78 2.05 0 2.83L4 21.41c.39.39.9.59 1.41.59.51 0 1.02-.2 1.41-.59l7.78-7.78 2.81-2.81c.8-.78.8-2.07 0-2.86zM5.41 20L4 18.59l7.72-7.72 1.47 1.35L5.41 20z\"/>\n",
       "  </svg>\n",
       "      </button>\n",
       "      \n",
       "  <style>\n",
       "    .colab-df-container {\n",
       "      display:flex;\n",
       "      flex-wrap:wrap;\n",
       "      gap: 12px;\n",
       "    }\n",
       "\n",
       "    .colab-df-convert {\n",
       "      background-color: #E8F0FE;\n",
       "      border: none;\n",
       "      border-radius: 50%;\n",
       "      cursor: pointer;\n",
       "      display: none;\n",
       "      fill: #1967D2;\n",
       "      height: 32px;\n",
       "      padding: 0 0 0 0;\n",
       "      width: 32px;\n",
       "    }\n",
       "\n",
       "    .colab-df-convert:hover {\n",
       "      background-color: #E2EBFA;\n",
       "      box-shadow: 0px 1px 2px rgba(60, 64, 67, 0.3), 0px 1px 3px 1px rgba(60, 64, 67, 0.15);\n",
       "      fill: #174EA6;\n",
       "    }\n",
       "\n",
       "    [theme=dark] .colab-df-convert {\n",
       "      background-color: #3B4455;\n",
       "      fill: #D2E3FC;\n",
       "    }\n",
       "\n",
       "    [theme=dark] .colab-df-convert:hover {\n",
       "      background-color: #434B5C;\n",
       "      box-shadow: 0px 1px 3px 1px rgba(0, 0, 0, 0.15);\n",
       "      filter: drop-shadow(0px 1px 2px rgba(0, 0, 0, 0.3));\n",
       "      fill: #FFFFFF;\n",
       "    }\n",
       "  </style>\n",
       "\n",
       "      <script>\n",
       "        const buttonEl =\n",
       "          document.querySelector('#df-ff267f4d-e264-4208-a9da-490c9acc9e7d button.colab-df-convert');\n",
       "        buttonEl.style.display =\n",
       "          google.colab.kernel.accessAllowed ? 'block' : 'none';\n",
       "\n",
       "        async function convertToInteractive(key) {\n",
       "          const element = document.querySelector('#df-ff267f4d-e264-4208-a9da-490c9acc9e7d');\n",
       "          const dataTable =\n",
       "            await google.colab.kernel.invokeFunction('convertToInteractive',\n",
       "                                                     [key], {});\n",
       "          if (!dataTable) return;\n",
       "\n",
       "          const docLinkHtml = 'Like what you see? Visit the ' +\n",
       "            '<a target=\"_blank\" href=https://colab.research.google.com/notebooks/data_table.ipynb>data table notebook</a>'\n",
       "            + ' to learn more about interactive tables.';\n",
       "          element.innerHTML = '';\n",
       "          dataTable['output_type'] = 'display_data';\n",
       "          await google.colab.output.renderOutput(dataTable, element);\n",
       "          const docLink = document.createElement('div');\n",
       "          docLink.innerHTML = docLinkHtml;\n",
       "          element.appendChild(docLink);\n",
       "        }\n",
       "      </script>\n",
       "    </div>\n",
       "  </div>\n",
       "  "
      ],
      "text/plain": [
       "                  fullname  age\n",
       "0               Judy Zhang   21\n",
       "1    James Joseph Balamuta   18\n",
       "2            Ella Hiesmayr   19\n",
       "3          Nirjal Shrestha   18\n",
       "4           Elijah Gunther   22\n",
       "5             Shannon Weed   21\n",
       "6  Steven Andrew Culpepper   48\n",
       "7        Jeffery A Douglas   51"
      ]
     },
     "metadata": {},
     "output_type": "display_data"
    }
   ],
   "source": [
    "import pandas as pd\n",
    "df = pd.DataFrame({\n",
    "    'fullname': ['Judy Zhang', 'James Joseph Balamuta', 'Ella Hiesmayr',\n",
    "                 'Nirjal Shrestha', 'Elijah Gunther', 'Shannon Weed',\n",
    "                 'Steven Andrew Culpepper', 'Jeffery A Douglas'],\n",
    "    'age': [21, 18, 19, 18, 22, 21, 48, 51]\n",
    "})\n",
    "print(\"DataFrame:\")\n",
    "display(df)\n",
    "\n",
    "# code here"
   ]
  },
  {
   "cell_type": "markdown",
   "metadata": {
    "id": "QdxSs1pgTrnV"
   },
   "source": [
    "### c \n",
    "\n",
    "Another data scientist was working on a script to improve automatic updates of enrollment information at various schools. The data scientist accidently put into production a script that prefixed each variable with `TEST_` and, then, the variable name. Moreover, the each column was named using uppercase, which goes against the policy. Please remove the `TEST_` prefix and convert the column names inside of the Pandas data frame to lowercase."
   ]
  },
  {
   "cell_type": "code",
   "execution_count": 10,
   "metadata": {
    "colab": {
     "base_uri": "https://localhost:8080/",
     "height": 223
    },
    "id": "yybfB0CKT6H-",
    "outputId": "ba709b55-79ee-407f-81f5-95f97519ecb0"
   },
   "outputs": [
    {
     "name": "stdout",
     "output_type": "stream",
     "text": [
      "DataFrame:\n"
     ]
    },
    {
     "data": {
      "text/html": [
       "\n",
       "  <div id=\"df-24cdd3ca-bc73-49ce-9ca4-4dc24106d3c9\">\n",
       "    <div class=\"colab-df-container\">\n",
       "      <div>\n",
       "<style scoped>\n",
       "    .dataframe tbody tr th:only-of-type {\n",
       "        vertical-align: middle;\n",
       "    }\n",
       "\n",
       "    .dataframe tbody tr th {\n",
       "        vertical-align: top;\n",
       "    }\n",
       "\n",
       "    .dataframe thead th {\n",
       "        text-align: right;\n",
       "    }\n",
       "</style>\n",
       "<table border=\"1\" class=\"dataframe\">\n",
       "  <thead>\n",
       "    <tr style=\"text-align: right;\">\n",
       "      <th></th>\n",
       "      <th>SCHOOL</th>\n",
       "      <th>ENROLLED</th>\n",
       "      <th>DATE</th>\n",
       "    </tr>\n",
       "  </thead>\n",
       "  <tbody>\n",
       "    <tr>\n",
       "      <th>0</th>\n",
       "      <td>UIUC</td>\n",
       "      <td>1000</td>\n",
       "      <td>11/15/2021</td>\n",
       "    </tr>\n",
       "    <tr>\n",
       "      <th>1</th>\n",
       "      <td>UChicago</td>\n",
       "      <td>2000</td>\n",
       "      <td>02/20/2019</td>\n",
       "    </tr>\n",
       "    <tr>\n",
       "      <th>2</th>\n",
       "      <td>Duke</td>\n",
       "      <td>3000</td>\n",
       "      <td>05/19/2020</td>\n",
       "    </tr>\n",
       "    <tr>\n",
       "      <th>3</th>\n",
       "      <td>Northwestern</td>\n",
       "      <td>4000</td>\n",
       "      <td>03/12/2022</td>\n",
       "    </tr>\n",
       "    <tr>\n",
       "      <th>4</th>\n",
       "      <td>Berkeley</td>\n",
       "      <td>5000</td>\n",
       "      <td>12/01/2018</td>\n",
       "    </tr>\n",
       "  </tbody>\n",
       "</table>\n",
       "</div>\n",
       "      <button class=\"colab-df-convert\" onclick=\"convertToInteractive('df-24cdd3ca-bc73-49ce-9ca4-4dc24106d3c9')\"\n",
       "              title=\"Convert this dataframe to an interactive table.\"\n",
       "              style=\"display:none;\">\n",
       "        \n",
       "  <svg xmlns=\"http://www.w3.org/2000/svg\" height=\"24px\"viewBox=\"0 0 24 24\"\n",
       "       width=\"24px\">\n",
       "    <path d=\"M0 0h24v24H0V0z\" fill=\"none\"/>\n",
       "    <path d=\"M18.56 5.44l.94 2.06.94-2.06 2.06-.94-2.06-.94-.94-2.06-.94 2.06-2.06.94zm-11 1L8.5 8.5l.94-2.06 2.06-.94-2.06-.94L8.5 2.5l-.94 2.06-2.06.94zm10 10l.94 2.06.94-2.06 2.06-.94-2.06-.94-.94-2.06-.94 2.06-2.06.94z\"/><path d=\"M17.41 7.96l-1.37-1.37c-.4-.4-.92-.59-1.43-.59-.52 0-1.04.2-1.43.59L10.3 9.45l-7.72 7.72c-.78.78-.78 2.05 0 2.83L4 21.41c.39.39.9.59 1.41.59.51 0 1.02-.2 1.41-.59l7.78-7.78 2.81-2.81c.8-.78.8-2.07 0-2.86zM5.41 20L4 18.59l7.72-7.72 1.47 1.35L5.41 20z\"/>\n",
       "  </svg>\n",
       "      </button>\n",
       "      \n",
       "  <style>\n",
       "    .colab-df-container {\n",
       "      display:flex;\n",
       "      flex-wrap:wrap;\n",
       "      gap: 12px;\n",
       "    }\n",
       "\n",
       "    .colab-df-convert {\n",
       "      background-color: #E8F0FE;\n",
       "      border: none;\n",
       "      border-radius: 50%;\n",
       "      cursor: pointer;\n",
       "      display: none;\n",
       "      fill: #1967D2;\n",
       "      height: 32px;\n",
       "      padding: 0 0 0 0;\n",
       "      width: 32px;\n",
       "    }\n",
       "\n",
       "    .colab-df-convert:hover {\n",
       "      background-color: #E2EBFA;\n",
       "      box-shadow: 0px 1px 2px rgba(60, 64, 67, 0.3), 0px 1px 3px 1px rgba(60, 64, 67, 0.15);\n",
       "      fill: #174EA6;\n",
       "    }\n",
       "\n",
       "    [theme=dark] .colab-df-convert {\n",
       "      background-color: #3B4455;\n",
       "      fill: #D2E3FC;\n",
       "    }\n",
       "\n",
       "    [theme=dark] .colab-df-convert:hover {\n",
       "      background-color: #434B5C;\n",
       "      box-shadow: 0px 1px 3px 1px rgba(0, 0, 0, 0.15);\n",
       "      filter: drop-shadow(0px 1px 2px rgba(0, 0, 0, 0.3));\n",
       "      fill: #FFFFFF;\n",
       "    }\n",
       "  </style>\n",
       "\n",
       "      <script>\n",
       "        const buttonEl =\n",
       "          document.querySelector('#df-24cdd3ca-bc73-49ce-9ca4-4dc24106d3c9 button.colab-df-convert');\n",
       "        buttonEl.style.display =\n",
       "          google.colab.kernel.accessAllowed ? 'block' : 'none';\n",
       "\n",
       "        async function convertToInteractive(key) {\n",
       "          const element = document.querySelector('#df-24cdd3ca-bc73-49ce-9ca4-4dc24106d3c9');\n",
       "          const dataTable =\n",
       "            await google.colab.kernel.invokeFunction('convertToInteractive',\n",
       "                                                     [key], {});\n",
       "          if (!dataTable) return;\n",
       "\n",
       "          const docLinkHtml = 'Like what you see? Visit the ' +\n",
       "            '<a target=\"_blank\" href=https://colab.research.google.com/notebooks/data_table.ipynb>data table notebook</a>'\n",
       "            + ' to learn more about interactive tables.';\n",
       "          element.innerHTML = '';\n",
       "          dataTable['output_type'] = 'display_data';\n",
       "          await google.colab.output.renderOutput(dataTable, element);\n",
       "          const docLink = document.createElement('div');\n",
       "          docLink.innerHTML = docLinkHtml;\n",
       "          element.appendChild(docLink);\n",
       "        }\n",
       "      </script>\n",
       "    </div>\n",
       "  </div>\n",
       "  "
      ],
      "text/plain": [
       "         SCHOOL  ENROLLED        DATE\n",
       "0          UIUC      1000  11/15/2021\n",
       "1      UChicago      2000  02/20/2019\n",
       "2          Duke      3000  05/19/2020\n",
       "3  Northwestern      4000  03/12/2022\n",
       "4      Berkeley      5000  12/01/2018"
      ]
     },
     "metadata": {},
     "output_type": "display_data"
    }
   ],
   "source": [
    "import pandas as pd\n",
    "df = pd.DataFrame({\n",
    "    'TEST_SCHOOL': ['UIUC', 'UChicago', 'Duke', 'Northwestern', 'Berkeley'],\n",
    "    'TEST_ENROLLED': [1000, 2000, 3000, 4000, 5000],\n",
    "    'TEST_DATE': ['11/15/2021','02/20/2019','05/19/2020','03/12/2022','12/01/2018'],\n",
    "})\n",
    "print(\"DataFrame:\")\n",
    "display(df)\n",
    "\n"
   ]
  }
 ],
 "metadata": {
  "colab": {
   "collapsed_sections": [],
   "name": "2022 IMSI Data Science Workshop - Day 4 - Exercises.ipynb",
   "provenance": [],
   "toc_visible": true
  },
  "kernelspec": {
   "display_name": "Python 3 (ipykernel)",
   "language": "python",
   "name": "python3"
  },
  "language_info": {
   "codemirror_mode": {
    "name": "ipython",
    "version": 3
   },
   "file_extension": ".py",
   "mimetype": "text/x-python",
   "name": "python",
   "nbconvert_exporter": "python",
   "pygments_lexer": "ipython3",
   "version": "3.10.4"
  }
 },
 "nbformat": 4,
 "nbformat_minor": 1
}
