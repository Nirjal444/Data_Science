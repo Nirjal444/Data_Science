{
 "cells": [
  {
   "cell_type": "markdown",
   "metadata": {
    "id": "7kk9TYkdmsYS"
   },
   "source": [
    "# Exercises Day 1 Group Work Exercises"
   ]
  },
  {
   "cell_type": "markdown",
   "metadata": {
    "id": "XNPGMcWleb_L"
   },
   "source": [
    "# Exercise 1: Who We Are \n",
    "\n",
    "The goal behind this exercise is to practice writing in markdown while talking with your group member."
   ]
  },
  {
   "cell_type": "markdown",
   "metadata": {
    "id": "oP03rE-bfnJB"
   },
   "source": [
    "### a: Who We Are -- Images\n",
    "\n",
    "Create take a picture of your group and include \n",
    "it within the document using a _relative path_. \n"
   ]
  },
  {
   "cell_type": "markdown",
   "metadata": {
    "id": "Dl--VMsilVuu"
   },
   "source": [
    "... answer here ...\n",
    "![MarkDOWN](markdown.jpg)"
   ]
  },
  {
   "cell_type": "markdown",
   "metadata": {
    "ExecuteTime": {
     "end_time": "2022-06-02T05:29:26.815858Z",
     "start_time": "2022-06-02T05:29:26.678774Z"
    }
   },
   "source": [
    "![IMg](markdown.jpg)"
   ]
  },
  {
   "cell_type": "markdown",
   "metadata": {
    "id": "zE_eeQaRfscw"
   },
   "source": [
    "\n",
    " \n",
    "### b: Who We Are -- Tables\n",
    "\n",
    "If you need help in building a table in markdown, please check out \n",
    "<https://www.tablesgenerator.com/markdown_tables>\n",
    "\n",
    "For each group member, create a 4 (rows) by 2 (columns) table in markdown with the following \n",
    "specification:\n",
    "\n",
    "- One row will be considered the \"header row\" and span two columns. \n",
    "  These columns should be labeled \"Overview\" and \"Who I Am\". \n",
    "- Under the \"Overview\" column, write verbatim the category names \n",
    "  using **bold** text for:\n",
    "    - Full Name\n",
    "    - Birthday\n",
    "    - School\n",
    "- Under each table's the \"Who I Am\" column, please fill in the \n"
   ]
  },
  {
   "cell_type": "markdown",
   "metadata": {
    "id": "Tp70XZvelX7-"
   },
   "source": [
    "| overview | Who am I|\n",
    "|--- | ---|\n",
    "| **name** | Nirjal Shrestha |\n",
    "| **Birthday** | 10/18/1995 |\n",
    "| **School** | University of Florida|"
   ]
  },
  {
   "cell_type": "markdown",
   "metadata": {
    "id": "yRgzMV-PfuXo"
   },
   "source": [
    "### c: Who We Are -- Lists\n",
    "\n",
    "Create a nested list that uses an **un**ordered list for\n",
    "subject categories and has sublist that is an **ordered** list containing the ranking each of your favorite:\n",
    "- movies;\n",
    "- music (add links to music videos on either YouTube or Vimeo)."
   ]
  },
  {
   "cell_type": "markdown",
   "metadata": {
    "ExecuteTime": {
     "end_time": "2022-06-02T05:34:43.412761Z",
     "start_time": "2022-06-02T05:34:43.400442Z"
    },
    "id": "3f49pQsalYdU"
   },
   "source": [
    "...answer here ...\n",
    "- Movies:\n",
    "    1. [Conjuring](https://www.youtube.com/results?search_query=conjuring)\n",
    "    2. [Fast and Furious](https://www.youtube.com/results?search_query=fast+and+furious+9)\n",
    "    3. [Man who know infinity](https://www.youtube.com/results?search_query=a+man+who+knew+infinity+)\n",
    "\n",
    "- Music:\n",
    "    1. [Coldplay](https://www.youtube.com/watch?v=s1KMbSGo5Us)\n",
    "    2. [Nepathya](https://www.youtube.com/watch?v=s1KMbSGo5Us)\n",
    "       "
   ]
  },
  {
   "cell_type": "markdown",
   "metadata": {
    "id": "Z7WdwmzMkcdO"
   },
   "source": [
    "# Exercise 2: Riches to Even More Riches\n",
    "\n",
    "John Galt is seeking brilliant \"people of the mind\" to join him in his secret isolated valley known as Galt's Gulch. John seeks to identify prospective people by looking at their current salaries stored inside of a dictionary structure, where each key represents the employee's last name and the value is salary. Galt sets the minimum salary threshold for an invitation at 20245. Determine the names of the brilliant \"people of the mind\" that John should invite to his valley.\n",
    "\n",
    "Sample of the input data looks like so:\n",
    "\n",
    "```python\n",
    "{'Doe': 14550, 'Vic': 9100, 'Jedi': 30025}\n",
    "```"
   ]
  },
  {
   "cell_type": "code",
   "execution_count": 71,
   "metadata": {
    "ExecuteTime": {
     "end_time": "2022-06-02T05:40:22.779889Z",
     "start_time": "2022-06-02T05:40:22.716303Z"
    },
    "id": "cSGgzPwIkjdw"
   },
   "outputs": [
    {
     "ename": "NameError",
     "evalue": "name 'value' is not defined",
     "output_type": "error",
     "traceback": [
      "\u001b[0;31m---------------------------------------------------------------------------\u001b[0m",
      "\u001b[0;31mNameError\u001b[0m                                 Traceback (most recent call last)",
      "Input \u001b[0;32mIn [71]\u001b[0m, in \u001b[0;36m<cell line: 8>\u001b[0;34m()\u001b[0m\n\u001b[1;32m      5\u001b[0m         \u001b[38;5;28;01mif\u001b[39;00m x[value] \u001b[38;5;241m>\u001b[39m \u001b[38;5;241m20245\u001b[39m:\n\u001b[1;32m      6\u001b[0m             \u001b[38;5;28;01mreturn\u001b[39;00m x[key] \n\u001b[0;32m----> 8\u001b[0m \u001b[43mabove_threshold\u001b[49m\u001b[43m(\u001b[49m\u001b[43msalary\u001b[49m\u001b[43m)\u001b[49m\n",
      "Input \u001b[0;32mIn [71]\u001b[0m, in \u001b[0;36mabove_threshold\u001b[0;34m(x)\u001b[0m\n\u001b[1;32m      3\u001b[0m \u001b[38;5;28;01mdef\u001b[39;00m \u001b[38;5;21mabove_threshold\u001b[39m(x):\n\u001b[1;32m      4\u001b[0m     \u001b[38;5;28;01mfor\u001b[39;00m i \u001b[38;5;129;01min\u001b[39;00m \u001b[38;5;28mrange\u001b[39m (\u001b[38;5;241m0\u001b[39m,\u001b[38;5;28mlen\u001b[39m(x)):\n\u001b[0;32m----> 5\u001b[0m         \u001b[38;5;28;01mif\u001b[39;00m x[\u001b[43mvalue\u001b[49m] \u001b[38;5;241m>\u001b[39m \u001b[38;5;241m20245\u001b[39m:\n\u001b[1;32m      6\u001b[0m             \u001b[38;5;28;01mreturn\u001b[39;00m x[key]\n",
      "\u001b[0;31mNameError\u001b[0m: name 'value' is not defined"
     ]
    }
   ],
   "source": [
    "# code here\n",
    "salary = {'Doe': 14550, 'Vic': 9100, 'Jedi': 30025}\n",
    "def above_threshold(x):\n",
    "    for i in range (0,len(x)):\n",
    "        if x[value] > 20245:\n",
    "            return x[key] \n",
    "    \n",
    "above_threshold(salary)"
   ]
  },
  {
   "cell_type": "markdown",
   "metadata": {
    "id": "7pPhbUmmj3wo"
   },
   "source": [
    "# Exercise 3: It is not titles that honour people, but people that honour titles...\n",
    "\n",
    "Uh-oh, the list of professors sent over for the convocation ceremony is missing the professor title! Use an iteration structure to prepend the `Professor` title before the name. \n",
    "\n",
    "Consider the sample list of professor names:\n",
    "\n",
    "```python\n",
    "['Culpepper', 'Simpson', 'Chen']\n",
    "```\n",
    "\n",
    "Please augment it by prepending the title:\n",
    "\n",
    "```python\n",
    "['Professor Culpepper', 'Professor Simpson', 'Professor Chen']\n",
    "```\n",
    "\n",
    "Avoid appending a title in the presence of whitespaces masquerading as meaningful strings (e.g. avoid creating `\"Professor  \"`)! \n",
    "For example, we might have a list like: \n",
    "\n",
    "```python\n",
    "['Yigit', ' ', '', 'Zhang']\n",
    "```\n",
    "\n",
    "We would only return: \n",
    "\n",
    "```python\n",
    "['Professor Yigit', 'Professor Zhang']\n",
    "```\n"
   ]
  },
  {
   "cell_type": "code",
   "execution_count": 86,
   "metadata": {
    "ExecuteTime": {
     "end_time": "2022-06-02T05:52:28.969849Z",
     "start_time": "2022-06-02T05:52:28.959334Z"
    },
    "id": "sbxpCgVpkRxb"
   },
   "outputs": [
    {
     "data": {
      "text/plain": [
       "['ProfessorYigit', 'Professor ', 'ProfessorZhang']"
      ]
     },
     "execution_count": 86,
     "metadata": {},
     "output_type": "execute_result"
    }
   ],
   "source": [
    "# code here\n",
    "\n",
    "names = ['Yigit', ' ', '', 'Zhang']\n",
    "\n",
    "def prepend_string(x):\n",
    "    return [\"Professor\" + name for name in x if len(name)>= 1]\n",
    "    \n",
    "prepend_string(names)"
   ]
  },
  {
   "cell_type": "markdown",
   "metadata": {
    "id": "FjZ1LPLliKa9"
   },
   "source": [
    "# Exercise 4: Fizz, Buzz, or FizzBuzz\n",
    "\n",
    "The idea behind this exercise is to introduce you to a common interview problem\n",
    "posed to programmers. The question was devised to filter out programming\n",
    "candidates who have difficulty with foundamental computing theory. \n",
    "As a testament to how popular this question is, there are _many_ solutions \n",
    "available on the web. In fact, one solution to this problem was even done with by [training a dense neural network with TensorFlow](https://joelgrus.com/2016/05/23/fizz-buzz-in-tensorflow/). Having said this, you should _avoid_ looking at them and\n",
    "instead work on the problem yourself. \n",
    "\n",
    "**Job Prompt:**\n",
    "\n",
    "> Write a program that saves the numbers from 1 to n. or multiples of \n",
    "> three save \"Fizz\" instead of the number and for the multiples of four save \n",
    "> \"Buzz\". For numbers which are multiples of both three and four save\n",
    "> \"FizzBuzz\". Otherwise, just save the number.\n",
    "\n",
    "Recall that modulus operator (`%`) can be used to check if \n",
    "`x` is divisible by `y` under the condition that $$0 \\equiv x \\;(\\bmod\\; y)$$ \n",
    "\n",
    "Some examples:"
   ]
  },
  {
   "cell_type": "code",
   "execution_count": null,
   "metadata": {
    "colab": {
     "base_uri": "https://localhost:8080/"
    },
    "id": "LYoS9_makXZG",
    "outputId": "212a82fd-b6ed-4bbe-b4a2-15b6c462235a"
   },
   "outputs": [
    {
     "name": "stdout",
     "output_type": "stream",
     "text": [
      "5\n",
      "False\n",
      "0\n",
      "True\n"
     ]
    }
   ],
   "source": [
    "print(5 % 10)       # Perform modular arithmetic\n",
    "print(5 % 10 == 0)  # Check if divisible\n",
    "\n",
    "print(20 % 10)      # Perform modular arithmetic\n",
    "print(20 % 10 == 0) # Check if divisible"
   ]
  },
  {
   "cell_type": "markdown",
   "metadata": {
    "id": "A0n3RjTmiykK"
   },
   "source": [
    "## a : Planning Cases\n",
    " \n",
    "List each of the different cases and note if there is\n",
    "any overlap between the logical conditions.\n",
    "\n",
    "_Hint_: There are _four_ cases (including the `else`). The order\n",
    "of the cases is important!"
   ]
  },
  {
   "cell_type": "markdown",
   "metadata": {
    "id": "kuTqdqnNkP60"
   },
   "source": [
    "... cases here ...\n",
    "1. if n is divisible by 12\n",
    "2. if n is divisible by 3\n",
    "3. if n is divisble by 4\n",
    "4. if n is not divisible by both"
   ]
  },
  {
   "cell_type": "markdown",
   "metadata": {
    "id": "Q69neu6Ui8jS"
   },
   "source": [
    "## b: Implementing Cases\n",
    " \n",
    "Translate these cases into an `if-elif-else` structure within the `fizzbuzz(n)` function. \n",
    "\n",
    "Implementation Guidelines:\n",
    "\n",
    "- **Arguments:**\n",
    "    - `n`: The amount of numbers to check.\n",
    "- **Return:**\n",
    "    - A list containing elements:\n",
    "      - A number \n",
    "      - \"Fizz\" for multiples of 3\n",
    "      - \"Buzz\" for multiples of 4\n",
    "      - \"FizzBuzz\" for multiples of 3 and 4\n",
    "\n",
    "_Hint:_ Empty lists in Python can be created using `my_list = [None]*num_of_elements`."
   ]
  },
  {
   "cell_type": "code",
   "execution_count": 94,
   "metadata": {
    "ExecuteTime": {
     "end_time": "2022-06-02T05:58:57.145271Z",
     "start_time": "2022-06-02T05:58:57.136033Z"
    },
    "colab": {
     "base_uri": "https://localhost:8080/"
    },
    "id": "UZIdZUEYAzh3",
    "outputId": "e0690ff9-29c8-4e3e-aa9a-a0252aa54a8f"
   },
   "outputs": [
    {
     "name": "stdout",
     "output_type": "stream",
     "text": [
      "1\n",
      "2\n",
      "Fizz\n",
      "Buzz\n",
      "5\n",
      "Fizz\n",
      "7\n",
      "Buzz\n",
      "Fizz\n",
      "10\n",
      "11\n",
      "FizzBuzz\n",
      "13\n",
      "14\n",
      "Fizz\n",
      "Buzz\n",
      "17\n",
      "Fizz\n",
      "19\n",
      "Buzz\n"
     ]
    }
   ],
   "source": [
    "# code here\n",
    "def fizzbuzz(n):\n",
    "    for i in range(1,n+1):\n",
    "        if i%12 == 0:\n",
    "            print('FizzBuzz')\n",
    "        elif i%3 == 0:\n",
    "            print('Fizz')\n",
    "        elif i%4 == 0:\n",
    "            print('Buzz')\n",
    "        else:\n",
    "            print(i)\n",
    "        i+=1\n",
    "\n",
    "fizzbuzz(20)"
   ]
  },
  {
   "cell_type": "markdown",
   "metadata": {
    "id": "PWV-Wk7Yk6HA"
   },
   "source": [
    "# Exercise 5: Closing the gap in a...\n",
    "\n",
    "Consider the following sequence of numbers: \n",
    "\n",
    "$$\\sum_{k = 0}^{\\infty} \\frac{1}{a^k} = 1 + \\frac{1}{a} + \\frac{1}{a^2} + \\frac{1}{a^3} + \\frac{1}{a^4} + \\cdots + \\frac{1}{a^k} $$\n",
    "\n",
    "Determine the number of iterations such that including an additional term increases the sum by less than an epsilon, $\\varepsilon$ set to the default value of $1\\times 10^{-6}$, e.g. `1e-6`. \n",
    "\n",
    "In particular, we're interested in understanding when the difference between $\\frac{1}{a^i}$ and $\\frac{1}{a^{i+1}}$ is negligible on the overall sequence summation. That is, we wish to stop adding terms if: \n",
    "\n",
    "$$\\left| \\frac{1}{a^{i+1}} - \\frac{1}{a^i} \\right| < \\varepsilon$$\n",
    "\n",
    "_Hint:_ The `abs()` in Python will help in comparing successive terms within an iteration structure.\n"
   ]
  },
  {
   "cell_type": "code",
   "execution_count": 116,
   "metadata": {
    "ExecuteTime": {
     "end_time": "2022-06-02T06:20:43.406917Z",
     "start_time": "2022-06-02T06:20:43.399475Z"
    },
    "id": "ik5w0QC7lCTg"
   },
   "outputs": [
    {
     "name": "stdout",
     "output_type": "stream",
     "text": [
      "1\n"
     ]
    }
   ],
   "source": [
    "def epsilon_small(a, eps = 1e-6):\n",
    "    sum = 0\n",
    "    k = 1\n",
    "    while((a**(-k-1)) - (a**(-k)) >= eps):\n",
    "        sum+= (a**(-k-1))\n",
    "        print(sum)\n",
    "        k+=1\n",
    "    pass\n",
    "    \n",
    "    print(k)\n",
    "\n",
    "epsilon_small(5, eps = 1e-6)"
   ]
  },
  {
   "cell_type": "markdown",
   "metadata": {
    "id": "NuBbeunWXeLc"
   },
   "source": [
    "# Exercise 6: Splitting the Bill\n",
    "\n",
    "Develop a function that displays an itemized bill and provides the total a given person must pay.\n",
    "\n",
    "Consider the following bill:\n",
    "\n",
    "- James\n",
    "  - Cold Brew: \\$4.63\n",
    "  - [Beef Bulgogi](https://en.wikipedia.org/wiki/Bulgogi): \\$12.32\n",
    "- Brianna\n",
    "  - Tea: \\$2.55\n",
    "  - Muffin: \\$1.88\n",
    "  - [Poke bowl](https://en.wikipedia.org/wiki/Poke_(Hawaiian_dish)): \\$10.69\n",
    "- Cathy\n",
    "  - [Margarita](https://en.wikipedia.org/wiki/Margarita): \\$8.50\n",
    "\n",
    "Implementation Guidelines:\n",
    "\n",
    "- **Arguments:**\n",
    "    - `x`: data structure holding the above example.\n",
    "    - `first_name`: Obtain the total a given person owes.\n",
    "- **Side-effect:**\n",
    "    - Print an itemized version of the bill by person.\n",
    "- **Return:**\n",
    "    - The total value of all items ordered by requested person.\n",
    "\n",
    "Example of output:\n",
    "\n",
    "```python\n",
    "my_portion = bill_split(x, \"James\")\n",
    "# Itemized Bill ----\n",
    "# James pays $16.95\n",
    "# * 4.63 for Cold Brew\n",
    "# * 12.32 for Beef Bulgogi\n",
    "# Brianna pays $15.12\n",
    "# * 2.55 for Tea\n",
    "# * 1.88 for Muffin\n",
    "# * 10.69 for Poke Bowl\n",
    "# Cathy pays $8.50\n",
    "# * 8.50 for Margarita\n",
    "my_portion\n",
    "# [1] 16.95\n",
    "```\n",
    "\n"
   ]
  },
  {
   "cell_type": "code",
   "execution_count": null,
   "metadata": {
    "colab": {
     "base_uri": "https://localhost:8080/"
    },
    "id": "VZFy-Xn_CBIZ",
    "outputId": "1f4d6db7-cd37-4b7b-fcb2-dbaca7b25d48"
   },
   "outputs": [
    {
     "name": "stdout",
     "output_type": "stream",
     "text": [
      "Itemized Bill ----\n",
      "James pays $16.95\n",
      "* 4.63 for Cold Brew\n",
      "* 12.32 for Beef Bulgogi\n",
      "Brianna pays $15.12\n",
      "* 2.55 for Tea\n",
      "* 1.88 for Muffin\n",
      "* 10.69 for Poke Bowl\n",
      "Cathy pays $8.50\n",
      "* 8.50 for Margarita\n"
     ]
    },
    {
     "data": {
      "text/plain": [
       "16.95"
      ]
     },
     "execution_count": 9,
     "metadata": {
      "tags": []
     },
     "output_type": "execute_result"
    }
   ],
   "source": [
    "# Create a nested list of lists. \n",
    "# Another option would be a list of dictionaries.\n",
    "bill = [\n",
    "  ['James',['Cold Brew','Beef Bulgogi'],[4.63, 12.32]],\n",
    "  ['Brianna',['Tea','Muffin','Poke Bowl'],[2.55,1.88,10.69]],\n",
    "  ['Cathy', ['Margarita'], [8.50]]\n",
    "]\n",
    "\n",
    "# Use ':.2f' to ensure numbers are printed to 2 decimals, so 8.5 -> 8.50\n",
    "def bill_split(x, first_name):\n",
    "  return(None)\n",
    "  \n",
    "bill_split(bill, 'James')\n"
   ]
  }
 ],
 "metadata": {
  "colab": {
   "collapsed_sections": [],
   "name": "IMSI - Group Work Exercises Day 1.ipynb",
   "provenance": [],
   "toc_visible": true
  },
  "kernelspec": {
   "display_name": "Python 3 (ipykernel)",
   "language": "python",
   "name": "python3"
  },
  "language_info": {
   "codemirror_mode": {
    "name": "ipython",
    "version": 3
   },
   "file_extension": ".py",
   "mimetype": "text/x-python",
   "name": "python",
   "nbconvert_exporter": "python",
   "pygments_lexer": "ipython3",
   "version": "3.10.4"
  }
 },
 "nbformat": 4,
 "nbformat_minor": 1
}
