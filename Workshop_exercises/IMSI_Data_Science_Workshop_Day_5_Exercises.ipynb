{
 "cells": [
  {
   "cell_type": "markdown",
   "metadata": {
    "id": "NOTnIf68Z-HZ"
   },
   "source": [
    "# Setup\n",
    "\n",
    "Within this section, we provide the commands to setup the local SQL environment."
   ]
  },
  {
   "cell_type": "code",
   "execution_count": 1,
   "metadata": {
    "ExecuteTime": {
     "end_time": "2022-06-08T19:46:03.045369Z",
     "start_time": "2022-06-08T19:46:00.053760Z"
    },
    "id": "zjvTvcz6aEIl"
   },
   "outputs": [
    {
     "name": "stdout",
     "output_type": "stream",
     "text": [
      "Requirement already satisfied: ipython-sql in /Applications/anaconda3/envs/ds/lib/python3.10/site-packages (0.4.0)\n",
      "Requirement already satisfied: sqlalchemy in /Applications/anaconda3/envs/ds/lib/python3.10/site-packages (1.4.37)\n",
      "Requirement already satisfied: sqlparse in /Applications/anaconda3/envs/ds/lib/python3.10/site-packages (from ipython-sql) (0.4.2)\n",
      "Requirement already satisfied: six in /Applications/anaconda3/envs/ds/lib/python3.10/site-packages (from ipython-sql) (1.16.0)\n",
      "Requirement already satisfied: ipython-genutils>=0.1.0 in /Applications/anaconda3/envs/ds/lib/python3.10/site-packages (from ipython-sql) (0.2.0)\n",
      "Requirement already satisfied: ipython>=1.0 in /Applications/anaconda3/envs/ds/lib/python3.10/site-packages (from ipython-sql) (8.3.0)\n",
      "Requirement already satisfied: prettytable<1 in /Applications/anaconda3/envs/ds/lib/python3.10/site-packages (from ipython-sql) (0.7.2)\n",
      "Requirement already satisfied: greenlet!=0.4.17 in /Applications/anaconda3/envs/ds/lib/python3.10/site-packages (from sqlalchemy) (1.1.2)\n",
      "Requirement already satisfied: pickleshare in /Applications/anaconda3/envs/ds/lib/python3.10/site-packages (from ipython>=1.0->ipython-sql) (0.7.5)\n",
      "Requirement already satisfied: backcall in /Applications/anaconda3/envs/ds/lib/python3.10/site-packages (from ipython>=1.0->ipython-sql) (0.2.0)\n",
      "Requirement already satisfied: stack-data in /Applications/anaconda3/envs/ds/lib/python3.10/site-packages (from ipython>=1.0->ipython-sql) (0.2.0)\n",
      "Requirement already satisfied: matplotlib-inline in /Applications/anaconda3/envs/ds/lib/python3.10/site-packages (from ipython>=1.0->ipython-sql) (0.1.3)\n",
      "Requirement already satisfied: prompt-toolkit!=3.0.0,!=3.0.1,<3.1.0,>=2.0.0 in /Applications/anaconda3/envs/ds/lib/python3.10/site-packages (from ipython>=1.0->ipython-sql) (3.0.29)\n",
      "Requirement already satisfied: decorator in /Applications/anaconda3/envs/ds/lib/python3.10/site-packages (from ipython>=1.0->ipython-sql) (5.1.1)\n",
      "Requirement already satisfied: appnope in /Applications/anaconda3/envs/ds/lib/python3.10/site-packages (from ipython>=1.0->ipython-sql) (0.1.3)\n",
      "Requirement already satisfied: traitlets>=5 in /Applications/anaconda3/envs/ds/lib/python3.10/site-packages (from ipython>=1.0->ipython-sql) (5.2.1.post0)\n",
      "Requirement already satisfied: pygments>=2.4.0 in /Applications/anaconda3/envs/ds/lib/python3.10/site-packages (from ipython>=1.0->ipython-sql) (2.12.0)\n",
      "Requirement already satisfied: setuptools>=18.5 in /Applications/anaconda3/envs/ds/lib/python3.10/site-packages (from ipython>=1.0->ipython-sql) (62.3.2)\n",
      "Requirement already satisfied: jedi>=0.16 in /Applications/anaconda3/envs/ds/lib/python3.10/site-packages (from ipython>=1.0->ipython-sql) (0.18.1)\n",
      "Requirement already satisfied: pexpect>4.3 in /Applications/anaconda3/envs/ds/lib/python3.10/site-packages (from ipython>=1.0->ipython-sql) (4.8.0)\n",
      "Requirement already satisfied: parso<0.9.0,>=0.8.0 in /Applications/anaconda3/envs/ds/lib/python3.10/site-packages (from jedi>=0.16->ipython>=1.0->ipython-sql) (0.8.3)\n",
      "Requirement already satisfied: ptyprocess>=0.5 in /Applications/anaconda3/envs/ds/lib/python3.10/site-packages (from pexpect>4.3->ipython>=1.0->ipython-sql) (0.7.0)\n",
      "Requirement already satisfied: wcwidth in /Applications/anaconda3/envs/ds/lib/python3.10/site-packages (from prompt-toolkit!=3.0.0,!=3.0.1,<3.1.0,>=2.0.0->ipython>=1.0->ipython-sql) (0.2.5)\n",
      "Requirement already satisfied: asttokens in /Applications/anaconda3/envs/ds/lib/python3.10/site-packages (from stack-data->ipython>=1.0->ipython-sql) (2.0.5)\n",
      "Requirement already satisfied: executing in /Applications/anaconda3/envs/ds/lib/python3.10/site-packages (from stack-data->ipython>=1.0->ipython-sql) (0.8.3)\n",
      "Requirement already satisfied: pure-eval in /Applications/anaconda3/envs/ds/lib/python3.10/site-packages (from stack-data->ipython>=1.0->ipython-sql) (0.2.2)\n"
     ]
    }
   ],
   "source": [
    "!pip install ipython-sql sqlalchemy"
   ]
  },
  {
   "cell_type": "markdown",
   "metadata": {
    "id": "krycRWIGaGUJ"
   },
   "source": [
    "Next, please load the SQL magic extension."
   ]
  },
  {
   "cell_type": "code",
   "execution_count": 2,
   "metadata": {
    "ExecuteTime": {
     "end_time": "2022-06-08T19:46:10.038284Z",
     "start_time": "2022-06-08T19:46:08.988651Z"
    },
    "id": "A3tvYO7MZ-5o"
   },
   "outputs": [],
   "source": [
    "%load_ext sql"
   ]
  },
  {
   "cell_type": "markdown",
   "metadata": {
    "id": "JRZKkYQrX-vi"
   },
   "source": [
    "# Exercise 1: Batter - Setup"
   ]
  },
  {
   "cell_type": "markdown",
   "metadata": {
    "id": "Rh3jCK4_YBmm"
   },
   "source": [
    "## a\n",
    "\n",
    "Download the Lahman baseball data set from: <https://github.com/jknecht/baseball-archive-sqlite/blob/master/lahman2016.sqlite?raw=true> using `!curl -Os <url>` command.\n"
   ]
  },
  {
   "cell_type": "code",
   "execution_count": 29,
   "metadata": {
    "ExecuteTime": {
     "end_time": "2022-06-09T03:29:22.274311Z",
     "start_time": "2022-06-09T03:29:21.564822Z"
    },
    "id": "J_QcoOR_YBQp"
   },
   "outputs": [],
   "source": [
    "# code here\n",
    "#!curl -Os https://github.com/jknecht/baseball-archive-sqlite/blob/master/lahman2016.sqlite\n",
    "!curl -Os https://github.com/jknecht/baseball-archive-sqlite/raw/master/lahman2016.sqlite"
   ]
  },
  {
   "cell_type": "markdown",
   "metadata": {
    "id": "BCgRMOfQYDmN"
   },
   "source": [
    "## b\n",
    "\n",
    "Create a connection to the `lahman2016.sqlite` SQLite database.\n"
   ]
  },
  {
   "cell_type": "code",
   "execution_count": 30,
   "metadata": {
    "ExecuteTime": {
     "end_time": "2022-06-09T03:29:26.668250Z",
     "start_time": "2022-06-09T03:29:26.629356Z"
    },
    "id": "istS1IHNYF5N"
   },
   "outputs": [],
   "source": [
    "# Python code here\n",
    "%sql sqlite:///lahman2016.sqlite"
   ]
  },
  {
   "cell_type": "markdown",
   "metadata": {
    "id": "04RbkaOWYIFd"
   },
   "source": [
    "## c\n",
    "\n",
    "List all the tables that are inside the database.\n"
   ]
  },
  {
   "cell_type": "code",
   "execution_count": 31,
   "metadata": {
    "ExecuteTime": {
     "end_time": "2022-06-09T03:29:36.591292Z",
     "start_time": "2022-06-09T03:29:36.536298Z"
    },
    "id": "hj3_LgM7YH3Z"
   },
   "outputs": [
    {
     "name": "stdout",
     "output_type": "stream",
     "text": [
      " * sqlite:///lahman2016.sqlite\n",
      "Done.\n"
     ]
    },
    {
     "data": {
      "text/html": [
       "<table>\n",
       "    <tr>\n",
       "        <th>name</th>\n",
       "    </tr>\n",
       "</table>"
      ],
      "text/plain": [
       "[]"
      ]
     },
     "execution_count": 31,
     "metadata": {},
     "output_type": "execute_result"
    }
   ],
   "source": [
    "%%sql\n",
    "SELECT name FROM sqlite_master WHERE type='table';\n"
   ]
  },
  {
   "cell_type": "code",
   "execution_count": 27,
   "metadata": {
    "ExecuteTime": {
     "end_time": "2022-06-08T20:02:59.501544Z",
     "start_time": "2022-06-08T20:02:59.487097Z"
    }
   },
   "outputs": [
    {
     "name": "stdout",
     "output_type": "stream",
     "text": [
      " * sqlite:///lahman2016.sqlite\n",
      "Done.\n"
     ]
    },
    {
     "data": {
      "text/html": [
       "<table>\n",
       "    <tr>\n",
       "        <th>name</th>\n",
       "    </tr>\n",
       "</table>"
      ],
      "text/plain": [
       "[]"
      ]
     },
     "execution_count": 27,
     "metadata": {},
     "output_type": "execute_result"
    }
   ],
   "source": [
    "%%sql\n",
    "SELECT \n",
    "    name\n",
    "FROM \n",
    "    sqlite_master\n",
    "WHERE \n",
    "    type ='table' AND \n",
    "    name NOT LIKE 'sqlite_%';"
   ]
  },
  {
   "cell_type": "markdown",
   "metadata": {
    "id": "ZbMPe4AiYL2n"
   },
   "source": [
    "## d\n",
    "\n",
    "What are the names of all the columns in the `Salaries` and `Teams` tables?\n"
   ]
  },
  {
   "cell_type": "code",
   "execution_count": null,
   "metadata": {
    "id": "Zlfn2hDoYJ0q"
   },
   "outputs": [],
   "source": [
    "%%sql \n",
    "SELECT name FROM Salaries,Teams;\n",
    "-- SQL code here"
   ]
  },
  {
   "cell_type": "markdown",
   "metadata": {
    "id": "JX6OcH87YOdA"
   },
   "source": [
    "## e\n",
    "\n",
    "Retrieve the `salaries` table and bring it into *Jupyter* using the same name.\n",
    "\n",
    "_Hint:_ Use the `_` symbol and `.DataFrame()` to store the query results in `salaries` so that the SQL Table results is available in *Jupyter*.\n"
   ]
  },
  {
   "cell_type": "code",
   "execution_count": null,
   "metadata": {
    "id": "DLx53FANYOP_"
   },
   "outputs": [],
   "source": [
    "%%sql \n",
    "salaries = _.DataFrame()\n",
    "-- SQL code here"
   ]
  },
  {
   "cell_type": "code",
   "execution_count": null,
   "metadata": {
    "id": "J6LE8WvFYTS5"
   },
   "outputs": [],
   "source": [
    "# Python code here"
   ]
  },
  {
   "cell_type": "markdown",
   "metadata": {
    "id": "I40P_kReYvxj"
   },
   "source": [
    "# Exercise 2: Batter - Querying"
   ]
  },
  {
   "cell_type": "markdown",
   "metadata": {
    "id": "4uISIJNQYiDc"
   },
   "source": [
    "## a\n",
    "\n",
    "Create a SQL query embedded in *Jupyter* that counts the average number of home runs in the entire `Batting` table.\n",
    "\n",
    "*Hints*:\n",
    "\n",
    "-   You will need to use: `SELECT`, `AVG`, and `AS`.\n",
    "-   The result should only contain **one** field -- `average_hr` -- and **1** record.\n"
   ]
  },
  {
   "cell_type": "code",
   "execution_count": null,
   "metadata": {
    "id": "YgYiiVXsYjEz"
   },
   "outputs": [],
   "source": [
    "%%sql \n",
    "\n",
    "-- SQL code here"
   ]
  },
  {
   "cell_type": "markdown",
   "metadata": {
    "id": "7tiTjfg6Ynm5"
   },
   "source": [
    "## b\n",
    "\n",
    "Improve the SQL query developed in **b** and embedded in the *Jupyter* document by:\n",
    "\n",
    "-   calculating the average for **each team**,\n",
    "-   show only teams that have an average equal to or greater than **3.5**, and\n",
    "-   listing the name of the team.\n",
    "\n",
    "*Hints*:\n",
    "\n",
    "-   You will need to use: `SELECT`, `AVG`, `AS`, `JOIN`, `GROUP BY`, and `HAVING`.\n",
    "-   The result should only contain **two** fields -- `name` and `average_hr` -- and **16** records.\n",
    "-   The `name` column in `Teams` contains the team name.\n",
    "    -   Join the `Teams` and `Batting` tables by `teamID` and `yearID`.\n",
    "-   To handle the `ambiguous column name` error requires specifying the table name prior to using the variable in the `SELECT ...` portion, e.g. `table.variable`"
   ]
  },
  {
   "cell_type": "code",
   "execution_count": null,
   "metadata": {
    "id": "Lm7yRpuyYo8n"
   },
   "outputs": [],
   "source": [
    "%%sql \n",
    "\n",
    "-- SQL code here"
   ]
  },
  {
   "cell_type": "markdown",
   "metadata": {
    "id": "5kkS7RJ4YsK4"
   },
   "source": [
    "## c\n",
    "\n",
    "Modify the **c** SQL query embedded in *Jupyter* so that it tabulates the average number of home runs for each player in the `Batting` table:\n",
    "\n",
    "-   **from 1975 onwards**,\n",
    "-   **takes only players with an overall average number of homeruns to be greater than 10**, and\n",
    "-   **sorts them in descending order**.\n",
    "\n",
    "*Hints*:\n",
    "\n",
    "-   You will need to use: `SELECT`, `AVG()`, `AS`, `WHERE`, `GROUP BY`, `HAVING`, `ORDER BY`, and `DESC`.\n",
    "-   The result should only contain **two** fields -- `playerID` and `average_hr` -- and **548** records.\n",
    "-   Recall the difference between `HAVING` and `WHERE`."
   ]
  },
  {
   "cell_type": "code",
   "execution_count": null,
   "metadata": {
    "id": "LKc2am2aYr8g"
   },
   "outputs": [],
   "source": [
    "%%sql \n",
    "\n",
    "-- SQL code here"
   ]
  },
  {
   "cell_type": "markdown",
   "metadata": {
    "id": "E8O-f2PhY5E3"
   },
   "source": [
    "# Exercise 3: Batter - Compute and Retrieve\n"
   ]
  },
  {
   "cell_type": "markdown",
   "metadata": {
    "id": "2pmKKhlFY8Ba"
   },
   "source": [
    "## a\n",
    "\n",
    "Write a SQL query embedded in *Jupyter* that computes the total salary expenditures for each team for the year 2016.\n",
    "\n",
    "*Hints*:\n",
    "\n",
    "-   You will need to use: `SELECT`, `SUM`, `AS`, `WHERE`, and `GROUP BY`.\n",
    "-   The result should only contain **two** fields -- `teamID` and `total_salary` -- and **30** records.\n",
    "-   Use the `_` symbol and `.DataFrame()` to store the query results in `salary_teamid_info` so that the SQL Table results is available in *Jupyter*.\n"
   ]
  },
  {
   "cell_type": "code",
   "execution_count": null,
   "metadata": {
    "id": "OUvoGaqZY7aB"
   },
   "outputs": [],
   "source": [
    "%%sql \n",
    "\n",
    "-- SQL code here"
   ]
  },
  {
   "cell_type": "markdown",
   "metadata": {
    "id": "Wtpf_pZpY-QI"
   },
   "source": [
    "## b\n",
    "\n",
    "Graph the results from **a** on a bar plot created using [`sns.countplot()`](https://seaborn.pydata.org/generated/seaborn.countplot.html#seaborn.countplot) from [`seaborn`](https://seaborn.pydata.org/). Consider looking at examples on [Python Graph Gallery](https://www.python-graph-gallery.com/) for help in constructing the plot.\n",
    "\n",
    "By looking at the graph, what team had the highest payouts to their players in 2016?\n",
    "\n",
    "*Hint*: Rotate text on the x-axis of the plot with `plt.xticks(rotation=45)`.\n"
   ]
  },
  {
   "cell_type": "code",
   "execution_count": null,
   "metadata": {
    "id": "QCFYzK2DZC0l"
   },
   "outputs": [],
   "source": [
    "%%sql \n",
    "\n",
    "-- SQL code here"
   ]
  },
  {
   "cell_type": "code",
   "execution_count": null,
   "metadata": {
    "id": "_Rl9AB9WZEUa"
   },
   "outputs": [],
   "source": [
    "# Python code here"
   ]
  },
  {
   "cell_type": "markdown",
   "metadata": {
    "id": "3TJPLQn4ZAge"
   },
   "source": [
    "## c\n",
    "\n",
    "Instead of calculating only a single year, compute the total salaries for each year spanning from 1990 to 2016. Graph the result on a line plot using [`sns.lineplot()`](https://seaborn.pydata.org/generated/seaborn.lineplot.html#seaborn.lineplot) from [`seaborn`](https://seaborn.pydata.org//). Graph each team's line in a different column.\n",
    "\n",
    "*Hints*:\n",
    "\n",
    "-   You will need to use: `SELECT`, `SUM`, `AS`, `WHERE`, and `GROUP BY`.\n",
    "    -   Psst, to specify multiple groups place a comma between them!\n",
    "-   The result should only contain **three** fields -- `teamID`, `yearID`, and `total_salary` -- and **788** records.\n",
    "-   Use the `_` symbol and `.DataFrame()` to store the query results in `salary_teamid_yearly` so that the SQL Table results is available in *Jupyter*.\n"
   ]
  },
  {
   "cell_type": "code",
   "execution_count": null,
   "metadata": {
    "id": "IKy8iYDaZDT3"
   },
   "outputs": [],
   "source": [
    "%%sql \n",
    "\n",
    "-- SQL code here"
   ]
  },
  {
   "cell_type": "code",
   "execution_count": null,
   "metadata": {
    "id": "W2XWHllvZF1j"
   },
   "outputs": [],
   "source": [
    "# Python code here"
   ]
  },
  {
   "cell_type": "markdown",
   "metadata": {
    "id": "mz7JA5jyZZz9"
   },
   "source": [
    "# Exercise 4: INSERT, INSERT, INSERT\n",
    "\n",
    "Uh oh, it looks like a delete command accidentally removed all of the observations and the `people` table itself from the database! Please re-populate the database by re-creating the `people` table with entries shown below: \n"
   ]
  },
  {
   "cell_type": "code",
   "execution_count": 3,
   "metadata": {
    "colab": {
     "base_uri": "https://localhost:8080/",
     "height": 206
    },
    "id": "tRr0nHpVZaLo",
    "outputId": "e4f53252-f9c8-41f7-cbac-1d028d043a49"
   },
   "outputs": [
    {
     "data": {
      "text/html": [
       "\n",
       "  <div id=\"df-4198d16a-a7af-42a5-9699-108b2ffcea6b\">\n",
       "    <div class=\"colab-df-container\">\n",
       "      <div>\n",
       "<style scoped>\n",
       "    .dataframe tbody tr th:only-of-type {\n",
       "        vertical-align: middle;\n",
       "    }\n",
       "\n",
       "    .dataframe tbody tr th {\n",
       "        vertical-align: top;\n",
       "    }\n",
       "\n",
       "    .dataframe thead th {\n",
       "        text-align: right;\n",
       "    }\n",
       "</style>\n",
       "<table border=\"1\" class=\"dataframe\">\n",
       "  <thead>\n",
       "    <tr style=\"text-align: right;\">\n",
       "      <th></th>\n",
       "      <th>FirstName</th>\n",
       "      <th>LastName</th>\n",
       "      <th>Age</th>\n",
       "      <th>Height</th>\n",
       "      <th>Job</th>\n",
       "    </tr>\n",
       "  </thead>\n",
       "  <tbody>\n",
       "    <tr>\n",
       "      <th>0</th>\n",
       "      <td>Tim</td>\n",
       "      <td>Apple</td>\n",
       "      <td>61</td>\n",
       "      <td>5.6</td>\n",
       "      <td>CEO</td>\n",
       "    </tr>\n",
       "    <tr>\n",
       "      <th>1</th>\n",
       "      <td>Elon</td>\n",
       "      <td>Tusk</td>\n",
       "      <td>50</td>\n",
       "      <td>6.2</td>\n",
       "      <td>Evil Genius</td>\n",
       "    </tr>\n",
       "    <tr>\n",
       "      <th>2</th>\n",
       "      <td>Arnie</td>\n",
       "      <td>Sharwtz</td>\n",
       "      <td>74</td>\n",
       "      <td>6.2</td>\n",
       "      <td>Governator</td>\n",
       "    </tr>\n",
       "    <tr>\n",
       "      <th>3</th>\n",
       "      <td>Larry</td>\n",
       "      <td>Hanks</td>\n",
       "      <td>69</td>\n",
       "      <td>5.1</td>\n",
       "      <td>Professor</td>\n",
       "    </tr>\n",
       "    <tr>\n",
       "      <th>4</th>\n",
       "      <td>Angelina</td>\n",
       "      <td>Voight</td>\n",
       "      <td>46</td>\n",
       "      <td>5.7</td>\n",
       "      <td>Actress</td>\n",
       "    </tr>\n",
       "  </tbody>\n",
       "</table>\n",
       "</div>\n",
       "      <button class=\"colab-df-convert\" onclick=\"convertToInteractive('df-4198d16a-a7af-42a5-9699-108b2ffcea6b')\"\n",
       "              title=\"Convert this dataframe to an interactive table.\"\n",
       "              style=\"display:none;\">\n",
       "        \n",
       "  <svg xmlns=\"http://www.w3.org/2000/svg\" height=\"24px\"viewBox=\"0 0 24 24\"\n",
       "       width=\"24px\">\n",
       "    <path d=\"M0 0h24v24H0V0z\" fill=\"none\"/>\n",
       "    <path d=\"M18.56 5.44l.94 2.06.94-2.06 2.06-.94-2.06-.94-.94-2.06-.94 2.06-2.06.94zm-11 1L8.5 8.5l.94-2.06 2.06-.94-2.06-.94L8.5 2.5l-.94 2.06-2.06.94zm10 10l.94 2.06.94-2.06 2.06-.94-2.06-.94-.94-2.06-.94 2.06-2.06.94z\"/><path d=\"M17.41 7.96l-1.37-1.37c-.4-.4-.92-.59-1.43-.59-.52 0-1.04.2-1.43.59L10.3 9.45l-7.72 7.72c-.78.78-.78 2.05 0 2.83L4 21.41c.39.39.9.59 1.41.59.51 0 1.02-.2 1.41-.59l7.78-7.78 2.81-2.81c.8-.78.8-2.07 0-2.86zM5.41 20L4 18.59l7.72-7.72 1.47 1.35L5.41 20z\"/>\n",
       "  </svg>\n",
       "      </button>\n",
       "      \n",
       "  <style>\n",
       "    .colab-df-container {\n",
       "      display:flex;\n",
       "      flex-wrap:wrap;\n",
       "      gap: 12px;\n",
       "    }\n",
       "\n",
       "    .colab-df-convert {\n",
       "      background-color: #E8F0FE;\n",
       "      border: none;\n",
       "      border-radius: 50%;\n",
       "      cursor: pointer;\n",
       "      display: none;\n",
       "      fill: #1967D2;\n",
       "      height: 32px;\n",
       "      padding: 0 0 0 0;\n",
       "      width: 32px;\n",
       "    }\n",
       "\n",
       "    .colab-df-convert:hover {\n",
       "      background-color: #E2EBFA;\n",
       "      box-shadow: 0px 1px 2px rgba(60, 64, 67, 0.3), 0px 1px 3px 1px rgba(60, 64, 67, 0.15);\n",
       "      fill: #174EA6;\n",
       "    }\n",
       "\n",
       "    [theme=dark] .colab-df-convert {\n",
       "      background-color: #3B4455;\n",
       "      fill: #D2E3FC;\n",
       "    }\n",
       "\n",
       "    [theme=dark] .colab-df-convert:hover {\n",
       "      background-color: #434B5C;\n",
       "      box-shadow: 0px 1px 3px 1px rgba(0, 0, 0, 0.15);\n",
       "      filter: drop-shadow(0px 1px 2px rgba(0, 0, 0, 0.3));\n",
       "      fill: #FFFFFF;\n",
       "    }\n",
       "  </style>\n",
       "\n",
       "      <script>\n",
       "        const buttonEl =\n",
       "          document.querySelector('#df-4198d16a-a7af-42a5-9699-108b2ffcea6b button.colab-df-convert');\n",
       "        buttonEl.style.display =\n",
       "          google.colab.kernel.accessAllowed ? 'block' : 'none';\n",
       "\n",
       "        async function convertToInteractive(key) {\n",
       "          const element = document.querySelector('#df-4198d16a-a7af-42a5-9699-108b2ffcea6b');\n",
       "          const dataTable =\n",
       "            await google.colab.kernel.invokeFunction('convertToInteractive',\n",
       "                                                     [key], {});\n",
       "          if (!dataTable) return;\n",
       "\n",
       "          const docLinkHtml = 'Like what you see? Visit the ' +\n",
       "            '<a target=\"_blank\" href=https://colab.research.google.com/notebooks/data_table.ipynb>data table notebook</a>'\n",
       "            + ' to learn more about interactive tables.';\n",
       "          element.innerHTML = '';\n",
       "          dataTable['output_type'] = 'display_data';\n",
       "          await google.colab.output.renderOutput(dataTable, element);\n",
       "          const docLink = document.createElement('div');\n",
       "          docLink.innerHTML = docLinkHtml;\n",
       "          element.appendChild(docLink);\n",
       "        }\n",
       "      </script>\n",
       "    </div>\n",
       "  </div>\n",
       "  "
      ],
      "text/plain": [
       "  FirstName LastName  Age  Height          Job\n",
       "0       Tim    Apple   61     5.6          CEO\n",
       "1      Elon     Tusk   50     6.2  Evil Genius\n",
       "2     Arnie  Sharwtz   74     6.2   Governator\n",
       "3     Larry    Hanks   69     5.1    Professor\n",
       "4  Angelina   Voight   46     5.7      Actress"
      ]
     },
     "metadata": {},
     "output_type": "display_data"
    }
   ],
   "source": [
    "# Problem setup code\n",
    "import numpy as np\n",
    "import pandas as pd\n",
    "\n",
    "df = pd.DataFrame({\n",
    "\"FirstName\": [\"Tim\", \"Elon\", \"Arnie\", \"Larry\", \"Angelina\"],\n",
    "\"LastName\": [\"Apple\", \"Tusk\", \"Sharwtz\", \"Hanks\", \"Voight\"],\n",
    "\"Age\": [61, 50, 74, 69, 46],\n",
    "\"Height\": [5.6, 6.2, 6.2, 5.1, 5.7],\n",
    "\"Job\": [\"CEO\", \"Evil Genius\", \"Governator\", \"Professor\", \"Actress\"],\n",
    "})\n",
    "\n",
    "display(df)"
   ]
  },
  {
   "cell_type": "markdown",
   "metadata": {
    "id": "oul4Z71_Zonp"
   },
   "source": [
    "Fields are given as: `FirstName`, `LastName`, `Age`, `Height`, and `Job`\n",
    "\n",
    "**Note:** Please do not include the index on the left-hand side as there is no field name present. \n"
   ]
  },
  {
   "cell_type": "code",
   "execution_count": 21,
   "metadata": {
    "colab": {
     "base_uri": "https://localhost:8080/",
     "height": 35
    },
    "id": "wEa0X2OkZv2B",
    "outputId": "78cdd22c-c43f-4c18-be85-3821d1cd232c"
   },
   "outputs": [
    {
     "data": {
      "application/vnd.google.colaboratory.intrinsic+json": {
       "type": "string"
      },
      "text/plain": [
       "'Connected: @recreate-and-insert-problem.db'"
      ]
     },
     "execution_count": 21,
     "metadata": {},
     "output_type": "execute_result"
    }
   ],
   "source": [
    "# Problem setup code\n",
    "%sql sqlite:///recreate-and-insert-problem.db"
   ]
  },
  {
   "cell_type": "markdown",
   "metadata": {
    "id": "qqHTuAbidmmg"
   },
   "source": [
    "---- \n"
   ]
  },
  {
   "cell_type": "code",
   "execution_count": 22,
   "metadata": {
    "colab": {
     "base_uri": "https://localhost:8080/"
    },
    "id": "oCbQMxh9cKDD",
    "outputId": "9551ded9-0c82-4279-e753-0e421c58d4d7"
   },
   "outputs": [
    {
     "name": "stdout",
     "output_type": "stream",
     "text": [
      "   sqlite:///:memory:\n",
      " * sqlite:///recreate-and-insert-problem.db\n",
      "   sqlite:///transform-problem.db\n",
      "0 rows affected.\n"
     ]
    },
    {
     "data": {
      "text/plain": [
       "[]"
      ]
     },
     "execution_count": 22,
     "metadata": {},
     "output_type": "execute_result"
    }
   ],
   "source": [
    "%%sql \n",
    "\n",
    "-- SQL code here"
   ]
  },
  {
   "cell_type": "markdown",
   "metadata": {
    "id": "kNBBeHcSarzG"
   },
   "source": [
    "# Exercise 5: Going to the Center of the Earth\n",
    "\n",
    "The form field populating the database accidentally allowed _positive values_ when **only negative values** should be present. \n",
    "\n",
    "Using an `UPDATE` query, please correct the `formdata` table to have only **negative values**.\n",
    "\n",
    "The `formdata` table has fields `record` and `value`. Inside of `formdata`, we have:\n"
   ]
  },
  {
   "cell_type": "code",
   "execution_count": 9,
   "metadata": {
    "colab": {
     "base_uri": "https://localhost:8080/",
     "height": 394
    },
    "id": "zZUTJ_OGa-SE",
    "outputId": "9bca05da-5614-487c-f6e7-41f3af0f23d1"
   },
   "outputs": [
    {
     "data": {
      "text/html": [
       "\n",
       "  <div id=\"df-860f6a26-a4df-43e5-9074-425808e90fb8\">\n",
       "    <div class=\"colab-df-container\">\n",
       "      <div>\n",
       "<style scoped>\n",
       "    .dataframe tbody tr th:only-of-type {\n",
       "        vertical-align: middle;\n",
       "    }\n",
       "\n",
       "    .dataframe tbody tr th {\n",
       "        vertical-align: top;\n",
       "    }\n",
       "\n",
       "    .dataframe thead th {\n",
       "        text-align: right;\n",
       "    }\n",
       "</style>\n",
       "<table border=\"1\" class=\"dataframe\">\n",
       "  <thead>\n",
       "    <tr style=\"text-align: right;\">\n",
       "      <th></th>\n",
       "      <th>record</th>\n",
       "      <th>value</th>\n",
       "    </tr>\n",
       "  </thead>\n",
       "  <tbody>\n",
       "    <tr>\n",
       "      <th>0</th>\n",
       "      <td>1</td>\n",
       "      <td>-18</td>\n",
       "    </tr>\n",
       "    <tr>\n",
       "      <th>1</th>\n",
       "      <td>2</td>\n",
       "      <td>-30</td>\n",
       "    </tr>\n",
       "    <tr>\n",
       "      <th>2</th>\n",
       "      <td>3</td>\n",
       "      <td>43</td>\n",
       "    </tr>\n",
       "    <tr>\n",
       "      <th>3</th>\n",
       "      <td>4</td>\n",
       "      <td>-4</td>\n",
       "    </tr>\n",
       "    <tr>\n",
       "      <th>4</th>\n",
       "      <td>5</td>\n",
       "      <td>23</td>\n",
       "    </tr>\n",
       "    <tr>\n",
       "      <th>5</th>\n",
       "      <td>6</td>\n",
       "      <td>72</td>\n",
       "    </tr>\n",
       "    <tr>\n",
       "      <th>6</th>\n",
       "      <td>7</td>\n",
       "      <td>41</td>\n",
       "    </tr>\n",
       "    <tr>\n",
       "      <th>7</th>\n",
       "      <td>8</td>\n",
       "      <td>6</td>\n",
       "    </tr>\n",
       "    <tr>\n",
       "      <th>8</th>\n",
       "      <td>9</td>\n",
       "      <td>0</td>\n",
       "    </tr>\n",
       "    <tr>\n",
       "      <th>9</th>\n",
       "      <td>10</td>\n",
       "      <td>78</td>\n",
       "    </tr>\n",
       "    <tr>\n",
       "      <th>10</th>\n",
       "      <td>11</td>\n",
       "      <td>10</td>\n",
       "    </tr>\n",
       "  </tbody>\n",
       "</table>\n",
       "</div>\n",
       "      <button class=\"colab-df-convert\" onclick=\"convertToInteractive('df-860f6a26-a4df-43e5-9074-425808e90fb8')\"\n",
       "              title=\"Convert this dataframe to an interactive table.\"\n",
       "              style=\"display:none;\">\n",
       "        \n",
       "  <svg xmlns=\"http://www.w3.org/2000/svg\" height=\"24px\"viewBox=\"0 0 24 24\"\n",
       "       width=\"24px\">\n",
       "    <path d=\"M0 0h24v24H0V0z\" fill=\"none\"/>\n",
       "    <path d=\"M18.56 5.44l.94 2.06.94-2.06 2.06-.94-2.06-.94-.94-2.06-.94 2.06-2.06.94zm-11 1L8.5 8.5l.94-2.06 2.06-.94-2.06-.94L8.5 2.5l-.94 2.06-2.06.94zm10 10l.94 2.06.94-2.06 2.06-.94-2.06-.94-.94-2.06-.94 2.06-2.06.94z\"/><path d=\"M17.41 7.96l-1.37-1.37c-.4-.4-.92-.59-1.43-.59-.52 0-1.04.2-1.43.59L10.3 9.45l-7.72 7.72c-.78.78-.78 2.05 0 2.83L4 21.41c.39.39.9.59 1.41.59.51 0 1.02-.2 1.41-.59l7.78-7.78 2.81-2.81c.8-.78.8-2.07 0-2.86zM5.41 20L4 18.59l7.72-7.72 1.47 1.35L5.41 20z\"/>\n",
       "  </svg>\n",
       "      </button>\n",
       "      \n",
       "  <style>\n",
       "    .colab-df-container {\n",
       "      display:flex;\n",
       "      flex-wrap:wrap;\n",
       "      gap: 12px;\n",
       "    }\n",
       "\n",
       "    .colab-df-convert {\n",
       "      background-color: #E8F0FE;\n",
       "      border: none;\n",
       "      border-radius: 50%;\n",
       "      cursor: pointer;\n",
       "      display: none;\n",
       "      fill: #1967D2;\n",
       "      height: 32px;\n",
       "      padding: 0 0 0 0;\n",
       "      width: 32px;\n",
       "    }\n",
       "\n",
       "    .colab-df-convert:hover {\n",
       "      background-color: #E2EBFA;\n",
       "      box-shadow: 0px 1px 2px rgba(60, 64, 67, 0.3), 0px 1px 3px 1px rgba(60, 64, 67, 0.15);\n",
       "      fill: #174EA6;\n",
       "    }\n",
       "\n",
       "    [theme=dark] .colab-df-convert {\n",
       "      background-color: #3B4455;\n",
       "      fill: #D2E3FC;\n",
       "    }\n",
       "\n",
       "    [theme=dark] .colab-df-convert:hover {\n",
       "      background-color: #434B5C;\n",
       "      box-shadow: 0px 1px 3px 1px rgba(0, 0, 0, 0.15);\n",
       "      filter: drop-shadow(0px 1px 2px rgba(0, 0, 0, 0.3));\n",
       "      fill: #FFFFFF;\n",
       "    }\n",
       "  </style>\n",
       "\n",
       "      <script>\n",
       "        const buttonEl =\n",
       "          document.querySelector('#df-860f6a26-a4df-43e5-9074-425808e90fb8 button.colab-df-convert');\n",
       "        buttonEl.style.display =\n",
       "          google.colab.kernel.accessAllowed ? 'block' : 'none';\n",
       "\n",
       "        async function convertToInteractive(key) {\n",
       "          const element = document.querySelector('#df-860f6a26-a4df-43e5-9074-425808e90fb8');\n",
       "          const dataTable =\n",
       "            await google.colab.kernel.invokeFunction('convertToInteractive',\n",
       "                                                     [key], {});\n",
       "          if (!dataTable) return;\n",
       "\n",
       "          const docLinkHtml = 'Like what you see? Visit the ' +\n",
       "            '<a target=\"_blank\" href=https://colab.research.google.com/notebooks/data_table.ipynb>data table notebook</a>'\n",
       "            + ' to learn more about interactive tables.';\n",
       "          element.innerHTML = '';\n",
       "          dataTable['output_type'] = 'display_data';\n",
       "          await google.colab.output.renderOutput(dataTable, element);\n",
       "          const docLink = document.createElement('div');\n",
       "          docLink.innerHTML = docLinkHtml;\n",
       "          element.appendChild(docLink);\n",
       "        }\n",
       "      </script>\n",
       "    </div>\n",
       "  </div>\n",
       "  "
      ],
      "text/plain": [
       "    record  value\n",
       "0        1    -18\n",
       "1        2    -30\n",
       "2        3     43\n",
       "3        4     -4\n",
       "4        5     23\n",
       "5        6     72\n",
       "6        7     41\n",
       "7        8      6\n",
       "8        9      0\n",
       "9       10     78\n",
       "10      11     10"
      ]
     },
     "metadata": {},
     "output_type": "display_data"
    }
   ],
   "source": [
    "# Problem setup code\n",
    "\n",
    "import numpy as np\n",
    "import pandas as pd \n",
    "\n",
    "n = np.random.randint(5, 12, 1)[0]\n",
    "df = pd.DataFrame({\n",
    "    \"record\": np.arange(1, n + 1, 1),\n",
    "    \"value\": np.random.randint(-50, 100, n)\n",
    "})\n",
    "\n",
    "# Force at least one positive value\n",
    "df.iat[n - 1, 1] = np.random.randint(1, 50, 1)[0]\n",
    "\n",
    "# Show the data frame\n",
    "display(df)"
   ]
  },
  {
   "cell_type": "markdown",
   "metadata": {
    "id": "tPGp825xa3Lu"
   },
   "source": [
    "The transformed table should look like:\n",
    "\n"
   ]
  },
  {
   "cell_type": "code",
   "execution_count": 8,
   "metadata": {
    "colab": {
     "base_uri": "https://localhost:8080/",
     "height": 300
    },
    "id": "crcHlnpDbEvL",
    "outputId": "0ef63e37-bcb3-4a68-e8c0-b4da6ca00845"
   },
   "outputs": [
    {
     "data": {
      "text/html": [
       "\n",
       "  <div id=\"df-af7d7dad-4ef2-4b75-b4e4-28a54dfcb800\">\n",
       "    <div class=\"colab-df-container\">\n",
       "      <div>\n",
       "<style scoped>\n",
       "    .dataframe tbody tr th:only-of-type {\n",
       "        vertical-align: middle;\n",
       "    }\n",
       "\n",
       "    .dataframe tbody tr th {\n",
       "        vertical-align: top;\n",
       "    }\n",
       "\n",
       "    .dataframe thead th {\n",
       "        text-align: right;\n",
       "    }\n",
       "</style>\n",
       "<table border=\"1\" class=\"dataframe\">\n",
       "  <thead>\n",
       "    <tr style=\"text-align: right;\">\n",
       "      <th></th>\n",
       "      <th>record</th>\n",
       "      <th>value</th>\n",
       "    </tr>\n",
       "  </thead>\n",
       "  <tbody>\n",
       "    <tr>\n",
       "      <th>0</th>\n",
       "      <td>1</td>\n",
       "      <td>-7</td>\n",
       "    </tr>\n",
       "    <tr>\n",
       "      <th>1</th>\n",
       "      <td>2</td>\n",
       "      <td>-9</td>\n",
       "    </tr>\n",
       "    <tr>\n",
       "      <th>2</th>\n",
       "      <td>3</td>\n",
       "      <td>-43</td>\n",
       "    </tr>\n",
       "    <tr>\n",
       "      <th>3</th>\n",
       "      <td>4</td>\n",
       "      <td>-24</td>\n",
       "    </tr>\n",
       "    <tr>\n",
       "      <th>4</th>\n",
       "      <td>5</td>\n",
       "      <td>-28</td>\n",
       "    </tr>\n",
       "    <tr>\n",
       "      <th>5</th>\n",
       "      <td>6</td>\n",
       "      <td>-28</td>\n",
       "    </tr>\n",
       "    <tr>\n",
       "      <th>6</th>\n",
       "      <td>7</td>\n",
       "      <td>-11</td>\n",
       "    </tr>\n",
       "    <tr>\n",
       "      <th>7</th>\n",
       "      <td>8</td>\n",
       "      <td>-19</td>\n",
       "    </tr>\n",
       "  </tbody>\n",
       "</table>\n",
       "</div>\n",
       "      <button class=\"colab-df-convert\" onclick=\"convertToInteractive('df-af7d7dad-4ef2-4b75-b4e4-28a54dfcb800')\"\n",
       "              title=\"Convert this dataframe to an interactive table.\"\n",
       "              style=\"display:none;\">\n",
       "        \n",
       "  <svg xmlns=\"http://www.w3.org/2000/svg\" height=\"24px\"viewBox=\"0 0 24 24\"\n",
       "       width=\"24px\">\n",
       "    <path d=\"M0 0h24v24H0V0z\" fill=\"none\"/>\n",
       "    <path d=\"M18.56 5.44l.94 2.06.94-2.06 2.06-.94-2.06-.94-.94-2.06-.94 2.06-2.06.94zm-11 1L8.5 8.5l.94-2.06 2.06-.94-2.06-.94L8.5 2.5l-.94 2.06-2.06.94zm10 10l.94 2.06.94-2.06 2.06-.94-2.06-.94-.94-2.06-.94 2.06-2.06.94z\"/><path d=\"M17.41 7.96l-1.37-1.37c-.4-.4-.92-.59-1.43-.59-.52 0-1.04.2-1.43.59L10.3 9.45l-7.72 7.72c-.78.78-.78 2.05 0 2.83L4 21.41c.39.39.9.59 1.41.59.51 0 1.02-.2 1.41-.59l7.78-7.78 2.81-2.81c.8-.78.8-2.07 0-2.86zM5.41 20L4 18.59l7.72-7.72 1.47 1.35L5.41 20z\"/>\n",
       "  </svg>\n",
       "      </button>\n",
       "      \n",
       "  <style>\n",
       "    .colab-df-container {\n",
       "      display:flex;\n",
       "      flex-wrap:wrap;\n",
       "      gap: 12px;\n",
       "    }\n",
       "\n",
       "    .colab-df-convert {\n",
       "      background-color: #E8F0FE;\n",
       "      border: none;\n",
       "      border-radius: 50%;\n",
       "      cursor: pointer;\n",
       "      display: none;\n",
       "      fill: #1967D2;\n",
       "      height: 32px;\n",
       "      padding: 0 0 0 0;\n",
       "      width: 32px;\n",
       "    }\n",
       "\n",
       "    .colab-df-convert:hover {\n",
       "      background-color: #E2EBFA;\n",
       "      box-shadow: 0px 1px 2px rgba(60, 64, 67, 0.3), 0px 1px 3px 1px rgba(60, 64, 67, 0.15);\n",
       "      fill: #174EA6;\n",
       "    }\n",
       "\n",
       "    [theme=dark] .colab-df-convert {\n",
       "      background-color: #3B4455;\n",
       "      fill: #D2E3FC;\n",
       "    }\n",
       "\n",
       "    [theme=dark] .colab-df-convert:hover {\n",
       "      background-color: #434B5C;\n",
       "      box-shadow: 0px 1px 3px 1px rgba(0, 0, 0, 0.15);\n",
       "      filter: drop-shadow(0px 1px 2px rgba(0, 0, 0, 0.3));\n",
       "      fill: #FFFFFF;\n",
       "    }\n",
       "  </style>\n",
       "\n",
       "      <script>\n",
       "        const buttonEl =\n",
       "          document.querySelector('#df-af7d7dad-4ef2-4b75-b4e4-28a54dfcb800 button.colab-df-convert');\n",
       "        buttonEl.style.display =\n",
       "          google.colab.kernel.accessAllowed ? 'block' : 'none';\n",
       "\n",
       "        async function convertToInteractive(key) {\n",
       "          const element = document.querySelector('#df-af7d7dad-4ef2-4b75-b4e4-28a54dfcb800');\n",
       "          const dataTable =\n",
       "            await google.colab.kernel.invokeFunction('convertToInteractive',\n",
       "                                                     [key], {});\n",
       "          if (!dataTable) return;\n",
       "\n",
       "          const docLinkHtml = 'Like what you see? Visit the ' +\n",
       "            '<a target=\"_blank\" href=https://colab.research.google.com/notebooks/data_table.ipynb>data table notebook</a>'\n",
       "            + ' to learn more about interactive tables.';\n",
       "          element.innerHTML = '';\n",
       "          dataTable['output_type'] = 'display_data';\n",
       "          await google.colab.output.renderOutput(dataTable, element);\n",
       "          const docLink = document.createElement('div');\n",
       "          docLink.innerHTML = docLinkHtml;\n",
       "          element.appendChild(docLink);\n",
       "        }\n",
       "      </script>\n",
       "    </div>\n",
       "  </div>\n",
       "  "
      ],
      "text/plain": [
       "   record  value\n",
       "0       1     -7\n",
       "1       2     -9\n",
       "2       3    -43\n",
       "3       4    -24\n",
       "4       5    -28\n",
       "5       6    -28\n",
       "6       7    -11\n",
       "7       8    -19"
      ]
     },
     "metadata": {},
     "output_type": "display_data"
    }
   ],
   "source": [
    "# Copy\n",
    "df_transformed = df.copy()\n",
    "\n",
    "# Transform\n",
    "df_transformed[\"value\"] = df_transformed[\"value\"].apply(lambda x: -1*abs(x))\n",
    "\n",
    "# Show transformed data frame\n",
    "display(df_transformed)"
   ]
  },
  {
   "cell_type": "markdown",
   "metadata": {
    "id": "L9IzJkB2a4WN"
   },
   "source": [
    "Please make sure that the field names in the output match the field names in original table.\n"
   ]
  },
  {
   "cell_type": "code",
   "execution_count": 19,
   "metadata": {
    "id": "W2d-HrFEasKE"
   },
   "outputs": [],
   "source": [
    "# Problem setup code\n",
    "\n",
    "# Import Pandas Data into SQL\n",
    "%sql sqlite:///transform-problem.db\n",
    "import sqlalchemy\n",
    "\n",
    "engine = sqlalchemy.create_engine('sqlite:///transform-problem.db')\n",
    "df.to_sql('formdata', engine, if_exists = 'replace', index = False)"
   ]
  },
  {
   "cell_type": "markdown",
   "metadata": {
    "id": "957Nx0_GdlAZ"
   },
   "source": [
    "---- \n"
   ]
  },
  {
   "cell_type": "code",
   "execution_count": 20,
   "metadata": {
    "colab": {
     "base_uri": "https://localhost:8080/",
     "height": 325
    },
    "id": "fQ1Bne4-bwCp",
    "outputId": "f70868f9-fa9b-4abf-de44-4b407c0fc640"
   },
   "outputs": [
    {
     "name": "stdout",
     "output_type": "stream",
     "text": [
      "   sqlite:///:memory:\n",
      " * sqlite:///transform-problem.db\n",
      "Done.\n"
     ]
    },
    {
     "data": {
      "text/html": [
       "<table>\n",
       "    <thead>\n",
       "        <tr>\n",
       "            <th>record</th>\n",
       "            <th>value</th>\n",
       "        </tr>\n",
       "    </thead>\n",
       "    <tbody>\n",
       "        <tr>\n",
       "            <td>1</td>\n",
       "            <td>-18</td>\n",
       "        </tr>\n",
       "        <tr>\n",
       "            <td>2</td>\n",
       "            <td>-30</td>\n",
       "        </tr>\n",
       "        <tr>\n",
       "            <td>3</td>\n",
       "            <td>43</td>\n",
       "        </tr>\n",
       "        <tr>\n",
       "            <td>4</td>\n",
       "            <td>-4</td>\n",
       "        </tr>\n",
       "        <tr>\n",
       "            <td>5</td>\n",
       "            <td>23</td>\n",
       "        </tr>\n",
       "        <tr>\n",
       "            <td>6</td>\n",
       "            <td>72</td>\n",
       "        </tr>\n",
       "        <tr>\n",
       "            <td>7</td>\n",
       "            <td>41</td>\n",
       "        </tr>\n",
       "        <tr>\n",
       "            <td>8</td>\n",
       "            <td>6</td>\n",
       "        </tr>\n",
       "        <tr>\n",
       "            <td>9</td>\n",
       "            <td>0</td>\n",
       "        </tr>\n",
       "        <tr>\n",
       "            <td>10</td>\n",
       "            <td>78</td>\n",
       "        </tr>\n",
       "        <tr>\n",
       "            <td>11</td>\n",
       "            <td>10</td>\n",
       "        </tr>\n",
       "    </tbody>\n",
       "</table>"
      ],
      "text/plain": [
       "[(1, -18),\n",
       " (2, -30),\n",
       " (3, 43),\n",
       " (4, -4),\n",
       " (5, 23),\n",
       " (6, 72),\n",
       " (7, 41),\n",
       " (8, 6),\n",
       " (9, 0),\n",
       " (10, 78),\n",
       " (11, 10)]"
      ]
     },
     "execution_count": 20,
     "metadata": {},
     "output_type": "execute_result"
    }
   ],
   "source": [
    "%%sql\n",
    "\n",
    "-- SQL code here\n",
    "SELECT * FROM formdata"
   ]
  },
  {
   "cell_type": "markdown",
   "metadata": {
    "id": "NioYOa2mdCv3"
   },
   "source": [
    "# Exercise 6: Shipping Quandaries"
   ]
  },
  {
   "cell_type": "markdown",
   "metadata": {
    "id": "sshgZqTXcfMe"
   },
   "source": [
    "Calculate the total amount of packages shipped to all users every month across the years based on data in the `packages` table. \n",
    "\n",
    "To obtain the month by year breakdown, please concatenate or combine the `month` and `year` fields into the `mm_yyyy` field with a space as a separator, e.g. `9 2018`.\n",
    "\n",
    "Please return the `mm_yyyy` field followed by a total count of packages `pkg_total` for the month under the given year. Make sure to perform a grouping statement using `mm_yyyy`.\n",
    "\n",
    "Example `packages` table:\n",
    "\n",
    "\n"
   ]
  },
  {
   "cell_type": "code",
   "execution_count": 23,
   "metadata": {
    "colab": {
     "base_uri": "https://localhost:8080/",
     "height": 300
    },
    "id": "gmr-SM-DciLm",
    "outputId": "3aa58a10-337b-4c6c-865c-c2986a1413ef"
   },
   "outputs": [
    {
     "data": {
      "text/html": [
       "\n",
       "  <div id=\"df-db520cf3-440b-4a1b-9729-b119ba20235f\">\n",
       "    <div class=\"colab-df-container\">\n",
       "      <div>\n",
       "<style scoped>\n",
       "    .dataframe tbody tr th:only-of-type {\n",
       "        vertical-align: middle;\n",
       "    }\n",
       "\n",
       "    .dataframe tbody tr th {\n",
       "        vertical-align: top;\n",
       "    }\n",
       "\n",
       "    .dataframe thead th {\n",
       "        text-align: right;\n",
       "    }\n",
       "</style>\n",
       "<table border=\"1\" class=\"dataframe\">\n",
       "  <thead>\n",
       "    <tr style=\"text-align: right;\">\n",
       "      <th></th>\n",
       "      <th>user_id</th>\n",
       "      <th>package_id</th>\n",
       "      <th>month</th>\n",
       "      <th>year</th>\n",
       "      <th>weight</th>\n",
       "    </tr>\n",
       "  </thead>\n",
       "  <tbody>\n",
       "    <tr>\n",
       "      <th>0</th>\n",
       "      <td>7</td>\n",
       "      <td>1</td>\n",
       "      <td>11</td>\n",
       "      <td>2020</td>\n",
       "      <td>7</td>\n",
       "    </tr>\n",
       "    <tr>\n",
       "      <th>1</th>\n",
       "      <td>1</td>\n",
       "      <td>2</td>\n",
       "      <td>12</td>\n",
       "      <td>2017</td>\n",
       "      <td>15</td>\n",
       "    </tr>\n",
       "    <tr>\n",
       "      <th>2</th>\n",
       "      <td>2</td>\n",
       "      <td>3</td>\n",
       "      <td>10</td>\n",
       "      <td>2016</td>\n",
       "      <td>10</td>\n",
       "    </tr>\n",
       "    <tr>\n",
       "      <th>3</th>\n",
       "      <td>4</td>\n",
       "      <td>4</td>\n",
       "      <td>10</td>\n",
       "      <td>2016</td>\n",
       "      <td>12</td>\n",
       "    </tr>\n",
       "    <tr>\n",
       "      <th>4</th>\n",
       "      <td>8</td>\n",
       "      <td>5</td>\n",
       "      <td>11</td>\n",
       "      <td>2020</td>\n",
       "      <td>4</td>\n",
       "    </tr>\n",
       "    <tr>\n",
       "      <th>5</th>\n",
       "      <td>6</td>\n",
       "      <td>6</td>\n",
       "      <td>1</td>\n",
       "      <td>2020</td>\n",
       "      <td>15</td>\n",
       "    </tr>\n",
       "    <tr>\n",
       "      <th>6</th>\n",
       "      <td>3</td>\n",
       "      <td>7</td>\n",
       "      <td>3</td>\n",
       "      <td>2016</td>\n",
       "      <td>17</td>\n",
       "    </tr>\n",
       "    <tr>\n",
       "      <th>7</th>\n",
       "      <td>5</td>\n",
       "      <td>8</td>\n",
       "      <td>9</td>\n",
       "      <td>2020</td>\n",
       "      <td>16</td>\n",
       "    </tr>\n",
       "  </tbody>\n",
       "</table>\n",
       "</div>\n",
       "      <button class=\"colab-df-convert\" onclick=\"convertToInteractive('df-db520cf3-440b-4a1b-9729-b119ba20235f')\"\n",
       "              title=\"Convert this dataframe to an interactive table.\"\n",
       "              style=\"display:none;\">\n",
       "        \n",
       "  <svg xmlns=\"http://www.w3.org/2000/svg\" height=\"24px\"viewBox=\"0 0 24 24\"\n",
       "       width=\"24px\">\n",
       "    <path d=\"M0 0h24v24H0V0z\" fill=\"none\"/>\n",
       "    <path d=\"M18.56 5.44l.94 2.06.94-2.06 2.06-.94-2.06-.94-.94-2.06-.94 2.06-2.06.94zm-11 1L8.5 8.5l.94-2.06 2.06-.94-2.06-.94L8.5 2.5l-.94 2.06-2.06.94zm10 10l.94 2.06.94-2.06 2.06-.94-2.06-.94-.94-2.06-.94 2.06-2.06.94z\"/><path d=\"M17.41 7.96l-1.37-1.37c-.4-.4-.92-.59-1.43-.59-.52 0-1.04.2-1.43.59L10.3 9.45l-7.72 7.72c-.78.78-.78 2.05 0 2.83L4 21.41c.39.39.9.59 1.41.59.51 0 1.02-.2 1.41-.59l7.78-7.78 2.81-2.81c.8-.78.8-2.07 0-2.86zM5.41 20L4 18.59l7.72-7.72 1.47 1.35L5.41 20z\"/>\n",
       "  </svg>\n",
       "      </button>\n",
       "      \n",
       "  <style>\n",
       "    .colab-df-container {\n",
       "      display:flex;\n",
       "      flex-wrap:wrap;\n",
       "      gap: 12px;\n",
       "    }\n",
       "\n",
       "    .colab-df-convert {\n",
       "      background-color: #E8F0FE;\n",
       "      border: none;\n",
       "      border-radius: 50%;\n",
       "      cursor: pointer;\n",
       "      display: none;\n",
       "      fill: #1967D2;\n",
       "      height: 32px;\n",
       "      padding: 0 0 0 0;\n",
       "      width: 32px;\n",
       "    }\n",
       "\n",
       "    .colab-df-convert:hover {\n",
       "      background-color: #E2EBFA;\n",
       "      box-shadow: 0px 1px 2px rgba(60, 64, 67, 0.3), 0px 1px 3px 1px rgba(60, 64, 67, 0.15);\n",
       "      fill: #174EA6;\n",
       "    }\n",
       "\n",
       "    [theme=dark] .colab-df-convert {\n",
       "      background-color: #3B4455;\n",
       "      fill: #D2E3FC;\n",
       "    }\n",
       "\n",
       "    [theme=dark] .colab-df-convert:hover {\n",
       "      background-color: #434B5C;\n",
       "      box-shadow: 0px 1px 3px 1px rgba(0, 0, 0, 0.15);\n",
       "      filter: drop-shadow(0px 1px 2px rgba(0, 0, 0, 0.3));\n",
       "      fill: #FFFFFF;\n",
       "    }\n",
       "  </style>\n",
       "\n",
       "      <script>\n",
       "        const buttonEl =\n",
       "          document.querySelector('#df-db520cf3-440b-4a1b-9729-b119ba20235f button.colab-df-convert');\n",
       "        buttonEl.style.display =\n",
       "          google.colab.kernel.accessAllowed ? 'block' : 'none';\n",
       "\n",
       "        async function convertToInteractive(key) {\n",
       "          const element = document.querySelector('#df-db520cf3-440b-4a1b-9729-b119ba20235f');\n",
       "          const dataTable =\n",
       "            await google.colab.kernel.invokeFunction('convertToInteractive',\n",
       "                                                     [key], {});\n",
       "          if (!dataTable) return;\n",
       "\n",
       "          const docLinkHtml = 'Like what you see? Visit the ' +\n",
       "            '<a target=\"_blank\" href=https://colab.research.google.com/notebooks/data_table.ipynb>data table notebook</a>'\n",
       "            + ' to learn more about interactive tables.';\n",
       "          element.innerHTML = '';\n",
       "          dataTable['output_type'] = 'display_data';\n",
       "          await google.colab.output.renderOutput(dataTable, element);\n",
       "          const docLink = document.createElement('div');\n",
       "          docLink.innerHTML = docLinkHtml;\n",
       "          element.appendChild(docLink);\n",
       "        }\n",
       "      </script>\n",
       "    </div>\n",
       "  </div>\n",
       "  "
      ],
      "text/plain": [
       "   user_id  package_id  month  year  weight\n",
       "0        7           1     11  2020       7\n",
       "1        1           2     12  2017      15\n",
       "2        2           3     10  2016      10\n",
       "3        4           4     10  2016      12\n",
       "4        8           5     11  2020       4\n",
       "5        6           6      1  2020      15\n",
       "6        3           7      3  2016      17\n",
       "7        5           8      9  2020      16"
      ]
     },
     "metadata": {},
     "output_type": "display_data"
    }
   ],
   "source": [
    "# Problem setup code\n",
    "\n",
    "import numpy as np \n",
    "import random \n",
    "\n",
    "N = random.randint(4, 12 + 1)\n",
    "user_id = random.sample(list(range(1, N + 1)), N)\n",
    "package_id = list(range(1, N + 1))\n",
    "\n",
    "year = random.choices(list(range(2015, 2021)), k = N)\n",
    "month = random.choices(list(range(1, 13)), k = N)\n",
    "\n",
    "weight = random.choices(range(3, 20, 1), k=N)\n",
    "\n",
    "df = pd.DataFrame({\n",
    "  'user_id': user_id,\n",
    "  'package_id': package_id,\n",
    "  'month': month,\n",
    "  'year': year,\n",
    "  'weight': weight\n",
    "})\n",
    "\n",
    "display(df)"
   ]
  },
  {
   "cell_type": "markdown",
   "metadata": {
    "id": "fpTHePTOchg5"
   },
   "source": [
    "_Hint:_ You may wish to combine the month and year column using SQLite’s concatenate operator `||`, e.g.\n",
    "\n",
    "```sql\n",
    "SELECT first_name || ' ' || last_name AS full_name\n",
    "```\n",
    "\n",
    "Gives: \n",
    "\n",
    "```\n",
    "full_name\n",
    "John Smith\n",
    "Peter Jones\n",
    "```"
   ]
  },
  {
   "cell_type": "code",
   "execution_count": 24,
   "metadata": {
    "id": "WMdyNTH6cuF0"
   },
   "outputs": [],
   "source": [
    "# Problem setup code\n",
    "\n",
    "# Import Pandas data into SQL\n",
    "%sql sqlite:///package-shipped-problem.db\n",
    "import sqlalchemy\n",
    "\n",
    "engine = sqlalchemy.create_engine('sqlite:///package-shipped-problem.db')\n",
    "df.to_sql('packages', engine, if_exists = 'replace', index = False)"
   ]
  },
  {
   "cell_type": "markdown",
   "metadata": {
    "id": "Z6Pg8vRcdi9J"
   },
   "source": [
    "---- \n"
   ]
  },
  {
   "cell_type": "code",
   "execution_count": 25,
   "metadata": {
    "colab": {
     "base_uri": "https://localhost:8080/",
     "height": 296
    },
    "id": "0KaSLkBvc0Qn",
    "outputId": "f3d641f7-7bd7-4368-baa5-5bb3149659fb"
   },
   "outputs": [
    {
     "name": "stdout",
     "output_type": "stream",
     "text": [
      "   sqlite:///:memory:\n",
      " * sqlite:///package-shipped-problem.db\n",
      "   sqlite:///recreate-and-insert-problem.db\n",
      "   sqlite:///transform-problem.db\n",
      "Done.\n"
     ]
    },
    {
     "data": {
      "text/html": [
       "<table>\n",
       "    <thead>\n",
       "        <tr>\n",
       "            <th>user_id</th>\n",
       "            <th>package_id</th>\n",
       "            <th>month</th>\n",
       "            <th>year</th>\n",
       "            <th>weight</th>\n",
       "        </tr>\n",
       "    </thead>\n",
       "    <tbody>\n",
       "        <tr>\n",
       "            <td>7</td>\n",
       "            <td>1</td>\n",
       "            <td>11</td>\n",
       "            <td>2020</td>\n",
       "            <td>7</td>\n",
       "        </tr>\n",
       "        <tr>\n",
       "            <td>1</td>\n",
       "            <td>2</td>\n",
       "            <td>12</td>\n",
       "            <td>2017</td>\n",
       "            <td>15</td>\n",
       "        </tr>\n",
       "        <tr>\n",
       "            <td>2</td>\n",
       "            <td>3</td>\n",
       "            <td>10</td>\n",
       "            <td>2016</td>\n",
       "            <td>10</td>\n",
       "        </tr>\n",
       "        <tr>\n",
       "            <td>4</td>\n",
       "            <td>4</td>\n",
       "            <td>10</td>\n",
       "            <td>2016</td>\n",
       "            <td>12</td>\n",
       "        </tr>\n",
       "        <tr>\n",
       "            <td>8</td>\n",
       "            <td>5</td>\n",
       "            <td>11</td>\n",
       "            <td>2020</td>\n",
       "            <td>4</td>\n",
       "        </tr>\n",
       "        <tr>\n",
       "            <td>6</td>\n",
       "            <td>6</td>\n",
       "            <td>1</td>\n",
       "            <td>2020</td>\n",
       "            <td>15</td>\n",
       "        </tr>\n",
       "        <tr>\n",
       "            <td>3</td>\n",
       "            <td>7</td>\n",
       "            <td>3</td>\n",
       "            <td>2016</td>\n",
       "            <td>17</td>\n",
       "        </tr>\n",
       "        <tr>\n",
       "            <td>5</td>\n",
       "            <td>8</td>\n",
       "            <td>9</td>\n",
       "            <td>2020</td>\n",
       "            <td>16</td>\n",
       "        </tr>\n",
       "    </tbody>\n",
       "</table>"
      ],
      "text/plain": [
       "[(7, 1, 11, 2020, 7),\n",
       " (1, 2, 12, 2017, 15),\n",
       " (2, 3, 10, 2016, 10),\n",
       " (4, 4, 10, 2016, 12),\n",
       " (8, 5, 11, 2020, 4),\n",
       " (6, 6, 1, 2020, 15),\n",
       " (3, 7, 3, 2016, 17),\n",
       " (5, 8, 9, 2020, 16)]"
      ]
     },
     "execution_count": 25,
     "metadata": {},
     "output_type": "execute_result"
    }
   ],
   "source": [
    "%%sql\n",
    "\n",
    "-- SQL code here\n",
    "SELECT * FROM packages"
   ]
  }
 ],
 "metadata": {
  "colab": {
   "collapsed_sections": [],
   "name": "day05-imsi-sql-queries.ipynb",
   "provenance": [],
   "toc_visible": true
  },
  "kernelspec": {
   "display_name": "Python 3 (ipykernel)",
   "language": "python",
   "name": "python3"
  },
  "language_info": {
   "codemirror_mode": {
    "name": "ipython",
    "version": 3
   },
   "file_extension": ".py",
   "mimetype": "text/x-python",
   "name": "python",
   "nbconvert_exporter": "python",
   "pygments_lexer": "ipython3",
   "version": "3.10.4"
  }
 },
 "nbformat": 4,
 "nbformat_minor": 1
}
