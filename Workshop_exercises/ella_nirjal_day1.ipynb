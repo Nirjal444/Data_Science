{
 "cells": [
  {
   "cell_type": "markdown",
   "metadata": {
    "id": "7kk9TYkdmsYS"
   },
   "source": [
    "# Exercises Day 1 Group Work Exercises"
   ]
  },
  {
   "cell_type": "markdown",
   "metadata": {
    "id": "XNPGMcWleb_L"
   },
   "source": [
    "# Exercise 1: Who We Are \n",
    "\n",
    "The goal behind this exercise is to practice writing in markdown while talking with your group member."
   ]
  },
  {
   "cell_type": "markdown",
   "metadata": {
    "id": "oP03rE-bfnJB"
   },
   "source": [
    "### a: Who We Are -- Images\n",
    "\n",
    "Create take a picture of your group and include \n",
    "it within the document using a _relative path_. \n"
   ]
  },
  {
   "cell_type": "markdown",
   "metadata": {
    "id": "Dl--VMsilVuu"
   },
   "source": [
    "![Alt text](group_pic_day2.png)"
   ]
  },
  {
   "cell_type": "markdown",
   "metadata": {
    "id": "zE_eeQaRfscw"
   },
   "source": [
    "\n",
    " \n",
    "### b: Who We Are -- Tables\n",
    "\n",
    "If you need help in building a table in markdown, please check out \n",
    "<https://urldefense.proofpoint.com/v2/url?u=https-3A__www.tablesgenerator.com_markdown-5Ftables&d=DwIG-g&c=sJ6xIWYx-zLMB3EPkvcnVg&r=j33FmCzQa_fMTjJjVi3fivqT_V2RxWCiDo_mLwnd7vs&m=MniUTWpciAOKLKdPou30LtohIL3H3tccYwBTt6Q-J5nKMl5u1gqsIfsDwM7K00rM&s=SDcniuobV8SQ6T0D2kzc2OsZxbT6-PXJ97noDdLdI_E&e= >\n",
    "\n",
    "For each group member, create a 4 (rows) by 2 (columns) table in markdown with the following \n",
    "specification:\n",
    "\n",
    "- One row will be considered the \"header row\" and span two columns. \n",
    "  These columns should be labeled \"Overview\" and \"Who I Am\". \n",
    "- Under the \"Overview\" column, write verbatim the category names \n",
    "  using **bold** text for:\n",
    "    - Full Name\n",
    "    - Birthday\n",
    "    - School\n",
    "- Under each table's the \"Who I Am\" column, please fill in the \n"
   ]
  },
  {
   "cell_type": "markdown",
   "metadata": {
    "id": "Tp70XZvelX7-"
   },
   "source": [
    "| Overview | Who I Am |\n",
    "|---|---|\n",
    "| **Full Name** | Ella Hiesmayr |\n",
    "| **Birthday** | 06/26/1990 |\n",
    "| **School** | UC Berkeley |\n",
    "\n",
    "| Overview | Who I Am |\n",
    "|---|---|\n",
    "| **Full Name** | Nirjal Shrestha |\n",
    "| **Birthday** | 10/18/1995 |\n",
    "| **School** | University of Florida |"
   ]
  },
  {
   "cell_type": "markdown",
   "metadata": {
    "id": "yRgzMV-PfuXo"
   },
   "source": [
    "### c: Who We Are -- Lists\n",
    "\n",
    "Create a nested list that uses an **un**ordered list for\n",
    "subject categories and has sublist that is an **ordered** list containing the ranking each of your favorite:\n",
    "- movies;\n",
    "- music (add links to music videos on either YouTube or Vimeo)."
   ]
  },
  {
   "cell_type": "markdown",
   "metadata": {
    "ExecuteTime": {
     "end_time": "2022-05-31T19:44:43.469739Z",
     "start_time": "2022-05-31T19:44:43.452719Z"
    },
    "id": "3f49pQsalYdU"
   },
   "source": [
    "## Ella's favorites\n",
    "\n",
    "- Movies:\n",
    "    1. Les chansons d'amour\n",
    "    2. Call me by your name\n",
    "    3. Shoplifters\n",
    "\n",
    "- Music:\n",
    "    1. [Bul Beni](https://urldefense.proofpoint.com/v2/url?u=https-3A__www.youtube.com_watch-3Fv-3DX9pjweU2ocY-26ab-5Fchannel-3DSedefSeb-25C3-25BCktekin&d=DwIG-g&c=sJ6xIWYx-zLMB3EPkvcnVg&r=j33FmCzQa_fMTjJjVi3fivqT_V2RxWCiDo_mLwnd7vs&m=MniUTWpciAOKLKdPou30LtohIL3H3tccYwBTt6Q-J5nKMl5u1gqsIfsDwM7K00rM&s=g_YXg__OaoyD9rlXp6Tjft3E8wZjytsZ1pgnyMHZPyo&e= ) by Sedef Sebüktekin\n",
    "    2. [Château Lafite](https://urldefense.proofpoint.com/v2/url?u=https-3A__www.youtube.com_watch-3Fv-3D-2DEhNcOLHdxI-26ab-5Fchannel-3DBONAPARTE&d=DwIG-g&c=sJ6xIWYx-zLMB3EPkvcnVg&r=j33FmCzQa_fMTjJjVi3fivqT_V2RxWCiDo_mLwnd7vs&m=MniUTWpciAOKLKdPou30LtohIL3H3tccYwBTt6Q-J5nKMl5u1gqsIfsDwM7K00rM&s=Gr0h8ofs52D0DCPT0V13d0MToOBQuhcAZtLYvlc-i8o&e= ) by Bonaparte\n",
    "    3. [Selfish](https://urldefense.proofpoint.com/v2/url?u=https-3A__www.youtube.com_watch-3Fv-3DiSSKDIcpdSE-26ab-5Fchannel-3DLittleSimz&d=DwIG-g&c=sJ6xIWYx-zLMB3EPkvcnVg&r=j33FmCzQa_fMTjJjVi3fivqT_V2RxWCiDo_mLwnd7vs&m=MniUTWpciAOKLKdPou30LtohIL3H3tccYwBTt6Q-J5nKMl5u1gqsIfsDwM7K00rM&s=dsnVaIds7HC0ssju64X6sEgw3GT4Bx68Dzttu0J9njw&e= ) by Little Simz feat. Cloe Sol\n",
    "    \n",
    "## Nirjal's favorites\n",
    "\n",
    "- Movies:\n",
    "    1. Conjuring\n",
    "    2. Fast & Furious\n",
    "    3. Bhool Bhoolaiya\n",
    "\n",
    "- Music:\n",
    "    1. [Coldplay](https://urldefense.proofpoint.com/v2/url?u=https-3A__www.youtube.com_watch-3Fv-3D0YGhFUmYuVY-29-255Cn&d=DwIG-g&c=sJ6xIWYx-zLMB3EPkvcnVg&r=j33FmCzQa_fMTjJjVi3fivqT_V2RxWCiDo_mLwnd7vs&m=MniUTWpciAOKLKdPou30LtohIL3H3tccYwBTt6Q-J5nKMl5u1gqsIfsDwM7K00rM&s=qr8J4NoVd1004iO6v8I12Tf1xD-2VDWuhQJTy8Hmy9w&e= ",
    "    2. [Nepathya](https://urldefense.proofpoint.com/v2/url?u=https-3A__www.youtube.com_watch-3Fv-3Ds1KMbSGo5Us-29-255Cn&d=DwIG-g&c=sJ6xIWYx-zLMB3EPkvcnVg&r=j33FmCzQa_fMTjJjVi3fivqT_V2RxWCiDo_mLwnd7vs&m=MniUTWpciAOKLKdPou30LtohIL3H3tccYwBTt6Q-J5nKMl5u1gqsIfsDwM7K00rM&s=j8sQE3BQUusjjTq4qdFX7Fauo8uQu2QCM8D9gJoNA58&e= "
   ]
  },
  {
   "cell_type": "markdown",
   "metadata": {
    "id": "Z7WdwmzMkcdO"
   },
   "source": [
    "# Exercise 2: Riches to Even More Riches\n",
    "\n",
    "John Galt is seeking brilliant \"people of the mind\" to join him in his secret isolated valley known as Galt's Gulch. John seeks to identify prospective people by looking at their current salaries stored inside of a dictionary structure, where each key represents the employee's last name and the value is salary. Galt sets the minimum salary threshold for an invitation at 20245. Determine the names of the brilliant \"people of the mind\" that John should invite to his valley.\n",
    "\n",
    "Sample of the input data looks like so:\n",
    "\n",
    "```python\n",
    "{'Doe': 14550, 'Vic': 9100, 'Jedi': 30025}\n",
    "```"
   ]
  },
  {
   "cell_type": "code",
   "execution_count": 7,
   "metadata": {
    "ExecuteTime": {
     "end_time": "2022-05-31T19:57:48.084991Z",
     "start_time": "2022-05-31T19:57:48.036958Z"
    },
    "id": "cSGgzPwIkjdw"
   },
   "outputs": [
    {
     "data": {
      "text/plain": [
       "['Jedi']"
      ]
     },
     "execution_count": 7,
     "metadata": {},
     "output_type": "execute_result"
    }
   ],
   "source": [
    "# code here\n",
    "employees = {'Doe': 14550, 'Vic': 9100, 'Jedi': 30025}\n",
    "\n",
    "def above_threshold(x):\n",
    "    attendees = []\n",
    "    for item in x.keys():\n",
    "        if x[item] >= 20245:\n",
    "            attendees.append(item)\n",
    "    return attendees\n",
    "\n",
    "above_threshold(employees)"
   ]
  },
  {
   "cell_type": "markdown",
   "metadata": {
    "id": "7pPhbUmmj3wo"
   },
   "source": [
    "# Exercise 3: It is not titles that honour people, but people that honour titles...\n",
    "\n",
    "Uh-oh, the list of professors sent over for the convocation ceremony is missing the professor title! Use an iteration structure to prepend the `Professor` title before the name. \n",
    "\n",
    "Consider the sample list of professor names:\n",
    "\n",
    "```python\n",
    "['Culpepper', 'Simpson', 'Chen']\n",
    "```\n",
    "\n",
    "Please augment it by prepending the title:\n",
    "\n",
    "```python\n",
    "['Professor Culpepper', 'Professor Simpson', 'Professor Chen']\n",
    "```\n",
    "\n",
    "Avoid appending a title in the presence of whitespaces masquerading as meaningful strings (e.g. avoid creating `\"Professor  \"`)! \n",
    "For example, we might have a list like: \n",
    "\n",
    "```python\n",
    "['Yigit', ' ', '', 'Zhang']\n",
    "```\n",
    "\n",
    "We would only return: \n",
    "\n",
    "```python\n",
    "['Professor Yigit', 'Professor Zhang']\n",
    "```\n"
   ]
  },
  {
   "cell_type": "code",
   "execution_count": 25,
   "metadata": {
    "ExecuteTime": {
     "end_time": "2022-05-31T20:07:45.877003Z",
     "start_time": "2022-05-31T20:07:45.837270Z"
    },
    "id": "sbxpCgVpkRxb"
   },
   "outputs": [
    {
     "data": {
      "text/plain": [
       "['Professor Yigit', 'Professor Zhang']"
      ]
     },
     "execution_count": 25,
     "metadata": {},
     "output_type": "execute_result"
    }
   ],
   "source": [
    "names = ['Yigit', ' ', '', 'Zhang']\n",
    "\n",
    "# code here\n",
    "def prepend_string(x):\n",
    "    return [\"Professor \" + name \n",
    "            for name in x \n",
    "            if (name.isspace() == False) & (len(name) > 0)]\n",
    "\n",
    "prepend_string(names)"
   ]
  },
  {
   "cell_type": "markdown",
   "metadata": {
    "id": "FjZ1LPLliKa9"
   },
   "source": [
    "# Exercise 4: Fizz, Buzz, or FizzBuzz\n",
    "\n",
    "The idea behind this exercise is to introduce you to a common interview problem\n",
    "posed to programmers. The question was devised to filter out programming\n",
    "candidates who have difficulty with foundamental computing theory. \n",
    "As a testament to how popular this question is, there are _many_ solutions \n",
    "available on the web. In fact, one solution to this problem was even done with by [training a dense neural network with TensorFlow](https://urldefense.proofpoint.com/v2/url?u=https-3A__joelgrus.com_2016_05_23_fizz-2Dbuzz-2Din-2Dtensorflow_&d=DwIG-g&c=sJ6xIWYx-zLMB3EPkvcnVg&r=j33FmCzQa_fMTjJjVi3fivqT_V2RxWCiDo_mLwnd7vs&m=MniUTWpciAOKLKdPou30LtohIL3H3tccYwBTt6Q-J5nKMl5u1gqsIfsDwM7K00rM&s=FgiDxean2RaINV0PnlUyKZaLb_H0PTBny8iqpDLHXA0&e= ). Having said this, you should _avoid_ looking at them and\n",
    "instead work on the problem yourself. \n",
    "\n",
    "**Job Prompt:**\n",
    "\n",
    "> Write a program that saves the numbers from 1 to n. or multiples of \n",
    "> three save \"Fizz\" instead of the number and for the multiples of four save \n",
    "> \"Buzz\". For numbers which are multiples of both three and four save\n",
    "> \"FizzBuzz\". Otherwise, just save the number.\n",
    "\n",
    "Recall that modulus operator (`%`) can be used to check if \n",
    "`x` is divisible by `y` under the condition that $$0 \\equiv x \\;(\\bmod\\; y)$$ \n",
    "\n",
    "Some examples:"
   ]
  },
  {
   "cell_type": "code",
   "execution_count": null,
   "metadata": {
    "colab": {
     "base_uri": "https://urldefense.proofpoint.com/v2/url?u=https-3A__localhost-3A8080_&d=DwIG-g&c=sJ6xIWYx-zLMB3EPkvcnVg&r=j33FmCzQa_fMTjJjVi3fivqT_V2RxWCiDo_mLwnd7vs&m=MniUTWpciAOKLKdPou30LtohIL3H3tccYwBTt6Q-J5nKMl5u1gqsIfsDwM7K00rM&s=nRUwMYrP7ILLC4jP6fcXw3smXyYwPMn32RDpkeGZrOw&e= "
    },
    "id": "LYoS9_makXZG",
    "outputId": "212a82fd-b6ed-4bbe-b4a2-15b6c462235a"
   },
   "outputs": [
    {
     "name": "stdout",
     "output_type": "stream",
     "text": [
      "5\n",
      "False\n",
      "0\n",
      "True\n"
     ]
    }
   ],
   "source": [
    "print(5 % 10)       # Perform modular arithmetic\n",
    "print(5 % 10 == 0)  # Check if divisible\n",
    "\n",
    "print(20 % 10)      # Perform modular arithmetic\n",
    "print(20 % 10 == 0) # Check if divisible"
   ]
  },
  {
   "cell_type": "markdown",
   "metadata": {
    "id": "A0n3RjTmiykK"
   },
   "source": [
    "## a : Planning Cases\n",
    " \n",
    "List each of the different cases and note if there is\n",
    "any overlap between the logical conditions.\n",
    "\n",
    "_Hint_: There are _four_ cases (including the `else`). The order\n",
    "of the cases is important!"
   ]
  },
  {
   "cell_type": "markdown",
   "metadata": {
    "id": "kuTqdqnNkP60"
   },
   "source": [
    "1. divisible by 3 and 4 i.e. 12\n",
    "2. divisible by 3\n",
    "3. divisible by 4\n",
    "4. not divisible by 3 and not divisible by 4"
   ]
  },
  {
   "cell_type": "markdown",
   "metadata": {
    "id": "Q69neu6Ui8jS"
   },
   "source": [
    "## b: Implementing Cases\n",
    " \n",
    "Translate these cases into an `if-elif-else` structure within the `fizzbuzz(n)` function. \n",
    "\n",
    "Implementation Guidelines:\n",
    "\n",
    "- **Arguments:**\n",
    "    - `n`: The amount of numbers to check.\n",
    "- **Return:**\n",
    "    - A list containing elements:\n",
    "      - A number \n",
    "      - \"Fizz\" for multiples of 3\n",
    "      - \"Buzz\" for multiples of 4\n",
    "      - \"FizzBuzz\" for multiples of 3 and 4\n",
    "\n",
    "_Hint:_ Empty lists in Python can be created using `my_list = [None]*num_of_elements`."
   ]
  },
  {
   "cell_type": "code",
   "execution_count": 29,
   "metadata": {
    "ExecuteTime": {
     "end_time": "2022-05-31T20:13:59.255750Z",
     "start_time": "2022-05-31T20:13:59.226736Z"
    },
    "colab": {
     "base_uri": "https://urldefense.proofpoint.com/v2/url?u=https-3A__localhost-3A8080_&d=DwIG-g&c=sJ6xIWYx-zLMB3EPkvcnVg&r=j33FmCzQa_fMTjJjVi3fivqT_V2RxWCiDo_mLwnd7vs&m=MniUTWpciAOKLKdPou30LtohIL3H3tccYwBTt6Q-J5nKMl5u1gqsIfsDwM7K00rM&s=nRUwMYrP7ILLC4jP6fcXw3smXyYwPMn32RDpkeGZrOw&e= "
    },
    "id": "UZIdZUEYAzh3",
    "outputId": "e0690ff9-29c8-4e3e-aa9a-a0252aa54a8f"
   },
   "outputs": [
    {
     "data": {
      "text/plain": [
       "[1,\n",
       " 2,\n",
       " 'Fizz',\n",
       " 'Buzz',\n",
       " 5,\n",
       " 'Fizz',\n",
       " 7,\n",
       " 'Buzz',\n",
       " 'Fizz',\n",
       " 10,\n",
       " 11,\n",
       " 'FizzBuzz',\n",
       " 13,\n",
       " 14,\n",
       " 'Fizz',\n",
       " 'Buzz',\n",
       " 17,\n",
       " 'Fizz',\n",
       " 19,\n",
       " 'Buzz']"
      ]
     },
     "execution_count": 29,
     "metadata": {},
     "output_type": "execute_result"
    }
   ],
   "source": [
    "# code here\n",
    "def fizzbuzz(n):\n",
    "    fb = []\n",
    "    for i in range(1,n+1):\n",
    "        if i%12 == 0:\n",
    "            fb.append(\"FizzBuzz\")\n",
    "        elif i%3 == 0:\n",
    "            fb.append(\"Fizz\")\n",
    "        elif i%4 == 0:\n",
    "            fb.append(\"Buzz\")\n",
    "        else:\n",
    "            fb.append(i)\n",
    "    return fb\n",
    "\n",
    "fizzbuzz(20)"
   ]
  },
  {
   "cell_type": "markdown",
   "metadata": {
    "id": "PWV-Wk7Yk6HA"
   },
   "source": [
    "# Exercise 5: Closing the gap in a...\n",
    "\n",
    "Consider the following sequence of numbers: \n",
    "\n",
    "$$\\sum_{k = 0}^{\\infty} \\frac{1}{a^k} = 1 + \\frac{1}{a} + \\frac{1}{a^2} + \\frac{1}{a^3} + \\frac{1}{a^4} + \\cdots + \\frac{1}{a^k} $$\n",
    "\n",
    "Determine the number of iterations such that including an additional term increases the sum by less than an epsilon, $\\varepsilon$ set to the default value of $1\\times 10^{-6}$, e.g. `1e-6`. \n",
    "\n",
    "In particular, we're interested in understanding when the difference between $\\frac{1}{a^i}$ and $\\frac{1}{a^{i+1}}$ is negligible on the overall sequence summation. That is, we wish to stop adding terms if: \n",
    "\n",
    "$$\\left| \\frac{1}{a^{i+1}} - \\frac{1}{a^i} \\right| < \\varepsilon$$\n",
    "\n",
    "_Hint:_ The `abs()` in Python will help in comparing successive terms within an iteration structure.\n"
   ]
  },
  {
   "cell_type": "code",
   "execution_count": 39,
   "metadata": {
    "ExecuteTime": {
     "end_time": "2022-05-31T20:20:54.181913Z",
     "start_time": "2022-05-31T20:20:54.135657Z"
    },
    "id": "ik5w0QC7lCTg"
   },
   "outputs": [
    {
     "name": "stdout",
     "output_type": "stream",
     "text": [
      "0.9\n",
      "0.09000000000000001\n",
      "0.009000000000000001\n",
      "0.0009\n",
      "9e-05\n",
      "9e-06\n",
      "Number of iterations: 6\n"
     ]
    },
    {
     "data": {
      "text/plain": [
       "-9e-06"
      ]
     },
     "execution_count": 39,
     "metadata": {},
     "output_type": "execute_result"
    }
   ],
   "source": [
    "def epsilon_small(a, eps = 1e-6):\n",
    "    k = 0\n",
    "    sum = 1\n",
    "    while abs( a**(-k-1) - a**(-k) ) >= eps:\n",
    "        print(abs(a**(-k-1) - a**(-k)))\n",
    "        sum = sum + a**(-k-1)\n",
    "        k = k + 1\n",
    "    return print(\"Number of iterations: \" + str(k))\n",
    "\n",
    "epsilon_small(10)"
   ]
  },
  {
   "cell_type": "markdown",
   "metadata": {
    "id": "NuBbeunWXeLc"
   },
   "source": [
    "# Exercise 6: Splitting the Bill\n",
    "\n",
    "Develop a function that displays an itemized bill and provides the total a given person must pay.\n",
    "\n",
    "Consider the following bill:\n",
    "\n",
    "- James\n",
    "  - Cold Brew: \\$4.63\n",
    "  - [Beef Bulgogi](https://urldefense.proofpoint.com/v2/url?u=https-3A__en.wikipedia.org_wiki_Bulgogi&d=DwIG-g&c=sJ6xIWYx-zLMB3EPkvcnVg&r=j33FmCzQa_fMTjJjVi3fivqT_V2RxWCiDo_mLwnd7vs&m=MniUTWpciAOKLKdPou30LtohIL3H3tccYwBTt6Q-J5nKMl5u1gqsIfsDwM7K00rM&s=FiwoPsaO7x9wpKxdte2mq0YGlmFgTmKyAdANze24Dhg&e= ): \\$12.32\n",
    "- Brianna\n",
    "  - Tea: \\$2.55\n",
    "  - Muffin: \\$1.88\n",
    "  - [Poke bowl](https://urldefense.proofpoint.com/v2/url?u=https-3A__en.wikipedia.org_wiki_Poke-5F-28Hawaiian-5Fdish-29&d=DwIG-g&c=sJ6xIWYx-zLMB3EPkvcnVg&r=j33FmCzQa_fMTjJjVi3fivqT_V2RxWCiDo_mLwnd7vs&m=MniUTWpciAOKLKdPou30LtohIL3H3tccYwBTt6Q-J5nKMl5u1gqsIfsDwM7K00rM&s=951n07oxU6Lr0-SR2n3NgIMqlB9kQ-e_YAyqBUjX_Uw&e= ): \\$10.69\n",
    "- Cathy\n",
    "  - [Margarita](https://urldefense.proofpoint.com/v2/url?u=https-3A__en.wikipedia.org_wiki_Margarita&d=DwIG-g&c=sJ6xIWYx-zLMB3EPkvcnVg&r=j33FmCzQa_fMTjJjVi3fivqT_V2RxWCiDo_mLwnd7vs&m=MniUTWpciAOKLKdPou30LtohIL3H3tccYwBTt6Q-J5nKMl5u1gqsIfsDwM7K00rM&s=o_zXY5N38J6kSwCT8dC-NR1i6Vz0Z8BeWph7cOTNMFE&e= ): \\$8.50\n",
    "\n",
    "Implementation Guidelines:\n",
    "\n",
    "- **Arguments:**\n",
    "    - `x`: data structure holding the above example.\n",
    "    - `first_name`: Obtain the total a given person owes.\n",
    "- **Side-effect:**\n",
    "    - Print an itemized version of the bill by person.\n",
    "- **Return:**\n",
    "    - The total value of all items ordered by requested person.\n",
    "\n",
    "Example of output:\n",
    "\n",
    "```python\n",
    "my_portion = bill_split(x, \"James\")\n",
    "# Itemized Bill ----\n",
    "# James pays $16.95\n",
    "# * 4.63 for Cold Brew\n",
    "# * 12.32 for Beef Bulgogi\n",
    "# Brianna pays $15.12\n",
    "# * 2.55 for Tea\n",
    "# * 1.88 for Muffin\n",
    "# * 10.69 for Poke Bowl\n",
    "# Cathy pays $8.50\n",
    "# * 8.50 for Margarita\n",
    "my_portion\n",
    "# [1] 16.95\n",
    "```\n",
    "\n"
   ]
  },
  {
   "cell_type": "code",
   "execution_count": 51,
   "metadata": {
    "ExecuteTime": {
     "end_time": "2022-05-31T20:31:28.699716Z",
     "start_time": "2022-05-31T20:31:28.658119Z"
    },
    "colab": {
     "base_uri": "https://urldefense.proofpoint.com/v2/url?u=https-3A__localhost-3A8080_&d=DwIG-g&c=sJ6xIWYx-zLMB3EPkvcnVg&r=j33FmCzQa_fMTjJjVi3fivqT_V2RxWCiDo_mLwnd7vs&m=MniUTWpciAOKLKdPou30LtohIL3H3tccYwBTt6Q-J5nKMl5u1gqsIfsDwM7K00rM&s=nRUwMYrP7ILLC4jP6fcXw3smXyYwPMn32RDpkeGZrOw&e= "
    },
    "id": "VZFy-Xn_CBIZ",
    "outputId": "1f4d6db7-cd37-4b7b-fcb2-dbaca7b25d48"
   },
   "outputs": [
    {
     "name": "stdout",
     "output_type": "stream",
     "text": [
      "16.95\n",
      "Price per person:\n",
      "James: 16.95\n",
      "Brianna: 15.12\n",
      "Cathy: 8.5\n"
     ]
    }
   ],
   "source": [
    "# Create a nested list of lists. \n",
    "# Another option would be a list of dictionaries.\n",
    "bill = [\n",
    "  ['James',['Cold Brew','Beef Bulgogi'],[4.63, 12.32]],\n",
    "  ['Brianna',['Tea','Muffin','Poke Bowl'],[2.55,1.88,10.69]],\n",
    "  ['Cathy', ['Margarita'], [8.50]]\n",
    "]\n",
    "\n",
    "# Use ':.2f' to ensure numbers are printed to 2 decimals, so 8.5 -> 8.50\n",
    "def bill_split(x, first_name):  \n",
    "    cost = 0\n",
    "    for i in range(0,len(bill)):\n",
    "        if bill[i][0] == first_name:\n",
    "            cost = sum(bill[i][2])\n",
    "    return cost\n",
    "  \n",
    "print(bill_split(bill, 'James'))\n",
    "\n",
    "def bill_per_person(x):\n",
    "    print(\"Price per person:\")\n",
    "    for i in range(0,len(bill)):\n",
    "        print(bill[i][0] + \": \" + str(sum(bill[i][2])))\n",
    "    return None\n",
    "bill_per_person(bill)"
   ]
  }
 ],
 "metadata": {
  "colab": {
   "collapsed_sections": [],
   "name": "IMSI - Group Work Exercises Day 1.ipynb",
   "provenance": [],
   "toc_visible": true
  },
  "kernelspec": {
   "display_name": "Python 3 (ipykernel)",
   "language": "python",
   "name": "python3"
  },
  "language_info": {
   "codemirror_mode": {
    "name": "ipython",
    "version": 3
   },
   "file_extension": ".py",
   "mimetype": "text/x-python",
   "name": "python",
   "nbconvert_exporter": "python",
   "pygments_lexer": "ipython3",
   "version": "3.10.4"
  }
 },
 "nbformat": 4,
 "nbformat_minor": 1
}
