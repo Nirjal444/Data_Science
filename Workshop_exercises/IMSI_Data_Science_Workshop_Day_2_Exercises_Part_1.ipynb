{
 "cells": [
  {
   "cell_type": "code",
   "execution_count": 180,
   "metadata": {
    "ExecuteTime": {
     "end_time": "2022-06-03T02:35:35.271383Z",
     "start_time": "2022-06-03T02:35:35.258234Z"
    }
   },
   "outputs": [],
   "source": [
    "import pandas as pd\n",
    "import numpy as np\n",
    "from io import StringIO"
   ]
  },
  {
   "cell_type": "markdown",
   "metadata": {
    "ExecuteTime": {
     "end_time": "2022-06-03T02:35:36.060700Z",
     "start_time": "2022-06-03T02:35:36.025388Z"
    },
    "id": "bUdebDeNXQe6"
   },
   "source": [
    "##  Exercise 1: I _vant_ to manually read your data\n",
    "\n",
    "Consider the following [Fall 2019 Freshman profile](http://dmi.illinois.edu/stuenr/abstracts/FA19freshman_ten.htm) made available by the [Division of Management Information (DMI)](http://dmi.illinois.edu).\n",
    "\n",
    "|College               | Number| Percent|\n",
    "|:---------------------|------:|-------:|\n",
    "|Agr, Cons, Env Sci    |    538|   0.070|\n",
    "|Applied Health Sci    |    287|   0.037|\n",
    "|Business              |    591|   0.077|\n",
    "|Education             |    138|   0.018|\n",
    "|Fine & Applied Arts   |    381|   0.050|\n",
    "|General Studies       |   1498|   0.195|\n",
    "|Grainger Engineering  |   1628|   0.212|\n",
    "|Liberal Arts & Sci    |   2411|   0.315|\n",
    "|Media                 |    142|   0.019|\n",
    "|School of Social Work |     51|   0.007|\n"
   ]
  },
  {
   "cell_type": "markdown",
   "metadata": {
    "id": "aSddWtq55qnZ"
   },
   "source": [
    "### a\n",
    "\n",
    "Translate the table from `markdown` to a pandas `DataFrame`\n"
   ]
  },
  {
   "cell_type": "code",
   "execution_count": 186,
   "metadata": {
    "ExecuteTime": {
     "end_time": "2022-06-03T02:44:58.162186Z",
     "start_time": "2022-06-03T02:44:58.133481Z"
    }
   },
   "outputs": [
    {
     "data": {
      "text/html": [
       "<div>\n",
       "<style scoped>\n",
       "    .dataframe tbody tr th:only-of-type {\n",
       "        vertical-align: middle;\n",
       "    }\n",
       "\n",
       "    .dataframe tbody tr th {\n",
       "        vertical-align: top;\n",
       "    }\n",
       "\n",
       "    .dataframe thead th {\n",
       "        text-align: right;\n",
       "    }\n",
       "</style>\n",
       "<table border=\"1\" class=\"dataframe\">\n",
       "  <thead>\n",
       "    <tr style=\"text-align: right;\">\n",
       "      <th></th>\n",
       "      <th>College</th>\n",
       "      <th>Number</th>\n",
       "      <th>Percent</th>\n",
       "    </tr>\n",
       "  </thead>\n",
       "  <tbody>\n",
       "    <tr>\n",
       "      <th>0</th>\n",
       "      <td>Agr, Cons, Env Sci</td>\n",
       "      <td>538</td>\n",
       "      <td>0.070</td>\n",
       "    </tr>\n",
       "    <tr>\n",
       "      <th>1</th>\n",
       "      <td>Applied Health Sci</td>\n",
       "      <td>287</td>\n",
       "      <td>0.037</td>\n",
       "    </tr>\n",
       "    <tr>\n",
       "      <th>2</th>\n",
       "      <td>Business</td>\n",
       "      <td>591</td>\n",
       "      <td>0.077</td>\n",
       "    </tr>\n",
       "    <tr>\n",
       "      <th>3</th>\n",
       "      <td>Education</td>\n",
       "      <td>138</td>\n",
       "      <td>0.018</td>\n",
       "    </tr>\n",
       "    <tr>\n",
       "      <th>4</th>\n",
       "      <td>Fine &amp; Applied Arts</td>\n",
       "      <td>381</td>\n",
       "      <td>0.050</td>\n",
       "    </tr>\n",
       "    <tr>\n",
       "      <th>5</th>\n",
       "      <td>General Studies</td>\n",
       "      <td>1498</td>\n",
       "      <td>0.195</td>\n",
       "    </tr>\n",
       "    <tr>\n",
       "      <th>6</th>\n",
       "      <td>Grainger Engineering</td>\n",
       "      <td>1628</td>\n",
       "      <td>0.212</td>\n",
       "    </tr>\n",
       "    <tr>\n",
       "      <th>7</th>\n",
       "      <td>Liberal Arts and Science</td>\n",
       "      <td>2411</td>\n",
       "      <td>0.315</td>\n",
       "    </tr>\n",
       "    <tr>\n",
       "      <th>8</th>\n",
       "      <td>Media</td>\n",
       "      <td>142</td>\n",
       "      <td>0.019</td>\n",
       "    </tr>\n",
       "    <tr>\n",
       "      <th>9</th>\n",
       "      <td>School of Social Work</td>\n",
       "      <td>51</td>\n",
       "      <td>0.007</td>\n",
       "    </tr>\n",
       "  </tbody>\n",
       "</table>\n",
       "</div>"
      ],
      "text/plain": [
       "                    College  Number  Percent\n",
       "0        Agr, Cons, Env Sci     538    0.070\n",
       "1        Applied Health Sci     287    0.037\n",
       "2                  Business     591    0.077\n",
       "3                 Education     138    0.018\n",
       "4       Fine & Applied Arts     381    0.050\n",
       "5           General Studies    1498    0.195\n",
       "6      Grainger Engineering    1628    0.212\n",
       "7  Liberal Arts and Science    2411    0.315\n",
       "8                     Media     142    0.019\n",
       "9     School of Social Work      51    0.007"
      ]
     },
     "execution_count": 186,
     "metadata": {},
     "output_type": "execute_result"
    }
   ],
   "source": [
    "import pandas as pd\n",
    "\n",
    "college = pd.Series([\n",
    "    'Agr, Cons, Env Sci', 'Applied Health Sci', 'Business', 'Education', 'Fine & Applied Arts', 'General Studies', \n",
    "    'Grainger Engineering', 'Liberal Arts and Science', 'Media', 'School of Social Work'\n",
    "])\n",
    "\n",
    "numbers = pd.Series([538, 287, 591, 138, 381, 1498, 1628, 2411, 142, 51])\n",
    "percent = pd.Series([0.070, 0.037,0.077,0.018,0.050,0.195,0.212,0.315,0.019,0.007])\n",
    "\n",
    "freshman_df = pd.DataFrame({\n",
    "    'College': college,\n",
    "    'Number': number,\n",
    "    'Percent': percent\n",
    "})\n",
    "\n",
    "freshman_df\n"
   ]
  },
  {
   "cell_type": "markdown",
   "metadata": {
    "id": "tbIUbPmY5mdc"
   },
   "source": [
    "### b\n",
    "\n",
    "Programatically, find the name of the college that has the maximum number of students enrolled and display its enrollment."
   ]
  },
  {
   "cell_type": "code",
   "execution_count": 191,
   "metadata": {
    "ExecuteTime": {
     "end_time": "2022-06-03T02:51:23.102578Z",
     "start_time": "2022-06-03T02:51:23.091172Z"
    }
   },
   "outputs": [
    {
     "data": {
      "text/html": [
       "<div>\n",
       "<style scoped>\n",
       "    .dataframe tbody tr th:only-of-type {\n",
       "        vertical-align: middle;\n",
       "    }\n",
       "\n",
       "    .dataframe tbody tr th {\n",
       "        vertical-align: top;\n",
       "    }\n",
       "\n",
       "    .dataframe thead th {\n",
       "        text-align: right;\n",
       "    }\n",
       "</style>\n",
       "<table border=\"1\" class=\"dataframe\">\n",
       "  <thead>\n",
       "    <tr style=\"text-align: right;\">\n",
       "      <th></th>\n",
       "      <th>College</th>\n",
       "      <th>Number</th>\n",
       "      <th>Percent</th>\n",
       "    </tr>\n",
       "  </thead>\n",
       "  <tbody>\n",
       "    <tr>\n",
       "      <th>7</th>\n",
       "      <td>Liberal Arts and Science</td>\n",
       "      <td>2411</td>\n",
       "      <td>0.315</td>\n",
       "    </tr>\n",
       "  </tbody>\n",
       "</table>\n",
       "</div>"
      ],
      "text/plain": [
       "                    College  Number  Percent\n",
       "7  Liberal Arts and Science    2411    0.315"
      ]
     },
     "execution_count": 191,
     "metadata": {},
     "output_type": "execute_result"
    }
   ],
   "source": [
    "freshman_df[freshman_df.Number == freshman_df.Number.max()]"
   ]
  },
  {
   "cell_type": "markdown",
   "metadata": {
    "id": "3g2k_E9MUpUe"
   },
   "source": [
    "## Exercise 2: Yummy Ramen\n",
    "\n",
    "For this exercise, we'll be working with a cleaned version of the [Ramen Ratings dataset](https://www.kaggle.com/datasets/residentmario/ramen-ratings). Inside the data set, we have 5 variables:\n",
    "\n",
    "- `'Brand'`: the brand of the ramen product.\n",
    "- `'Variety'`: the product’s name on its label.\n",
    "- `'Style'`: packaging style (cup, bowl, tray, etc.)\n",
    "- `'Country'`: country or dependent territory the product was produced in.\n",
    "- `'Stars'`: the rating of the product on a 5-point scale.\n",
    "\n",
    "This dataset is available at: \n",
    "\n",
    "<https://coatless.github.io/raw-data/ramen-ratings-cleaned.csv>\n",
    "\n",
    "\n",
    "Load the Ramen Ratings dataset into a _Python_ variable called `ramen` using `pandas` library."
   ]
  },
  {
   "cell_type": "code",
   "execution_count": 197,
   "metadata": {
    "ExecuteTime": {
     "end_time": "2022-06-03T02:56:09.427675Z",
     "start_time": "2022-06-03T02:56:09.139171Z"
    }
   },
   "outputs": [
    {
     "data": {
      "text/html": [
       "<div>\n",
       "<style scoped>\n",
       "    .dataframe tbody tr th:only-of-type {\n",
       "        vertical-align: middle;\n",
       "    }\n",
       "\n",
       "    .dataframe tbody tr th {\n",
       "        vertical-align: top;\n",
       "    }\n",
       "\n",
       "    .dataframe thead th {\n",
       "        text-align: right;\n",
       "    }\n",
       "</style>\n",
       "<table border=\"1\" class=\"dataframe\">\n",
       "  <thead>\n",
       "    <tr style=\"text-align: right;\">\n",
       "      <th></th>\n",
       "      <th>Brand</th>\n",
       "      <th>Variety</th>\n",
       "      <th>Style</th>\n",
       "      <th>Country</th>\n",
       "      <th>Stars</th>\n",
       "    </tr>\n",
       "  </thead>\n",
       "  <tbody>\n",
       "    <tr>\n",
       "      <th>0</th>\n",
       "      <td>New Touch</td>\n",
       "      <td>T's Restaurant Tantanmen</td>\n",
       "      <td>Cup</td>\n",
       "      <td>Japan</td>\n",
       "      <td>3.75</td>\n",
       "    </tr>\n",
       "    <tr>\n",
       "      <th>1</th>\n",
       "      <td>Just Way</td>\n",
       "      <td>Noodles Spicy Hot Sesame Spicy Hot Sesame Guan...</td>\n",
       "      <td>Pack</td>\n",
       "      <td>Taiwan</td>\n",
       "      <td>1.00</td>\n",
       "    </tr>\n",
       "    <tr>\n",
       "      <th>2</th>\n",
       "      <td>Nissin</td>\n",
       "      <td>Cup Noodles Chicken Vegetable</td>\n",
       "      <td>Cup</td>\n",
       "      <td>USA</td>\n",
       "      <td>2.25</td>\n",
       "    </tr>\n",
       "    <tr>\n",
       "      <th>3</th>\n",
       "      <td>Wei Lih</td>\n",
       "      <td>GGE Ramen Snack Tomato Flavor</td>\n",
       "      <td>Pack</td>\n",
       "      <td>Taiwan</td>\n",
       "      <td>2.75</td>\n",
       "    </tr>\n",
       "    <tr>\n",
       "      <th>4</th>\n",
       "      <td>Ching's Secret</td>\n",
       "      <td>Singapore Curry</td>\n",
       "      <td>Pack</td>\n",
       "      <td>India</td>\n",
       "      <td>3.75</td>\n",
       "    </tr>\n",
       "    <tr>\n",
       "      <th>5</th>\n",
       "      <td>Samyang Foods</td>\n",
       "      <td>Kimchi song Song Ramen</td>\n",
       "      <td>Pack</td>\n",
       "      <td>South Korea</td>\n",
       "      <td>4.75</td>\n",
       "    </tr>\n",
       "    <tr>\n",
       "      <th>6</th>\n",
       "      <td>Acecook</td>\n",
       "      <td>Spice Deli Tantan Men With Cilantro</td>\n",
       "      <td>Cup</td>\n",
       "      <td>Japan</td>\n",
       "      <td>4.00</td>\n",
       "    </tr>\n",
       "    <tr>\n",
       "      <th>7</th>\n",
       "      <td>Ikeda Shoku</td>\n",
       "      <td>Nabeyaki Kitsune Udon</td>\n",
       "      <td>Tray</td>\n",
       "      <td>Japan</td>\n",
       "      <td>3.75</td>\n",
       "    </tr>\n",
       "    <tr>\n",
       "      <th>8</th>\n",
       "      <td>Ripe'n'Dry</td>\n",
       "      <td>Hokkaido Soy Sauce Ramen</td>\n",
       "      <td>Pack</td>\n",
       "      <td>Japan</td>\n",
       "      <td>0.25</td>\n",
       "    </tr>\n",
       "    <tr>\n",
       "      <th>9</th>\n",
       "      <td>KOKA</td>\n",
       "      <td>The Original Spicy Stir-Fried Noodles</td>\n",
       "      <td>Pack</td>\n",
       "      <td>Singapore</td>\n",
       "      <td>2.50</td>\n",
       "    </tr>\n",
       "    <tr>\n",
       "      <th>10</th>\n",
       "      <td>Tao Kae Noi</td>\n",
       "      <td>Creamy tom Yum Kung Flavour</td>\n",
       "      <td>Pack</td>\n",
       "      <td>Thailand</td>\n",
       "      <td>5.00</td>\n",
       "    </tr>\n",
       "    <tr>\n",
       "      <th>11</th>\n",
       "      <td>Yamachan</td>\n",
       "      <td>Yokohama Tonkotsu Shoyu</td>\n",
       "      <td>Pack</td>\n",
       "      <td>USA</td>\n",
       "      <td>5.00</td>\n",
       "    </tr>\n",
       "    <tr>\n",
       "      <th>12</th>\n",
       "      <td>Nongshim</td>\n",
       "      <td>Mr. Bibim Stir-Fried Kimchi Flavor</td>\n",
       "      <td>Pack</td>\n",
       "      <td>South Korea</td>\n",
       "      <td>4.25</td>\n",
       "    </tr>\n",
       "    <tr>\n",
       "      <th>13</th>\n",
       "      <td>Nissin</td>\n",
       "      <td>Deka Buto Kimchi Pork Flavor</td>\n",
       "      <td>Bowl</td>\n",
       "      <td>Japan</td>\n",
       "      <td>4.50</td>\n",
       "    </tr>\n",
       "    <tr>\n",
       "      <th>14</th>\n",
       "      <td>Nissin</td>\n",
       "      <td>Demae Ramen Bar Noodle Aka Tonkotsu Flavour In...</td>\n",
       "      <td>Pack</td>\n",
       "      <td>Hong Kong</td>\n",
       "      <td>5.00</td>\n",
       "    </tr>\n",
       "    <tr>\n",
       "      <th>15</th>\n",
       "      <td>KOKA</td>\n",
       "      <td>Mushroom Flavour Instant Noodles</td>\n",
       "      <td>Cup</td>\n",
       "      <td>Singapore</td>\n",
       "      <td>3.50</td>\n",
       "    </tr>\n",
       "    <tr>\n",
       "      <th>16</th>\n",
       "      <td>TRDP</td>\n",
       "      <td>Mario Masala Noodles</td>\n",
       "      <td>Pack</td>\n",
       "      <td>India</td>\n",
       "      <td>3.75</td>\n",
       "    </tr>\n",
       "    <tr>\n",
       "      <th>17</th>\n",
       "      <td>Yamachan</td>\n",
       "      <td>Tokyo Shoyu Ramen</td>\n",
       "      <td>Pack</td>\n",
       "      <td>USA</td>\n",
       "      <td>5.00</td>\n",
       "    </tr>\n",
       "    <tr>\n",
       "      <th>18</th>\n",
       "      <td>Binh Tay</td>\n",
       "      <td>Mi Hai Cua</td>\n",
       "      <td>Pack</td>\n",
       "      <td>Vietnam</td>\n",
       "      <td>4.00</td>\n",
       "    </tr>\n",
       "    <tr>\n",
       "      <th>19</th>\n",
       "      <td>Paldo</td>\n",
       "      <td>Premium Gomtang</td>\n",
       "      <td>Pack</td>\n",
       "      <td>South Korea</td>\n",
       "      <td>4.00</td>\n",
       "    </tr>\n",
       "    <tr>\n",
       "      <th>20</th>\n",
       "      <td>Nissin</td>\n",
       "      <td>Cup Noodles Laksa Flavour</td>\n",
       "      <td>Cup</td>\n",
       "      <td>Hong Kong</td>\n",
       "      <td>4.25</td>\n",
       "    </tr>\n",
       "    <tr>\n",
       "      <th>21</th>\n",
       "      <td>Jackpot Teriyaki</td>\n",
       "      <td>Beef Ramen</td>\n",
       "      <td>Pack</td>\n",
       "      <td>USA</td>\n",
       "      <td>5.00</td>\n",
       "    </tr>\n",
       "    <tr>\n",
       "      <th>22</th>\n",
       "      <td>KOKA</td>\n",
       "      <td>Creamy Soup With Crushed Noodles Hot &amp; Sour Fi...</td>\n",
       "      <td>Cup</td>\n",
       "      <td>Singapore</td>\n",
       "      <td>5.00</td>\n",
       "    </tr>\n",
       "    <tr>\n",
       "      <th>23</th>\n",
       "      <td>Yamachan</td>\n",
       "      <td>Sapporo Miso Ramen</td>\n",
       "      <td>Pack</td>\n",
       "      <td>USA</td>\n",
       "      <td>4.75</td>\n",
       "    </tr>\n",
       "    <tr>\n",
       "      <th>24</th>\n",
       "      <td>Ching's Secret</td>\n",
       "      <td>Hot Garlic Instant Noodles</td>\n",
       "      <td>Pack</td>\n",
       "      <td>India</td>\n",
       "      <td>4.25</td>\n",
       "    </tr>\n",
       "  </tbody>\n",
       "</table>\n",
       "</div>"
      ],
      "text/plain": [
       "               Brand                                            Variety Style  \\\n",
       "0          New Touch                          T's Restaurant Tantanmen    Cup   \n",
       "1           Just Way  Noodles Spicy Hot Sesame Spicy Hot Sesame Guan...  Pack   \n",
       "2             Nissin                      Cup Noodles Chicken Vegetable   Cup   \n",
       "3            Wei Lih                      GGE Ramen Snack Tomato Flavor  Pack   \n",
       "4     Ching's Secret                                    Singapore Curry  Pack   \n",
       "5      Samyang Foods                             Kimchi song Song Ramen  Pack   \n",
       "6            Acecook                Spice Deli Tantan Men With Cilantro   Cup   \n",
       "7        Ikeda Shoku                              Nabeyaki Kitsune Udon  Tray   \n",
       "8         Ripe'n'Dry                           Hokkaido Soy Sauce Ramen  Pack   \n",
       "9               KOKA              The Original Spicy Stir-Fried Noodles  Pack   \n",
       "10       Tao Kae Noi                        Creamy tom Yum Kung Flavour  Pack   \n",
       "11          Yamachan                            Yokohama Tonkotsu Shoyu  Pack   \n",
       "12          Nongshim                 Mr. Bibim Stir-Fried Kimchi Flavor  Pack   \n",
       "13            Nissin                       Deka Buto Kimchi Pork Flavor  Bowl   \n",
       "14            Nissin  Demae Ramen Bar Noodle Aka Tonkotsu Flavour In...  Pack   \n",
       "15              KOKA                   Mushroom Flavour Instant Noodles   Cup   \n",
       "16              TRDP                               Mario Masala Noodles  Pack   \n",
       "17          Yamachan                                  Tokyo Shoyu Ramen  Pack   \n",
       "18          Binh Tay                                         Mi Hai Cua  Pack   \n",
       "19             Paldo                                    Premium Gomtang  Pack   \n",
       "20            Nissin                          Cup Noodles Laksa Flavour   Cup   \n",
       "21  Jackpot Teriyaki                                         Beef Ramen  Pack   \n",
       "22              KOKA  Creamy Soup With Crushed Noodles Hot & Sour Fi...   Cup   \n",
       "23          Yamachan                                 Sapporo Miso Ramen  Pack   \n",
       "24    Ching's Secret                         Hot Garlic Instant Noodles  Pack   \n",
       "\n",
       "        Country  Stars  \n",
       "0         Japan   3.75  \n",
       "1        Taiwan   1.00  \n",
       "2           USA   2.25  \n",
       "3        Taiwan   2.75  \n",
       "4         India   3.75  \n",
       "5   South Korea   4.75  \n",
       "6         Japan   4.00  \n",
       "7         Japan   3.75  \n",
       "8         Japan   0.25  \n",
       "9     Singapore   2.50  \n",
       "10     Thailand   5.00  \n",
       "11          USA   5.00  \n",
       "12  South Korea   4.25  \n",
       "13        Japan   4.50  \n",
       "14    Hong Kong   5.00  \n",
       "15    Singapore   3.50  \n",
       "16        India   3.75  \n",
       "17          USA   5.00  \n",
       "18      Vietnam   4.00  \n",
       "19  South Korea   4.00  \n",
       "20    Hong Kong   4.25  \n",
       "21          USA   5.00  \n",
       "22    Singapore   5.00  \n",
       "23          USA   4.75  \n",
       "24        India   4.25  "
      ]
     },
     "execution_count": 197,
     "metadata": {},
     "output_type": "execute_result"
    }
   ],
   "source": [
    "import pandas as pd\n",
    "\n",
    "ramen = pd.read_csv('https://coatless.github.io/raw-data/ramen-ratings-cleaned.csv')\n",
    "\n",
    "ramen.head(25)\n",
    "\n",
    "#ramen.info()\n",
    "\n",
    "#ramen.describe()\n"
   ]
  },
  {
   "cell_type": "markdown",
   "metadata": {
    "id": "wX_eAIcMUpUh"
   },
   "source": [
    "### a\n",
    "\n",
    "Filter only the observations where the ramen is made in Japan and in Cup, OR the ramen is made in Thailand and in Pack."
   ]
  },
  {
   "cell_type": "code",
   "execution_count": 200,
   "metadata": {
    "ExecuteTime": {
     "end_time": "2022-06-03T02:59:18.695493Z",
     "start_time": "2022-06-03T02:59:18.669505Z"
    }
   },
   "outputs": [
    {
     "data": {
      "text/html": [
       "<div>\n",
       "<style scoped>\n",
       "    .dataframe tbody tr th:only-of-type {\n",
       "        vertical-align: middle;\n",
       "    }\n",
       "\n",
       "    .dataframe tbody tr th {\n",
       "        vertical-align: top;\n",
       "    }\n",
       "\n",
       "    .dataframe thead th {\n",
       "        text-align: right;\n",
       "    }\n",
       "</style>\n",
       "<table border=\"1\" class=\"dataframe\">\n",
       "  <thead>\n",
       "    <tr style=\"text-align: right;\">\n",
       "      <th></th>\n",
       "      <th>Brand</th>\n",
       "      <th>Variety</th>\n",
       "      <th>Style</th>\n",
       "      <th>Country</th>\n",
       "      <th>Stars</th>\n",
       "    </tr>\n",
       "  </thead>\n",
       "  <tbody>\n",
       "    <tr>\n",
       "      <th>0</th>\n",
       "      <td>New Touch</td>\n",
       "      <td>T's Restaurant Tantanmen</td>\n",
       "      <td>Cup</td>\n",
       "      <td>Japan</td>\n",
       "      <td>3.75</td>\n",
       "    </tr>\n",
       "    <tr>\n",
       "      <th>6</th>\n",
       "      <td>Acecook</td>\n",
       "      <td>Spice Deli Tantan Men With Cilantro</td>\n",
       "      <td>Cup</td>\n",
       "      <td>Japan</td>\n",
       "      <td>4.00</td>\n",
       "    </tr>\n",
       "    <tr>\n",
       "      <th>10</th>\n",
       "      <td>Tao Kae Noi</td>\n",
       "      <td>Creamy tom Yum Kung Flavour</td>\n",
       "      <td>Pack</td>\n",
       "      <td>Thailand</td>\n",
       "      <td>5.00</td>\n",
       "    </tr>\n",
       "    <tr>\n",
       "      <th>111</th>\n",
       "      <td>Acecook</td>\n",
       "      <td>Dossari Yasai Chanpon</td>\n",
       "      <td>Cup</td>\n",
       "      <td>Japan</td>\n",
       "      <td>4.25</td>\n",
       "    </tr>\n",
       "    <tr>\n",
       "      <th>145</th>\n",
       "      <td>Nissin</td>\n",
       "      <td>Cup Noodles Indonesia Mie Goreng</td>\n",
       "      <td>Cup</td>\n",
       "      <td>Japan</td>\n",
       "      <td>3.75</td>\n",
       "    </tr>\n",
       "    <tr>\n",
       "      <th>...</th>\n",
       "      <td>...</td>\n",
       "      <td>...</td>\n",
       "      <td>...</td>\n",
       "      <td>...</td>\n",
       "      <td>...</td>\n",
       "    </tr>\n",
       "    <tr>\n",
       "      <th>2490</th>\n",
       "      <td>Wai Wai</td>\n",
       "      <td>Tom Yum Shrimp Cream Soup</td>\n",
       "      <td>Pack</td>\n",
       "      <td>Thailand</td>\n",
       "      <td>2.75</td>\n",
       "    </tr>\n",
       "    <tr>\n",
       "      <th>2542</th>\n",
       "      <td>Mama</td>\n",
       "      <td>Chand Clear Soup</td>\n",
       "      <td>Pack</td>\n",
       "      <td>Thailand</td>\n",
       "      <td>3.00</td>\n",
       "    </tr>\n",
       "    <tr>\n",
       "      <th>2573</th>\n",
       "      <td>Wai Wai</td>\n",
       "      <td>Oriental Style Instant Noodles</td>\n",
       "      <td>Pack</td>\n",
       "      <td>Thailand</td>\n",
       "      <td>1.00</td>\n",
       "    </tr>\n",
       "    <tr>\n",
       "      <th>2574</th>\n",
       "      <td>Wai Wai</td>\n",
       "      <td>Tom Yum Shrimp</td>\n",
       "      <td>Pack</td>\n",
       "      <td>Thailand</td>\n",
       "      <td>2.00</td>\n",
       "    </tr>\n",
       "    <tr>\n",
       "      <th>2575</th>\n",
       "      <td>Wai Wai</td>\n",
       "      <td>Tom Yum Chili Flavor</td>\n",
       "      <td>Pack</td>\n",
       "      <td>Thailand</td>\n",
       "      <td>2.00</td>\n",
       "    </tr>\n",
       "  </tbody>\n",
       "</table>\n",
       "<p>146 rows × 5 columns</p>\n",
       "</div>"
      ],
      "text/plain": [
       "            Brand                              Variety Style   Country  Stars\n",
       "0       New Touch            T's Restaurant Tantanmen    Cup     Japan   3.75\n",
       "6         Acecook  Spice Deli Tantan Men With Cilantro   Cup     Japan   4.00\n",
       "10    Tao Kae Noi          Creamy tom Yum Kung Flavour  Pack  Thailand   5.00\n",
       "111       Acecook                Dossari Yasai Chanpon   Cup     Japan   4.25\n",
       "145        Nissin     Cup Noodles Indonesia Mie Goreng   Cup     Japan   3.75\n",
       "...           ...                                  ...   ...       ...    ...\n",
       "2490      Wai Wai            Tom Yum Shrimp Cream Soup  Pack  Thailand   2.75\n",
       "2542         Mama                     Chand Clear Soup  Pack  Thailand   3.00\n",
       "2573      Wai Wai       Oriental Style Instant Noodles  Pack  Thailand   1.00\n",
       "2574      Wai Wai                       Tom Yum Shrimp  Pack  Thailand   2.00\n",
       "2575      Wai Wai                 Tom Yum Chili Flavor  Pack  Thailand   2.00\n",
       "\n",
       "[146 rows x 5 columns]"
      ]
     },
     "execution_count": 200,
     "metadata": {},
     "output_type": "execute_result"
    }
   ],
   "source": [
    "ramen[(ramen['Country'].str.match('Japan')) & (ramen['Style'].str.match('Cup')) | \n",
    "      ramen['Country'].str.match('Thailand') & ramen['Style'].str.match('Pack')]\n",
    "\n",
    "#ramen[( (ramen[\"Country\"] == \"Japan\") & (ramen[\"Style\"] == \"Cup\") ) |\n",
    "  #    (ramen[\"Country\"] == \"Thailand\") & (ramen[\"Style\"] == \"Pack\") ]"
   ]
  },
  {
   "cell_type": "markdown",
   "metadata": {
    "id": "JYN-HGJEUpUi"
   },
   "source": [
    "### b\n",
    "\n",
    "Filter only the observations where the ramen had **at least 4 stars** and it is made in `USA` or `United States`."
   ]
  },
  {
   "cell_type": "code",
   "execution_count": 203,
   "metadata": {
    "ExecuteTime": {
     "end_time": "2022-06-03T03:02:31.782345Z",
     "start_time": "2022-06-03T03:02:31.764954Z"
    }
   },
   "outputs": [
    {
     "data": {
      "text/html": [
       "<div>\n",
       "<style scoped>\n",
       "    .dataframe tbody tr th:only-of-type {\n",
       "        vertical-align: middle;\n",
       "    }\n",
       "\n",
       "    .dataframe tbody tr th {\n",
       "        vertical-align: top;\n",
       "    }\n",
       "\n",
       "    .dataframe thead th {\n",
       "        text-align: right;\n",
       "    }\n",
       "</style>\n",
       "<table border=\"1\" class=\"dataframe\">\n",
       "  <thead>\n",
       "    <tr style=\"text-align: right;\">\n",
       "      <th></th>\n",
       "      <th>Brand</th>\n",
       "      <th>Variety</th>\n",
       "      <th>Style</th>\n",
       "      <th>Country</th>\n",
       "      <th>Stars</th>\n",
       "    </tr>\n",
       "  </thead>\n",
       "  <tbody>\n",
       "    <tr>\n",
       "      <th>11</th>\n",
       "      <td>Yamachan</td>\n",
       "      <td>Yokohama Tonkotsu Shoyu</td>\n",
       "      <td>Pack</td>\n",
       "      <td>USA</td>\n",
       "      <td>5.00</td>\n",
       "    </tr>\n",
       "    <tr>\n",
       "      <th>17</th>\n",
       "      <td>Yamachan</td>\n",
       "      <td>Tokyo Shoyu Ramen</td>\n",
       "      <td>Pack</td>\n",
       "      <td>USA</td>\n",
       "      <td>5.00</td>\n",
       "    </tr>\n",
       "    <tr>\n",
       "      <th>21</th>\n",
       "      <td>Jackpot Teriyaki</td>\n",
       "      <td>Beef Ramen</td>\n",
       "      <td>Pack</td>\n",
       "      <td>USA</td>\n",
       "      <td>5.00</td>\n",
       "    </tr>\n",
       "    <tr>\n",
       "      <th>23</th>\n",
       "      <td>Yamachan</td>\n",
       "      <td>Sapporo Miso Ramen</td>\n",
       "      <td>Pack</td>\n",
       "      <td>USA</td>\n",
       "      <td>4.75</td>\n",
       "    </tr>\n",
       "    <tr>\n",
       "      <th>38</th>\n",
       "      <td>Nissin</td>\n",
       "      <td>Cup Noodles Very Veggie Spicy Chicken Flavor R...</td>\n",
       "      <td>Cup</td>\n",
       "      <td>USA</td>\n",
       "      <td>5.00</td>\n",
       "    </tr>\n",
       "    <tr>\n",
       "      <th>...</th>\n",
       "      <td>...</td>\n",
       "      <td>...</td>\n",
       "      <td>...</td>\n",
       "      <td>...</td>\n",
       "      <td>...</td>\n",
       "    </tr>\n",
       "    <tr>\n",
       "      <th>2372</th>\n",
       "      <td>Sapporo Ichiban</td>\n",
       "      <td>Beef Flavor</td>\n",
       "      <td>Pack</td>\n",
       "      <td>USA</td>\n",
       "      <td>4.50</td>\n",
       "    </tr>\n",
       "    <tr>\n",
       "      <th>2377</th>\n",
       "      <td>Nongshim</td>\n",
       "      <td>Bowl Noodle Spicy Chicken</td>\n",
       "      <td>Bowl</td>\n",
       "      <td>USA</td>\n",
       "      <td>4.50</td>\n",
       "    </tr>\n",
       "    <tr>\n",
       "      <th>2435</th>\n",
       "      <td>Nissin</td>\n",
       "      <td>Chow Mein Teriyaki Beef</td>\n",
       "      <td>Tray</td>\n",
       "      <td>USA</td>\n",
       "      <td>4.50</td>\n",
       "    </tr>\n",
       "    <tr>\n",
       "      <th>2511</th>\n",
       "      <td>Maruchan</td>\n",
       "      <td>Ramen Noodle Soup Pork</td>\n",
       "      <td>Pack</td>\n",
       "      <td>USA</td>\n",
       "      <td>4.00</td>\n",
       "    </tr>\n",
       "    <tr>\n",
       "      <th>2554</th>\n",
       "      <td>Nissin</td>\n",
       "      <td>Top Ramen Creamy Chicken</td>\n",
       "      <td>Pack</td>\n",
       "      <td>USA</td>\n",
       "      <td>4.50</td>\n",
       "    </tr>\n",
       "  </tbody>\n",
       "</table>\n",
       "<p>117 rows × 5 columns</p>\n",
       "</div>"
      ],
      "text/plain": [
       "                 Brand                                            Variety  \\\n",
       "11            Yamachan                            Yokohama Tonkotsu Shoyu   \n",
       "17            Yamachan                                  Tokyo Shoyu Ramen   \n",
       "21    Jackpot Teriyaki                                         Beef Ramen   \n",
       "23            Yamachan                                 Sapporo Miso Ramen   \n",
       "38              Nissin  Cup Noodles Very Veggie Spicy Chicken Flavor R...   \n",
       "...                ...                                                ...   \n",
       "2372   Sapporo Ichiban                                        Beef Flavor   \n",
       "2377          Nongshim                          Bowl Noodle Spicy Chicken   \n",
       "2435            Nissin                            Chow Mein Teriyaki Beef   \n",
       "2511          Maruchan                             Ramen Noodle Soup Pork   \n",
       "2554            Nissin                           Top Ramen Creamy Chicken   \n",
       "\n",
       "     Style Country  Stars  \n",
       "11    Pack     USA   5.00  \n",
       "17    Pack     USA   5.00  \n",
       "21    Pack     USA   5.00  \n",
       "23    Pack     USA   4.75  \n",
       "38     Cup     USA   5.00  \n",
       "...    ...     ...    ...  \n",
       "2372  Pack     USA   4.50  \n",
       "2377  Bowl     USA   4.50  \n",
       "2435  Tray     USA   4.50  \n",
       "2511  Pack     USA   4.00  \n",
       "2554  Pack     USA   4.50  \n",
       "\n",
       "[117 rows x 5 columns]"
      ]
     },
     "execution_count": 203,
     "metadata": {},
     "output_type": "execute_result"
    }
   ],
   "source": [
    "ramen[(ramen['Stars'] >= 4) & \n",
    "      ( (ramen[\"Country\"] == \"USA\") | (ramen.Country == 'United States'))]"
   ]
  },
  {
   "cell_type": "markdown",
   "metadata": {
    "id": "90DEObJdUpUj"
   },
   "source": [
    "### c\n",
    "\n",
    "Filter only the `Brand` and `Variety` attributes (columns) of the observations where the ramen had at least 4 stars and it is made in `Vietnam`."
   ]
  },
  {
   "cell_type": "code",
   "execution_count": 216,
   "metadata": {
    "ExecuteTime": {
     "end_time": "2022-06-03T03:10:57.426460Z",
     "start_time": "2022-06-03T03:10:57.402553Z"
    }
   },
   "outputs": [
    {
     "data": {
      "text/html": [
       "<div>\n",
       "<style scoped>\n",
       "    .dataframe tbody tr th:only-of-type {\n",
       "        vertical-align: middle;\n",
       "    }\n",
       "\n",
       "    .dataframe tbody tr th {\n",
       "        vertical-align: top;\n",
       "    }\n",
       "\n",
       "    .dataframe thead th {\n",
       "        text-align: right;\n",
       "    }\n",
       "</style>\n",
       "<table border=\"1\" class=\"dataframe\">\n",
       "  <thead>\n",
       "    <tr style=\"text-align: right;\">\n",
       "      <th></th>\n",
       "      <th>Brand</th>\n",
       "      <th>Variety</th>\n",
       "      <th>Style</th>\n",
       "      <th>Country</th>\n",
       "      <th>Stars</th>\n",
       "    </tr>\n",
       "  </thead>\n",
       "  <tbody>\n",
       "    <tr>\n",
       "      <th>18</th>\n",
       "      <td>Binh Tay</td>\n",
       "      <td>Mi Hai Cua</td>\n",
       "      <td>Pack</td>\n",
       "      <td>Vietnam</td>\n",
       "      <td>4.00</td>\n",
       "    </tr>\n",
       "    <tr>\n",
       "      <th>224</th>\n",
       "      <td>Vifon</td>\n",
       "      <td>Viet Cuisine Bun Rieu Cua Sour Crab Soup Insta...</td>\n",
       "      <td>Bowl</td>\n",
       "      <td>Vietnam</td>\n",
       "      <td>5.00</td>\n",
       "    </tr>\n",
       "    <tr>\n",
       "      <th>365</th>\n",
       "      <td>Acecook</td>\n",
       "      <td>Oh! Ricey Pork Flavour</td>\n",
       "      <td>Pack</td>\n",
       "      <td>Vietnam</td>\n",
       "      <td>4.00</td>\n",
       "    </tr>\n",
       "    <tr>\n",
       "      <th>915</th>\n",
       "      <td>Vina Acecook</td>\n",
       "      <td>King Chef Authentic Kimchi Flavour</td>\n",
       "      <td>Pack</td>\n",
       "      <td>Vietnam</td>\n",
       "      <td>4.00</td>\n",
       "    </tr>\n",
       "    <tr>\n",
       "      <th>932</th>\n",
       "      <td>New Way</td>\n",
       "      <td>Spaghetti Instant Noodles</td>\n",
       "      <td>Tray</td>\n",
       "      <td>Vietnam</td>\n",
       "      <td>4.00</td>\n",
       "    </tr>\n",
       "    <tr>\n",
       "      <th>1722</th>\n",
       "      <td>Vina Acecook</td>\n",
       "      <td>Bestcook Hot &amp; Sour Shrimp</td>\n",
       "      <td>Bowl</td>\n",
       "      <td>Vietnam</td>\n",
       "      <td>4.25</td>\n",
       "    </tr>\n",
       "    <tr>\n",
       "      <th>1988</th>\n",
       "      <td>Vifon</td>\n",
       "      <td>South Korean Style Kim Chee</td>\n",
       "      <td>Bowl</td>\n",
       "      <td>Vietnam</td>\n",
       "      <td>4.25</td>\n",
       "    </tr>\n",
       "    <tr>\n",
       "      <th>2130</th>\n",
       "      <td>Ve Wong</td>\n",
       "      <td>Little Prince Bacon</td>\n",
       "      <td>Pack</td>\n",
       "      <td>Vietnam</td>\n",
       "      <td>4.75</td>\n",
       "    </tr>\n",
       "    <tr>\n",
       "      <th>2155</th>\n",
       "      <td>Vifon</td>\n",
       "      <td>Mi Lau Thai Thai Stle</td>\n",
       "      <td>Bowl</td>\n",
       "      <td>Vietnam</td>\n",
       "      <td>4.00</td>\n",
       "    </tr>\n",
       "    <tr>\n",
       "      <th>2181</th>\n",
       "      <td>Vina Acecook</td>\n",
       "      <td>Bestcook Hot spicy Tom Yum Shrimp</td>\n",
       "      <td>Bowl</td>\n",
       "      <td>Vietnam</td>\n",
       "      <td>4.25</td>\n",
       "    </tr>\n",
       "    <tr>\n",
       "      <th>2196</th>\n",
       "      <td>Saigon Ve Wong</td>\n",
       "      <td>Kung Fu Artificial Beef Rice Noodle</td>\n",
       "      <td>Pack</td>\n",
       "      <td>Vietnam</td>\n",
       "      <td>4.25</td>\n",
       "    </tr>\n",
       "    <tr>\n",
       "      <th>2215</th>\n",
       "      <td>Vina Acecook</td>\n",
       "      <td>Daily Hot &amp; Sour With Shrimp</td>\n",
       "      <td>Pack</td>\n",
       "      <td>Vietnam</td>\n",
       "      <td>4.50</td>\n",
       "    </tr>\n",
       "    <tr>\n",
       "      <th>2300</th>\n",
       "      <td>Vina Acecook</td>\n",
       "      <td>Oh! Ricey Beef Rice Noodles</td>\n",
       "      <td>Pack</td>\n",
       "      <td>Vietnam</td>\n",
       "      <td>4.00</td>\n",
       "    </tr>\n",
       "    <tr>\n",
       "      <th>2311</th>\n",
       "      <td>Vina Acecook</td>\n",
       "      <td>Mi Lau Thai Shrimp</td>\n",
       "      <td>Pack</td>\n",
       "      <td>Vietnam</td>\n",
       "      <td>4.00</td>\n",
       "    </tr>\n",
       "    <tr>\n",
       "      <th>2318</th>\n",
       "      <td>Vina Acecook</td>\n",
       "      <td>Mi Lau Thai Seafood</td>\n",
       "      <td>Pack</td>\n",
       "      <td>Vietnam</td>\n",
       "      <td>4.00</td>\n",
       "    </tr>\n",
       "    <tr>\n",
       "      <th>2323</th>\n",
       "      <td>Vina Acecook</td>\n",
       "      <td>Daily Hot &amp; Spicy Tom Yun</td>\n",
       "      <td>Pack</td>\n",
       "      <td>Vietnam</td>\n",
       "      <td>4.00</td>\n",
       "    </tr>\n",
       "  </tbody>\n",
       "</table>\n",
       "</div>"
      ],
      "text/plain": [
       "               Brand                                            Variety Style  \\\n",
       "18          Binh Tay                                         Mi Hai Cua  Pack   \n",
       "224            Vifon  Viet Cuisine Bun Rieu Cua Sour Crab Soup Insta...  Bowl   \n",
       "365          Acecook                             Oh! Ricey Pork Flavour  Pack   \n",
       "915     Vina Acecook                 King Chef Authentic Kimchi Flavour  Pack   \n",
       "932          New Way                          Spaghetti Instant Noodles  Tray   \n",
       "1722    Vina Acecook                         Bestcook Hot & Sour Shrimp  Bowl   \n",
       "1988           Vifon                        South Korean Style Kim Chee  Bowl   \n",
       "2130         Ve Wong                                Little Prince Bacon  Pack   \n",
       "2155           Vifon                              Mi Lau Thai Thai Stle  Bowl   \n",
       "2181    Vina Acecook                  Bestcook Hot spicy Tom Yum Shrimp  Bowl   \n",
       "2196  Saigon Ve Wong                Kung Fu Artificial Beef Rice Noodle  Pack   \n",
       "2215    Vina Acecook                       Daily Hot & Sour With Shrimp  Pack   \n",
       "2300    Vina Acecook                        Oh! Ricey Beef Rice Noodles  Pack   \n",
       "2311    Vina Acecook                                 Mi Lau Thai Shrimp  Pack   \n",
       "2318    Vina Acecook                                Mi Lau Thai Seafood  Pack   \n",
       "2323    Vina Acecook                          Daily Hot & Spicy Tom Yun  Pack   \n",
       "\n",
       "      Country  Stars  \n",
       "18    Vietnam   4.00  \n",
       "224   Vietnam   5.00  \n",
       "365   Vietnam   4.00  \n",
       "915   Vietnam   4.00  \n",
       "932   Vietnam   4.00  \n",
       "1722  Vietnam   4.25  \n",
       "1988  Vietnam   4.25  \n",
       "2130  Vietnam   4.75  \n",
       "2155  Vietnam   4.00  \n",
       "2181  Vietnam   4.25  \n",
       "2196  Vietnam   4.25  \n",
       "2215  Vietnam   4.50  \n",
       "2300  Vietnam   4.00  \n",
       "2311  Vietnam   4.00  \n",
       "2318  Vietnam   4.00  \n",
       "2323  Vietnam   4.00  "
      ]
     },
     "metadata": {},
     "output_type": "display_data"
    },
    {
     "data": {
      "text/html": [
       "<div>\n",
       "<style scoped>\n",
       "    .dataframe tbody tr th:only-of-type {\n",
       "        vertical-align: middle;\n",
       "    }\n",
       "\n",
       "    .dataframe tbody tr th {\n",
       "        vertical-align: top;\n",
       "    }\n",
       "\n",
       "    .dataframe thead th {\n",
       "        text-align: right;\n",
       "    }\n",
       "</style>\n",
       "<table border=\"1\" class=\"dataframe\">\n",
       "  <thead>\n",
       "    <tr style=\"text-align: right;\">\n",
       "      <th></th>\n",
       "      <th>Brand</th>\n",
       "      <th>Variety</th>\n",
       "    </tr>\n",
       "  </thead>\n",
       "  <tbody>\n",
       "    <tr>\n",
       "      <th>18</th>\n",
       "      <td>Binh Tay</td>\n",
       "      <td>Mi Hai Cua</td>\n",
       "    </tr>\n",
       "    <tr>\n",
       "      <th>224</th>\n",
       "      <td>Vifon</td>\n",
       "      <td>Viet Cuisine Bun Rieu Cua Sour Crab Soup Insta...</td>\n",
       "    </tr>\n",
       "    <tr>\n",
       "      <th>365</th>\n",
       "      <td>Acecook</td>\n",
       "      <td>Oh! Ricey Pork Flavour</td>\n",
       "    </tr>\n",
       "    <tr>\n",
       "      <th>915</th>\n",
       "      <td>Vina Acecook</td>\n",
       "      <td>King Chef Authentic Kimchi Flavour</td>\n",
       "    </tr>\n",
       "    <tr>\n",
       "      <th>932</th>\n",
       "      <td>New Way</td>\n",
       "      <td>Spaghetti Instant Noodles</td>\n",
       "    </tr>\n",
       "    <tr>\n",
       "      <th>1722</th>\n",
       "      <td>Vina Acecook</td>\n",
       "      <td>Bestcook Hot &amp; Sour Shrimp</td>\n",
       "    </tr>\n",
       "    <tr>\n",
       "      <th>1988</th>\n",
       "      <td>Vifon</td>\n",
       "      <td>South Korean Style Kim Chee</td>\n",
       "    </tr>\n",
       "    <tr>\n",
       "      <th>2130</th>\n",
       "      <td>Ve Wong</td>\n",
       "      <td>Little Prince Bacon</td>\n",
       "    </tr>\n",
       "    <tr>\n",
       "      <th>2155</th>\n",
       "      <td>Vifon</td>\n",
       "      <td>Mi Lau Thai Thai Stle</td>\n",
       "    </tr>\n",
       "    <tr>\n",
       "      <th>2181</th>\n",
       "      <td>Vina Acecook</td>\n",
       "      <td>Bestcook Hot spicy Tom Yum Shrimp</td>\n",
       "    </tr>\n",
       "    <tr>\n",
       "      <th>2196</th>\n",
       "      <td>Saigon Ve Wong</td>\n",
       "      <td>Kung Fu Artificial Beef Rice Noodle</td>\n",
       "    </tr>\n",
       "    <tr>\n",
       "      <th>2215</th>\n",
       "      <td>Vina Acecook</td>\n",
       "      <td>Daily Hot &amp; Sour With Shrimp</td>\n",
       "    </tr>\n",
       "    <tr>\n",
       "      <th>2300</th>\n",
       "      <td>Vina Acecook</td>\n",
       "      <td>Oh! Ricey Beef Rice Noodles</td>\n",
       "    </tr>\n",
       "    <tr>\n",
       "      <th>2311</th>\n",
       "      <td>Vina Acecook</td>\n",
       "      <td>Mi Lau Thai Shrimp</td>\n",
       "    </tr>\n",
       "    <tr>\n",
       "      <th>2318</th>\n",
       "      <td>Vina Acecook</td>\n",
       "      <td>Mi Lau Thai Seafood</td>\n",
       "    </tr>\n",
       "    <tr>\n",
       "      <th>2323</th>\n",
       "      <td>Vina Acecook</td>\n",
       "      <td>Daily Hot &amp; Spicy Tom Yun</td>\n",
       "    </tr>\n",
       "  </tbody>\n",
       "</table>\n",
       "</div>"
      ],
      "text/plain": [
       "               Brand                                            Variety\n",
       "18          Binh Tay                                         Mi Hai Cua\n",
       "224            Vifon  Viet Cuisine Bun Rieu Cua Sour Crab Soup Insta...\n",
       "365          Acecook                             Oh! Ricey Pork Flavour\n",
       "915     Vina Acecook                 King Chef Authentic Kimchi Flavour\n",
       "932          New Way                          Spaghetti Instant Noodles\n",
       "1722    Vina Acecook                         Bestcook Hot & Sour Shrimp\n",
       "1988           Vifon                        South Korean Style Kim Chee\n",
       "2130         Ve Wong                                Little Prince Bacon\n",
       "2155           Vifon                              Mi Lau Thai Thai Stle\n",
       "2181    Vina Acecook                  Bestcook Hot spicy Tom Yum Shrimp\n",
       "2196  Saigon Ve Wong                Kung Fu Artificial Beef Rice Noodle\n",
       "2215    Vina Acecook                       Daily Hot & Sour With Shrimp\n",
       "2300    Vina Acecook                        Oh! Ricey Beef Rice Noodles\n",
       "2311    Vina Acecook                                 Mi Lau Thai Shrimp\n",
       "2318    Vina Acecook                                Mi Lau Thai Seafood\n",
       "2323    Vina Acecook                          Daily Hot & Spicy Tom Yun"
      ]
     },
     "metadata": {},
     "output_type": "display_data"
    }
   ],
   "source": [
    "ramen_c = ramen[(ramen.Stars >= 4) & (ramen.Country == 'Vietnam')]\n",
    "display(ramen_c)\n",
    "ramen_c = ramen_c.iloc[:,0:2]\n",
    "display(ramen_c)\n",
    "#ramen[ (ramen[\"Stars\"] >= 4 ) & (ramen[\"Country\"] == \"Vietnam\") ].loc[:,[\"Brand\", \"Variety\"]]"
   ]
  },
  {
   "cell_type": "markdown",
   "metadata": {
    "id": "LsqGHLsAUpUk"
   },
   "source": [
    "### d\n",
    "\n",
    "Filter only the `Variety` and `Stars` attributes of the observations where the ramen had **at most 2 stars** and the brand is `Nissin`."
   ]
  },
  {
   "cell_type": "code",
   "execution_count": 217,
   "metadata": {
    "ExecuteTime": {
     "end_time": "2022-06-03T03:14:29.709162Z",
     "start_time": "2022-06-03T03:14:29.691500Z"
    }
   },
   "outputs": [
    {
     "data": {
      "text/html": [
       "<div>\n",
       "<style scoped>\n",
       "    .dataframe tbody tr th:only-of-type {\n",
       "        vertical-align: middle;\n",
       "    }\n",
       "\n",
       "    .dataframe tbody tr th {\n",
       "        vertical-align: top;\n",
       "    }\n",
       "\n",
       "    .dataframe thead th {\n",
       "        text-align: right;\n",
       "    }\n",
       "</style>\n",
       "<table border=\"1\" class=\"dataframe\">\n",
       "  <thead>\n",
       "    <tr style=\"text-align: right;\">\n",
       "      <th></th>\n",
       "      <th>Variety</th>\n",
       "      <th>Stars</th>\n",
       "    </tr>\n",
       "  </thead>\n",
       "  <tbody>\n",
       "    <tr>\n",
       "      <th>1334</th>\n",
       "      <td>Demae Rice Vermicelli Chicken Flavour Instant ...</td>\n",
       "      <td>1.75</td>\n",
       "    </tr>\n",
       "    <tr>\n",
       "      <th>2314</th>\n",
       "      <td>Chow Mein Kung Pao Chicken</td>\n",
       "      <td>1.50</td>\n",
       "    </tr>\n",
       "    <tr>\n",
       "      <th>2381</th>\n",
       "      <td>Cup Noodles Pani Puri</td>\n",
       "      <td>1.50</td>\n",
       "    </tr>\n",
       "    <tr>\n",
       "      <th>2394</th>\n",
       "      <td>Bowl Noodles Hot &amp; Spicy Chicken</td>\n",
       "      <td>2.00</td>\n",
       "    </tr>\n",
       "    <tr>\n",
       "      <th>2420</th>\n",
       "      <td>Sotanghon</td>\n",
       "      <td>2.00</td>\n",
       "    </tr>\n",
       "    <tr>\n",
       "      <th>2423</th>\n",
       "      <td>Creamy Chicken</td>\n",
       "      <td>1.75</td>\n",
       "    </tr>\n",
       "    <tr>\n",
       "      <th>2440</th>\n",
       "      <td>Bowl Noodles Rich &amp; Savory Chicken</td>\n",
       "      <td>1.75</td>\n",
       "    </tr>\n",
       "    <tr>\n",
       "      <th>2494</th>\n",
       "      <td>Demae Ramen Spicy Flavor</td>\n",
       "      <td>2.00</td>\n",
       "    </tr>\n",
       "    <tr>\n",
       "      <th>2553</th>\n",
       "      <td>Demae Ramen Spicy Seafood With Chili Pepper</td>\n",
       "      <td>2.00</td>\n",
       "    </tr>\n",
       "  </tbody>\n",
       "</table>\n",
       "</div>"
      ],
      "text/plain": [
       "                                                Variety  Stars\n",
       "1334  Demae Rice Vermicelli Chicken Flavour Instant ...   1.75\n",
       "2314                         Chow Mein Kung Pao Chicken   1.50\n",
       "2381                              Cup Noodles Pani Puri   1.50\n",
       "2394                   Bowl Noodles Hot & Spicy Chicken   2.00\n",
       "2420                                          Sotanghon   2.00\n",
       "2423                                     Creamy Chicken   1.75\n",
       "2440                 Bowl Noodles Rich & Savory Chicken   1.75\n",
       "2494                           Demae Ramen Spicy Flavor   2.00\n",
       "2553        Demae Ramen Spicy Seafood With Chili Pepper   2.00"
      ]
     },
     "execution_count": 217,
     "metadata": {},
     "output_type": "execute_result"
    }
   ],
   "source": [
    "ramen[(ramen.Stars <= 2) & (ramen.Brand == 'Nissin')].loc[:,[\"Variety\", \"Stars\"]]"
   ]
  },
  {
   "cell_type": "markdown",
   "metadata": {
    "id": "VquSrs6iUpUm"
   },
   "source": [
    "### e\n",
    "\n",
    "Compute the mean stars rating of all ramen made in the US (that is `USA` and `United States`)."
   ]
  },
  {
   "cell_type": "code",
   "execution_count": 226,
   "metadata": {
    "ExecuteTime": {
     "end_time": "2022-06-03T03:19:09.903187Z",
     "start_time": "2022-06-03T03:19:09.892707Z"
    }
   },
   "outputs": [
    {
     "data": {
      "text/plain": [
       "3.4579475308641974"
      ]
     },
     "execution_count": 226,
     "metadata": {},
     "output_type": "execute_result"
    }
   ],
   "source": [
    "ramen[(ramen.Country == 'USA') | (ramen.Country == 'United States')][\"Stars\"].mean()"
   ]
  },
  {
   "cell_type": "markdown",
   "metadata": {
    "id": "opkgFoorUpUm"
   },
   "source": [
    "### f\n",
    "\n",
    "Find the maximum stars rating of a Vifon ramen (of brand Vifon)."
   ]
  },
  {
   "cell_type": "code",
   "execution_count": 227,
   "metadata": {
    "ExecuteTime": {
     "end_time": "2022-06-03T03:20:57.591474Z",
     "start_time": "2022-06-03T03:20:57.581331Z"
    }
   },
   "outputs": [
    {
     "data": {
      "text/plain": [
       "5.0"
      ]
     },
     "execution_count": 227,
     "metadata": {},
     "output_type": "execute_result"
    }
   ],
   "source": [
    "ramen[(ramen.Brand == 'Vifon')][\"Stars\"].max()\n"
   ]
  },
  {
   "cell_type": "markdown",
   "metadata": {
    "id": "ZJyiITRZUpUn"
   },
   "source": [
    "### g\n",
    "\n",
    "\n",
    "Find the observation (meaning the whole row) of the a Nongshim ramen with the lowest stars rating."
   ]
  },
  {
   "cell_type": "code",
   "execution_count": 278,
   "metadata": {
    "ExecuteTime": {
     "end_time": "2022-06-03T03:58:23.083067Z",
     "start_time": "2022-06-03T03:58:23.062885Z"
    }
   },
   "outputs": [
    {
     "data": {
      "text/plain": [
       "[0.5]"
      ]
     },
     "metadata": {},
     "output_type": "display_data"
    },
    {
     "data": {
      "text/html": [
       "<div>\n",
       "<style scoped>\n",
       "    .dataframe tbody tr th:only-of-type {\n",
       "        vertical-align: middle;\n",
       "    }\n",
       "\n",
       "    .dataframe tbody tr th {\n",
       "        vertical-align: top;\n",
       "    }\n",
       "\n",
       "    .dataframe thead th {\n",
       "        text-align: right;\n",
       "    }\n",
       "</style>\n",
       "<table border=\"1\" class=\"dataframe\">\n",
       "  <thead>\n",
       "    <tr style=\"text-align: right;\">\n",
       "      <th></th>\n",
       "      <th>Brand</th>\n",
       "      <th>Variety</th>\n",
       "      <th>Style</th>\n",
       "      <th>Country</th>\n",
       "      <th>Stars</th>\n",
       "    </tr>\n",
       "  </thead>\n",
       "  <tbody>\n",
       "    <tr>\n",
       "      <th>196</th>\n",
       "      <td>Nongshim</td>\n",
       "      <td>Seaweed Instant Noodle</td>\n",
       "      <td>Cup</td>\n",
       "      <td>South Korea</td>\n",
       "      <td>0.5</td>\n",
       "    </tr>\n",
       "  </tbody>\n",
       "</table>\n",
       "</div>"
      ],
      "text/plain": [
       "        Brand                 Variety Style      Country  Stars\n",
       "196  Nongshim  Seaweed Instant Noodle   Cup  South Korea    0.5"
      ]
     },
     "execution_count": 278,
     "metadata": {},
     "output_type": "execute_result"
    }
   ],
   "source": [
    "##First I find out what is the minimum Stars in the dataframe and display it\n",
    "display([ramen[(ramen.Brand == 'Nongshim')]['Stars'].min()])\n",
    "\n",
    "##Then I used the value of min as condition to get the rows\n",
    "ramen[(ramen.Brand == 'Nongshim') & (ramen['Stars']==0.5)]\n",
    "\n",
    "#ramen[ (ramen[\"Brand\"]== \"Nongshim\") & (ramen[\"Stars\"] == ramen[ramen[\"Brand\"]==\"Nongshim\"][\"Stars\"].min() ) ]"
   ]
  },
  {
   "cell_type": "markdown",
   "metadata": {
    "id": "7Ot8qvctUpUn"
   },
   "source": [
    "### h\n",
    "\n",
    "Identify and display the observation (meaning the whole row) of the Vifon ramen that has stars rating of 5.0 given in **(f)**."
   ]
  },
  {
   "cell_type": "code",
   "execution_count": 279,
   "metadata": {
    "ExecuteTime": {
     "end_time": "2022-06-03T03:59:15.298577Z",
     "start_time": "2022-06-03T03:59:15.283973Z"
    }
   },
   "outputs": [
    {
     "data": {
      "text/html": [
       "<div>\n",
       "<style scoped>\n",
       "    .dataframe tbody tr th:only-of-type {\n",
       "        vertical-align: middle;\n",
       "    }\n",
       "\n",
       "    .dataframe tbody tr th {\n",
       "        vertical-align: top;\n",
       "    }\n",
       "\n",
       "    .dataframe thead th {\n",
       "        text-align: right;\n",
       "    }\n",
       "</style>\n",
       "<table border=\"1\" class=\"dataframe\">\n",
       "  <thead>\n",
       "    <tr style=\"text-align: right;\">\n",
       "      <th></th>\n",
       "      <th>Brand</th>\n",
       "      <th>Variety</th>\n",
       "      <th>Style</th>\n",
       "      <th>Country</th>\n",
       "      <th>Stars</th>\n",
       "    </tr>\n",
       "  </thead>\n",
       "  <tbody>\n",
       "    <tr>\n",
       "      <th>224</th>\n",
       "      <td>Vifon</td>\n",
       "      <td>Viet Cuisine Bun Rieu Cua Sour Crab Soup Insta...</td>\n",
       "      <td>Bowl</td>\n",
       "      <td>Vietnam</td>\n",
       "      <td>5.0</td>\n",
       "    </tr>\n",
       "  </tbody>\n",
       "</table>\n",
       "</div>"
      ],
      "text/plain": [
       "     Brand                                            Variety Style  Country  \\\n",
       "224  Vifon  Viet Cuisine Bun Rieu Cua Sour Crab Soup Insta...  Bowl  Vietnam   \n",
       "\n",
       "     Stars  \n",
       "224    5.0  "
      ]
     },
     "execution_count": 279,
     "metadata": {},
     "output_type": "execute_result"
    }
   ],
   "source": [
    "ramen[(ramen.Brand == 'Vifon') & (ramen.Stars == 5.0)]\n"
   ]
  },
  {
   "cell_type": "markdown",
   "metadata": {
    "id": "FkiQAikMUpUo"
   },
   "source": [
    "### i\n",
    "\n",
    "Compute the average rating of all **beef-flavored** ramen in the US. That is,\n",
    "\n",
    "- Find all the ramen observation produced in the US (only 'USA') with the word **beef** (`beef`, `Beef`, or `BEEF` must all be counted) in its label.\n",
    "- Compute the average star rating of those observations."
   ]
  },
  {
   "cell_type": "code",
   "execution_count": 291,
   "metadata": {
    "ExecuteTime": {
     "end_time": "2022-06-03T04:05:47.860923Z",
     "start_time": "2022-06-03T04:05:47.837993Z"
    }
   },
   "outputs": [
    {
     "data": {
      "text/plain": [
       "3.484375"
      ]
     },
     "execution_count": 291,
     "metadata": {},
     "output_type": "execute_result"
    }
   ],
   "source": [
    "ramen[(ramen.Country == 'USA') &\n",
    "     (ramen.Variety.str.contains('Beef') |\n",
    "     ramen.Variety.str.contains('beef') |\n",
    "     ramen.Variety.str.contains('BEEF'))][\"Stars\"].mean()"
   ]
  },
  {
   "cell_type": "markdown",
   "metadata": {
    "id": "F-PY5BIrUpUp"
   },
   "source": [
    "### j\n",
    "\n",
    "Your boss does not think that the reviewers of Ramen really like chicken-flavored ramen as much as other types. So, they want you to adjust the ratings of **chicken-flavored** ramen observations. That is, the ramen label contains the word **chicken** (`chicken`, `Chicken`, or `CHICKEN` must all be counted). If the rating of a chicken-flavored ramen is less than 1, change it to 0. If it is at least 1, lower the rating by 1."
   ]
  },
  {
   "cell_type": "code",
   "execution_count": 326,
   "metadata": {
    "ExecuteTime": {
     "end_time": "2022-06-03T04:43:13.873774Z",
     "start_time": "2022-06-03T04:43:13.843625Z"
    },
    "id": "3n09xSnNUpUp"
   },
   "outputs": [
    {
     "data": {
      "text/html": [
       "<div>\n",
       "<style scoped>\n",
       "    .dataframe tbody tr th:only-of-type {\n",
       "        vertical-align: middle;\n",
       "    }\n",
       "\n",
       "    .dataframe tbody tr th {\n",
       "        vertical-align: top;\n",
       "    }\n",
       "\n",
       "    .dataframe thead th {\n",
       "        text-align: right;\n",
       "    }\n",
       "</style>\n",
       "<table border=\"1\" class=\"dataframe\">\n",
       "  <thead>\n",
       "    <tr style=\"text-align: right;\">\n",
       "      <th></th>\n",
       "      <th>Brand</th>\n",
       "      <th>Variety</th>\n",
       "      <th>Style</th>\n",
       "      <th>Country</th>\n",
       "      <th>Stars</th>\n",
       "    </tr>\n",
       "  </thead>\n",
       "  <tbody>\n",
       "    <tr>\n",
       "      <th>2</th>\n",
       "      <td>Nissin</td>\n",
       "      <td>Cup Noodles Chicken Vegetable</td>\n",
       "      <td>Cup</td>\n",
       "      <td>USA</td>\n",
       "      <td>2.25</td>\n",
       "    </tr>\n",
       "    <tr>\n",
       "      <th>35</th>\n",
       "      <td>Lipton</td>\n",
       "      <td>Cup-A-Soup Chicken Noodle With White Meat Inst...</td>\n",
       "      <td>Box</td>\n",
       "      <td>USA</td>\n",
       "      <td>1.50</td>\n",
       "    </tr>\n",
       "    <tr>\n",
       "      <th>38</th>\n",
       "      <td>Nissin</td>\n",
       "      <td>Cup Noodles Very Veggie Spicy Chicken Flavor R...</td>\n",
       "      <td>Cup</td>\n",
       "      <td>USA</td>\n",
       "      <td>5.00</td>\n",
       "    </tr>\n",
       "    <tr>\n",
       "      <th>44</th>\n",
       "      <td>Nissin</td>\n",
       "      <td>Cup Noodles Very Veggie Chicken Flavor Ramen N...</td>\n",
       "      <td>Cup</td>\n",
       "      <td>USA</td>\n",
       "      <td>5.00</td>\n",
       "    </tr>\n",
       "    <tr>\n",
       "      <th>51</th>\n",
       "      <td>Prima</td>\n",
       "      <td>Juzz's Mee Creamy Chicken Flavour (Export Vers...</td>\n",
       "      <td>Pack</td>\n",
       "      <td>Singapore</td>\n",
       "      <td>5.00</td>\n",
       "    </tr>\n",
       "    <tr>\n",
       "      <th>...</th>\n",
       "      <td>...</td>\n",
       "      <td>...</td>\n",
       "      <td>...</td>\n",
       "      <td>...</td>\n",
       "      <td>...</td>\n",
       "    </tr>\n",
       "    <tr>\n",
       "      <th>2530</th>\n",
       "      <td>Indomie</td>\n",
       "      <td>Mi Goreng Jumbo Barbecue Chicken</td>\n",
       "      <td>Pack</td>\n",
       "      <td>Indonesia</td>\n",
       "      <td>5.00</td>\n",
       "    </tr>\n",
       "    <tr>\n",
       "      <th>2533</th>\n",
       "      <td>Indomie</td>\n",
       "      <td>Special Chicken</td>\n",
       "      <td>Pack</td>\n",
       "      <td>Indonesia</td>\n",
       "      <td>4.25</td>\n",
       "    </tr>\n",
       "    <tr>\n",
       "      <th>2535</th>\n",
       "      <td>Ve Wong</td>\n",
       "      <td>Kung-Fu Chicken Flavor</td>\n",
       "      <td>Pack</td>\n",
       "      <td>Vietnam</td>\n",
       "      <td>2.75</td>\n",
       "    </tr>\n",
       "    <tr>\n",
       "      <th>2554</th>\n",
       "      <td>Nissin</td>\n",
       "      <td>Top Ramen Creamy Chicken</td>\n",
       "      <td>Pack</td>\n",
       "      <td>USA</td>\n",
       "      <td>4.50</td>\n",
       "    </tr>\n",
       "    <tr>\n",
       "      <th>2566</th>\n",
       "      <td>Six Fortune</td>\n",
       "      <td>Chicken Flavor Instant Soup Noodle</td>\n",
       "      <td>Pack</td>\n",
       "      <td>South Korea</td>\n",
       "      <td>2.00</td>\n",
       "    </tr>\n",
       "  </tbody>\n",
       "</table>\n",
       "<p>328 rows × 5 columns</p>\n",
       "</div>"
      ],
      "text/plain": [
       "            Brand                                            Variety Style  \\\n",
       "2          Nissin                      Cup Noodles Chicken Vegetable   Cup   \n",
       "35         Lipton  Cup-A-Soup Chicken Noodle With White Meat Inst...   Box   \n",
       "38         Nissin  Cup Noodles Very Veggie Spicy Chicken Flavor R...   Cup   \n",
       "44         Nissin  Cup Noodles Very Veggie Chicken Flavor Ramen N...   Cup   \n",
       "51          Prima  Juzz's Mee Creamy Chicken Flavour (Export Vers...  Pack   \n",
       "...           ...                                                ...   ...   \n",
       "2530      Indomie                   Mi Goreng Jumbo Barbecue Chicken  Pack   \n",
       "2533      Indomie                                    Special Chicken  Pack   \n",
       "2535      Ve Wong                             Kung-Fu Chicken Flavor  Pack   \n",
       "2554       Nissin                           Top Ramen Creamy Chicken  Pack   \n",
       "2566  Six Fortune                 Chicken Flavor Instant Soup Noodle  Pack   \n",
       "\n",
       "          Country  Stars  \n",
       "2             USA   2.25  \n",
       "35            USA   1.50  \n",
       "38            USA   5.00  \n",
       "44            USA   5.00  \n",
       "51      Singapore   5.00  \n",
       "...           ...    ...  \n",
       "2530    Indonesia   5.00  \n",
       "2533    Indonesia   4.25  \n",
       "2535      Vietnam   2.75  \n",
       "2554          USA   4.50  \n",
       "2566  South Korea   2.00  \n",
       "\n",
       "[328 rows x 5 columns]"
      ]
     },
     "metadata": {},
     "output_type": "display_data"
    },
    {
     "data": {
      "text/plain": [
       "2       1.25\n",
       "35      0.50\n",
       "38      4.00\n",
       "44      4.00\n",
       "51      4.00\n",
       "        ... \n",
       "2530    4.00\n",
       "2533    3.25\n",
       "2535    1.75\n",
       "2554    3.50\n",
       "2566    1.00\n",
       "Name: Stars, Length: 328, dtype: float64"
      ]
     },
     "metadata": {},
     "output_type": "display_data"
    },
    {
     "name": "stdout",
     "output_type": "stream",
     "text": [
      "-1.0\n",
      "2.3945884146341463\n"
     ]
    }
   ],
   "source": [
    "# code here\n",
    "\n",
    "#df[\"column1\"].replace({\"a\": \"x\", \"b\": \"y\"}, inplace=True)\n",
    "ramen_j = ramen[(ramen.Variety.str.contains('chicken')) | \n",
    "      (ramen.Variety.str.contains('CHICKEN')) | \n",
    "      (ramen.Variety.str.contains('Chicken'))]\n",
    "\n",
    "#for star in ramen_j['Stars']:\n",
    "    #if star <= 1:\n",
    "      #  star = 0\n",
    "   # else:\n",
    "       # star -= 1\n",
    "\n",
    "display(ramen_j)\n",
    "#ramen_j1 = ramen_j.loc[ramen_j.Stars <= 1, \"Stars\"] = 0\n",
    "ramen_j2 = ramen_j.loc[ramen_j.Stars > 1, \"Stars\"] = ramen_j.Stars - 1\n",
    "display(ramen_j2)\n",
    "#display(ramen_j.replace({'Stars':{ramen.Stars.values <=1 : 0}}))\n",
    "\n",
    "print(ramen_j2.min())\n",
    "print(ramen_j2.mean())\n"
   ]
  },
  {
   "cell_type": "markdown",
   "metadata": {
    "id": "eTrcXzfMUpUp"
   },
   "source": [
    "### k\n",
    "\n",
    "Set the `Stars` rating of all Nissin ramen in the US to be 0."
   ]
  },
  {
   "cell_type": "code",
   "execution_count": 329,
   "metadata": {
    "ExecuteTime": {
     "end_time": "2022-06-03T04:48:38.284104Z",
     "start_time": "2022-06-03T04:48:38.277149Z"
    },
    "id": "NMsS2emaUpUp"
   },
   "outputs": [],
   "source": [
    "# code here\n",
    "\n",
    "ramen.loc[(ramen.Brand == 'Nissin') & (ramen.Country == 'USA'), 'Stars'] = 0"
   ]
  },
  {
   "cell_type": "code",
   "execution_count": 330,
   "metadata": {
    "ExecuteTime": {
     "end_time": "2022-06-03T04:48:39.639556Z",
     "start_time": "2022-06-03T04:48:39.626361Z"
    },
    "id": "Aba_hlRpUpUq"
   },
   "outputs": [
    {
     "data": {
      "text/plain": [
       "0.0"
      ]
     },
     "execution_count": 330,
     "metadata": {},
     "output_type": "execute_result"
    }
   ],
   "source": [
    "# Verify the data frame was modified by \n",
    "# running this cell to check your answser\n",
    "# Note: the output should be 0\n",
    "ramen[(ramen['Brand'] == 'Nissin') & (ramen['Country'] == 'USA')]['Stars'].sum()"
   ]
  },
  {
   "cell_type": "markdown",
   "metadata": {
    "id": "kTwYhc4yUpUq"
   },
   "source": [
    "### l\n",
    "\n",
    "Remove all the observations of brand Nissin in the US from `ramen`."
   ]
  },
  {
   "cell_type": "code",
   "execution_count": 335,
   "metadata": {
    "ExecuteTime": {
     "end_time": "2022-06-03T04:51:57.379880Z",
     "start_time": "2022-06-03T04:51:57.368730Z"
    },
    "id": "7_OfbKWxUpUq"
   },
   "outputs": [],
   "source": [
    "# code here\n",
    "ramen.drop(ramen[(ramen.Brand == 'Nissin') & (ramen.Country == 'USA')].index, axis = 0, inplace = True)"
   ]
  },
  {
   "cell_type": "code",
   "execution_count": 336,
   "metadata": {
    "ExecuteTime": {
     "end_time": "2022-06-03T04:52:02.775749Z",
     "start_time": "2022-06-03T04:52:02.762009Z"
    },
    "id": "lQeLpZlnUpUq"
   },
   "outputs": [
    {
     "data": {
      "text/html": [
       "<div>\n",
       "<style scoped>\n",
       "    .dataframe tbody tr th:only-of-type {\n",
       "        vertical-align: middle;\n",
       "    }\n",
       "\n",
       "    .dataframe tbody tr th {\n",
       "        vertical-align: top;\n",
       "    }\n",
       "\n",
       "    .dataframe thead th {\n",
       "        text-align: right;\n",
       "    }\n",
       "</style>\n",
       "<table border=\"1\" class=\"dataframe\">\n",
       "  <thead>\n",
       "    <tr style=\"text-align: right;\">\n",
       "      <th></th>\n",
       "      <th>Brand</th>\n",
       "      <th>Variety</th>\n",
       "      <th>Style</th>\n",
       "      <th>Country</th>\n",
       "      <th>Stars</th>\n",
       "    </tr>\n",
       "  </thead>\n",
       "  <tbody>\n",
       "  </tbody>\n",
       "</table>\n",
       "</div>"
      ],
      "text/plain": [
       "Empty DataFrame\n",
       "Columns: [Brand, Variety, Style, Country, Stars]\n",
       "Index: []"
      ]
     },
     "execution_count": 336,
     "metadata": {},
     "output_type": "execute_result"
    }
   ],
   "source": [
    "# Verify the data frame was modified by \n",
    "# running this cell to check your answser\n",
    "# the output should be an empty dataframe\n",
    "ramen[(ramen['Brand'] == 'Nissin') & (ramen['Country'] == 'USA')]"
   ]
  },
  {
   "cell_type": "markdown",
   "metadata": {
    "id": "2XxvUNq9XVuv"
   },
   "source": [
    "# Exercise 3: Excellency at UIUC\n",
    "\n",
    "Under this exercise, we will explore the \"Teachers Ranked As Excellent\" data\n",
    "at UIUC from Fall 1993 to Summer 2020 as compiled by \n",
    "[Wade Fagen-Ulmschneider](http://waf.cs.illinois.edu/).\n",
    "The data is available from:\n",
    "\n",
    "<https://raw.githubusercontent.com/wadefagen/datasets/master/teachers-ranked-as-excellent/uiuc-tre-dataset.csv> \n",
    "\n",
    "This data has a file extension of **CSV** form. Contained in the data are the following variables:\n",
    "\n",
    "- `term`: Two letter semester code (`sp`, `su`, `fa`, or `wi`) followed by a four digit year.\n",
    "    - Examples: `sp2017`, `fa2013`, `su2012`.\n",
    "- `unit`: The CITL-supplied headers for the unit teaching the course.\n",
    "    - Examples: `ACCOUNTANCY`, `SOCIAL WORK`, `LINGUISTICS`, `NUCLEAR, PLASMA & RAD. ENGR.`\n",
    "- `lname`: The last name of the teacher.\n",
    "    - Examples: `FAGEN-ULMSCHNEIDER`, `FLANAGAN`, `FLECK`\n",
    "- `fname`: The first letter of the first name of the teacher.\n",
    "    - Examples: `W`, `K`, `M`\n",
    "- `role`: `Instructor` or `TA`\n",
    "- `ranking`: `Excellent` or `Outstanding`\n",
    "- `course`: The course the teacher was ranked as excellent.  If no course is given, the `course` field is set to `?` (this includes cases when the raw data lists the course as `0`, `000`, or `999`).\n",
    "    - Examples: `199`, `225`, `560`, `?`\n",
    "\n",
    "\n"
   ]
  },
  {
   "cell_type": "markdown",
   "metadata": {
    "id": "DL7mhB4S40Pp"
   },
   "source": [
    "## a \n",
    "\n",
    "Import into _Python_ the data in `uiuc-tre-dataset.csv`. \n",
    "\n",
    "**Note:** As `course` denotes a value that is\n",
    "_not_ `NaN`, which is how _Python_ represents missing values, you must use the parameter \n",
    "`na_values = ['NA','?'] ` during the import with pandas."
   ]
  },
  {
   "cell_type": "code",
   "execution_count": 337,
   "metadata": {
    "ExecuteTime": {
     "end_time": "2022-06-03T04:52:37.973310Z",
     "start_time": "2022-06-03T04:52:35.752149Z"
    },
    "id": "JkH5KWBiLtfT"
   },
   "outputs": [
    {
     "data": {
      "text/html": [
       "<div>\n",
       "<style scoped>\n",
       "    .dataframe tbody tr th:only-of-type {\n",
       "        vertical-align: middle;\n",
       "    }\n",
       "\n",
       "    .dataframe tbody tr th {\n",
       "        vertical-align: top;\n",
       "    }\n",
       "\n",
       "    .dataframe thead th {\n",
       "        text-align: right;\n",
       "    }\n",
       "</style>\n",
       "<table border=\"1\" class=\"dataframe\">\n",
       "  <thead>\n",
       "    <tr style=\"text-align: right;\">\n",
       "      <th></th>\n",
       "      <th>term</th>\n",
       "      <th>unit</th>\n",
       "      <th>lname</th>\n",
       "      <th>fname</th>\n",
       "      <th>role</th>\n",
       "      <th>ranking</th>\n",
       "      <th>course</th>\n",
       "    </tr>\n",
       "  </thead>\n",
       "  <tbody>\n",
       "    <tr>\n",
       "      <th>102595</th>\n",
       "      <td>su2020</td>\n",
       "      <td>VETERINARY MEDICINE</td>\n",
       "      <td>KELLER</td>\n",
       "      <td>K</td>\n",
       "      <td>Instructor</td>\n",
       "      <td>Excellent</td>\n",
       "      <td>613.0</td>\n",
       "    </tr>\n",
       "    <tr>\n",
       "      <th>102596</th>\n",
       "      <td>su2020</td>\n",
       "      <td>VETERINARY MEDICINE</td>\n",
       "      <td>MARSHALL</td>\n",
       "      <td>T</td>\n",
       "      <td>Instructor</td>\n",
       "      <td>Excellent</td>\n",
       "      <td>613.0</td>\n",
       "    </tr>\n",
       "    <tr>\n",
       "      <th>102597</th>\n",
       "      <td>su2020</td>\n",
       "      <td>VETERINARY MEDICINE</td>\n",
       "      <td>PAVLOVSKY</td>\n",
       "      <td>G</td>\n",
       "      <td>Instructor</td>\n",
       "      <td>Excellent</td>\n",
       "      <td>613.0</td>\n",
       "    </tr>\n",
       "    <tr>\n",
       "      <th>102598</th>\n",
       "      <td>su2020</td>\n",
       "      <td>VETERINARY MEDICINE</td>\n",
       "      <td>ROSSER</td>\n",
       "      <td>M</td>\n",
       "      <td>Instructor</td>\n",
       "      <td>Excellent</td>\n",
       "      <td>613.0</td>\n",
       "    </tr>\n",
       "    <tr>\n",
       "      <th>102599</th>\n",
       "      <td>su2020</td>\n",
       "      <td>VETERINARY MEDICINE</td>\n",
       "      <td>SULLIVAN</td>\n",
       "      <td>D</td>\n",
       "      <td>Instructor</td>\n",
       "      <td>Excellent</td>\n",
       "      <td>613.0</td>\n",
       "    </tr>\n",
       "  </tbody>\n",
       "</table>\n",
       "</div>"
      ],
      "text/plain": [
       "          term                 unit      lname fname        role    ranking  \\\n",
       "102595  su2020  VETERINARY MEDICINE     KELLER     K  Instructor  Excellent   \n",
       "102596  su2020  VETERINARY MEDICINE   MARSHALL     T  Instructor  Excellent   \n",
       "102597  su2020  VETERINARY MEDICINE  PAVLOVSKY     G  Instructor  Excellent   \n",
       "102598  su2020  VETERINARY MEDICINE     ROSSER     M  Instructor  Excellent   \n",
       "102599  su2020  VETERINARY MEDICINE   SULLIVAN     D  Instructor  Excellent   \n",
       "\n",
       "        course  \n",
       "102595   613.0  \n",
       "102596   613.0  \n",
       "102597   613.0  \n",
       "102598   613.0  \n",
       "102599   613.0  "
      ]
     },
     "execution_count": 337,
     "metadata": {},
     "output_type": "execute_result"
    }
   ],
   "source": [
    "# code here\n",
    "\n",
    "teacher_ranked = pd.read_csv('https://raw.githubusercontent.com/wadefagen/datasets/master/teachers-ranked-as-excellent/uiuc-tre-dataset.csv', \n",
    "                             na_values = ['NA','?'])\n",
    "\n",
    "teacher_ranked.tail(5)"
   ]
  },
  {
   "cell_type": "markdown",
   "metadata": {
    "id": "RJ9jPs4qH4Xm"
   },
   "source": [
    "## b \n",
    "\n",
    "First, obtain the overarching data frame information. \n",
    "Second, obtain the numerical summary of the data. \n",
    "\n",
    "Given both of the outputs, which variable output is different from the rest? What might have caused this?"
   ]
  },
  {
   "cell_type": "markdown",
   "metadata": {
    "id": "NjhYtKfsH-q5"
   },
   "source": [
    "Data set overview:"
   ]
  },
  {
   "cell_type": "code",
   "execution_count": 160,
   "metadata": {
    "ExecuteTime": {
     "end_time": "2022-06-02T18:49:02.612838Z",
     "start_time": "2022-06-02T18:49:02.469589Z"
    },
    "id": "FwimaMhCH7FJ"
   },
   "outputs": [
    {
     "name": "stdout",
     "output_type": "stream",
     "text": [
      "<class 'pandas.core.frame.DataFrame'>\n",
      "RangeIndex: 102600 entries, 0 to 102599\n",
      "Data columns (total 7 columns):\n",
      " #   Column   Non-Null Count   Dtype  \n",
      "---  ------   --------------   -----  \n",
      " 0   term     102600 non-null  object \n",
      " 1   unit     102600 non-null  object \n",
      " 2   lname    102597 non-null  object \n",
      " 3   fname    102534 non-null  object \n",
      " 4   role     102600 non-null  object \n",
      " 5   ranking  102600 non-null  object \n",
      " 6   course   101578 non-null  float64\n",
      "dtypes: float64(1), object(6)\n",
      "memory usage: 5.5+ MB\n"
     ]
    }
   ],
   "source": [
    "# code here\n",
    "teacher_ranked.info()"
   ]
  },
  {
   "cell_type": "markdown",
   "metadata": {
    "id": "fia4N1G1H9b1"
   },
   "source": [
    "Numerical summary:"
   ]
  },
  {
   "cell_type": "code",
   "execution_count": 161,
   "metadata": {
    "ExecuteTime": {
     "end_time": "2022-06-02T18:49:03.915169Z",
     "start_time": "2022-06-02T18:49:03.892616Z"
    },
    "id": "ty5Rxq2MLiNR"
   },
   "outputs": [
    {
     "data": {
      "text/html": [
       "<div>\n",
       "<style scoped>\n",
       "    .dataframe tbody tr th:only-of-type {\n",
       "        vertical-align: middle;\n",
       "    }\n",
       "\n",
       "    .dataframe tbody tr th {\n",
       "        vertical-align: top;\n",
       "    }\n",
       "\n",
       "    .dataframe thead th {\n",
       "        text-align: right;\n",
       "    }\n",
       "</style>\n",
       "<table border=\"1\" class=\"dataframe\">\n",
       "  <thead>\n",
       "    <tr style=\"text-align: right;\">\n",
       "      <th></th>\n",
       "      <th>course</th>\n",
       "    </tr>\n",
       "  </thead>\n",
       "  <tbody>\n",
       "    <tr>\n",
       "      <th>count</th>\n",
       "      <td>101578.000000</td>\n",
       "    </tr>\n",
       "    <tr>\n",
       "      <th>mean</th>\n",
       "      <td>300.607986</td>\n",
       "    </tr>\n",
       "    <tr>\n",
       "      <th>std</th>\n",
       "      <td>163.817991</td>\n",
       "    </tr>\n",
       "    <tr>\n",
       "      <th>min</th>\n",
       "      <td>2.000000</td>\n",
       "    </tr>\n",
       "    <tr>\n",
       "      <th>25%</th>\n",
       "      <td>143.000000</td>\n",
       "    </tr>\n",
       "    <tr>\n",
       "      <th>50%</th>\n",
       "      <td>262.000000</td>\n",
       "    </tr>\n",
       "    <tr>\n",
       "      <th>75%</th>\n",
       "      <td>431.000000</td>\n",
       "    </tr>\n",
       "    <tr>\n",
       "      <th>max</th>\n",
       "      <td>798.000000</td>\n",
       "    </tr>\n",
       "  </tbody>\n",
       "</table>\n",
       "</div>"
      ],
      "text/plain": [
       "              course\n",
       "count  101578.000000\n",
       "mean      300.607986\n",
       "std       163.817991\n",
       "min         2.000000\n",
       "25%       143.000000\n",
       "50%       262.000000\n",
       "75%       431.000000\n",
       "max       798.000000"
      ]
     },
     "execution_count": 161,
     "metadata": {},
     "output_type": "execute_result"
    }
   ],
   "source": [
    "# code here\n",
    "teacher_ranked.describe()"
   ]
  },
  {
   "cell_type": "markdown",
   "metadata": {
    "id": "3LdJrFlzLi_M"
   },
   "source": [
    "Variable difference explanation:"
   ]
  },
  {
   "cell_type": "markdown",
   "metadata": {
    "id": "Cmh1ZDYu6SaM"
   },
   "source": [
    "... answer here ...\n",
    "\n",
    "only one variable(course) is numeric so we get summary only of course\n",
    "course had NaN values and it is different than others"
   ]
  },
  {
   "cell_type": "markdown",
   "metadata": {
    "id": "TwCg4HiJLIz-"
   },
   "source": [
    "## c\n",
    "\n",
    "1. Verify that `course` has `NaN` values. \n",
    "2. Perform a median imputation to remove `NaN` values.\n"
   ]
  },
  {
   "cell_type": "code",
   "execution_count": 162,
   "metadata": {
    "ExecuteTime": {
     "end_time": "2022-06-02T18:49:09.527023Z",
     "start_time": "2022-06-02T18:49:09.511642Z"
    },
    "id": "Pgw2Wx72ILWN"
   },
   "outputs": [
    {
     "data": {
      "text/plain": [
       "False"
      ]
     },
     "execution_count": 162,
     "metadata": {},
     "output_type": "execute_result"
    }
   ],
   "source": [
    "# code here\n",
    "\n",
    "## Verified that it has nan values so output will be true\n",
    "teacher_ranked['course'].isnull().values.any()\n",
    "#alternatively we can use this as well\n",
    "#teacher_ranked[\"course\"].isna().any()\n",
    "\n",
    "##remove nan values and verified again so output will be false\n",
    "teacher_ranked['course'].fillna(teacher_ranked['course'].median(), inplace=True)\n",
    "\n",
    "teacher_ranked['course'].isnull().values.any()"
   ]
  },
  {
   "cell_type": "markdown",
   "metadata": {
    "id": "DFSsD-FpH8dO"
   },
   "source": [
    "## d\n",
    "\n",
    "1. Search for the following professor names in the list of excellency: `Douglas`, `Simpson`, and `Dalpiaz`. \n",
    "  - _Hint_: Search the `lname` variable in the `DataFrame`.\n",
    "  - _Hint_: Make sure to search the _last name_ with capital letters.\n",
    "\n",
    "2. Compute the total number of times they appeared in the excellency ratings.\n",
    "\n"
   ]
  },
  {
   "cell_type": "code",
   "execution_count": 360,
   "metadata": {
    "ExecuteTime": {
     "end_time": "2022-06-03T15:20:06.528057Z",
     "start_time": "2022-06-03T15:20:06.385018Z"
    },
    "id": "NxTvGeKSLdsi"
   },
   "outputs": [
    {
     "data": {
      "text/plain": [
       "76"
      ]
     },
     "execution_count": 360,
     "metadata": {},
     "output_type": "execute_result"
    }
   ],
   "source": [
    "# code here\n",
    "\n",
    "teacher_ranked[(teacher_ranked['lname'].isin([\"DOUGLAS\"])) | (teacher_ranked['lname'].str.contains('SIMPSON')) | (teacher_ranked['lname'].str.contains('DALPIAZ'))].shape[0]\n",
    "\n",
    "#contains find douglas in douglass\n",
    "#match find douglas agadi xa ki nai\n",
    "#isin le chahi single douglas find garxa\n",
    "\n",
    "##Alternate code\n",
    "\n",
    "#teacher_ranked[((teacher_ranked[\"lname\"] == \"SIMPSON\") | (teacher_ranked[\"lname\"] == \"DOUGLAS\") | (teacher_ranked[\"lname\"] == \"DALPIAZ\"))].shape[0]"
   ]
  },
  {
   "cell_type": "markdown",
   "metadata": {
    "id": "Xev7Vc4WknDa"
   },
   "source": [
    "## e\n",
    "\n",
    "Drop the `fname` column in-place."
   ]
  },
  {
   "cell_type": "code",
   "execution_count": 344,
   "metadata": {
    "ExecuteTime": {
     "end_time": "2022-06-03T04:59:32.925855Z",
     "start_time": "2022-06-03T04:59:32.899828Z"
    },
    "id": "nqG30ubcklxz"
   },
   "outputs": [
    {
     "data": {
      "text/html": [
       "<div>\n",
       "<style scoped>\n",
       "    .dataframe tbody tr th:only-of-type {\n",
       "        vertical-align: middle;\n",
       "    }\n",
       "\n",
       "    .dataframe tbody tr th {\n",
       "        vertical-align: top;\n",
       "    }\n",
       "\n",
       "    .dataframe thead th {\n",
       "        text-align: right;\n",
       "    }\n",
       "</style>\n",
       "<table border=\"1\" class=\"dataframe\">\n",
       "  <thead>\n",
       "    <tr style=\"text-align: right;\">\n",
       "      <th></th>\n",
       "      <th>term</th>\n",
       "      <th>unit</th>\n",
       "      <th>lname</th>\n",
       "      <th>role</th>\n",
       "      <th>ranking</th>\n",
       "      <th>course</th>\n",
       "    </tr>\n",
       "  </thead>\n",
       "  <tbody>\n",
       "    <tr>\n",
       "      <th>0</th>\n",
       "      <td>fa2003</td>\n",
       "      <td>ACCOUNTANCY</td>\n",
       "      <td>BALLOU</td>\n",
       "      <td>Instructor</td>\n",
       "      <td>Excellent</td>\n",
       "      <td>304.0</td>\n",
       "    </tr>\n",
       "    <tr>\n",
       "      <th>1</th>\n",
       "      <td>fa2003</td>\n",
       "      <td>ACCOUNTANCY</td>\n",
       "      <td>CHANDLER</td>\n",
       "      <td>Instructor</td>\n",
       "      <td>Excellent</td>\n",
       "      <td>304.0</td>\n",
       "    </tr>\n",
       "    <tr>\n",
       "      <th>2</th>\n",
       "      <td>fa2003</td>\n",
       "      <td>ACCOUNTANCY</td>\n",
       "      <td>DEREUS</td>\n",
       "      <td>TA</td>\n",
       "      <td>Excellent</td>\n",
       "      <td>201.0</td>\n",
       "    </tr>\n",
       "    <tr>\n",
       "      <th>3</th>\n",
       "      <td>fa2003</td>\n",
       "      <td>ACCOUNTANCY</td>\n",
       "      <td>FARRELL</td>\n",
       "      <td>Instructor</td>\n",
       "      <td>Excellent</td>\n",
       "      <td>302.0</td>\n",
       "    </tr>\n",
       "    <tr>\n",
       "      <th>4</th>\n",
       "      <td>fa2003</td>\n",
       "      <td>ACCOUNTANCY</td>\n",
       "      <td>FELLER</td>\n",
       "      <td>Instructor</td>\n",
       "      <td>Excellent</td>\n",
       "      <td>310.0</td>\n",
       "    </tr>\n",
       "    <tr>\n",
       "      <th>...</th>\n",
       "      <td>...</td>\n",
       "      <td>...</td>\n",
       "      <td>...</td>\n",
       "      <td>...</td>\n",
       "      <td>...</td>\n",
       "      <td>...</td>\n",
       "    </tr>\n",
       "    <tr>\n",
       "      <th>102595</th>\n",
       "      <td>su2020</td>\n",
       "      <td>VETERINARY MEDICINE</td>\n",
       "      <td>KELLER</td>\n",
       "      <td>Instructor</td>\n",
       "      <td>Excellent</td>\n",
       "      <td>613.0</td>\n",
       "    </tr>\n",
       "    <tr>\n",
       "      <th>102596</th>\n",
       "      <td>su2020</td>\n",
       "      <td>VETERINARY MEDICINE</td>\n",
       "      <td>MARSHALL</td>\n",
       "      <td>Instructor</td>\n",
       "      <td>Excellent</td>\n",
       "      <td>613.0</td>\n",
       "    </tr>\n",
       "    <tr>\n",
       "      <th>102597</th>\n",
       "      <td>su2020</td>\n",
       "      <td>VETERINARY MEDICINE</td>\n",
       "      <td>PAVLOVSKY</td>\n",
       "      <td>Instructor</td>\n",
       "      <td>Excellent</td>\n",
       "      <td>613.0</td>\n",
       "    </tr>\n",
       "    <tr>\n",
       "      <th>102598</th>\n",
       "      <td>su2020</td>\n",
       "      <td>VETERINARY MEDICINE</td>\n",
       "      <td>ROSSER</td>\n",
       "      <td>Instructor</td>\n",
       "      <td>Excellent</td>\n",
       "      <td>613.0</td>\n",
       "    </tr>\n",
       "    <tr>\n",
       "      <th>102599</th>\n",
       "      <td>su2020</td>\n",
       "      <td>VETERINARY MEDICINE</td>\n",
       "      <td>SULLIVAN</td>\n",
       "      <td>Instructor</td>\n",
       "      <td>Excellent</td>\n",
       "      <td>613.0</td>\n",
       "    </tr>\n",
       "  </tbody>\n",
       "</table>\n",
       "<p>102600 rows × 6 columns</p>\n",
       "</div>"
      ],
      "text/plain": [
       "          term                 unit      lname        role    ranking  course\n",
       "0       fa2003          ACCOUNTANCY     BALLOU  Instructor  Excellent   304.0\n",
       "1       fa2003          ACCOUNTANCY   CHANDLER  Instructor  Excellent   304.0\n",
       "2       fa2003          ACCOUNTANCY     DEREUS          TA  Excellent   201.0\n",
       "3       fa2003          ACCOUNTANCY    FARRELL  Instructor  Excellent   302.0\n",
       "4       fa2003          ACCOUNTANCY     FELLER  Instructor  Excellent   310.0\n",
       "...        ...                  ...        ...         ...        ...     ...\n",
       "102595  su2020  VETERINARY MEDICINE     KELLER  Instructor  Excellent   613.0\n",
       "102596  su2020  VETERINARY MEDICINE   MARSHALL  Instructor  Excellent   613.0\n",
       "102597  su2020  VETERINARY MEDICINE  PAVLOVSKY  Instructor  Excellent   613.0\n",
       "102598  su2020  VETERINARY MEDICINE     ROSSER  Instructor  Excellent   613.0\n",
       "102599  su2020  VETERINARY MEDICINE   SULLIVAN  Instructor  Excellent   613.0\n",
       "\n",
       "[102600 rows x 6 columns]"
      ]
     },
     "metadata": {},
     "output_type": "display_data"
    }
   ],
   "source": [
    "# code here\n",
    "teacher_ranked.drop(\"fname\", axis=1, inplace=True)\n",
    "\n",
    "display(teacher_ranked)"
   ]
  },
  {
   "cell_type": "markdown",
   "metadata": {
    "id": "-C8pXVE9VbZg"
   },
   "source": [
    "## f\n",
    "\n",
    "Split the data into a training and testing data set. The weight should be 65% training and 35% testing."
   ]
  },
  {
   "cell_type": "code",
   "execution_count": 172,
   "metadata": {
    "ExecuteTime": {
     "end_time": "2022-06-02T18:57:48.486024Z",
     "start_time": "2022-06-02T18:57:48.409379Z"
    },
    "id": "8gaT-VyxVbw6"
   },
   "outputs": [
    {
     "name": "stdout",
     "output_type": "stream",
     "text": [
      "Observations in Training DataFrame: 66706 (0.6501559454191033)\n",
      "Observations in Testing DataFrame: 35894 (0.3498440545808967)\n"
     ]
    }
   ],
   "source": [
    "# code here\n",
    "import pandas as pd\n",
    "import numpy as np\n",
    "\n",
    "teacher_ranked = teacher_ranked.reindex(\n",
    "    np.random.permutation(teacher_ranked.index)\n",
    "  )\n",
    "\n",
    "nobs_df = len(teacher_ranked)\n",
    "train_idx = np.random.rand(nobs_df) < 0.65\n",
    "\n",
    "training_df = teacher_ranked[train_idx]\n",
    "testing_df = teacher_ranked[~train_idx]\n",
    "\n",
    "nobs_training = len(training_df)\n",
    "nobs_testing = len(testing_df)\n",
    "print(f\"Observations in Training DataFrame: {nobs_training} ({nobs_training/nobs_df})\")\n",
    "print(f\"Observations in Testing DataFrame: {nobs_testing} ({nobs_testing/nobs_df})\")"
   ]
  },
  {
   "cell_type": "markdown",
   "metadata": {
    "id": "91EwUGyEJG6s"
   },
   "source": [
    "## g\n",
    "\n",
    "Create a bar plot on `role` to see the counts of how often a `Instructor` or `TA` make the list."
   ]
  },
  {
   "cell_type": "code",
   "execution_count": 345,
   "metadata": {
    "ExecuteTime": {
     "end_time": "2022-06-03T05:02:03.171946Z",
     "start_time": "2022-06-03T05:02:02.945625Z"
    },
    "id": "LkqUpr44LexD"
   },
   "outputs": [
    {
     "name": "stdout",
     "output_type": "stream",
     "text": [
      "Instructor    54480\n",
      "TA            48120\n",
      "Name: role, dtype: int64\n"
     ]
    },
    {
     "data": {
      "text/plain": [
       "<AxesSubplot:>"
      ]
     },
     "execution_count": 345,
     "metadata": {},
     "output_type": "execute_result"
    },
    {
     "data": {
      "image/png": "[encoded data removed]",
      "text/plain": [
       "<Figure size 432x288 with 1 Axes>"
      ]
     },
     "metadata": {
      "needs_background": "light"
     },
     "output_type": "display_data"
    }
   ],
   "source": [
    "# code here\n",
    "teacher_ranked_count = teacher_ranked['role'].value_counts()\n",
    "\n",
    "print(teacher_ranked_count)\n",
    "\n",
    "teacher_ranked_count.plot(kind='bar')\n",
    "\n",
    "#Alternative code, replace teachers by teacher_ranked\n",
    "#teachers[ ((teachers[\"role\"] == \"TA\") | (teachers[\"role\"] == \"Instructor\") )].role.value_counts().plot.bar()"
   ]
  },
  {
   "cell_type": "code",
   "execution_count": null,
   "metadata": {},
   "outputs": [],
   "source": []
  }
 ],
 "metadata": {
  "colab": {
   "collapsed_sections": [],
   "name": "IMSI Data Science Workshop - Day 2 Exercises - Part 1.ipynb",
   "provenance": [],
   "toc_visible": true
  },
  "kernelspec": {
   "display_name": "Python 3 (ipykernel)",
   "language": "python",
   "name": "python3"
  },
  "language_info": {
   "codemirror_mode": {
    "name": "ipython",
    "version": 3
   },
   "file_extension": ".py",
   "mimetype": "text/x-python",
   "name": "python",
   "nbconvert_exporter": "python",
   "pygments_lexer": "ipython3",
   "version": "3.10.4"
  }
 },
 "nbformat": 4,
 "nbformat_minor": 1
}
