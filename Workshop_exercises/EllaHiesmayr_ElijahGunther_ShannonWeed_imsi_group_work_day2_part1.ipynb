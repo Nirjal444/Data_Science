{
 "cells": [
  {
   "cell_type": "code",
   "execution_count": 1,
   "metadata": {
    "ExecuteTime": {
     "end_time": "2022-06-03T02:35:54.301892Z",
     "start_time": "2022-06-03T02:35:53.507812Z"
    }
   },
   "outputs": [],
   "source": [
    "import pandas as pd\n",
    "import numpy as np\n",
    "from io import StringIO"
   ]
  },
  {
   "cell_type": "markdown",
   "metadata": {
    "id": "bUdebDeNXQe6"
   },
   "source": [
    "\n",
    "##  Exercise 1: I _vant_ to manually read your data\n",
    "\n",
    "Consider the following [Fall 2019 Freshman profile](http://dmi.illinois.edu/stuenr/abstracts/FA19freshman_ten.htm) made available by the [Division of Management Information (DMI)](http://dmi.illinois.edu).\n",
    "\n",
    "|College               | Number| Percent|\n",
    "|:---------------------|------:|-------:|\n",
    "|Agr, Cons, Env Sci    |    538|   0.070|\n",
    "|Applied Health Sci    |    287|   0.037|\n",
    "|Business              |    591|   0.077|\n",
    "|Education             |    138|   0.018|\n",
    "|Fine & Applied Arts   |    381|   0.050|\n",
    "|General Studies       |   1498|   0.195|\n",
    "|Grainger Engineering  |   1628|   0.212|\n",
    "|Liberal Arts & Sci    |   2411|   0.315|\n",
    "|Media                 |    142|   0.019|\n",
    "|School of Social Work |     51|   0.007|\n",
    "\n"
   ]
  },
  {
   "cell_type": "markdown",
   "metadata": {
    "id": "aSddWtq55qnZ"
   },
   "source": [
    "### a\n",
    "\n",
    "Translate the table from `markdown` to a pandas `DataFrame`\n"
   ]
  },
  {
   "cell_type": "code",
   "execution_count": 7,
   "metadata": {
    "ExecuteTime": {
     "end_time": "2022-06-02T16:23:07.841009Z",
     "start_time": "2022-06-02T16:23:07.807441Z"
    }
   },
   "outputs": [
    {
     "name": "stdout",
     "output_type": "stream",
     "text": [
      "Object `StringIO` not found.\n"
     ]
    }
   ],
   "source": [
    "?pd.read_csv"
   ]
  },
  {
   "cell_type": "code",
   "execution_count": 17,
   "metadata": {
    "ExecuteTime": {
     "end_time": "2022-06-02T16:27:15.121404Z",
     "start_time": "2022-06-02T16:27:15.099042Z"
    }
   },
   "outputs": [],
   "source": [
    "?pd.DataFrame.drop"
   ]
  },
  {
   "cell_type": "code",
   "execution_count": 68,
   "metadata": {
    "ExecuteTime": {
     "end_time": "2022-06-02T16:46:41.490910Z",
     "start_time": "2022-06-02T16:46:41.457829Z"
    },
    "id": "yCqdIkN-Y0t9",
    "scrolled": true
   },
   "outputs": [
    {
     "data": {
      "text/html": [
       "<div>\n",
       "<style scoped>\n",
       "    .dataframe tbody tr th:only-of-type {\n",
       "        vertical-align: middle;\n",
       "    }\n",
       "\n",
       "    .dataframe tbody tr th {\n",
       "        vertical-align: top;\n",
       "    }\n",
       "\n",
       "    .dataframe thead th {\n",
       "        text-align: right;\n",
       "    }\n",
       "</style>\n",
       "<table border=\"1\" class=\"dataframe\">\n",
       "  <thead>\n",
       "    <tr style=\"text-align: right;\">\n",
       "      <th></th>\n",
       "      <th>Unnamed: 0</th>\n",
       "      <th>College</th>\n",
       "      <th>Number</th>\n",
       "      <th>Percent</th>\n",
       "      <th>Unnamed: 4</th>\n",
       "    </tr>\n",
       "  </thead>\n",
       "  <tbody>\n",
       "    <tr>\n",
       "      <th>0</th>\n",
       "      <td>NaN</td>\n",
       "      <td>Agr, Cons, Env Sci</td>\n",
       "      <td>538</td>\n",
       "      <td>0.070</td>\n",
       "      <td>NaN</td>\n",
       "    </tr>\n",
       "    <tr>\n",
       "      <th>1</th>\n",
       "      <td>NaN</td>\n",
       "      <td>Applied Health Sci</td>\n",
       "      <td>287</td>\n",
       "      <td>0.037</td>\n",
       "      <td>NaN</td>\n",
       "    </tr>\n",
       "    <tr>\n",
       "      <th>2</th>\n",
       "      <td>NaN</td>\n",
       "      <td>Business</td>\n",
       "      <td>591</td>\n",
       "      <td>0.077</td>\n",
       "      <td>NaN</td>\n",
       "    </tr>\n",
       "    <tr>\n",
       "      <th>3</th>\n",
       "      <td>NaN</td>\n",
       "      <td>Education</td>\n",
       "      <td>138</td>\n",
       "      <td>0.018</td>\n",
       "      <td>NaN</td>\n",
       "    </tr>\n",
       "    <tr>\n",
       "      <th>4</th>\n",
       "      <td>NaN</td>\n",
       "      <td>Fine &amp; Applied Arts</td>\n",
       "      <td>381</td>\n",
       "      <td>0.050</td>\n",
       "      <td>NaN</td>\n",
       "    </tr>\n",
       "    <tr>\n",
       "      <th>5</th>\n",
       "      <td>NaN</td>\n",
       "      <td>General Studies</td>\n",
       "      <td>1498</td>\n",
       "      <td>0.195</td>\n",
       "      <td>NaN</td>\n",
       "    </tr>\n",
       "    <tr>\n",
       "      <th>6</th>\n",
       "      <td>NaN</td>\n",
       "      <td>Grainger Engineering</td>\n",
       "      <td>1628</td>\n",
       "      <td>0.212</td>\n",
       "      <td>NaN</td>\n",
       "    </tr>\n",
       "    <tr>\n",
       "      <th>7</th>\n",
       "      <td>NaN</td>\n",
       "      <td>Liberal Arts &amp; Sci</td>\n",
       "      <td>2411</td>\n",
       "      <td>0.315</td>\n",
       "      <td>NaN</td>\n",
       "    </tr>\n",
       "    <tr>\n",
       "      <th>8</th>\n",
       "      <td>NaN</td>\n",
       "      <td>Media</td>\n",
       "      <td>142</td>\n",
       "      <td>0.019</td>\n",
       "      <td>NaN</td>\n",
       "    </tr>\n",
       "    <tr>\n",
       "      <th>9</th>\n",
       "      <td>NaN</td>\n",
       "      <td>School of Social Work</td>\n",
       "      <td>51</td>\n",
       "      <td>0.007</td>\n",
       "      <td>NaN</td>\n",
       "    </tr>\n",
       "  </tbody>\n",
       "</table>\n",
       "</div>"
      ],
      "text/plain": [
       "   Unnamed: 0  College                 Number  Percent  Unnamed: 4\n",
       "0         NaN  Agr, Cons, Env Sci         538    0.070         NaN\n",
       "1         NaN  Applied Health Sci         287    0.037         NaN\n",
       "2         NaN  Business                   591    0.077         NaN\n",
       "3         NaN  Education                  138    0.018         NaN\n",
       "4         NaN  Fine & Applied Arts        381    0.050         NaN\n",
       "5         NaN  General Studies           1498    0.195         NaN\n",
       "6         NaN  Grainger Engineering      1628    0.212         NaN\n",
       "7         NaN  Liberal Arts & Sci        2411    0.315         NaN\n",
       "8         NaN  Media                      142    0.019         NaN\n",
       "9         NaN  School of Social Work       51    0.007         NaN"
      ]
     },
     "metadata": {},
     "output_type": "display_data"
    }
   ],
   "source": [
    "data_csv = StringIO(\"\"\"|College               | Number| Percent|\n",
    "|Agr, Cons, Env Sci    |    538|   0.070|\n",
    "|Applied Health Sci    |    287|   0.037|\n",
    "|Business              |    591|   0.077|\n",
    "|Education             |    138|   0.018|\n",
    "|Fine & Applied Arts   |    381|   0.050|\n",
    "|General Studies       |   1498|   0.195|\n",
    "|Grainger Engineering  |   1628|   0.212|\n",
    "|Liberal Arts & Sci    |   2411|   0.315|\n",
    "|Media                 |    142|   0.019|\n",
    "|School of Social Work |     51|   0.007|\"\"\")\n",
    "\n",
    "freshmen = pd.read_csv(data_csv, sep = \"|\", skipinitialspace = True)\n",
    "\n",
    "display(freshmen)"
   ]
  },
  {
   "cell_type": "code",
   "execution_count": 69,
   "metadata": {
    "ExecuteTime": {
     "end_time": "2022-06-02T16:46:44.153617Z",
     "start_time": "2022-06-02T16:46:44.120461Z"
    }
   },
   "outputs": [
    {
     "data": {
      "text/html": [
       "<div>\n",
       "<style scoped>\n",
       "    .dataframe tbody tr th:only-of-type {\n",
       "        vertical-align: middle;\n",
       "    }\n",
       "\n",
       "    .dataframe tbody tr th {\n",
       "        vertical-align: top;\n",
       "    }\n",
       "\n",
       "    .dataframe thead th {\n",
       "        text-align: right;\n",
       "    }\n",
       "</style>\n",
       "<table border=\"1\" class=\"dataframe\">\n",
       "  <thead>\n",
       "    <tr style=\"text-align: right;\">\n",
       "      <th></th>\n",
       "      <th>College</th>\n",
       "      <th>Number</th>\n",
       "      <th>Percent</th>\n",
       "    </tr>\n",
       "  </thead>\n",
       "  <tbody>\n",
       "    <tr>\n",
       "      <th>0</th>\n",
       "      <td>Agr, Cons, Env Sci</td>\n",
       "      <td>538</td>\n",
       "      <td>0.070</td>\n",
       "    </tr>\n",
       "    <tr>\n",
       "      <th>1</th>\n",
       "      <td>Applied Health Sci</td>\n",
       "      <td>287</td>\n",
       "      <td>0.037</td>\n",
       "    </tr>\n",
       "    <tr>\n",
       "      <th>2</th>\n",
       "      <td>Business</td>\n",
       "      <td>591</td>\n",
       "      <td>0.077</td>\n",
       "    </tr>\n",
       "    <tr>\n",
       "      <th>3</th>\n",
       "      <td>Education</td>\n",
       "      <td>138</td>\n",
       "      <td>0.018</td>\n",
       "    </tr>\n",
       "    <tr>\n",
       "      <th>4</th>\n",
       "      <td>Fine &amp; Applied Arts</td>\n",
       "      <td>381</td>\n",
       "      <td>0.050</td>\n",
       "    </tr>\n",
       "    <tr>\n",
       "      <th>5</th>\n",
       "      <td>General Studies</td>\n",
       "      <td>1498</td>\n",
       "      <td>0.195</td>\n",
       "    </tr>\n",
       "    <tr>\n",
       "      <th>6</th>\n",
       "      <td>Grainger Engineering</td>\n",
       "      <td>1628</td>\n",
       "      <td>0.212</td>\n",
       "    </tr>\n",
       "    <tr>\n",
       "      <th>7</th>\n",
       "      <td>Liberal Arts &amp; Sci</td>\n",
       "      <td>2411</td>\n",
       "      <td>0.315</td>\n",
       "    </tr>\n",
       "    <tr>\n",
       "      <th>8</th>\n",
       "      <td>Media</td>\n",
       "      <td>142</td>\n",
       "      <td>0.019</td>\n",
       "    </tr>\n",
       "    <tr>\n",
       "      <th>9</th>\n",
       "      <td>School of Social Work</td>\n",
       "      <td>51</td>\n",
       "      <td>0.007</td>\n",
       "    </tr>\n",
       "  </tbody>\n",
       "</table>\n",
       "</div>"
      ],
      "text/plain": [
       "   College                 Number  Percent\n",
       "0  Agr, Cons, Env Sci         538    0.070\n",
       "1  Applied Health Sci         287    0.037\n",
       "2  Business                   591    0.077\n",
       "3  Education                  138    0.018\n",
       "4  Fine & Applied Arts        381    0.050\n",
       "5  General Studies           1498    0.195\n",
       "6  Grainger Engineering      1628    0.212\n",
       "7  Liberal Arts & Sci        2411    0.315\n",
       "8  Media                      142    0.019\n",
       "9  School of Social Work       51    0.007"
      ]
     },
     "metadata": {},
     "output_type": "display_data"
    }
   ],
   "source": [
    "freshmen.drop([\"Unnamed: 0\", \"Unnamed: 4\"], axis = 1, inplace = True)\n",
    "display(freshmen)"
   ]
  },
  {
   "cell_type": "markdown",
   "metadata": {
    "id": "tbIUbPmY5mdc"
   },
   "source": [
    "### b\n",
    "\n",
    "Programatically, find the name of the college that has the maximum number of students enrolled and display its enrollment."
   ]
  },
  {
   "cell_type": "code",
   "execution_count": 70,
   "metadata": {
    "ExecuteTime": {
     "end_time": "2022-06-02T16:46:46.738188Z",
     "start_time": "2022-06-02T16:46:46.712045Z"
    }
   },
   "outputs": [
    {
     "data": {
      "text/plain": [
       "Index(['College', 'Number', 'Percent'], dtype='object')"
      ]
     },
     "execution_count": 70,
     "metadata": {},
     "output_type": "execute_result"
    }
   ],
   "source": [
    "#we first remove the whitespace in the column names\n",
    "\n",
    "freshmen.columns = freshmen.columns.str.replace(' ', '')\n",
    "freshmen.columns"
   ]
  },
  {
   "cell_type": "code",
   "execution_count": 79,
   "metadata": {
    "ExecuteTime": {
     "end_time": "2022-06-02T16:48:54.426403Z",
     "start_time": "2022-06-02T16:48:54.385876Z"
    },
    "id": "_-uSPxgADGcg"
   },
   "outputs": [
    {
     "data": {
      "text/html": [
       "<div>\n",
       "<style scoped>\n",
       "    .dataframe tbody tr th:only-of-type {\n",
       "        vertical-align: middle;\n",
       "    }\n",
       "\n",
       "    .dataframe tbody tr th {\n",
       "        vertical-align: top;\n",
       "    }\n",
       "\n",
       "    .dataframe thead th {\n",
       "        text-align: right;\n",
       "    }\n",
       "</style>\n",
       "<table border=\"1\" class=\"dataframe\">\n",
       "  <thead>\n",
       "    <tr style=\"text-align: right;\">\n",
       "      <th></th>\n",
       "      <th>College</th>\n",
       "      <th>Number</th>\n",
       "      <th>Percent</th>\n",
       "    </tr>\n",
       "  </thead>\n",
       "  <tbody>\n",
       "    <tr>\n",
       "      <th>7</th>\n",
       "      <td>Liberal Arts &amp; Sci</td>\n",
       "      <td>2411</td>\n",
       "      <td>0.315</td>\n",
       "    </tr>\n",
       "  </tbody>\n",
       "</table>\n",
       "</div>"
      ],
      "text/plain": [
       "                  College  Number  Percent\n",
       "7  Liberal Arts & Sci        2411    0.315"
      ]
     },
     "execution_count": 79,
     "metadata": {},
     "output_type": "execute_result"
    }
   ],
   "source": [
    "freshmen[freshmen[\"Number\"] == max(freshmen[\"Number\"])]"
   ]
  },
  {
   "cell_type": "markdown",
   "metadata": {
    "id": "3g2k_E9MUpUe"
   },
   "source": [
    "## Exercise 2: Yummy Ramen\n",
    "\n",
    "For this exercise, we'll be working with a cleaned version of the [Ramen Ratings dataset](https://www.kaggle.com/datasets/residentmario/ramen-ratings). Inside the data set, we have 5 variables:\n",
    "\n",
    "- `'Brand'`: the brand of the ramen product.\n",
    "- `'Variety'`: the product’s name on its label.\n",
    "- `'Style'`: packaging style (cup, bowl, tray, etc.)\n",
    "- `'Country'`: country or dependent territory the product was produced in.\n",
    "- `'Stars'`: the rating of the product on a 5-point scale.\n",
    "\n",
    "This dataset is available at: \n",
    "\n",
    "<https://coatless.github.io/raw-data/ramen-ratings-cleaned.csv>\n",
    "\n",
    "\n",
    "Load the Ramen Ratings dataset into a _Python_ variable called `ramen` using `pandas` library."
   ]
  },
  {
   "cell_type": "code",
   "execution_count": 3,
   "metadata": {
    "ExecuteTime": {
     "end_time": "2022-06-03T03:09:50.473202Z",
     "start_time": "2022-06-03T03:09:50.177314Z"
    },
    "id": "mF8PfDbfUpUf"
   },
   "outputs": [],
   "source": [
    "import pandas as pd\n",
    "\n",
    "ramen = pd.read_csv(\"https://coatless.github.io/raw-data/ramen-ratings-cleaned.csv\")"
   ]
  },
  {
   "cell_type": "code",
   "execution_count": 4,
   "metadata": {
    "ExecuteTime": {
     "end_time": "2022-06-03T03:09:50.736661Z",
     "start_time": "2022-06-03T03:09:50.686505Z"
    }
   },
   "outputs": [
    {
     "data": {
      "text/html": [
       "<div>\n",
       "<style scoped>\n",
       "    .dataframe tbody tr th:only-of-type {\n",
       "        vertical-align: middle;\n",
       "    }\n",
       "\n",
       "    .dataframe tbody tr th {\n",
       "        vertical-align: top;\n",
       "    }\n",
       "\n",
       "    .dataframe thead th {\n",
       "        text-align: right;\n",
       "    }\n",
       "</style>\n",
       "<table border=\"1\" class=\"dataframe\">\n",
       "  <thead>\n",
       "    <tr style=\"text-align: right;\">\n",
       "      <th></th>\n",
       "      <th>Brand</th>\n",
       "      <th>Variety</th>\n",
       "      <th>Style</th>\n",
       "      <th>Country</th>\n",
       "      <th>Stars</th>\n",
       "    </tr>\n",
       "  </thead>\n",
       "  <tbody>\n",
       "    <tr>\n",
       "      <th>0</th>\n",
       "      <td>New Touch</td>\n",
       "      <td>T's Restaurant Tantanmen</td>\n",
       "      <td>Cup</td>\n",
       "      <td>Japan</td>\n",
       "      <td>3.75</td>\n",
       "    </tr>\n",
       "    <tr>\n",
       "      <th>1</th>\n",
       "      <td>Just Way</td>\n",
       "      <td>Noodles Spicy Hot Sesame Spicy Hot Sesame Guan...</td>\n",
       "      <td>Pack</td>\n",
       "      <td>Taiwan</td>\n",
       "      <td>1.00</td>\n",
       "    </tr>\n",
       "    <tr>\n",
       "      <th>2</th>\n",
       "      <td>Nissin</td>\n",
       "      <td>Cup Noodles Chicken Vegetable</td>\n",
       "      <td>Cup</td>\n",
       "      <td>USA</td>\n",
       "      <td>2.25</td>\n",
       "    </tr>\n",
       "    <tr>\n",
       "      <th>3</th>\n",
       "      <td>Wei Lih</td>\n",
       "      <td>GGE Ramen Snack Tomato Flavor</td>\n",
       "      <td>Pack</td>\n",
       "      <td>Taiwan</td>\n",
       "      <td>2.75</td>\n",
       "    </tr>\n",
       "    <tr>\n",
       "      <th>4</th>\n",
       "      <td>Ching's Secret</td>\n",
       "      <td>Singapore Curry</td>\n",
       "      <td>Pack</td>\n",
       "      <td>India</td>\n",
       "      <td>3.75</td>\n",
       "    </tr>\n",
       "    <tr>\n",
       "      <th>...</th>\n",
       "      <td>...</td>\n",
       "      <td>...</td>\n",
       "      <td>...</td>\n",
       "      <td>...</td>\n",
       "      <td>...</td>\n",
       "    </tr>\n",
       "    <tr>\n",
       "      <th>2572</th>\n",
       "      <td>Vifon</td>\n",
       "      <td>Hu Tiu Nam Vang [\"Phnom Penh\" style] Asian Sty...</td>\n",
       "      <td>Bowl</td>\n",
       "      <td>Vietnam</td>\n",
       "      <td>3.50</td>\n",
       "    </tr>\n",
       "    <tr>\n",
       "      <th>2573</th>\n",
       "      <td>Wai Wai</td>\n",
       "      <td>Oriental Style Instant Noodles</td>\n",
       "      <td>Pack</td>\n",
       "      <td>Thailand</td>\n",
       "      <td>1.00</td>\n",
       "    </tr>\n",
       "    <tr>\n",
       "      <th>2574</th>\n",
       "      <td>Wai Wai</td>\n",
       "      <td>Tom Yum Shrimp</td>\n",
       "      <td>Pack</td>\n",
       "      <td>Thailand</td>\n",
       "      <td>2.00</td>\n",
       "    </tr>\n",
       "    <tr>\n",
       "      <th>2575</th>\n",
       "      <td>Wai Wai</td>\n",
       "      <td>Tom Yum Chili Flavor</td>\n",
       "      <td>Pack</td>\n",
       "      <td>Thailand</td>\n",
       "      <td>2.00</td>\n",
       "    </tr>\n",
       "    <tr>\n",
       "      <th>2576</th>\n",
       "      <td>Westbrae</td>\n",
       "      <td>Miso Ramen</td>\n",
       "      <td>Pack</td>\n",
       "      <td>USA</td>\n",
       "      <td>0.50</td>\n",
       "    </tr>\n",
       "  </tbody>\n",
       "</table>\n",
       "<p>2577 rows × 5 columns</p>\n",
       "</div>"
      ],
      "text/plain": [
       "               Brand                                            Variety Style  \\\n",
       "0          New Touch                          T's Restaurant Tantanmen    Cup   \n",
       "1           Just Way  Noodles Spicy Hot Sesame Spicy Hot Sesame Guan...  Pack   \n",
       "2             Nissin                      Cup Noodles Chicken Vegetable   Cup   \n",
       "3            Wei Lih                      GGE Ramen Snack Tomato Flavor  Pack   \n",
       "4     Ching's Secret                                    Singapore Curry  Pack   \n",
       "...              ...                                                ...   ...   \n",
       "2572           Vifon  Hu Tiu Nam Vang [\"Phnom Penh\" style] Asian Sty...  Bowl   \n",
       "2573         Wai Wai                     Oriental Style Instant Noodles  Pack   \n",
       "2574         Wai Wai                                     Tom Yum Shrimp  Pack   \n",
       "2575         Wai Wai                               Tom Yum Chili Flavor  Pack   \n",
       "2576        Westbrae                                         Miso Ramen  Pack   \n",
       "\n",
       "       Country  Stars  \n",
       "0        Japan   3.75  \n",
       "1       Taiwan   1.00  \n",
       "2          USA   2.25  \n",
       "3       Taiwan   2.75  \n",
       "4        India   3.75  \n",
       "...        ...    ...  \n",
       "2572   Vietnam   3.50  \n",
       "2573  Thailand   1.00  \n",
       "2574  Thailand   2.00  \n",
       "2575  Thailand   2.00  \n",
       "2576       USA   0.50  \n",
       "\n",
       "[2577 rows x 5 columns]"
      ]
     },
     "metadata": {},
     "output_type": "display_data"
    }
   ],
   "source": [
    "display(ramen)"
   ]
  },
  {
   "cell_type": "markdown",
   "metadata": {
    "id": "wX_eAIcMUpUh"
   },
   "source": [
    "### a\n",
    "\n",
    "Filter only the observations where the ramen is made in Japan and in Cup, OR the ramen is made in Thailand and in Pack."
   ]
  },
  {
   "cell_type": "code",
   "execution_count": 5,
   "metadata": {
    "ExecuteTime": {
     "end_time": "2022-06-03T03:09:53.084691Z",
     "start_time": "2022-06-03T03:09:53.065016Z"
    },
    "id": "q1quoL-RUpUh"
   },
   "outputs": [
    {
     "data": {
      "text/html": [
       "<div>\n",
       "<style scoped>\n",
       "    .dataframe tbody tr th:only-of-type {\n",
       "        vertical-align: middle;\n",
       "    }\n",
       "\n",
       "    .dataframe tbody tr th {\n",
       "        vertical-align: top;\n",
       "    }\n",
       "\n",
       "    .dataframe thead th {\n",
       "        text-align: right;\n",
       "    }\n",
       "</style>\n",
       "<table border=\"1\" class=\"dataframe\">\n",
       "  <thead>\n",
       "    <tr style=\"text-align: right;\">\n",
       "      <th></th>\n",
       "      <th>Brand</th>\n",
       "      <th>Variety</th>\n",
       "      <th>Style</th>\n",
       "      <th>Country</th>\n",
       "      <th>Stars</th>\n",
       "    </tr>\n",
       "  </thead>\n",
       "  <tbody>\n",
       "    <tr>\n",
       "      <th>0</th>\n",
       "      <td>New Touch</td>\n",
       "      <td>T's Restaurant Tantanmen</td>\n",
       "      <td>Cup</td>\n",
       "      <td>Japan</td>\n",
       "      <td>3.75</td>\n",
       "    </tr>\n",
       "    <tr>\n",
       "      <th>6</th>\n",
       "      <td>Acecook</td>\n",
       "      <td>Spice Deli Tantan Men With Cilantro</td>\n",
       "      <td>Cup</td>\n",
       "      <td>Japan</td>\n",
       "      <td>4.00</td>\n",
       "    </tr>\n",
       "    <tr>\n",
       "      <th>10</th>\n",
       "      <td>Tao Kae Noi</td>\n",
       "      <td>Creamy tom Yum Kung Flavour</td>\n",
       "      <td>Pack</td>\n",
       "      <td>Thailand</td>\n",
       "      <td>5.00</td>\n",
       "    </tr>\n",
       "    <tr>\n",
       "      <th>111</th>\n",
       "      <td>Acecook</td>\n",
       "      <td>Dossari Yasai Chanpon</td>\n",
       "      <td>Cup</td>\n",
       "      <td>Japan</td>\n",
       "      <td>4.25</td>\n",
       "    </tr>\n",
       "    <tr>\n",
       "      <th>145</th>\n",
       "      <td>Nissin</td>\n",
       "      <td>Cup Noodles Indonesia Mie Goreng</td>\n",
       "      <td>Cup</td>\n",
       "      <td>Japan</td>\n",
       "      <td>3.75</td>\n",
       "    </tr>\n",
       "    <tr>\n",
       "      <th>...</th>\n",
       "      <td>...</td>\n",
       "      <td>...</td>\n",
       "      <td>...</td>\n",
       "      <td>...</td>\n",
       "      <td>...</td>\n",
       "    </tr>\n",
       "    <tr>\n",
       "      <th>2490</th>\n",
       "      <td>Wai Wai</td>\n",
       "      <td>Tom Yum Shrimp Cream Soup</td>\n",
       "      <td>Pack</td>\n",
       "      <td>Thailand</td>\n",
       "      <td>2.75</td>\n",
       "    </tr>\n",
       "    <tr>\n",
       "      <th>2542</th>\n",
       "      <td>Mama</td>\n",
       "      <td>Chand Clear Soup</td>\n",
       "      <td>Pack</td>\n",
       "      <td>Thailand</td>\n",
       "      <td>3.00</td>\n",
       "    </tr>\n",
       "    <tr>\n",
       "      <th>2573</th>\n",
       "      <td>Wai Wai</td>\n",
       "      <td>Oriental Style Instant Noodles</td>\n",
       "      <td>Pack</td>\n",
       "      <td>Thailand</td>\n",
       "      <td>1.00</td>\n",
       "    </tr>\n",
       "    <tr>\n",
       "      <th>2574</th>\n",
       "      <td>Wai Wai</td>\n",
       "      <td>Tom Yum Shrimp</td>\n",
       "      <td>Pack</td>\n",
       "      <td>Thailand</td>\n",
       "      <td>2.00</td>\n",
       "    </tr>\n",
       "    <tr>\n",
       "      <th>2575</th>\n",
       "      <td>Wai Wai</td>\n",
       "      <td>Tom Yum Chili Flavor</td>\n",
       "      <td>Pack</td>\n",
       "      <td>Thailand</td>\n",
       "      <td>2.00</td>\n",
       "    </tr>\n",
       "  </tbody>\n",
       "</table>\n",
       "<p>146 rows × 5 columns</p>\n",
       "</div>"
      ],
      "text/plain": [
       "            Brand                              Variety Style   Country  Stars\n",
       "0       New Touch            T's Restaurant Tantanmen    Cup     Japan   3.75\n",
       "6         Acecook  Spice Deli Tantan Men With Cilantro   Cup     Japan   4.00\n",
       "10    Tao Kae Noi          Creamy tom Yum Kung Flavour  Pack  Thailand   5.00\n",
       "111       Acecook                Dossari Yasai Chanpon   Cup     Japan   4.25\n",
       "145        Nissin     Cup Noodles Indonesia Mie Goreng   Cup     Japan   3.75\n",
       "...           ...                                  ...   ...       ...    ...\n",
       "2490      Wai Wai            Tom Yum Shrimp Cream Soup  Pack  Thailand   2.75\n",
       "2542         Mama                     Chand Clear Soup  Pack  Thailand   3.00\n",
       "2573      Wai Wai       Oriental Style Instant Noodles  Pack  Thailand   1.00\n",
       "2574      Wai Wai                       Tom Yum Shrimp  Pack  Thailand   2.00\n",
       "2575      Wai Wai                 Tom Yum Chili Flavor  Pack  Thailand   2.00\n",
       "\n",
       "[146 rows x 5 columns]"
      ]
     },
     "execution_count": 5,
     "metadata": {},
     "output_type": "execute_result"
    }
   ],
   "source": [
    "ramen[( (ramen[\"Country\"] == \"Japan\") & (ramen[\"Style\"] == \"Cup\") ) |\n",
    "      (ramen[\"Country\"] == \"Thailand\") & (ramen[\"Style\"] == \"Pack\") ]"
   ]
  },
  {
   "cell_type": "markdown",
   "metadata": {
    "id": "JYN-HGJEUpUi"
   },
   "source": [
    "### b\n",
    "\n",
    "Filter only the observations where the ramen had **at least 4 stars** and it is made in `USA` or `United States`."
   ]
  },
  {
   "cell_type": "code",
   "execution_count": 6,
   "metadata": {
    "ExecuteTime": {
     "end_time": "2022-06-03T03:09:57.222688Z",
     "start_time": "2022-06-03T03:09:57.208752Z"
    }
   },
   "outputs": [
    {
     "data": {
      "text/html": [
       "<div>\n",
       "<style scoped>\n",
       "    .dataframe tbody tr th:only-of-type {\n",
       "        vertical-align: middle;\n",
       "    }\n",
       "\n",
       "    .dataframe tbody tr th {\n",
       "        vertical-align: top;\n",
       "    }\n",
       "\n",
       "    .dataframe thead th {\n",
       "        text-align: right;\n",
       "    }\n",
       "</style>\n",
       "<table border=\"1\" class=\"dataframe\">\n",
       "  <thead>\n",
       "    <tr style=\"text-align: right;\">\n",
       "      <th></th>\n",
       "      <th>Brand</th>\n",
       "      <th>Variety</th>\n",
       "      <th>Style</th>\n",
       "      <th>Country</th>\n",
       "      <th>Stars</th>\n",
       "    </tr>\n",
       "  </thead>\n",
       "  <tbody>\n",
       "  </tbody>\n",
       "</table>\n",
       "</div>"
      ],
      "text/plain": [
       "Empty DataFrame\n",
       "Columns: [Brand, Variety, Style, Country, Stars]\n",
       "Index: []"
      ]
     },
     "execution_count": 6,
     "metadata": {},
     "output_type": "execute_result"
    }
   ],
   "source": [
    "ramen[ramen[\"Stars\"]==\"Unrated\"] = np.nan\n",
    "ramen[ramen[\"Stars\"]==\"Unrated\"]"
   ]
  },
  {
   "cell_type": "code",
   "execution_count": 7,
   "metadata": {
    "ExecuteTime": {
     "end_time": "2022-06-03T03:09:58.389652Z",
     "start_time": "2022-06-03T03:09:58.379833Z"
    }
   },
   "outputs": [
    {
     "data": {
      "text/plain": [
       "Brand       object\n",
       "Variety     object\n",
       "Style       object\n",
       "Country     object\n",
       "Stars      float64\n",
       "dtype: object"
      ]
     },
     "execution_count": 7,
     "metadata": {},
     "output_type": "execute_result"
    }
   ],
   "source": [
    "# we first convert stars to a numeric entry rather than a string\n",
    "ramen[\"Stars\"] = ramen[\"Stars\"].astype(float)\n",
    "\n",
    "# the below should to the same but does not work for series\n",
    "# ramen[\"Stars\"] = ramen[\"Stars\"].to_numeric()\n",
    "ramen.dtypes"
   ]
  },
  {
   "cell_type": "code",
   "execution_count": 8,
   "metadata": {
    "ExecuteTime": {
     "end_time": "2022-06-03T03:09:59.658301Z",
     "start_time": "2022-06-03T03:09:59.640079Z"
    },
    "id": "7edrMBH4UpUi",
    "scrolled": true
   },
   "outputs": [
    {
     "data": {
      "text/html": [
       "<div>\n",
       "<style scoped>\n",
       "    .dataframe tbody tr th:only-of-type {\n",
       "        vertical-align: middle;\n",
       "    }\n",
       "\n",
       "    .dataframe tbody tr th {\n",
       "        vertical-align: top;\n",
       "    }\n",
       "\n",
       "    .dataframe thead th {\n",
       "        text-align: right;\n",
       "    }\n",
       "</style>\n",
       "<table border=\"1\" class=\"dataframe\">\n",
       "  <thead>\n",
       "    <tr style=\"text-align: right;\">\n",
       "      <th></th>\n",
       "      <th>Brand</th>\n",
       "      <th>Variety</th>\n",
       "      <th>Style</th>\n",
       "      <th>Country</th>\n",
       "      <th>Stars</th>\n",
       "    </tr>\n",
       "  </thead>\n",
       "  <tbody>\n",
       "    <tr>\n",
       "      <th>11</th>\n",
       "      <td>Yamachan</td>\n",
       "      <td>Yokohama Tonkotsu Shoyu</td>\n",
       "      <td>Pack</td>\n",
       "      <td>USA</td>\n",
       "      <td>5.00</td>\n",
       "    </tr>\n",
       "    <tr>\n",
       "      <th>17</th>\n",
       "      <td>Yamachan</td>\n",
       "      <td>Tokyo Shoyu Ramen</td>\n",
       "      <td>Pack</td>\n",
       "      <td>USA</td>\n",
       "      <td>5.00</td>\n",
       "    </tr>\n",
       "    <tr>\n",
       "      <th>21</th>\n",
       "      <td>Jackpot Teriyaki</td>\n",
       "      <td>Beef Ramen</td>\n",
       "      <td>Pack</td>\n",
       "      <td>USA</td>\n",
       "      <td>5.00</td>\n",
       "    </tr>\n",
       "    <tr>\n",
       "      <th>23</th>\n",
       "      <td>Yamachan</td>\n",
       "      <td>Sapporo Miso Ramen</td>\n",
       "      <td>Pack</td>\n",
       "      <td>USA</td>\n",
       "      <td>4.75</td>\n",
       "    </tr>\n",
       "    <tr>\n",
       "      <th>38</th>\n",
       "      <td>Nissin</td>\n",
       "      <td>Cup Noodles Very Veggie Spicy Chicken Flavor R...</td>\n",
       "      <td>Cup</td>\n",
       "      <td>USA</td>\n",
       "      <td>5.00</td>\n",
       "    </tr>\n",
       "    <tr>\n",
       "      <th>...</th>\n",
       "      <td>...</td>\n",
       "      <td>...</td>\n",
       "      <td>...</td>\n",
       "      <td>...</td>\n",
       "      <td>...</td>\n",
       "    </tr>\n",
       "    <tr>\n",
       "      <th>2372</th>\n",
       "      <td>Sapporo Ichiban</td>\n",
       "      <td>Beef Flavor</td>\n",
       "      <td>Pack</td>\n",
       "      <td>USA</td>\n",
       "      <td>4.50</td>\n",
       "    </tr>\n",
       "    <tr>\n",
       "      <th>2377</th>\n",
       "      <td>Nongshim</td>\n",
       "      <td>Bowl Noodle Spicy Chicken</td>\n",
       "      <td>Bowl</td>\n",
       "      <td>USA</td>\n",
       "      <td>4.50</td>\n",
       "    </tr>\n",
       "    <tr>\n",
       "      <th>2435</th>\n",
       "      <td>Nissin</td>\n",
       "      <td>Chow Mein Teriyaki Beef</td>\n",
       "      <td>Tray</td>\n",
       "      <td>USA</td>\n",
       "      <td>4.50</td>\n",
       "    </tr>\n",
       "    <tr>\n",
       "      <th>2511</th>\n",
       "      <td>Maruchan</td>\n",
       "      <td>Ramen Noodle Soup Pork</td>\n",
       "      <td>Pack</td>\n",
       "      <td>USA</td>\n",
       "      <td>4.00</td>\n",
       "    </tr>\n",
       "    <tr>\n",
       "      <th>2554</th>\n",
       "      <td>Nissin</td>\n",
       "      <td>Top Ramen Creamy Chicken</td>\n",
       "      <td>Pack</td>\n",
       "      <td>USA</td>\n",
       "      <td>4.50</td>\n",
       "    </tr>\n",
       "  </tbody>\n",
       "</table>\n",
       "<p>117 rows × 5 columns</p>\n",
       "</div>"
      ],
      "text/plain": [
       "                 Brand                                            Variety  \\\n",
       "11            Yamachan                            Yokohama Tonkotsu Shoyu   \n",
       "17            Yamachan                                  Tokyo Shoyu Ramen   \n",
       "21    Jackpot Teriyaki                                         Beef Ramen   \n",
       "23            Yamachan                                 Sapporo Miso Ramen   \n",
       "38              Nissin  Cup Noodles Very Veggie Spicy Chicken Flavor R...   \n",
       "...                ...                                                ...   \n",
       "2372   Sapporo Ichiban                                        Beef Flavor   \n",
       "2377          Nongshim                          Bowl Noodle Spicy Chicken   \n",
       "2435            Nissin                            Chow Mein Teriyaki Beef   \n",
       "2511          Maruchan                             Ramen Noodle Soup Pork   \n",
       "2554            Nissin                           Top Ramen Creamy Chicken   \n",
       "\n",
       "     Style Country  Stars  \n",
       "11    Pack     USA   5.00  \n",
       "17    Pack     USA   5.00  \n",
       "21    Pack     USA   5.00  \n",
       "23    Pack     USA   4.75  \n",
       "38     Cup     USA   5.00  \n",
       "...    ...     ...    ...  \n",
       "2372  Pack     USA   4.50  \n",
       "2377  Bowl     USA   4.50  \n",
       "2435  Tray     USA   4.50  \n",
       "2511  Pack     USA   4.00  \n",
       "2554  Pack     USA   4.50  \n",
       "\n",
       "[117 rows x 5 columns]"
      ]
     },
     "execution_count": 8,
     "metadata": {},
     "output_type": "execute_result"
    }
   ],
   "source": [
    "ramen[( ramen[\"Stars\"] >= 4 ) \n",
    "      & ( (ramen[\"Country\"] == \"USA\" ) \n",
    "         | (ramen[\"Country\"] == \"United States\") )]"
   ]
  },
  {
   "cell_type": "markdown",
   "metadata": {
    "id": "90DEObJdUpUj"
   },
   "source": [
    "### c\n",
    "\n",
    "Filter only the `Brand` and `Variety` attributes (columns) of the observations where the ramen had at least 4 stars and it is made in `Vietnam`."
   ]
  },
  {
   "cell_type": "code",
   "execution_count": 10,
   "metadata": {
    "ExecuteTime": {
     "end_time": "2022-06-03T03:14:41.031809Z",
     "start_time": "2022-06-03T03:14:41.017161Z"
    },
    "id": "uJL4PHQGUpUk"
   },
   "outputs": [
    {
     "data": {
      "text/html": [
       "<div>\n",
       "<style scoped>\n",
       "    .dataframe tbody tr th:only-of-type {\n",
       "        vertical-align: middle;\n",
       "    }\n",
       "\n",
       "    .dataframe tbody tr th {\n",
       "        vertical-align: top;\n",
       "    }\n",
       "\n",
       "    .dataframe thead th {\n",
       "        text-align: right;\n",
       "    }\n",
       "</style>\n",
       "<table border=\"1\" class=\"dataframe\">\n",
       "  <thead>\n",
       "    <tr style=\"text-align: right;\">\n",
       "      <th></th>\n",
       "      <th>Brand</th>\n",
       "      <th>Variety</th>\n",
       "    </tr>\n",
       "  </thead>\n",
       "  <tbody>\n",
       "    <tr>\n",
       "      <th>18</th>\n",
       "      <td>Binh Tay</td>\n",
       "      <td>Mi Hai Cua</td>\n",
       "    </tr>\n",
       "    <tr>\n",
       "      <th>224</th>\n",
       "      <td>Vifon</td>\n",
       "      <td>Viet Cuisine Bun Rieu Cua Sour Crab Soup Insta...</td>\n",
       "    </tr>\n",
       "    <tr>\n",
       "      <th>365</th>\n",
       "      <td>Acecook</td>\n",
       "      <td>Oh! Ricey Pork Flavour</td>\n",
       "    </tr>\n",
       "    <tr>\n",
       "      <th>915</th>\n",
       "      <td>Vina Acecook</td>\n",
       "      <td>King Chef Authentic Kimchi Flavour</td>\n",
       "    </tr>\n",
       "    <tr>\n",
       "      <th>932</th>\n",
       "      <td>New Way</td>\n",
       "      <td>Spaghetti Instant Noodles</td>\n",
       "    </tr>\n",
       "    <tr>\n",
       "      <th>1722</th>\n",
       "      <td>Vina Acecook</td>\n",
       "      <td>Bestcook Hot &amp; Sour Shrimp</td>\n",
       "    </tr>\n",
       "    <tr>\n",
       "      <th>1988</th>\n",
       "      <td>Vifon</td>\n",
       "      <td>South Korean Style Kim Chee</td>\n",
       "    </tr>\n",
       "    <tr>\n",
       "      <th>2130</th>\n",
       "      <td>Ve Wong</td>\n",
       "      <td>Little Prince Bacon</td>\n",
       "    </tr>\n",
       "    <tr>\n",
       "      <th>2155</th>\n",
       "      <td>Vifon</td>\n",
       "      <td>Mi Lau Thai Thai Stle</td>\n",
       "    </tr>\n",
       "    <tr>\n",
       "      <th>2181</th>\n",
       "      <td>Vina Acecook</td>\n",
       "      <td>Bestcook Hot spicy Tom Yum Shrimp</td>\n",
       "    </tr>\n",
       "    <tr>\n",
       "      <th>2196</th>\n",
       "      <td>Saigon Ve Wong</td>\n",
       "      <td>Kung Fu Artificial Beef Rice Noodle</td>\n",
       "    </tr>\n",
       "    <tr>\n",
       "      <th>2215</th>\n",
       "      <td>Vina Acecook</td>\n",
       "      <td>Daily Hot &amp; Sour With Shrimp</td>\n",
       "    </tr>\n",
       "    <tr>\n",
       "      <th>2300</th>\n",
       "      <td>Vina Acecook</td>\n",
       "      <td>Oh! Ricey Beef Rice Noodles</td>\n",
       "    </tr>\n",
       "    <tr>\n",
       "      <th>2311</th>\n",
       "      <td>Vina Acecook</td>\n",
       "      <td>Mi Lau Thai Shrimp</td>\n",
       "    </tr>\n",
       "    <tr>\n",
       "      <th>2318</th>\n",
       "      <td>Vina Acecook</td>\n",
       "      <td>Mi Lau Thai Seafood</td>\n",
       "    </tr>\n",
       "    <tr>\n",
       "      <th>2323</th>\n",
       "      <td>Vina Acecook</td>\n",
       "      <td>Daily Hot &amp; Spicy Tom Yun</td>\n",
       "    </tr>\n",
       "  </tbody>\n",
       "</table>\n",
       "</div>"
      ],
      "text/plain": [
       "               Brand                                            Variety\n",
       "18          Binh Tay                                         Mi Hai Cua\n",
       "224            Vifon  Viet Cuisine Bun Rieu Cua Sour Crab Soup Insta...\n",
       "365          Acecook                             Oh! Ricey Pork Flavour\n",
       "915     Vina Acecook                 King Chef Authentic Kimchi Flavour\n",
       "932          New Way                          Spaghetti Instant Noodles\n",
       "1722    Vina Acecook                         Bestcook Hot & Sour Shrimp\n",
       "1988           Vifon                        South Korean Style Kim Chee\n",
       "2130         Ve Wong                                Little Prince Bacon\n",
       "2155           Vifon                              Mi Lau Thai Thai Stle\n",
       "2181    Vina Acecook                  Bestcook Hot spicy Tom Yum Shrimp\n",
       "2196  Saigon Ve Wong                Kung Fu Artificial Beef Rice Noodle\n",
       "2215    Vina Acecook                       Daily Hot & Sour With Shrimp\n",
       "2300    Vina Acecook                        Oh! Ricey Beef Rice Noodles\n",
       "2311    Vina Acecook                                 Mi Lau Thai Shrimp\n",
       "2318    Vina Acecook                                Mi Lau Thai Seafood\n",
       "2323    Vina Acecook                          Daily Hot & Spicy Tom Yun"
      ]
     },
     "execution_count": 10,
     "metadata": {},
     "output_type": "execute_result"
    }
   ],
   "source": [
    "ramen[ (ramen[\"Stars\"] >= 4 ) & (ramen[\"Country\"] == \"Vietnam\") ].loc[:,[\"Brand\", \"Variety\"]]"
   ]
  },
  {
   "cell_type": "markdown",
   "metadata": {
    "id": "LsqGHLsAUpUk"
   },
   "source": [
    "### d\n",
    "\n",
    "Filter only the `Variety` and `Stars` attributes of the observations where the ramen had **at most 2 stars** and the brand is `Nissin`."
   ]
  },
  {
   "cell_type": "code",
   "execution_count": 11,
   "metadata": {
    "ExecuteTime": {
     "end_time": "2022-06-03T03:14:43.121305Z",
     "start_time": "2022-06-03T03:14:43.105102Z"
    },
    "id": "RbTki21eUpUl"
   },
   "outputs": [
    {
     "data": {
      "text/html": [
       "<div>\n",
       "<style scoped>\n",
       "    .dataframe tbody tr th:only-of-type {\n",
       "        vertical-align: middle;\n",
       "    }\n",
       "\n",
       "    .dataframe tbody tr th {\n",
       "        vertical-align: top;\n",
       "    }\n",
       "\n",
       "    .dataframe thead th {\n",
       "        text-align: right;\n",
       "    }\n",
       "</style>\n",
       "<table border=\"1\" class=\"dataframe\">\n",
       "  <thead>\n",
       "    <tr style=\"text-align: right;\">\n",
       "      <th></th>\n",
       "      <th>Variety</th>\n",
       "      <th>Stars</th>\n",
       "    </tr>\n",
       "  </thead>\n",
       "  <tbody>\n",
       "    <tr>\n",
       "      <th>1334</th>\n",
       "      <td>Demae Rice Vermicelli Chicken Flavour Instant ...</td>\n",
       "      <td>1.75</td>\n",
       "    </tr>\n",
       "    <tr>\n",
       "      <th>2314</th>\n",
       "      <td>Chow Mein Kung Pao Chicken</td>\n",
       "      <td>1.50</td>\n",
       "    </tr>\n",
       "    <tr>\n",
       "      <th>2381</th>\n",
       "      <td>Cup Noodles Pani Puri</td>\n",
       "      <td>1.50</td>\n",
       "    </tr>\n",
       "    <tr>\n",
       "      <th>2394</th>\n",
       "      <td>Bowl Noodles Hot &amp; Spicy Chicken</td>\n",
       "      <td>2.00</td>\n",
       "    </tr>\n",
       "    <tr>\n",
       "      <th>2420</th>\n",
       "      <td>Sotanghon</td>\n",
       "      <td>2.00</td>\n",
       "    </tr>\n",
       "    <tr>\n",
       "      <th>2423</th>\n",
       "      <td>Creamy Chicken</td>\n",
       "      <td>1.75</td>\n",
       "    </tr>\n",
       "    <tr>\n",
       "      <th>2440</th>\n",
       "      <td>Bowl Noodles Rich &amp; Savory Chicken</td>\n",
       "      <td>1.75</td>\n",
       "    </tr>\n",
       "    <tr>\n",
       "      <th>2494</th>\n",
       "      <td>Demae Ramen Spicy Flavor</td>\n",
       "      <td>2.00</td>\n",
       "    </tr>\n",
       "    <tr>\n",
       "      <th>2553</th>\n",
       "      <td>Demae Ramen Spicy Seafood With Chili Pepper</td>\n",
       "      <td>2.00</td>\n",
       "    </tr>\n",
       "  </tbody>\n",
       "</table>\n",
       "</div>"
      ],
      "text/plain": [
       "                                                Variety  Stars\n",
       "1334  Demae Rice Vermicelli Chicken Flavour Instant ...   1.75\n",
       "2314                         Chow Mein Kung Pao Chicken   1.50\n",
       "2381                              Cup Noodles Pani Puri   1.50\n",
       "2394                   Bowl Noodles Hot & Spicy Chicken   2.00\n",
       "2420                                          Sotanghon   2.00\n",
       "2423                                     Creamy Chicken   1.75\n",
       "2440                 Bowl Noodles Rich & Savory Chicken   1.75\n",
       "2494                           Demae Ramen Spicy Flavor   2.00\n",
       "2553        Demae Ramen Spicy Seafood With Chili Pepper   2.00"
      ]
     },
     "execution_count": 11,
     "metadata": {},
     "output_type": "execute_result"
    }
   ],
   "source": [
    "ramen[(ramen['Stars'] <= 2) \n",
    "      & (ramen['Brand'] == \"Nissin\") ].loc[:,[\"Variety\", \"Stars\"]]"
   ]
  },
  {
   "cell_type": "markdown",
   "metadata": {
    "id": "VquSrs6iUpUm"
   },
   "source": [
    "### e\n",
    "\n",
    "Compute the mean stars rating of all ramen made in the US (that is `USA` and `United States`)."
   ]
  },
  {
   "cell_type": "code",
   "execution_count": 12,
   "metadata": {
    "ExecuteTime": {
     "end_time": "2022-06-03T03:21:11.966425Z",
     "start_time": "2022-06-03T03:21:11.955251Z"
    },
    "id": "s12GsjjnUpUm"
   },
   "outputs": [
    {
     "data": {
      "text/plain": [
       "3.4579475308641974"
      ]
     },
     "execution_count": 12,
     "metadata": {},
     "output_type": "execute_result"
    }
   ],
   "source": [
    "ramen[(ramen[\"Country\"] == \"USA\") | (ramen[\"Country\"] == \"United States\")][\"Stars\"].mean()"
   ]
  },
  {
   "cell_type": "markdown",
   "metadata": {
    "id": "opkgFoorUpUm"
   },
   "source": [
    "### f\n",
    "\n",
    "Find the maximum stars rating of a Vifon ramen (of brand Vifon)."
   ]
  },
  {
   "cell_type": "code",
   "execution_count": 13,
   "metadata": {
    "ExecuteTime": {
     "end_time": "2022-06-03T03:21:13.371464Z",
     "start_time": "2022-06-03T03:21:13.360484Z"
    },
    "id": "fuKyjNxHUpUm"
   },
   "outputs": [
    {
     "data": {
      "text/plain": [
       "5.0"
      ]
     },
     "execution_count": 13,
     "metadata": {},
     "output_type": "execute_result"
    }
   ],
   "source": [
    "ramen[ramen[\"Brand\"]==\"Vifon\"][\"Stars\"].max()"
   ]
  },
  {
   "cell_type": "markdown",
   "metadata": {
    "id": "ZJyiITRZUpUn"
   },
   "source": [
    "### g\n",
    "\n",
    "Find the observation (meaning the whole row) of the a Nongshim ramen with the lowest stars rating."
   ]
  },
  {
   "cell_type": "code",
   "execution_count": 14,
   "metadata": {
    "ExecuteTime": {
     "end_time": "2022-06-03T04:03:24.361358Z",
     "start_time": "2022-06-03T04:03:24.307226Z"
    },
    "id": "nhAcT2d2UpUn"
   },
   "outputs": [
    {
     "data": {
      "text/html": [
       "<div>\n",
       "<style scoped>\n",
       "    .dataframe tbody tr th:only-of-type {\n",
       "        vertical-align: middle;\n",
       "    }\n",
       "\n",
       "    .dataframe tbody tr th {\n",
       "        vertical-align: top;\n",
       "    }\n",
       "\n",
       "    .dataframe thead th {\n",
       "        text-align: right;\n",
       "    }\n",
       "</style>\n",
       "<table border=\"1\" class=\"dataframe\">\n",
       "  <thead>\n",
       "    <tr style=\"text-align: right;\">\n",
       "      <th></th>\n",
       "      <th>Brand</th>\n",
       "      <th>Variety</th>\n",
       "      <th>Style</th>\n",
       "      <th>Country</th>\n",
       "      <th>Stars</th>\n",
       "    </tr>\n",
       "  </thead>\n",
       "  <tbody>\n",
       "    <tr>\n",
       "      <th>196</th>\n",
       "      <td>Nongshim</td>\n",
       "      <td>Seaweed Instant Noodle</td>\n",
       "      <td>Cup</td>\n",
       "      <td>South Korea</td>\n",
       "      <td>0.5</td>\n",
       "    </tr>\n",
       "  </tbody>\n",
       "</table>\n",
       "</div>"
      ],
      "text/plain": [
       "        Brand                 Variety Style      Country  Stars\n",
       "196  Nongshim  Seaweed Instant Noodle   Cup  South Korea    0.5"
      ]
     },
     "execution_count": 14,
     "metadata": {},
     "output_type": "execute_result"
    }
   ],
   "source": [
    "ramen[ (ramen[\"Brand\"]== \"Nongshim\") & (ramen[\"Stars\"] == ramen[ramen[\"Brand\"]==\"Nongshim\"][\"Stars\"].min() ) ]"
   ]
  },
  {
   "cell_type": "markdown",
   "metadata": {
    "id": "7Ot8qvctUpUn"
   },
   "source": [
    "### h\n",
    "\n",
    "Identify and display the observation (meaning the whole row) of the Vifon ramen that has stars rating of 5.0 given in **(f)**."
   ]
  },
  {
   "cell_type": "code",
   "execution_count": 15,
   "metadata": {
    "ExecuteTime": {
     "end_time": "2022-06-03T04:03:26.576503Z",
     "start_time": "2022-06-03T04:03:26.558122Z"
    },
    "id": "dxVGWuUyUpUn"
   },
   "outputs": [
    {
     "data": {
      "text/html": [
       "<div>\n",
       "<style scoped>\n",
       "    .dataframe tbody tr th:only-of-type {\n",
       "        vertical-align: middle;\n",
       "    }\n",
       "\n",
       "    .dataframe tbody tr th {\n",
       "        vertical-align: top;\n",
       "    }\n",
       "\n",
       "    .dataframe thead th {\n",
       "        text-align: right;\n",
       "    }\n",
       "</style>\n",
       "<table border=\"1\" class=\"dataframe\">\n",
       "  <thead>\n",
       "    <tr style=\"text-align: right;\">\n",
       "      <th></th>\n",
       "      <th>Brand</th>\n",
       "      <th>Variety</th>\n",
       "      <th>Style</th>\n",
       "      <th>Country</th>\n",
       "      <th>Stars</th>\n",
       "    </tr>\n",
       "  </thead>\n",
       "  <tbody>\n",
       "    <tr>\n",
       "      <th>224</th>\n",
       "      <td>Vifon</td>\n",
       "      <td>Viet Cuisine Bun Rieu Cua Sour Crab Soup Insta...</td>\n",
       "      <td>Bowl</td>\n",
       "      <td>Vietnam</td>\n",
       "      <td>5.0</td>\n",
       "    </tr>\n",
       "  </tbody>\n",
       "</table>\n",
       "</div>"
      ],
      "text/plain": [
       "     Brand                                            Variety Style  Country  \\\n",
       "224  Vifon  Viet Cuisine Bun Rieu Cua Sour Crab Soup Insta...  Bowl  Vietnam   \n",
       "\n",
       "     Stars  \n",
       "224    5.0  "
      ]
     },
     "execution_count": 15,
     "metadata": {},
     "output_type": "execute_result"
    }
   ],
   "source": [
    "ramen[ (ramen[\"Brand\"]== \"Vifon\") & (ramen[\"Stars\"] == ramen[ramen[\"Brand\"]==\"Vifon\"][\"Stars\"].max() ) ]"
   ]
  },
  {
   "cell_type": "markdown",
   "metadata": {
    "id": "FkiQAikMUpUo"
   },
   "source": [
    "### i\n",
    "\n",
    "Compute the average rating of all **beef-flavored** ramen in the US. That is,\n",
    "\n",
    "- Find all the ramen observation produced in the US (only 'USA') with the word **beef** (`beef`, `Beef`, or `BEEF` must all be counted) in its label.\n",
    "- Compute the average star rating of those observations."
   ]
  },
  {
   "cell_type": "code",
   "execution_count": 135,
   "metadata": {
    "ExecuteTime": {
     "end_time": "2022-06-02T18:29:04.178270Z",
     "start_time": "2022-06-02T18:29:04.110585Z"
    },
    "id": "vzcNBmR1UpUo",
    "scrolled": true
   },
   "outputs": [
    {
     "data": {
      "text/html": [
       "<div>\n",
       "<style scoped>\n",
       "    .dataframe tbody tr th:only-of-type {\n",
       "        vertical-align: middle;\n",
       "    }\n",
       "\n",
       "    .dataframe tbody tr th {\n",
       "        vertical-align: top;\n",
       "    }\n",
       "\n",
       "    .dataframe thead th {\n",
       "        text-align: right;\n",
       "    }\n",
       "</style>\n",
       "<table border=\"1\" class=\"dataframe\">\n",
       "  <thead>\n",
       "    <tr style=\"text-align: right;\">\n",
       "      <th></th>\n",
       "      <th>Brand</th>\n",
       "      <th>Variety</th>\n",
       "      <th>Style</th>\n",
       "      <th>Country</th>\n",
       "      <th>Stars</th>\n",
       "    </tr>\n",
       "  </thead>\n",
       "  <tbody>\n",
       "    <tr>\n",
       "      <th>21</th>\n",
       "      <td>Jackpot Teriyaki</td>\n",
       "      <td>Beef Ramen</td>\n",
       "      <td>Pack</td>\n",
       "      <td>USA</td>\n",
       "      <td>5.000</td>\n",
       "    </tr>\n",
       "    <tr>\n",
       "      <th>41</th>\n",
       "      <td>Nissin</td>\n",
       "      <td>Cup Noodles Very Veggie Beef Flavor Ramen Nood...</td>\n",
       "      <td>Cup</td>\n",
       "      <td>USA</td>\n",
       "      <td>5.000</td>\n",
       "    </tr>\n",
       "    <tr>\n",
       "      <th>195</th>\n",
       "      <td>Nissin</td>\n",
       "      <td>Cup Noodles Beef Flavor Ramen Noodle Soup (New...</td>\n",
       "      <td>Cup</td>\n",
       "      <td>USA</td>\n",
       "      <td>3.500</td>\n",
       "    </tr>\n",
       "    <tr>\n",
       "      <th>319</th>\n",
       "      <td>Farmer's Heart</td>\n",
       "      <td>Pho Beef Flavor Vietnamese Rice Noodle Soup</td>\n",
       "      <td>Bowl</td>\n",
       "      <td>USA</td>\n",
       "      <td>3.750</td>\n",
       "    </tr>\n",
       "    <tr>\n",
       "      <th>475</th>\n",
       "      <td>Roland</td>\n",
       "      <td>Ramen Japanese Style Quick-Cooking Alimentary ...</td>\n",
       "      <td>Pack</td>\n",
       "      <td>USA</td>\n",
       "      <td>0.000</td>\n",
       "    </tr>\n",
       "    <tr>\n",
       "      <th>506</th>\n",
       "      <td>Maruchan</td>\n",
       "      <td>Bowl Taste Of Asia Beef Flavor Sukiyaki Ramen</td>\n",
       "      <td>Bowl</td>\n",
       "      <td>USA</td>\n",
       "      <td>5.000</td>\n",
       "    </tr>\n",
       "    <tr>\n",
       "      <th>757</th>\n",
       "      <td>Myojo</td>\n",
       "      <td>Udon Japanese Style Pre-Cooked Noodles With So...</td>\n",
       "      <td>Bowl</td>\n",
       "      <td>USA</td>\n",
       "      <td>3.250</td>\n",
       "    </tr>\n",
       "    <tr>\n",
       "      <th>776</th>\n",
       "      <td>Nissin</td>\n",
       "      <td>Cup Noodles Ramen Noodles Ramen Noodle Soup Be...</td>\n",
       "      <td>Cup</td>\n",
       "      <td>USA</td>\n",
       "      <td>3.500</td>\n",
       "    </tr>\n",
       "    <tr>\n",
       "      <th>1211</th>\n",
       "      <td>Nongshim</td>\n",
       "      <td>Sir Long Tang Creamy Beef Noodle Soup</td>\n",
       "      <td>Cup</td>\n",
       "      <td>USA</td>\n",
       "      <td>4.250</td>\n",
       "    </tr>\n",
       "    <tr>\n",
       "      <th>1240</th>\n",
       "      <td>Sakura Noodle</td>\n",
       "      <td>Chikara Brand Udon Beef Flavor</td>\n",
       "      <td>Pack</td>\n",
       "      <td>USA</td>\n",
       "      <td>4.250</td>\n",
       "    </tr>\n",
       "    <tr>\n",
       "      <th>1462</th>\n",
       "      <td>Nissin</td>\n",
       "      <td>Pan Asian Kitchen Sukiyaki Beef Flavor Savory ...</td>\n",
       "      <td>Tray</td>\n",
       "      <td>USA</td>\n",
       "      <td>3.750</td>\n",
       "    </tr>\n",
       "    <tr>\n",
       "      <th>1574</th>\n",
       "      <td>Nissin</td>\n",
       "      <td>Chow Mein Spicy Teriyaki Beef</td>\n",
       "      <td>Tray</td>\n",
       "      <td>USA</td>\n",
       "      <td>4.500</td>\n",
       "    </tr>\n",
       "    <tr>\n",
       "      <th>1577</th>\n",
       "      <td>Maruchan</td>\n",
       "      <td>Yakisoba Beef Taco Flavor</td>\n",
       "      <td>Tray</td>\n",
       "      <td>USA</td>\n",
       "      <td>4.250</td>\n",
       "    </tr>\n",
       "    <tr>\n",
       "      <th>1642</th>\n",
       "      <td>Maruchan</td>\n",
       "      <td>Beef</td>\n",
       "      <td>Cup</td>\n",
       "      <td>USA</td>\n",
       "      <td>3.500</td>\n",
       "    </tr>\n",
       "    <tr>\n",
       "      <th>1647</th>\n",
       "      <td>Maruchan</td>\n",
       "      <td>35% Less Sodium Beef</td>\n",
       "      <td>Cup</td>\n",
       "      <td>USA</td>\n",
       "      <td>3.500</td>\n",
       "    </tr>\n",
       "    <tr>\n",
       "      <th>1658</th>\n",
       "      <td>Maruchan</td>\n",
       "      <td>35% Less Sodium Beef</td>\n",
       "      <td>Pack</td>\n",
       "      <td>USA</td>\n",
       "      <td>3.500</td>\n",
       "    </tr>\n",
       "    <tr>\n",
       "      <th>1734</th>\n",
       "      <td>Nissin</td>\n",
       "      <td>Top Ramen Short Cuts Beef</td>\n",
       "      <td>Pack</td>\n",
       "      <td>USA</td>\n",
       "      <td>3.500</td>\n",
       "    </tr>\n",
       "    <tr>\n",
       "      <th>1805</th>\n",
       "      <td>Nongshim</td>\n",
       "      <td>Bowl Noodle Hot &amp; Spicy Beef (New)</td>\n",
       "      <td>Pack</td>\n",
       "      <td>USA</td>\n",
       "      <td>3.500</td>\n",
       "    </tr>\n",
       "    <tr>\n",
       "      <th>1856</th>\n",
       "      <td>Nongshim</td>\n",
       "      <td>Bowl Noodle Savory Beef</td>\n",
       "      <td>Bowl</td>\n",
       "      <td>USA</td>\n",
       "      <td>4.000</td>\n",
       "    </tr>\n",
       "    <tr>\n",
       "      <th>1858</th>\n",
       "      <td>Nissin</td>\n",
       "      <td>Spoon-it Beef</td>\n",
       "      <td>Pack</td>\n",
       "      <td>USA</td>\n",
       "      <td>3.250</td>\n",
       "    </tr>\n",
       "    <tr>\n",
       "      <th>1874</th>\n",
       "      <td>Nissin</td>\n",
       "      <td>Spoon-it Rich Hearty Beef Stew</td>\n",
       "      <td>Pack</td>\n",
       "      <td>USA</td>\n",
       "      <td>3.500</td>\n",
       "    </tr>\n",
       "    <tr>\n",
       "      <th>1977</th>\n",
       "      <td>Maruchan</td>\n",
       "      <td>Ramen Noodle Soup Beef</td>\n",
       "      <td>Pack</td>\n",
       "      <td>USA</td>\n",
       "      <td>3.250</td>\n",
       "    </tr>\n",
       "    <tr>\n",
       "      <th>2062</th>\n",
       "      <td>Tradition</td>\n",
       "      <td>Imitation Beef</td>\n",
       "      <td>Cup</td>\n",
       "      <td>USA</td>\n",
       "      <td>2.500</td>\n",
       "    </tr>\n",
       "    <tr>\n",
       "      <th>2137</th>\n",
       "      <td>Maruchan</td>\n",
       "      <td>Instant Lunch Hot spicy Beef</td>\n",
       "      <td>Cup</td>\n",
       "      <td>USA</td>\n",
       "      <td>2.750</td>\n",
       "    </tr>\n",
       "    <tr>\n",
       "      <th>2157</th>\n",
       "      <td>Sapporo Ichiban</td>\n",
       "      <td>Beef Flavorc</td>\n",
       "      <td>Cup</td>\n",
       "      <td>USA</td>\n",
       "      <td>3.500</td>\n",
       "    </tr>\n",
       "    <tr>\n",
       "      <th>2190</th>\n",
       "      <td>Nissin</td>\n",
       "      <td>Bowl Noodles Rich &amp; Savory Beef</td>\n",
       "      <td>Bowl</td>\n",
       "      <td>USA</td>\n",
       "      <td>3.750</td>\n",
       "    </tr>\n",
       "    <tr>\n",
       "      <th>2218</th>\n",
       "      <td>Nissin</td>\n",
       "      <td>Bowl Noodles Hot &amp; Spicy Beef</td>\n",
       "      <td>Bowl</td>\n",
       "      <td>USA</td>\n",
       "      <td>3.750</td>\n",
       "    </tr>\n",
       "    <tr>\n",
       "      <th>2221</th>\n",
       "      <td>Maruchan</td>\n",
       "      <td>Ramen Noodle Soup Roast Beef</td>\n",
       "      <td>Pack</td>\n",
       "      <td>USA</td>\n",
       "      <td>2.750</td>\n",
       "    </tr>\n",
       "    <tr>\n",
       "      <th>2226</th>\n",
       "      <td>Nissin</td>\n",
       "      <td>Top Ramen Picante Beef</td>\n",
       "      <td>Pack</td>\n",
       "      <td>USA</td>\n",
       "      <td>3.000</td>\n",
       "    </tr>\n",
       "    <tr>\n",
       "      <th>2243</th>\n",
       "      <td>Nissin</td>\n",
       "      <td>Big Cup Noodles Beef</td>\n",
       "      <td>Cup</td>\n",
       "      <td>USA</td>\n",
       "      <td>2.125</td>\n",
       "    </tr>\n",
       "    <tr>\n",
       "      <th>2320</th>\n",
       "      <td>Nissin</td>\n",
       "      <td>Cup Noodles Beef</td>\n",
       "      <td>Cup</td>\n",
       "      <td>USA</td>\n",
       "      <td>3.500</td>\n",
       "    </tr>\n",
       "    <tr>\n",
       "      <th>2326</th>\n",
       "      <td>Fortune</td>\n",
       "      <td>Udon Beef</td>\n",
       "      <td>Pack</td>\n",
       "      <td>USA</td>\n",
       "      <td>3.500</td>\n",
       "    </tr>\n",
       "    <tr>\n",
       "      <th>2336</th>\n",
       "      <td>Fu Chang Chinese Noodle Company</td>\n",
       "      <td>Hot &amp; Spicy Beef</td>\n",
       "      <td>Tray</td>\n",
       "      <td>USA</td>\n",
       "      <td>4.000</td>\n",
       "    </tr>\n",
       "    <tr>\n",
       "      <th>2356</th>\n",
       "      <td>Nissin</td>\n",
       "      <td>Top Ramen Beef</td>\n",
       "      <td>Pack</td>\n",
       "      <td>USA</td>\n",
       "      <td>3.750</td>\n",
       "    </tr>\n",
       "    <tr>\n",
       "      <th>2363</th>\n",
       "      <td>Maruchan</td>\n",
       "      <td>Yakisoba Teriyaki Beef</td>\n",
       "      <td>Tray</td>\n",
       "      <td>USA</td>\n",
       "      <td>2.000</td>\n",
       "    </tr>\n",
       "    <tr>\n",
       "      <th>2368</th>\n",
       "      <td>Nissin</td>\n",
       "      <td>Souper Meal Beef Flavor Minestrone</td>\n",
       "      <td>Bowl</td>\n",
       "      <td>USA</td>\n",
       "      <td>3.000</td>\n",
       "    </tr>\n",
       "    <tr>\n",
       "      <th>2372</th>\n",
       "      <td>Sapporo Ichiban</td>\n",
       "      <td>Beef Flavor</td>\n",
       "      <td>Pack</td>\n",
       "      <td>USA</td>\n",
       "      <td>4.500</td>\n",
       "    </tr>\n",
       "    <tr>\n",
       "      <th>2376</th>\n",
       "      <td>Nongshim</td>\n",
       "      <td>Bowl Noodle Beef Ginger</td>\n",
       "      <td>Bowl</td>\n",
       "      <td>USA</td>\n",
       "      <td>3.500</td>\n",
       "    </tr>\n",
       "    <tr>\n",
       "      <th>2435</th>\n",
       "      <td>Nissin</td>\n",
       "      <td>Chow Mein Teriyaki Beef</td>\n",
       "      <td>Tray</td>\n",
       "      <td>USA</td>\n",
       "      <td>4.500</td>\n",
       "    </tr>\n",
       "    <tr>\n",
       "      <th>2567</th>\n",
       "      <td>Smack</td>\n",
       "      <td>Vegetable Beef</td>\n",
       "      <td>Pack</td>\n",
       "      <td>USA</td>\n",
       "      <td>1.500</td>\n",
       "    </tr>\n",
       "  </tbody>\n",
       "</table>\n",
       "</div>"
      ],
      "text/plain": [
       "                                Brand  \\\n",
       "21                   Jackpot Teriyaki   \n",
       "41                             Nissin   \n",
       "195                            Nissin   \n",
       "319                    Farmer's Heart   \n",
       "475                            Roland   \n",
       "506                          Maruchan   \n",
       "757                             Myojo   \n",
       "776                            Nissin   \n",
       "1211                         Nongshim   \n",
       "1240                    Sakura Noodle   \n",
       "1462                           Nissin   \n",
       "1574                           Nissin   \n",
       "1577                         Maruchan   \n",
       "1642                         Maruchan   \n",
       "1647                         Maruchan   \n",
       "1658                         Maruchan   \n",
       "1734                           Nissin   \n",
       "1805                         Nongshim   \n",
       "1856                         Nongshim   \n",
       "1858                           Nissin   \n",
       "1874                           Nissin   \n",
       "1977                         Maruchan   \n",
       "2062                        Tradition   \n",
       "2137                         Maruchan   \n",
       "2157                  Sapporo Ichiban   \n",
       "2190                           Nissin   \n",
       "2218                           Nissin   \n",
       "2221                         Maruchan   \n",
       "2226                           Nissin   \n",
       "2243                           Nissin   \n",
       "2320                           Nissin   \n",
       "2326                          Fortune   \n",
       "2336  Fu Chang Chinese Noodle Company   \n",
       "2356                           Nissin   \n",
       "2363                         Maruchan   \n",
       "2368                           Nissin   \n",
       "2372                  Sapporo Ichiban   \n",
       "2376                         Nongshim   \n",
       "2435                           Nissin   \n",
       "2567                            Smack   \n",
       "\n",
       "                                                Variety Style Country  Stars  \n",
       "21                                           Beef Ramen  Pack     USA  5.000  \n",
       "41    Cup Noodles Very Veggie Beef Flavor Ramen Nood...   Cup     USA  5.000  \n",
       "195   Cup Noodles Beef Flavor Ramen Noodle Soup (New...   Cup     USA  3.500  \n",
       "319         Pho Beef Flavor Vietnamese Rice Noodle Soup  Bowl     USA  3.750  \n",
       "475   Ramen Japanese Style Quick-Cooking Alimentary ...  Pack     USA  0.000  \n",
       "506       Bowl Taste Of Asia Beef Flavor Sukiyaki Ramen  Bowl     USA  5.000  \n",
       "757   Udon Japanese Style Pre-Cooked Noodles With So...  Bowl     USA  3.250  \n",
       "776   Cup Noodles Ramen Noodles Ramen Noodle Soup Be...   Cup     USA  3.500  \n",
       "1211              Sir Long Tang Creamy Beef Noodle Soup   Cup     USA  4.250  \n",
       "1240                     Chikara Brand Udon Beef Flavor  Pack     USA  4.250  \n",
       "1462  Pan Asian Kitchen Sukiyaki Beef Flavor Savory ...  Tray     USA  3.750  \n",
       "1574                      Chow Mein Spicy Teriyaki Beef  Tray     USA  4.500  \n",
       "1577                          Yakisoba Beef Taco Flavor  Tray     USA  4.250  \n",
       "1642                                               Beef   Cup     USA  3.500  \n",
       "1647                               35% Less Sodium Beef   Cup     USA  3.500  \n",
       "1658                               35% Less Sodium Beef  Pack     USA  3.500  \n",
       "1734                          Top Ramen Short Cuts Beef  Pack     USA  3.500  \n",
       "1805                 Bowl Noodle Hot & Spicy Beef (New)  Pack     USA  3.500  \n",
       "1856                            Bowl Noodle Savory Beef  Bowl     USA  4.000  \n",
       "1858                                      Spoon-it Beef  Pack     USA  3.250  \n",
       "1874                     Spoon-it Rich Hearty Beef Stew  Pack     USA  3.500  \n",
       "1977                             Ramen Noodle Soup Beef  Pack     USA  3.250  \n",
       "2062                                     Imitation Beef   Cup     USA  2.500  \n",
       "2137                       Instant Lunch Hot spicy Beef   Cup     USA  2.750  \n",
       "2157                                       Beef Flavorc   Cup     USA  3.500  \n",
       "2190                    Bowl Noodles Rich & Savory Beef  Bowl     USA  3.750  \n",
       "2218                      Bowl Noodles Hot & Spicy Beef  Bowl     USA  3.750  \n",
       "2221                       Ramen Noodle Soup Roast Beef  Pack     USA  2.750  \n",
       "2226                             Top Ramen Picante Beef  Pack     USA  3.000  \n",
       "2243                               Big Cup Noodles Beef   Cup     USA  2.125  \n",
       "2320                                   Cup Noodles Beef   Cup     USA  3.500  \n",
       "2326                                          Udon Beef  Pack     USA  3.500  \n",
       "2336                                   Hot & Spicy Beef  Tray     USA  4.000  \n",
       "2356                                     Top Ramen Beef  Pack     USA  3.750  \n",
       "2363                             Yakisoba Teriyaki Beef  Tray     USA  2.000  \n",
       "2368                 Souper Meal Beef Flavor Minestrone  Bowl     USA  3.000  \n",
       "2372                                        Beef Flavor  Pack     USA  4.500  \n",
       "2376                            Bowl Noodle Beef Ginger  Bowl     USA  3.500  \n",
       "2435                            Chow Mein Teriyaki Beef  Tray     USA  4.500  \n",
       "2567                                     Vegetable Beef  Pack     USA  1.500  "
      ]
     },
     "metadata": {},
     "output_type": "display_data"
    },
    {
     "data": {
      "text/plain": [
       "3.484375"
      ]
     },
     "execution_count": 135,
     "metadata": {},
     "output_type": "execute_result"
    }
   ],
   "source": [
    "display(ramen[(ramen[\"Country\"] == \"USA\") & (ramen[\"Variety\"].str.contains(\"beef\", case = False))])\n",
    "\n",
    "ramen[(ramen[\"Country\"] == \"USA\") & (ramen[\"Variety\"].str.contains(\"beef\", case = False))][\"Stars\"].mean()"
   ]
  },
  {
   "cell_type": "markdown",
   "metadata": {
    "id": "F-PY5BIrUpUp"
   },
   "source": [
    "### j\n",
    "\n",
    "Your boss does not think that the reviewers of Ramen really like chicken-flavored ramen as much as other types. So, they want you to adjust the ratings of **chicken-flavored** ramen observations. That is, the ramen label contains the word **chicken** (`chicken`, `Chicken`, or `CHICKEN` must all be counted). If the rating of a chicken-flavored ramen is less than 1, change it to 0. If it is at least 1, lower the rating by 1."
   ]
  },
  {
   "cell_type": "code",
   "execution_count": 159,
   "metadata": {
    "ExecuteTime": {
     "end_time": "2022-06-02T18:41:05.731678Z",
     "start_time": "2022-06-02T18:41:05.700040Z"
    }
   },
   "outputs": [
    {
     "name": "stdout",
     "output_type": "stream",
     "text": [
      "5.0\n",
      "3.3945884146341463\n"
     ]
    }
   ],
   "source": [
    "print(ramen.loc[(ramen[\"Variety\"].str.contains(\"chicken\", case = False)), \"Stars\"].max())\n",
    "print(ramen.loc[(ramen[\"Variety\"].str.contains(\"chicken\", case = False)), \"Stars\"].mean())"
   ]
  },
  {
   "cell_type": "code",
   "execution_count": 164,
   "metadata": {
    "ExecuteTime": {
     "end_time": "2022-06-02T18:43:48.485436Z",
     "start_time": "2022-06-02T18:43:48.467530Z"
    },
    "id": "3n09xSnNUpUp"
   },
   "outputs": [],
   "source": [
    "ramen_c = ramen\n",
    "\n",
    "# code here\n",
    "ramen_c.loc[(ramen_c[\"Variety\"].str.contains(\"chicken\", case = False)) & (ramen_c[\"Stars\"] <= 1), \"Stars\"] = 0"
   ]
  },
  {
   "cell_type": "code",
   "execution_count": 165,
   "metadata": {
    "ExecuteTime": {
     "end_time": "2022-06-02T18:43:50.195041Z",
     "start_time": "2022-06-02T18:43:50.170199Z"
    },
    "scrolled": true
   },
   "outputs": [],
   "source": [
    "\n",
    "ramen_c.loc[(ramen[\"Variety\"].str.contains(\"chicken\", case = False)) & (ramen_c[\"Stars\"] > 1), \"Stars\"] = ramen_c[\"Stars\"] - 1\n"
   ]
  },
  {
   "cell_type": "code",
   "execution_count": 166,
   "metadata": {
    "ExecuteTime": {
     "end_time": "2022-06-02T18:43:51.490052Z",
     "start_time": "2022-06-02T18:43:51.464761Z"
    }
   },
   "outputs": [
    {
     "name": "stdout",
     "output_type": "stream",
     "text": [
      "4.0\n",
      "2.409375\n"
     ]
    }
   ],
   "source": [
    "\n",
    "print(ramen_c.loc[(ramen_c[\"Variety\"].str.contains(\"chicken\", case = False)), \"Stars\"].max())\n",
    "print(ramen_c.loc[(ramen_c[\"Variety\"].str.contains(\"chicken\", case = False)), \"Stars\"].mean())"
   ]
  },
  {
   "cell_type": "markdown",
   "metadata": {
    "id": "eTrcXzfMUpUp"
   },
   "source": [
    "### k\n",
    "\n",
    "Set the `Stars` rating of all Nissin ramen in the US to be 0."
   ]
  },
  {
   "cell_type": "code",
   "execution_count": 169,
   "metadata": {
    "ExecuteTime": {
     "end_time": "2022-06-02T18:46:01.288164Z",
     "start_time": "2022-06-02T18:46:01.274143Z"
    },
    "id": "NMsS2emaUpUp"
   },
   "outputs": [],
   "source": [
    "# code here\n",
    "ramen.loc[(ramen[\"Brand\"] == \"Nissin\") \n",
    "          & ((ramen[\"Country\"] == \"USA\") \n",
    "             |(ramen[\"Country\"] == \"United States\") ),\n",
    "          \"Stars\"] = 0"
   ]
  },
  {
   "cell_type": "code",
   "execution_count": 170,
   "metadata": {
    "ExecuteTime": {
     "end_time": "2022-06-02T18:46:03.333428Z",
     "start_time": "2022-06-02T18:46:03.296614Z"
    },
    "id": "Aba_hlRpUpUq"
   },
   "outputs": [
    {
     "data": {
      "text/plain": [
       "0.0"
      ]
     },
     "execution_count": 170,
     "metadata": {},
     "output_type": "execute_result"
    }
   ],
   "source": [
    "# Verify the data frame was modified by \n",
    "# running this cell to check your answser\n",
    "# Note: the output should be 0\n",
    "ramen[(ramen['Brand'] == 'Nissin') & (ramen['Country'] == 'USA')]['Stars'].sum()"
   ]
  },
  {
   "cell_type": "markdown",
   "metadata": {
    "id": "kTwYhc4yUpUq"
   },
   "source": [
    "### l\n",
    "\n",
    "Remove all the observations of brand Nissin in the US from `ramen`."
   ]
  },
  {
   "cell_type": "code",
   "execution_count": 181,
   "metadata": {
    "ExecuteTime": {
     "end_time": "2022-06-02T18:56:14.786494Z",
     "start_time": "2022-06-02T18:56:14.767115Z"
    },
    "id": "7_OfbKWxUpUq",
    "scrolled": true
   },
   "outputs": [],
   "source": [
    "# code here\n",
    "ramen.drop(ramen[(ramen['Brand'] == 'Nissin') & (ramen['Country'] == 'USA')].index, axis = 0, inplace = True)"
   ]
  },
  {
   "cell_type": "code",
   "execution_count": 182,
   "metadata": {
    "ExecuteTime": {
     "end_time": "2022-06-02T18:56:16.316344Z",
     "start_time": "2022-06-02T18:56:16.288995Z"
    },
    "id": "lQeLpZlnUpUq"
   },
   "outputs": [
    {
     "data": {
      "text/html": [
       "<div>\n",
       "<style scoped>\n",
       "    .dataframe tbody tr th:only-of-type {\n",
       "        vertical-align: middle;\n",
       "    }\n",
       "\n",
       "    .dataframe tbody tr th {\n",
       "        vertical-align: top;\n",
       "    }\n",
       "\n",
       "    .dataframe thead th {\n",
       "        text-align: right;\n",
       "    }\n",
       "</style>\n",
       "<table border=\"1\" class=\"dataframe\">\n",
       "  <thead>\n",
       "    <tr style=\"text-align: right;\">\n",
       "      <th></th>\n",
       "      <th>Brand</th>\n",
       "      <th>Variety</th>\n",
       "      <th>Style</th>\n",
       "      <th>Country</th>\n",
       "      <th>Stars</th>\n",
       "    </tr>\n",
       "  </thead>\n",
       "  <tbody>\n",
       "  </tbody>\n",
       "</table>\n",
       "</div>"
      ],
      "text/plain": [
       "Empty DataFrame\n",
       "Columns: [Brand, Variety, Style, Country, Stars]\n",
       "Index: []"
      ]
     },
     "execution_count": 182,
     "metadata": {},
     "output_type": "execute_result"
    }
   ],
   "source": [
    "# Verify the data frame was modified by \n",
    "# running this cell to check your answser\n",
    "# the output should be an empty dataframe\n",
    "ramen[(ramen['Brand'] == 'Nissin') & (ramen['Country'] == 'USA')]"
   ]
  },
  {
   "cell_type": "markdown",
   "metadata": {
    "id": "2XxvUNq9XVuv"
   },
   "source": [
    "# Exercise 3: Excellency at UIUC\n",
    "\n",
    "Under this exercise, we will explore the \"Teachers Ranked As Excellent\" data\n",
    "at UIUC from Fall 1993 to Summer 2020 as compiled by \n",
    "[Wade Fagen-Ulmschneider](http://waf.cs.illinois.edu/).\n",
    "The data is available from:\n",
    "\n",
    "<https://raw.githubusercontent.com/wadefagen/datasets/master/teachers-ranked-as-excellent/uiuc-tre-dataset.csv> \n",
    "\n",
    "This data has a file extension of **CSV** form. Contained in the data are the following variables:\n",
    "\n",
    "- `term`: Two letter semester code (`sp`, `su`, `fa`, or `wi`) followed by a four digit year.\n",
    "    - Examples: `sp2017`, `fa2013`, `su2012`.\n",
    "- `unit`: The CITL-supplied headers for the unit teaching the course.\n",
    "    - Examples: `ACCOUNTANCY`, `SOCIAL WORK`, `LINGUISTICS`, `NUCLEAR, PLASMA & RAD. ENGR.`\n",
    "- `lname`: The last name of the teacher.\n",
    "    - Examples: `FAGEN-ULMSCHNEIDER`, `FLANAGAN`, `FLECK`\n",
    "- `fname`: The first letter of the first name of the teacher.\n",
    "    - Examples: `W`, `K`, `M`\n",
    "- `role`: `Instructor` or `TA`\n",
    "- `ranking`: `Excellent` or `Outstanding`\n",
    "- `course`: The course the teacher was ranked as excellent.  If no course is given, the `course` field is set to `?` (this includes cases when the raw data lists the course as `0`, `000`, or `999`).\n",
    "    - Examples: `199`, `225`, `560`, `?`\n",
    "\n",
    "\n"
   ]
  },
  {
   "cell_type": "markdown",
   "metadata": {
    "id": "DL7mhB4S40Pp"
   },
   "source": [
    "## a \n",
    "\n",
    "Import into _Python_ the data in `uiuc-tre-dataset.csv`. \n",
    "\n",
    "**Note:** As `course` denotes a value that is\n",
    "_not_ `NaN`, which is how _Python_ represents missing values, you must use the parameter \n",
    "`na_values = ['NA','?'] ` during the import with pandas."
   ]
  },
  {
   "cell_type": "code",
   "execution_count": 183,
   "metadata": {
    "ExecuteTime": {
     "end_time": "2022-06-02T18:58:43.250863Z",
     "start_time": "2022-06-02T18:58:38.757868Z"
    },
    "id": "JkH5KWBiLtfT"
   },
   "outputs": [],
   "source": [
    "teachers = pd.read_csv(\"https://raw.githubusercontent.com/wadefagen/datasets/master/teachers-ranked-as-excellent/uiuc-tre-dataset.csv\",\n",
    "                  na_values = ['NA','?'])"
   ]
  },
  {
   "cell_type": "markdown",
   "metadata": {
    "id": "RJ9jPs4qH4Xm"
   },
   "source": [
    "## b \n",
    "\n",
    "First, obtain the overarching data frame information. \n",
    "Second, obtain the numerical summary of the data. \n",
    "\n",
    "Given both of the outputs, which variable output is different from the rest? What might have caused this?"
   ]
  },
  {
   "cell_type": "markdown",
   "metadata": {
    "id": "NjhYtKfsH-q5"
   },
   "source": [
    "Data set overview:"
   ]
  },
  {
   "cell_type": "code",
   "execution_count": 185,
   "metadata": {
    "ExecuteTime": {
     "end_time": "2022-06-02T18:59:46.754085Z",
     "start_time": "2022-06-02T18:59:46.550447Z"
    },
    "id": "FwimaMhCH7FJ"
   },
   "outputs": [
    {
     "name": "stdout",
     "output_type": "stream",
     "text": [
      "<class 'pandas.core.frame.DataFrame'>\n",
      "RangeIndex: 102600 entries, 0 to 102599\n",
      "Data columns (total 7 columns):\n",
      " #   Column   Non-Null Count   Dtype  \n",
      "---  ------   --------------   -----  \n",
      " 0   term     102600 non-null  object \n",
      " 1   unit     102600 non-null  object \n",
      " 2   lname    102597 non-null  object \n",
      " 3   fname    102534 non-null  object \n",
      " 4   role     102600 non-null  object \n",
      " 5   ranking  102600 non-null  object \n",
      " 6   course   101578 non-null  float64\n",
      "dtypes: float64(1), object(6)\n",
      "memory usage: 5.5+ MB\n"
     ]
    }
   ],
   "source": [
    "teachers.info()"
   ]
  },
  {
   "cell_type": "markdown",
   "metadata": {
    "id": "fia4N1G1H9b1"
   },
   "source": [
    "Numerical summary:"
   ]
  },
  {
   "cell_type": "code",
   "execution_count": 184,
   "metadata": {
    "ExecuteTime": {
     "end_time": "2022-06-02T18:59:28.548947Z",
     "start_time": "2022-06-02T18:59:28.449970Z"
    },
    "id": "ty5Rxq2MLiNR"
   },
   "outputs": [
    {
     "data": {
      "text/html": [
       "<div>\n",
       "<style scoped>\n",
       "    .dataframe tbody tr th:only-of-type {\n",
       "        vertical-align: middle;\n",
       "    }\n",
       "\n",
       "    .dataframe tbody tr th {\n",
       "        vertical-align: top;\n",
       "    }\n",
       "\n",
       "    .dataframe thead th {\n",
       "        text-align: right;\n",
       "    }\n",
       "</style>\n",
       "<table border=\"1\" class=\"dataframe\">\n",
       "  <thead>\n",
       "    <tr style=\"text-align: right;\">\n",
       "      <th></th>\n",
       "      <th>course</th>\n",
       "    </tr>\n",
       "  </thead>\n",
       "  <tbody>\n",
       "    <tr>\n",
       "      <th>count</th>\n",
       "      <td>101578.000000</td>\n",
       "    </tr>\n",
       "    <tr>\n",
       "      <th>mean</th>\n",
       "      <td>300.607986</td>\n",
       "    </tr>\n",
       "    <tr>\n",
       "      <th>std</th>\n",
       "      <td>163.817991</td>\n",
       "    </tr>\n",
       "    <tr>\n",
       "      <th>min</th>\n",
       "      <td>2.000000</td>\n",
       "    </tr>\n",
       "    <tr>\n",
       "      <th>25%</th>\n",
       "      <td>143.000000</td>\n",
       "    </tr>\n",
       "    <tr>\n",
       "      <th>50%</th>\n",
       "      <td>262.000000</td>\n",
       "    </tr>\n",
       "    <tr>\n",
       "      <th>75%</th>\n",
       "      <td>431.000000</td>\n",
       "    </tr>\n",
       "    <tr>\n",
       "      <th>max</th>\n",
       "      <td>798.000000</td>\n",
       "    </tr>\n",
       "  </tbody>\n",
       "</table>\n",
       "</div>"
      ],
      "text/plain": [
       "              course\n",
       "count  101578.000000\n",
       "mean      300.607986\n",
       "std       163.817991\n",
       "min         2.000000\n",
       "25%       143.000000\n",
       "50%       262.000000\n",
       "75%       431.000000\n",
       "max       798.000000"
      ]
     },
     "execution_count": 184,
     "metadata": {},
     "output_type": "execute_result"
    }
   ],
   "source": [
    "teachers.describe()"
   ]
  },
  {
   "cell_type": "markdown",
   "metadata": {
    "id": "3LdJrFlzLi_M"
   },
   "source": [
    "Variable difference explanation:"
   ]
  },
  {
   "cell_type": "markdown",
   "metadata": {
    "id": "Cmh1ZDYu6SaM"
   },
   "source": [
    "Only one variable is numeric, so we only get the summary statistics for that variable."
   ]
  },
  {
   "cell_type": "markdown",
   "metadata": {
    "id": "TwCg4HiJLIz-"
   },
   "source": [
    "## c\n",
    "\n",
    "1. Verify that `course` has `NaN` values. \n",
    "2. Perform a median imputation to remove `NaN` values.\n"
   ]
  },
  {
   "cell_type": "code",
   "execution_count": 196,
   "metadata": {
    "ExecuteTime": {
     "end_time": "2022-06-02T19:02:54.473212Z",
     "start_time": "2022-06-02T19:02:54.453157Z"
    },
    "id": "Pgw2Wx72ILWN",
    "scrolled": true
   },
   "outputs": [
    {
     "data": {
      "text/plain": [
       "True"
      ]
     },
     "execution_count": 196,
     "metadata": {},
     "output_type": "execute_result"
    }
   ],
   "source": [
    "teachers[\"course\"].isna().any()\n"
   ]
  },
  {
   "cell_type": "code",
   "execution_count": 198,
   "metadata": {
    "ExecuteTime": {
     "end_time": "2022-06-02T19:04:15.853523Z",
     "start_time": "2022-06-02T19:04:15.814086Z"
    }
   },
   "outputs": [
    {
     "data": {
      "text/plain": [
       "False"
      ]
     },
     "execution_count": 198,
     "metadata": {},
     "output_type": "execute_result"
    }
   ],
   "source": [
    "teachers[teachers[\"course\"].isna()] = teachers[\"course\"].median()\n",
    "teachers[\"course\"].isna().any()"
   ]
  },
  {
   "cell_type": "markdown",
   "metadata": {
    "id": "DFSsD-FpH8dO"
   },
   "source": [
    "## d\n",
    "\n",
    "1. Search for the following professor names in the list of excellency: `Douglas`, `Simpson`, and `Dalpiaz`. \n",
    "  - _Hint_: Search the `lname` variable in the `DataFrame`.\n",
    "  - _Hint_: Make sure to search the _last name_ with capital letters.\n",
    "\n",
    "2. Compute the total number of times they appeared in the excellency ratings.\n",
    "\n"
   ]
  },
  {
   "cell_type": "code",
   "execution_count": 209,
   "metadata": {
    "ExecuteTime": {
     "end_time": "2022-06-02T19:08:55.304857Z",
     "start_time": "2022-06-02T19:08:55.190505Z"
    },
    "id": "NxTvGeKSLdsi"
   },
   "outputs": [
    {
     "data": {
      "text/plain": [
       "76"
      ]
     },
     "execution_count": 209,
     "metadata": {},
     "output_type": "execute_result"
    }
   ],
   "source": [
    "teachers[((teachers[\"lname\"] == \"SIMPSON\") | (teachers[\"lname\"] == \"DOUGLAS\") | (teachers[\"lname\"] == \"DALPIAZ\"))].shape[0]"
   ]
  },
  {
   "cell_type": "markdown",
   "metadata": {
    "id": "Xev7Vc4WknDa"
   },
   "source": [
    "## e\n",
    "\n",
    "Drop the `fname` column in-place."
   ]
  },
  {
   "cell_type": "code",
   "execution_count": 210,
   "metadata": {
    "ExecuteTime": {
     "end_time": "2022-06-02T19:09:24.072752Z",
     "start_time": "2022-06-02T19:09:24.043425Z"
    },
    "id": "nqG30ubcklxz"
   },
   "outputs": [],
   "source": [
    "teachers.drop([\"fname\"], axis = 1, inplace = True)"
   ]
  },
  {
   "cell_type": "code",
   "execution_count": 211,
   "metadata": {
    "ExecuteTime": {
     "end_time": "2022-06-02T19:09:32.458141Z",
     "start_time": "2022-06-02T19:09:32.443677Z"
    }
   },
   "outputs": [
    {
     "data": {
      "text/plain": [
       "Index(['term', 'unit', 'lname', 'role', 'ranking', 'course'], dtype='object')"
      ]
     },
     "execution_count": 211,
     "metadata": {},
     "output_type": "execute_result"
    }
   ],
   "source": [
    "teachers.columns"
   ]
  },
  {
   "cell_type": "markdown",
   "metadata": {
    "id": "-C8pXVE9VbZg"
   },
   "source": [
    "## f\n",
    "\n",
    "Split the data into a training and testing data set. The weight should be 65% training and 35% testing."
   ]
  },
  {
   "cell_type": "code",
   "execution_count": 212,
   "metadata": {
    "ExecuteTime": {
     "end_time": "2022-06-02T19:11:08.392414Z",
     "start_time": "2022-06-02T19:11:08.284744Z"
    },
    "id": "8gaT-VyxVbw6"
   },
   "outputs": [
    {
     "data": {
      "text/html": [
       "<div>\n",
       "<style scoped>\n",
       "    .dataframe tbody tr th:only-of-type {\n",
       "        vertical-align: middle;\n",
       "    }\n",
       "\n",
       "    .dataframe tbody tr th {\n",
       "        vertical-align: top;\n",
       "    }\n",
       "\n",
       "    .dataframe thead th {\n",
       "        text-align: right;\n",
       "    }\n",
       "</style>\n",
       "<table border=\"1\" class=\"dataframe\">\n",
       "  <thead>\n",
       "    <tr style=\"text-align: right;\">\n",
       "      <th></th>\n",
       "      <th>term</th>\n",
       "      <th>unit</th>\n",
       "      <th>lname</th>\n",
       "      <th>role</th>\n",
       "      <th>ranking</th>\n",
       "      <th>course</th>\n",
       "    </tr>\n",
       "  </thead>\n",
       "  <tbody>\n",
       "    <tr>\n",
       "      <th>50126</th>\n",
       "      <td>fa1997</td>\n",
       "      <td>BUSINESS ADMINISTRATION</td>\n",
       "      <td>ENGELBRECHT-WIGGANS</td>\n",
       "      <td>Instructor</td>\n",
       "      <td>Excellent</td>\n",
       "      <td>475.0</td>\n",
       "    </tr>\n",
       "    <tr>\n",
       "      <th>25104</th>\n",
       "      <td>fa2009</td>\n",
       "      <td>HUMAN &amp; COMMUNITY DEVELOPMENT</td>\n",
       "      <td>SHAPIRO</td>\n",
       "      <td>Instructor</td>\n",
       "      <td>Excellent</td>\n",
       "      <td>199.0</td>\n",
       "    </tr>\n",
       "    <tr>\n",
       "      <th>7151</th>\n",
       "      <td>sp1995</td>\n",
       "      <td>URBAN &amp; REGIONAL PLANNING</td>\n",
       "      <td>KUMAR</td>\n",
       "      <td>TA</td>\n",
       "      <td>Excellent</td>\n",
       "      <td>402.0</td>\n",
       "    </tr>\n",
       "    <tr>\n",
       "      <th>21018</th>\n",
       "      <td>fa2007</td>\n",
       "      <td>GEOLOGY</td>\n",
       "      <td>BETHKE</td>\n",
       "      <td>Instructor</td>\n",
       "      <td>Excellent</td>\n",
       "      <td>470.0</td>\n",
       "    </tr>\n",
       "    <tr>\n",
       "      <th>10231</th>\n",
       "      <td>262.0</td>\n",
       "      <td>262.0</td>\n",
       "      <td>262.0</td>\n",
       "      <td>262.0</td>\n",
       "      <td>262.0</td>\n",
       "      <td>262.0</td>\n",
       "    </tr>\n",
       "    <tr>\n",
       "      <th>36709</th>\n",
       "      <td>fa2012</td>\n",
       "      <td>NATURAL RESOURCES &amp; ENVIRONMENTAL SCIENCES</td>\n",
       "      <td>SUSKI</td>\n",
       "      <td>Instructor</td>\n",
       "      <td>Outstanding</td>\n",
       "      <td>409.0</td>\n",
       "    </tr>\n",
       "    <tr>\n",
       "      <th>92049</th>\n",
       "      <td>sp2018</td>\n",
       "      <td>CIVIL &amp; ENVIRONMENTAL ENGINEERING</td>\n",
       "      <td>GONCALVES</td>\n",
       "      <td>TA</td>\n",
       "      <td>Outstanding</td>\n",
       "      <td>449.0</td>\n",
       "    </tr>\n",
       "    <tr>\n",
       "      <th>52022</th>\n",
       "      <td>fa1998</td>\n",
       "      <td>SPANISH, ITALIAN AND PORTUGUESE</td>\n",
       "      <td>LEWIS</td>\n",
       "      <td>TA</td>\n",
       "      <td>Excellent</td>\n",
       "      <td>216.0</td>\n",
       "    </tr>\n",
       "    <tr>\n",
       "      <th>93131</th>\n",
       "      <td>sp2018</td>\n",
       "      <td>LAW</td>\n",
       "      <td>KRAMER</td>\n",
       "      <td>Instructor</td>\n",
       "      <td>Outstanding</td>\n",
       "      <td>792.0</td>\n",
       "    </tr>\n",
       "    <tr>\n",
       "      <th>66952</th>\n",
       "      <td>sp2014</td>\n",
       "      <td>ART &amp; DESIGN</td>\n",
       "      <td>MEIER</td>\n",
       "      <td>Instructor</td>\n",
       "      <td>Outstanding</td>\n",
       "      <td>510.0</td>\n",
       "    </tr>\n",
       "  </tbody>\n",
       "</table>\n",
       "</div>"
      ],
      "text/plain": [
       "         term                                        unit  \\\n",
       "50126  fa1997                     BUSINESS ADMINISTRATION   \n",
       "25104  fa2009               HUMAN & COMMUNITY DEVELOPMENT   \n",
       "7151   sp1995                   URBAN & REGIONAL PLANNING   \n",
       "21018  fa2007                                     GEOLOGY   \n",
       "10231   262.0                                       262.0   \n",
       "36709  fa2012  NATURAL RESOURCES & ENVIRONMENTAL SCIENCES   \n",
       "92049  sp2018           CIVIL & ENVIRONMENTAL ENGINEERING   \n",
       "52022  fa1998             SPANISH, ITALIAN AND PORTUGUESE   \n",
       "93131  sp2018                                         LAW   \n",
       "66952  sp2014                                ART & DESIGN   \n",
       "\n",
       "                     lname        role      ranking  course  \n",
       "50126  ENGELBRECHT-WIGGANS  Instructor    Excellent   475.0  \n",
       "25104              SHAPIRO  Instructor    Excellent   199.0  \n",
       "7151                 KUMAR          TA    Excellent   402.0  \n",
       "21018               BETHKE  Instructor    Excellent   470.0  \n",
       "10231                262.0       262.0        262.0   262.0  \n",
       "36709                SUSKI  Instructor  Outstanding   409.0  \n",
       "92049            GONCALVES          TA  Outstanding   449.0  \n",
       "52022                LEWIS          TA    Excellent   216.0  \n",
       "93131               KRAMER  Instructor  Outstanding   792.0  \n",
       "66952                MEIER  Instructor  Outstanding   510.0  "
      ]
     },
     "execution_count": 212,
     "metadata": {},
     "output_type": "execute_result"
    }
   ],
   "source": [
    "teachers = teachers.reindex( np.random.permutation(teachers.index))\n",
    "teachers.head(10)"
   ]
  },
  {
   "cell_type": "code",
   "execution_count": 213,
   "metadata": {
    "ExecuteTime": {
     "end_time": "2022-06-02T19:14:13.681830Z",
     "start_time": "2022-06-02T19:14:13.662041Z"
    }
   },
   "outputs": [
    {
     "data": {
      "text/plain": [
       "term            fa1998\n",
       "unit             MUSIC\n",
       "lname         STIFFLER\n",
       "role                TA\n",
       "ranking    Outstanding\n",
       "course           142.0\n",
       "Name: 51830, dtype: object"
      ]
     },
     "execution_count": 213,
     "metadata": {},
     "output_type": "execute_result"
    }
   ],
   "source": [
    "teachers.iloc[7151,:]"
   ]
  },
  {
   "cell_type": "code",
   "execution_count": 216,
   "metadata": {
    "ExecuteTime": {
     "end_time": "2022-06-02T19:16:23.493809Z",
     "start_time": "2022-06-02T19:16:23.414153Z"
    }
   },
   "outputs": [
    {
     "data": {
      "text/plain": [
       "0"
      ]
     },
     "execution_count": 216,
     "metadata": {},
     "output_type": "execute_result"
    }
   ],
   "source": [
    "teachers_train = teachers.iloc[range(0,int(0.8*teachers.shape[0])),:]\n",
    "teachers_test = teachers.iloc[range(int(0.8*teachers.shape[0]),teachers.shape[0])]\n",
    "teachers_train.shape[0] + teachers_test.shape[0] - teachers.shape[0]"
   ]
  },
  {
   "cell_type": "markdown",
   "metadata": {
    "id": "91EwUGyEJG6s"
   },
   "source": [
    "## g\n",
    "\n",
    "Create a bar plot on `role` to see the counts of how often a `Instructor` or `TA` make the list."
   ]
  },
  {
   "cell_type": "code",
   "execution_count": 226,
   "metadata": {
    "ExecuteTime": {
     "end_time": "2022-06-02T19:23:21.164819Z",
     "start_time": "2022-06-02T19:23:20.837652Z"
    },
    "id": "LkqUpr44LexD"
   },
   "outputs": [
    {
     "data": {
      "text/plain": [
       "<AxesSubplot:>"
      ]
     },
     "execution_count": 226,
     "metadata": {},
     "output_type": "execute_result"
    },
    {
     "data": {
      "image/png": "[encoded data removed]",
      "text/plain": [
       "<Figure size 432x288 with 1 Axes>"
      ]
     },
     "metadata": {
      "needs_background": "light"
     },
     "output_type": "display_data"
    }
   ],
   "source": [
    "teachers[ ((teachers[\"role\"] == \"TA\") | (teachers[\"role\"] == \"Instructor\") )].role.value_counts().plot.bar()"
   ]
  }
 ],
 "metadata": {
  "colab": {
   "collapsed_sections": [],
   "name": "IMSI Data Science Workshop - Day 2 Exercises - Part 1.ipynb",
   "provenance": [],
   "toc_visible": true
  },
  "kernelspec": {
   "display_name": "Python 3 (ipykernel)",
   "language": "python",
   "name": "python3"
  },
  "language_info": {
   "codemirror_mode": {
    "name": "ipython",
    "version": 3
   },
   "file_extension": ".py",
   "mimetype": "text/x-python",
   "name": "python",
   "nbconvert_exporter": "python",
   "pygments_lexer": "ipython3",
   "version": "3.10.4"
  }
 },
 "nbformat": 4,
 "nbformat_minor": 1
}
